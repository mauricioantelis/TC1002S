{
  "nbformat": 4,
  "nbformat_minor": 0,
  "metadata": {
    "colab": {
      "provenance": []
    },
    "kernelspec": {
      "name": "python3",
      "display_name": "Python 3"
    },
    "language_info": {
      "name": "python"
    }
  },
  "cells": [
    {
      "cell_type": "code",
      "execution_count": null,
      "metadata": {
        "colab": {
          "base_uri": "https://localhost:8080/"
        },
        "id": "nKnUw6WVuqkq",
        "outputId": "577b749a-ab30-494a-87a6-7e690be9b25c"
      },
      "outputs": [
        {
          "output_type": "stream",
          "name": "stdout",
          "text": [
            "Mounted at /content/drive\n"
          ]
        }
      ],
      "source": [
        "# Define where you are running the code: colab or local\n",
        "RunInColab = True  # (False: no  | True: yes)\n",
        "\n",
        "# If running in colab:\n",
        "if RunInColab:\n",
        "    # Mount your google drive in google colab\n",
        "    from google.colab import drive\n",
        "    drive.mount('/content/drive')\n",
        "\n",
        "    # Define path del proyecto\n",
        "    Ruta = \"/content/drive/My Drive/Colab Notebooks/MachineLearningWithPython/\"\n",
        "\n",
        "else:\n",
        "    # Define path del proyecto\n",
        "    Ruta = \"\"\n"
      ]
    },
    {
      "cell_type": "code",
      "source": [
        "# Import the packages that we will be using\n",
        "import pandas as pd\n",
        "import numpy as np\n",
        "import matplotlib.pyplot as plt\n",
        "import seaborn as sns\n",
        "\n",
        "# Dataset path (update this with the correct path if needed)\n",
        "dataset_path = \"/content/cartwheel.csv\""
      ],
      "metadata": {
        "id": "WLuwC7p9vs22"
      },
      "execution_count": null,
      "outputs": []
    },
    {
      "cell_type": "code",
      "source": [
        "# Load the dataset\n",
        "df = pd.read_csv(dataset_path)\n"
      ],
      "metadata": {
        "id": "Vd9gWGjUvxl6"
      },
      "execution_count": null,
      "outputs": []
    },
    {
      "cell_type": "code",
      "source": [
        "# Print the dataset preview\n",
        "print(\"Dataset Preview:\")\n",
        "print(df.head())"
      ],
      "metadata": {
        "colab": {
          "base_uri": "https://localhost:8080/"
        },
        "id": "_s-R1dfDwb_6",
        "outputId": "b55dc577-2f8f-4164-b616-8a95d944bf54"
      },
      "execution_count": null,
      "outputs": [
        {
          "output_type": "stream",
          "name": "stdout",
          "text": [
            "Dataset Preview:\n",
            "   ID   Age Gender  GenderGroup Glasses  GlassesGroup  Height  Wingspan  \\\n",
            "0   1  56.0      F            1       Y             1    62.0      61.0   \n",
            "1   2  26.0      F            1       Y             1    62.0      60.0   \n",
            "2   3  33.0      F            1       Y             1    66.0      64.0   \n",
            "3   4  39.0      F            1       N             0    64.0      63.0   \n",
            "4   5  27.0      M            2       N             0    73.0      75.0   \n",
            "\n",
            "   CWDistance Complete  CompleteGroup  Score  \n",
            "0          79        Y            1.0      7  \n",
            "1          70        Y            1.0      8  \n",
            "2          85        Y            1.0      7  \n",
            "3          87        Y            1.0     10  \n",
            "4          72        N            0.0      4  \n"
          ]
        }
      ]
    },
    {
      "cell_type": "code",
      "source": [
        "# Print the number of rows\n",
        "print(\"\\nNumber of rows:\", df.shape[0])"
      ],
      "metadata": {
        "colab": {
          "base_uri": "https://localhost:8080/"
        },
        "id": "aTqOFhxDweAf",
        "outputId": "2be4de0d-bf0a-4471-ac0d-c09d03f29981"
      },
      "execution_count": null,
      "outputs": [
        {
          "output_type": "stream",
          "name": "stdout",
          "text": [
            "\n",
            "Number of rows: 52\n"
          ]
        }
      ]
    },
    {
      "cell_type": "code",
      "source": [
        "# Print the number of columns\n",
        "print(\"Number of columns:\", df.shape[1])"
      ],
      "metadata": {
        "colab": {
          "base_uri": "https://localhost:8080/"
        },
        "id": "YiFYRL5Cwflb",
        "outputId": "b32cb8de-34a3-4799-eddb-fbba18967831"
      },
      "execution_count": null,
      "outputs": [
        {
          "output_type": "stream",
          "name": "stdout",
          "text": [
            "Number of columns: 12\n"
          ]
        }
      ]
    }
  ]
}