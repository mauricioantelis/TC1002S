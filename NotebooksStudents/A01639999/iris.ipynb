{
  "nbformat": 4,
  "nbformat_minor": 0,
  "metadata": {
    "colab": {
      "provenance": []
    },
    "kernelspec": {
      "name": "python3",
      "display_name": "Python 3"
    },
    "language_info": {
      "name": "python"
    }
  },
  "cells": [
    {
      "cell_type": "code",
      "execution_count": null,
      "metadata": {
        "colab": {
          "base_uri": "https://localhost:8080/"
        },
        "id": "gCb6pqRo2xix",
        "outputId": "a880ef93-d37f-4374-b0b4-3568d05333b8"
      },
      "outputs": [
        {
          "output_type": "stream",
          "name": "stdout",
          "text": [
            "🔹 Dataset Preview:\n",
            "   sepal length (cm)  sepal width (cm)  petal length (cm)  petal width (cm)  \\\n",
            "0                5.1               3.5                1.4               0.2   \n",
            "1                4.9               3.0                1.4               0.2   \n",
            "2                4.7               3.2                1.3               0.2   \n",
            "3                4.6               3.1                1.5               0.2   \n",
            "4                5.0               3.6                1.4               0.2   \n",
            "\n",
            "  species  \n",
            "0  setosa  \n",
            "1  setosa  \n",
            "2  setosa  \n",
            "3  setosa  \n",
            "4  setosa  \n",
            "\n",
            "🔹 Number of rows: 150\n",
            "🔹 Number of columns: 5\n",
            "\n",
            "🔹 Observations per species:\n",
            "species\n",
            "setosa        50\n",
            "versicolor    50\n",
            "virginica     50\n",
            "Name: count, dtype: int64\n",
            "\n",
            "🔹 Data types for each variable:\n",
            "sepal length (cm)    float64\n",
            "sepal width (cm)     float64\n",
            "petal length (cm)    float64\n",
            "petal width (cm)     float64\n",
            "species               object\n",
            "dtype: object\n",
            "\n",
            "🔹 Units of measurement: All measurements are in centimeters (cm).\n"
          ]
        }
      ],
      "source": [
        "# Import necessary libraries\n",
        "import pandas as pd\n",
        "from sklearn.datasets import load_iris\n",
        "\n",
        "# Load the iris dataset from sklearn\n",
        "iris = load_iris()\n",
        "\n",
        "# Convert to DataFrame\n",
        "df = pd.DataFrame(data=iris.data, columns=iris.feature_names)\n",
        "df[\"species\"] = iris.target\n",
        "\n",
        "# Map species numbers to actual names\n",
        "df[\"species\"] = df[\"species\"].map({0: \"setosa\", 1: \"versicolor\", 2: \"virginica\"})\n",
        "\n",
        "# Print dataset preview\n",
        "print(\"🔹 Dataset Preview:\")\n",
        "print(df.head())\n",
        "\n",
        "# Print number of rows and columns\n",
        "print(\"\\n🔹 Number of rows:\", df.shape[0])\n",
        "print(\"🔹 Number of columns:\", df.shape[1])\n",
        "\n",
        "# Print the count of each flower species\n",
        "print(\"\\n🔹 Observations per species:\")\n",
        "print(df[\"species\"].value_counts())\n",
        "\n",
        "# Print data types\n",
        "print(\"\\n🔹 Data types for each variable:\")\n",
        "print(df.dtypes)\n",
        "\n",
        "# Print units of measurement\n",
        "print(\"\\n🔹 Units of measurement: All measurements are in centimeters (cm).\")\n"
      ]
    }
  ]
}