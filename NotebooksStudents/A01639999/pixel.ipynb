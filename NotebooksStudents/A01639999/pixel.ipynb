{
  "nbformat": 4,
  "nbformat_minor": 0,
  "metadata": {
    "colab": {
      "provenance": []
    },
    "kernelspec": {
      "name": "python3",
      "display_name": "Python 3"
    },
    "language_info": {
      "name": "python"
    }
  },
  "cells": [
    {
      "cell_type": "code",
      "execution_count": null,
      "metadata": {
        "id": "8JmP6k4y3b2E",
        "outputId": "8f7e96bd-7dce-4131-d9d5-cfe5a4d91dc8",
        "colab": {
          "base_uri": "https://localhost:8080/",
          "height": 1000
        }
      },
      "outputs": [
        {
          "output_type": "stream",
          "name": "stdout",
          "text": [
            "🔹 Dataset Preview:\n",
            "   pixel_0  pixel_1  pixel_2  pixel_3  pixel_4  pixel_5  pixel_6  pixel_7  \\\n",
            "0      0.0      0.0      5.0     13.0      9.0      1.0      0.0      0.0   \n",
            "1      0.0      0.0      0.0     12.0     13.0      5.0      0.0      0.0   \n",
            "2      0.0      0.0      0.0      4.0     15.0     12.0      0.0      0.0   \n",
            "3      0.0      0.0      7.0     15.0     13.0      1.0      0.0      0.0   \n",
            "4      0.0      0.0      0.0      1.0     11.0      0.0      0.0      0.0   \n",
            "\n",
            "   pixel_8  pixel_9  ...  pixel_55  pixel_56  pixel_57  pixel_58  pixel_59  \\\n",
            "0      0.0      0.0  ...       0.0       0.0       0.0       6.0      13.0   \n",
            "1      0.0      0.0  ...       0.0       0.0       0.0       0.0      11.0   \n",
            "2      0.0      0.0  ...       0.0       0.0       0.0       0.0       3.0   \n",
            "3      0.0      8.0  ...       0.0       0.0       0.0       7.0      13.0   \n",
            "4      0.0      0.0  ...       0.0       0.0       0.0       0.0       2.0   \n",
            "\n",
            "   pixel_60  pixel_61  pixel_62  pixel_63  digit  \n",
            "0      10.0       0.0       0.0       0.0      0  \n",
            "1      16.0      10.0       0.0       0.0      1  \n",
            "2      11.0      16.0       9.0       0.0      2  \n",
            "3      13.0       9.0       0.0       0.0      3  \n",
            "4      16.0       4.0       0.0       0.0      4  \n",
            "\n",
            "[5 rows x 65 columns]\n",
            "\n",
            "🔹 Number of rows: 1797\n",
            "🔹 Number of columns: 65\n",
            "\n",
            "🔹 Observations per digit:\n",
            "digit\n",
            "3    183\n",
            "1    182\n",
            "5    182\n",
            "4    181\n",
            "6    181\n",
            "9    180\n",
            "7    179\n",
            "0    178\n",
            "2    177\n",
            "8    174\n",
            "Name: count, dtype: int64\n",
            "\n",
            "🔹 Data types for each variable:\n",
            "pixel_0     float64\n",
            "pixel_1     float64\n",
            "pixel_2     float64\n",
            "pixel_3     float64\n",
            "pixel_4     float64\n",
            "             ...   \n",
            "pixel_60    float64\n",
            "pixel_61    float64\n",
            "pixel_62    float64\n",
            "pixel_63    float64\n",
            "digit         int64\n",
            "Length: 65, dtype: object\n"
          ]
        },
        {
          "output_type": "display_data",
          "data": {
            "text/plain": [
              "<Figure size 640x480 with 1 Axes>"
            ],
            "image/png": "[encoded data removed]"
          },
          "metadata": {}
        }
      ],
      "source": [
        "# Import necessary libraries\n",
        "import pandas as pd\n",
        "import numpy as np\n",
        "import matplotlib.pyplot as plt\n",
        "from sklearn.datasets import load_digits\n",
        "\n",
        "# Load the digits dataset from sklearn\n",
        "digits = load_digits()\n",
        "\n",
        "# Convert data to DataFrame\n",
        "df = pd.DataFrame(data=digits.data, columns=[f\"pixel_{i}\" for i in range(64)])\n",
        "df[\"digit\"] = digits.target  # Add the target column\n",
        "\n",
        "# Print dataset preview\n",
        "print(\"🔹 Dataset Preview:\")\n",
        "print(df.head())\n",
        "\n",
        "# Print number of rows and columns\n",
        "print(\"\\n🔹 Number of rows:\", df.shape[0])\n",
        "print(\"🔹 Number of columns:\", df.shape[1])\n",
        "\n",
        "# Print count of each digit in the dataset\n",
        "print(\"\\n🔹 Observations per digit:\")\n",
        "print(df[\"digit\"].value_counts())\n",
        "\n",
        "# Print data types\n",
        "print(\"\\n🔹 Data types for each variable:\")\n",
        "print(df.dtypes)\n",
        "\n",
        "# Display an example image\n",
        "plt.imshow(digits.images[0], cmap=\"gray\")\n",
        "plt.title(f\"Example Digit: {digits.target[0]}\")\n",
        "plt.axis(\"off\")\n",
        "plt.show()\n"
      ]
    }
  ]
}