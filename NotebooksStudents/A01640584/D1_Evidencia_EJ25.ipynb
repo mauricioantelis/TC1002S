{
 "cells": [
  {
   "cell_type": "markdown",
   "metadata": {
    "id": "q3D8hjrMc10D"
   },
   "source": [
    "# TC1002S Herramientas computacionales: el arte de la analítica\n",
    "\n",
    "This is a notebook with all your work for the final evidence of this course\n",
    "\n",
    "\n",
    "# Niveles de dominio a demostrar con la evidencia\n",
    "\n",
    "### SING0202A\n",
    "\n",
    "Interpreta interacciones entre variables relevantes en un problema, como base para la construcción de modelos bivariados basados en datos de un fenómeno investigado que le permita reproducir la respuesta del mismo. Es capaz de construir modelos bivariados que expliquen el comportamiento de un fenómeno.\n",
    "\n",
    "\n",
    "# Student information\n",
    "\n",
    "- Name: Luis Fernando Rojo Valdes\n",
    "\n",
    "- ID: A01640584\n",
    "\n",
    "- My carreer: ITC\n"
   ]
  },
  {
   "cell_type": "markdown",
   "metadata": {
    "id": "jS0YQgZgc10F"
   },
   "source": [
    "# Importing libraries"
   ]
  },
  {
   "cell_type": "code",
   "execution_count": 159,
   "metadata": {
    "id": "g0rH4jO5c10G"
   },
   "outputs": [],
   "source": [
    "import numpy as np       \n",
    "import pandas as pd            \n",
    "import seaborn as sns              \n",
    "import matplotlib.pyplot as plt    \n"
   ]
  },
  {
   "cell_type": "markdown",
   "metadata": {
    "id": "k2WPUJ3Qc10H"
   },
   "source": [
    "# PART 1\n",
    "\n",
    "## Do clustering using your assigned dataset"
   ]
  },
  {
   "cell_type": "markdown",
   "metadata": {
    "id": "UAuo89JOc10H"
   },
   "source": [
    "## a) Load data"
   ]
  },
  {
   "cell_type": "code",
   "execution_count": 160,
   "metadata": {
    "id": "buevIRTwc10H"
   },
   "outputs": [],
   "source": [
    "Ruta= \"/Users/usuario/Documents/GitHub/TC1002S/NotebooksStudents/A01640584\"\n",
    "url= \"A01640584_X.csv\"\n",
    "df=pd.read_csv(url)"
   ]
  },
  {
   "cell_type": "markdown",
   "metadata": {
    "id": "ML3KFQIUc10H"
   },
   "source": [
    "## b) Data managment\n"
   ]
  },
  {
   "cell_type": "markdown",
   "metadata": {
    "id": "leWzb7y0c10H"
   },
   "source": [
    "Print the first 7 rows"
   ]
  },
  {
   "cell_type": "code",
   "execution_count": 161,
   "metadata": {
    "id": "cpkGC0h2c10H"
   },
   "outputs": [
    {
     "data": {
      "text/html": [
       "<div>\n",
       "<style scoped>\n",
       "    .dataframe tbody tr th:only-of-type {\n",
       "        vertical-align: middle;\n",
       "    }\n",
       "\n",
       "    .dataframe tbody tr th {\n",
       "        vertical-align: top;\n",
       "    }\n",
       "\n",
       "    .dataframe thead th {\n",
       "        text-align: right;\n",
       "    }\n",
       "</style>\n",
       "<table border=\"1\" class=\"dataframe\">\n",
       "  <thead>\n",
       "    <tr style=\"text-align: right;\">\n",
       "      <th></th>\n",
       "      <th>Unnamed: 0</th>\n",
       "      <th>x1</th>\n",
       "      <th>x2</th>\n",
       "      <th>x3</th>\n",
       "      <th>x4</th>\n",
       "      <th>x5</th>\n",
       "      <th>x6</th>\n",
       "      <th>x7</th>\n",
       "      <th>x8</th>\n",
       "      <th>x9</th>\n",
       "      <th>x10</th>\n",
       "      <th>x11</th>\n",
       "    </tr>\n",
       "  </thead>\n",
       "  <tbody>\n",
       "    <tr>\n",
       "      <th>0</th>\n",
       "      <td>0</td>\n",
       "      <td>2.578427</td>\n",
       "      <td>-5.440010</td>\n",
       "      <td>6.934617</td>\n",
       "      <td>-5.105762</td>\n",
       "      <td>3.371541</td>\n",
       "      <td>-0.024329</td>\n",
       "      <td>3.836994</td>\n",
       "      <td>7.298052</td>\n",
       "      <td>1.257536</td>\n",
       "      <td>4.101133</td>\n",
       "      <td>3.473032</td>\n",
       "    </tr>\n",
       "    <tr>\n",
       "      <th>1</th>\n",
       "      <td>1</td>\n",
       "      <td>7.579866</td>\n",
       "      <td>3.357488</td>\n",
       "      <td>6.032910</td>\n",
       "      <td>8.200584</td>\n",
       "      <td>5.511706</td>\n",
       "      <td>7.296605</td>\n",
       "      <td>-3.160620</td>\n",
       "      <td>-4.657592</td>\n",
       "      <td>3.417621</td>\n",
       "      <td>10.369689</td>\n",
       "      <td>-3.549068</td>\n",
       "    </tr>\n",
       "    <tr>\n",
       "      <th>2</th>\n",
       "      <td>2</td>\n",
       "      <td>-3.809705</td>\n",
       "      <td>-10.384165</td>\n",
       "      <td>-4.090660</td>\n",
       "      <td>-7.016026</td>\n",
       "      <td>-3.596238</td>\n",
       "      <td>-4.195416</td>\n",
       "      <td>-5.344413</td>\n",
       "      <td>7.791728</td>\n",
       "      <td>10.708402</td>\n",
       "      <td>-1.403735</td>\n",
       "      <td>-4.093697</td>\n",
       "    </tr>\n",
       "    <tr>\n",
       "      <th>3</th>\n",
       "      <td>3</td>\n",
       "      <td>-4.086875</td>\n",
       "      <td>-7.262798</td>\n",
       "      <td>4.480551</td>\n",
       "      <td>-0.183911</td>\n",
       "      <td>-3.837633</td>\n",
       "      <td>-1.845956</td>\n",
       "      <td>-0.446330</td>\n",
       "      <td>0.250504</td>\n",
       "      <td>3.185509</td>\n",
       "      <td>0.409977</td>\n",
       "      <td>7.112329</td>\n",
       "    </tr>\n",
       "    <tr>\n",
       "      <th>4</th>\n",
       "      <td>4</td>\n",
       "      <td>-1.465341</td>\n",
       "      <td>10.242456</td>\n",
       "      <td>-4.935431</td>\n",
       "      <td>5.597514</td>\n",
       "      <td>-5.323964</td>\n",
       "      <td>1.820454</td>\n",
       "      <td>5.801240</td>\n",
       "      <td>-5.326544</td>\n",
       "      <td>-0.619572</td>\n",
       "      <td>8.486651</td>\n",
       "      <td>6.562099</td>\n",
       "    </tr>\n",
       "    <tr>\n",
       "      <th>5</th>\n",
       "      <td>5</td>\n",
       "      <td>-3.843503</td>\n",
       "      <td>-8.666796</td>\n",
       "      <td>-4.516469</td>\n",
       "      <td>-6.350744</td>\n",
       "      <td>-6.865636</td>\n",
       "      <td>-8.016784</td>\n",
       "      <td>-10.009660</td>\n",
       "      <td>6.338842</td>\n",
       "      <td>9.286909</td>\n",
       "      <td>-0.609153</td>\n",
       "      <td>-4.097180</td>\n",
       "    </tr>\n",
       "    <tr>\n",
       "      <th>6</th>\n",
       "      <td>6</td>\n",
       "      <td>5.519459</td>\n",
       "      <td>4.399795</td>\n",
       "      <td>-1.745376</td>\n",
       "      <td>-7.577479</td>\n",
       "      <td>4.453279</td>\n",
       "      <td>7.337233</td>\n",
       "      <td>10.665691</td>\n",
       "      <td>-2.055108</td>\n",
       "      <td>-3.496456</td>\n",
       "      <td>-11.981232</td>\n",
       "      <td>0.309062</td>\n",
       "    </tr>\n",
       "  </tbody>\n",
       "</table>\n",
       "</div>"
      ],
      "text/plain": [
       "   Unnamed: 0        x1         x2        x3        x4        x5        x6  \\\n",
       "0           0  2.578427  -5.440010  6.934617 -5.105762  3.371541 -0.024329   \n",
       "1           1  7.579866   3.357488  6.032910  8.200584  5.511706  7.296605   \n",
       "2           2 -3.809705 -10.384165 -4.090660 -7.016026 -3.596238 -4.195416   \n",
       "3           3 -4.086875  -7.262798  4.480551 -0.183911 -3.837633 -1.845956   \n",
       "4           4 -1.465341  10.242456 -4.935431  5.597514 -5.323964  1.820454   \n",
       "5           5 -3.843503  -8.666796 -4.516469 -6.350744 -6.865636 -8.016784   \n",
       "6           6  5.519459   4.399795 -1.745376 -7.577479  4.453279  7.337233   \n",
       "\n",
       "          x7        x8         x9        x10       x11  \n",
       "0   3.836994  7.298052   1.257536   4.101133  3.473032  \n",
       "1  -3.160620 -4.657592   3.417621  10.369689 -3.549068  \n",
       "2  -5.344413  7.791728  10.708402  -1.403735 -4.093697  \n",
       "3  -0.446330  0.250504   3.185509   0.409977  7.112329  \n",
       "4   5.801240 -5.326544  -0.619572   8.486651  6.562099  \n",
       "5 -10.009660  6.338842   9.286909  -0.609153 -4.097180  \n",
       "6  10.665691 -2.055108  -3.496456 -11.981232  0.309062  "
      ]
     },
     "execution_count": 161,
     "metadata": {},
     "output_type": "execute_result"
    }
   ],
   "source": [
    "df.head(7)"
   ]
  },
  {
   "cell_type": "markdown",
   "metadata": {
    "id": "zL5vuF_Zc10H"
   },
   "source": [
    "Print the last 4 rows"
   ]
  },
  {
   "cell_type": "code",
   "execution_count": 162,
   "metadata": {
    "id": "_ZKg65eIc10H"
   },
   "outputs": [
    {
     "data": {
      "text/html": [
       "<div>\n",
       "<style scoped>\n",
       "    .dataframe tbody tr th:only-of-type {\n",
       "        vertical-align: middle;\n",
       "    }\n",
       "\n",
       "    .dataframe tbody tr th {\n",
       "        vertical-align: top;\n",
       "    }\n",
       "\n",
       "    .dataframe thead th {\n",
       "        text-align: right;\n",
       "    }\n",
       "</style>\n",
       "<table border=\"1\" class=\"dataframe\">\n",
       "  <thead>\n",
       "    <tr style=\"text-align: right;\">\n",
       "      <th></th>\n",
       "      <th>Unnamed: 0</th>\n",
       "      <th>x1</th>\n",
       "      <th>x2</th>\n",
       "      <th>x3</th>\n",
       "      <th>x4</th>\n",
       "      <th>x5</th>\n",
       "      <th>x6</th>\n",
       "      <th>x7</th>\n",
       "      <th>x8</th>\n",
       "      <th>x9</th>\n",
       "      <th>x10</th>\n",
       "      <th>x11</th>\n",
       "    </tr>\n",
       "  </thead>\n",
       "  <tbody>\n",
       "    <tr>\n",
       "      <th>426</th>\n",
       "      <td>426</td>\n",
       "      <td>2.827907</td>\n",
       "      <td>10.557086</td>\n",
       "      <td>-6.288984</td>\n",
       "      <td>8.139774</td>\n",
       "      <td>-7.637705</td>\n",
       "      <td>-1.921263</td>\n",
       "      <td>3.944669</td>\n",
       "      <td>-3.261619</td>\n",
       "      <td>4.275787</td>\n",
       "      <td>5.214172</td>\n",
       "      <td>5.702088</td>\n",
       "    </tr>\n",
       "    <tr>\n",
       "      <th>427</th>\n",
       "      <td>427</td>\n",
       "      <td>0.774831</td>\n",
       "      <td>-7.568419</td>\n",
       "      <td>2.502069</td>\n",
       "      <td>-3.867041</td>\n",
       "      <td>-7.853554</td>\n",
       "      <td>-2.082458</td>\n",
       "      <td>-1.124510</td>\n",
       "      <td>0.322952</td>\n",
       "      <td>6.228633</td>\n",
       "      <td>-2.610119</td>\n",
       "      <td>4.056699</td>\n",
       "    </tr>\n",
       "    <tr>\n",
       "      <th>428</th>\n",
       "      <td>428</td>\n",
       "      <td>0.819155</td>\n",
       "      <td>8.209645</td>\n",
       "      <td>-10.387857</td>\n",
       "      <td>7.326587</td>\n",
       "      <td>-9.340179</td>\n",
       "      <td>-0.055799</td>\n",
       "      <td>5.853158</td>\n",
       "      <td>-6.040351</td>\n",
       "      <td>1.685971</td>\n",
       "      <td>6.806640</td>\n",
       "      <td>6.637631</td>\n",
       "    </tr>\n",
       "    <tr>\n",
       "      <th>429</th>\n",
       "      <td>429</td>\n",
       "      <td>3.734201</td>\n",
       "      <td>4.145427</td>\n",
       "      <td>1.932805</td>\n",
       "      <td>-3.360177</td>\n",
       "      <td>6.668191</td>\n",
       "      <td>5.258087</td>\n",
       "      <td>10.698415</td>\n",
       "      <td>-1.367301</td>\n",
       "      <td>-2.339661</td>\n",
       "      <td>-5.235328</td>\n",
       "      <td>3.165517</td>\n",
       "    </tr>\n",
       "  </tbody>\n",
       "</table>\n",
       "</div>"
      ],
      "text/plain": [
       "     Unnamed: 0        x1         x2         x3        x4        x5        x6  \\\n",
       "426         426  2.827907  10.557086  -6.288984  8.139774 -7.637705 -1.921263   \n",
       "427         427  0.774831  -7.568419   2.502069 -3.867041 -7.853554 -2.082458   \n",
       "428         428  0.819155   8.209645 -10.387857  7.326587 -9.340179 -0.055799   \n",
       "429         429  3.734201   4.145427   1.932805 -3.360177  6.668191  5.258087   \n",
       "\n",
       "            x7        x8        x9       x10       x11  \n",
       "426   3.944669 -3.261619  4.275787  5.214172  5.702088  \n",
       "427  -1.124510  0.322952  6.228633 -2.610119  4.056699  \n",
       "428   5.853158 -6.040351  1.685971  6.806640  6.637631  \n",
       "429  10.698415 -1.367301 -2.339661 -5.235328  3.165517  "
      ]
     },
     "execution_count": 162,
     "metadata": {},
     "output_type": "execute_result"
    }
   ],
   "source": [
    "df.tail(4)"
   ]
  },
  {
   "cell_type": "markdown",
   "metadata": {
    "id": "A5VQn2Jec10I"
   },
   "source": [
    "How many rows and columns are in your data?\n",
    "\n",
    "Use the `shape` method\n"
   ]
  },
  {
   "cell_type": "code",
   "execution_count": 163,
   "metadata": {
    "id": "NZDEiAL-c10I"
   },
   "outputs": [
    {
     "data": {
      "text/plain": [
       "(430, 12)"
      ]
     },
     "execution_count": 163,
     "metadata": {},
     "output_type": "execute_result"
    }
   ],
   "source": [
    "df.shape"
   ]
  },
  {
   "cell_type": "markdown",
   "metadata": {
    "id": "EtjQki62c10I"
   },
   "source": [
    "Print the name of all columns\n",
    "\n",
    "Use the `columns` method"
   ]
  },
  {
   "cell_type": "code",
   "execution_count": 164,
   "metadata": {
    "id": "zgRdg5smc10I"
   },
   "outputs": [
    {
     "data": {
      "text/plain": [
       "Index(['Unnamed: 0', 'x1', 'x2', 'x3', 'x4', 'x5', 'x6', 'x7', 'x8', 'x9',\n",
       "       'x10', 'x11'],\n",
       "      dtype='object')"
      ]
     },
     "execution_count": 164,
     "metadata": {},
     "output_type": "execute_result"
    }
   ],
   "source": [
    "df.columns"
   ]
  },
  {
   "cell_type": "markdown",
   "metadata": {
    "id": "ERLu1TUNc10I"
   },
   "source": [
    "What is the data type in each column\n",
    "\n",
    "Use the `dtypes` method"
   ]
  },
  {
   "cell_type": "code",
   "execution_count": 165,
   "metadata": {
    "id": "iYWYwlZqc10J"
   },
   "outputs": [
    {
     "data": {
      "text/plain": [
       "Unnamed: 0      int64\n",
       "x1            float64\n",
       "x2            float64\n",
       "x3            float64\n",
       "x4            float64\n",
       "x5            float64\n",
       "x6            float64\n",
       "x7            float64\n",
       "x8            float64\n",
       "x9            float64\n",
       "x10           float64\n",
       "x11           float64\n",
       "dtype: object"
      ]
     },
     "execution_count": 165,
     "metadata": {},
     "output_type": "execute_result"
    }
   ],
   "source": [
    "df.dtypes"
   ]
  },
  {
   "cell_type": "markdown",
   "metadata": {
    "id": "n78EC_wic10J"
   },
   "source": [
    "What is the meaning of rows and columns?"
   ]
  },
  {
   "cell_type": "markdown",
   "metadata": {
    "id": "oCFvsDegqZty"
   },
   "source": [
    "Your responses here\n",
    "\n",
    "1. the first column is just the ID for each observation\n",
    "\n",
    "2. the other columns represent observations of float values (probably points in an x axis through time)\n",
    "\n",
    "3.the rows are 430 different observations"
   ]
  },
  {
   "cell_type": "markdown",
   "metadata": {
    "id": "chh9y4jRc10J"
   },
   "source": [
    "Print a statistical summary of your columns\n"
   ]
  },
  {
   "cell_type": "code",
   "execution_count": 166,
   "metadata": {
    "id": "CYXHbClkc10J"
   },
   "outputs": [
    {
     "data": {
      "text/html": [
       "<div>\n",
       "<style scoped>\n",
       "    .dataframe tbody tr th:only-of-type {\n",
       "        vertical-align: middle;\n",
       "    }\n",
       "\n",
       "    .dataframe tbody tr th {\n",
       "        vertical-align: top;\n",
       "    }\n",
       "\n",
       "    .dataframe thead th {\n",
       "        text-align: right;\n",
       "    }\n",
       "</style>\n",
       "<table border=\"1\" class=\"dataframe\">\n",
       "  <thead>\n",
       "    <tr style=\"text-align: right;\">\n",
       "      <th></th>\n",
       "      <th>Unnamed: 0</th>\n",
       "      <th>x1</th>\n",
       "      <th>x2</th>\n",
       "      <th>x3</th>\n",
       "      <th>x4</th>\n",
       "      <th>x5</th>\n",
       "      <th>x6</th>\n",
       "      <th>x7</th>\n",
       "      <th>x8</th>\n",
       "      <th>x9</th>\n",
       "      <th>x10</th>\n",
       "      <th>x11</th>\n",
       "    </tr>\n",
       "  </thead>\n",
       "  <tbody>\n",
       "    <tr>\n",
       "      <th>count</th>\n",
       "      <td>430.000000</td>\n",
       "      <td>430.000000</td>\n",
       "      <td>430.000000</td>\n",
       "      <td>430.000000</td>\n",
       "      <td>430.000000</td>\n",
       "      <td>430.000000</td>\n",
       "      <td>430.000000</td>\n",
       "      <td>430.000000</td>\n",
       "      <td>430.000000</td>\n",
       "      <td>430.000000</td>\n",
       "      <td>430.000000</td>\n",
       "      <td>430.000000</td>\n",
       "    </tr>\n",
       "    <tr>\n",
       "      <th>mean</th>\n",
       "      <td>214.500000</td>\n",
       "      <td>1.853444</td>\n",
       "      <td>-2.136439</td>\n",
       "      <td>0.272580</td>\n",
       "      <td>-1.087604</td>\n",
       "      <td>-0.529357</td>\n",
       "      <td>1.245472</td>\n",
       "      <td>1.899125</td>\n",
       "      <td>0.131858</td>\n",
       "      <td>2.051533</td>\n",
       "      <td>1.320338</td>\n",
       "      <td>2.283874</td>\n",
       "    </tr>\n",
       "    <tr>\n",
       "      <th>std</th>\n",
       "      <td>124.274562</td>\n",
       "      <td>4.862658</td>\n",
       "      <td>6.908973</td>\n",
       "      <td>5.054484</td>\n",
       "      <td>6.676193</td>\n",
       "      <td>6.192711</td>\n",
       "      <td>5.766004</td>\n",
       "      <td>6.256920</td>\n",
       "      <td>5.755363</td>\n",
       "      <td>4.279657</td>\n",
       "      <td>6.374579</td>\n",
       "      <td>4.831099</td>\n",
       "    </tr>\n",
       "    <tr>\n",
       "      <th>min</th>\n",
       "      <td>0.000000</td>\n",
       "      <td>-9.197708</td>\n",
       "      <td>-14.189105</td>\n",
       "      <td>-10.387857</td>\n",
       "      <td>-13.092986</td>\n",
       "      <td>-12.675450</td>\n",
       "      <td>-13.924332</td>\n",
       "      <td>-12.411246</td>\n",
       "      <td>-12.062091</td>\n",
       "      <td>-7.184056</td>\n",
       "      <td>-15.186776</td>\n",
       "      <td>-9.812082</td>\n",
       "    </tr>\n",
       "    <tr>\n",
       "      <th>25%</th>\n",
       "      <td>107.250000</td>\n",
       "      <td>-1.425506</td>\n",
       "      <td>-8.161788</td>\n",
       "      <td>-4.357801</td>\n",
       "      <td>-6.660287</td>\n",
       "      <td>-6.441141</td>\n",
       "      <td>-2.316212</td>\n",
       "      <td>-2.767389</td>\n",
       "      <td>-4.336648</td>\n",
       "      <td>-1.094370</td>\n",
       "      <td>-1.741437</td>\n",
       "      <td>-2.438246</td>\n",
       "    </tr>\n",
       "    <tr>\n",
       "      <th>50%</th>\n",
       "      <td>214.500000</td>\n",
       "      <td>1.513789</td>\n",
       "      <td>-3.532112</td>\n",
       "      <td>1.176407</td>\n",
       "      <td>-2.905420</td>\n",
       "      <td>0.436092</td>\n",
       "      <td>0.947433</td>\n",
       "      <td>2.683056</td>\n",
       "      <td>-0.434180</td>\n",
       "      <td>1.361216</td>\n",
       "      <td>1.787590</td>\n",
       "      <td>3.917814</td>\n",
       "    </tr>\n",
       "    <tr>\n",
       "      <th>75%</th>\n",
       "      <td>321.750000</td>\n",
       "      <td>4.973919</td>\n",
       "      <td>2.897643</td>\n",
       "      <td>4.590197</td>\n",
       "      <td>5.416861</td>\n",
       "      <td>5.055047</td>\n",
       "      <td>6.020562</td>\n",
       "      <td>7.264493</td>\n",
       "      <td>4.947719</td>\n",
       "      <td>4.787958</td>\n",
       "      <td>6.354813</td>\n",
       "      <td>6.053016</td>\n",
       "    </tr>\n",
       "    <tr>\n",
       "      <th>max</th>\n",
       "      <td>429.000000</td>\n",
       "      <td>14.915003</td>\n",
       "      <td>13.949350</td>\n",
       "      <td>10.831480</td>\n",
       "      <td>14.661963</td>\n",
       "      <td>13.336897</td>\n",
       "      <td>13.330584</td>\n",
       "      <td>13.221491</td>\n",
       "      <td>12.814984</td>\n",
       "      <td>15.083045</td>\n",
       "      <td>13.603040</td>\n",
       "      <td>10.495262</td>\n",
       "    </tr>\n",
       "  </tbody>\n",
       "</table>\n",
       "</div>"
      ],
      "text/plain": [
       "       Unnamed: 0          x1          x2          x3          x4          x5  \\\n",
       "count  430.000000  430.000000  430.000000  430.000000  430.000000  430.000000   \n",
       "mean   214.500000    1.853444   -2.136439    0.272580   -1.087604   -0.529357   \n",
       "std    124.274562    4.862658    6.908973    5.054484    6.676193    6.192711   \n",
       "min      0.000000   -9.197708  -14.189105  -10.387857  -13.092986  -12.675450   \n",
       "25%    107.250000   -1.425506   -8.161788   -4.357801   -6.660287   -6.441141   \n",
       "50%    214.500000    1.513789   -3.532112    1.176407   -2.905420    0.436092   \n",
       "75%    321.750000    4.973919    2.897643    4.590197    5.416861    5.055047   \n",
       "max    429.000000   14.915003   13.949350   10.831480   14.661963   13.336897   \n",
       "\n",
       "               x6          x7          x8          x9         x10         x11  \n",
       "count  430.000000  430.000000  430.000000  430.000000  430.000000  430.000000  \n",
       "mean     1.245472    1.899125    0.131858    2.051533    1.320338    2.283874  \n",
       "std      5.766004    6.256920    5.755363    4.279657    6.374579    4.831099  \n",
       "min    -13.924332  -12.411246  -12.062091   -7.184056  -15.186776   -9.812082  \n",
       "25%     -2.316212   -2.767389   -4.336648   -1.094370   -1.741437   -2.438246  \n",
       "50%      0.947433    2.683056   -0.434180    1.361216    1.787590    3.917814  \n",
       "75%      6.020562    7.264493    4.947719    4.787958    6.354813    6.053016  \n",
       "max     13.330584   13.221491   12.814984   15.083045   13.603040   10.495262  "
      ]
     },
     "execution_count": 166,
     "metadata": {},
     "output_type": "execute_result"
    }
   ],
   "source": [
    "df.describe()"
   ]
  },
  {
   "cell_type": "markdown",
   "metadata": {
    "id": "HfQ6Pyj1qhGR"
   },
   "source": [
    "1. What is the minumum and maximum values of each variable: 0, -9.-14.2,-10.4.-13.1,-12.7,-13.9,-12.4,-12.1,-7.2,-15.2,-9.8\n",
    "\n",
    "2. What is the mean and standar deviation of each variable:\n",
    "mean: 214.5,1.9,-2.1,0.3,-1.1,-0.5,1.2,1.9,0.1,2.1,1.3,2.3\n",
    "std: 124.3,4.9,6.9,5.1,6.7,6.2,5.8,6.3,5.8,4.3,6.4,4.8\n",
    "\n",
    "3. What the 25%, 50% and 75% represent?: they represent the 1st, 2nd and 3rd quartile "
   ]
  },
  {
   "cell_type": "markdown",
   "metadata": {
    "id": "lheleStYc10K"
   },
   "source": [
    "Rename the columns using the same name with capital letters"
   ]
  },
  {
   "cell_type": "code",
   "execution_count": 167,
   "metadata": {
    "id": "ZZDjtAr1c10K"
   },
   "outputs": [
    {
     "data": {
      "text/plain": [
       "Index(['UNNAMED: 0', 'X1', 'X2', 'X3', 'X4', 'X5', 'X6', 'X7', 'X8', 'X9',\n",
       "       'X10', 'X11'],\n",
       "      dtype='object')"
      ]
     },
     "execution_count": 167,
     "metadata": {},
     "output_type": "execute_result"
    }
   ],
   "source": [
    "df.columns = df.columns.str.upper()\n",
    "df.columns"
   ]
  },
  {
   "cell_type": "markdown",
   "metadata": {
    "id": "Gvlp3x9qc10K"
   },
   "source": [
    "Rename the columns to their original names"
   ]
  },
  {
   "cell_type": "code",
   "execution_count": 168,
   "metadata": {
    "id": "eUgD9iZlc10L"
   },
   "outputs": [
    {
     "data": {
      "text/plain": [
       "Index(['unnamed: 0', 'x1', 'x2', 'x3', 'x4', 'x5', 'x6', 'x7', 'x8', 'x9',\n",
       "       'x10', 'x11'],\n",
       "      dtype='object')"
      ]
     },
     "execution_count": 168,
     "metadata": {},
     "output_type": "execute_result"
    }
   ],
   "source": [
    "df.columns = df.columns.str.lower()\n",
    "df.columns"
   ]
  },
  {
   "cell_type": "markdown",
   "metadata": {
    "id": "NJ4a9Nesc10L"
   },
   "source": [
    "Use two different alternatives to get one of the columns"
   ]
  },
  {
   "cell_type": "code",
   "execution_count": 169,
   "metadata": {
    "id": "a0Y-m4lpc10L"
   },
   "outputs": [
    {
     "data": {
      "text/plain": [
       "0      2.578427\n",
       "1      7.579866\n",
       "2     -3.809705\n",
       "3     -4.086875\n",
       "4     -1.465341\n",
       "         ...   \n",
       "425   -5.060086\n",
       "426    2.827907\n",
       "427    0.774831\n",
       "428    0.819155\n",
       "429    3.734201\n",
       "Name: x1, Length: 430, dtype: float64"
      ]
     },
     "execution_count": 169,
     "metadata": {},
     "output_type": "execute_result"
    }
   ],
   "source": [
    "df[\"x1\"]\n",
    "df.x1"
   ]
  },
  {
   "cell_type": "markdown",
   "metadata": {
    "id": "JdbYbVY-c10L"
   },
   "source": [
    "Get a slice of your data set: second and thrid columns and rows from 62 to 72"
   ]
  },
  {
   "cell_type": "code",
   "execution_count": 170,
   "metadata": {
    "id": "T_fxIO1oc10L"
   },
   "outputs": [
    {
     "data": {
      "text/html": [
       "<div>\n",
       "<style scoped>\n",
       "    .dataframe tbody tr th:only-of-type {\n",
       "        vertical-align: middle;\n",
       "    }\n",
       "\n",
       "    .dataframe tbody tr th {\n",
       "        vertical-align: top;\n",
       "    }\n",
       "\n",
       "    .dataframe thead th {\n",
       "        text-align: right;\n",
       "    }\n",
       "</style>\n",
       "<table border=\"1\" class=\"dataframe\">\n",
       "  <thead>\n",
       "    <tr style=\"text-align: right;\">\n",
       "      <th></th>\n",
       "      <th>x1</th>\n",
       "      <th>x2</th>\n",
       "    </tr>\n",
       "  </thead>\n",
       "  <tbody>\n",
       "    <tr>\n",
       "      <th>62</th>\n",
       "      <td>-0.457700</td>\n",
       "      <td>-8.043390</td>\n",
       "    </tr>\n",
       "    <tr>\n",
       "      <th>63</th>\n",
       "      <td>0.117125</td>\n",
       "      <td>-4.577066</td>\n",
       "    </tr>\n",
       "    <tr>\n",
       "      <th>64</th>\n",
       "      <td>6.678025</td>\n",
       "      <td>3.370354</td>\n",
       "    </tr>\n",
       "    <tr>\n",
       "      <th>65</th>\n",
       "      <td>5.116146</td>\n",
       "      <td>2.208945</td>\n",
       "    </tr>\n",
       "    <tr>\n",
       "      <th>66</th>\n",
       "      <td>-3.562801</td>\n",
       "      <td>-8.724657</td>\n",
       "    </tr>\n",
       "    <tr>\n",
       "      <th>67</th>\n",
       "      <td>-0.767949</td>\n",
       "      <td>-9.004873</td>\n",
       "    </tr>\n",
       "    <tr>\n",
       "      <th>68</th>\n",
       "      <td>0.580199</td>\n",
       "      <td>-6.798836</td>\n",
       "    </tr>\n",
       "    <tr>\n",
       "      <th>69</th>\n",
       "      <td>-0.066650</td>\n",
       "      <td>10.259535</td>\n",
       "    </tr>\n",
       "    <tr>\n",
       "      <th>70</th>\n",
       "      <td>-5.352896</td>\n",
       "      <td>-7.392226</td>\n",
       "    </tr>\n",
       "    <tr>\n",
       "      <th>71</th>\n",
       "      <td>-3.189846</td>\n",
       "      <td>-8.605889</td>\n",
       "    </tr>\n",
       "    <tr>\n",
       "      <th>72</th>\n",
       "      <td>-3.214142</td>\n",
       "      <td>-6.843643</td>\n",
       "    </tr>\n",
       "  </tbody>\n",
       "</table>\n",
       "</div>"
      ],
      "text/plain": [
       "          x1         x2\n",
       "62 -0.457700  -8.043390\n",
       "63  0.117125  -4.577066\n",
       "64  6.678025   3.370354\n",
       "65  5.116146   2.208945\n",
       "66 -3.562801  -8.724657\n",
       "67 -0.767949  -9.004873\n",
       "68  0.580199  -6.798836\n",
       "69 -0.066650  10.259535\n",
       "70 -5.352896  -7.392226\n",
       "71 -3.189846  -8.605889\n",
       "72 -3.214142  -6.843643"
      ]
     },
     "execution_count": 170,
     "metadata": {},
     "output_type": "execute_result"
    }
   ],
   "source": [
    "df.iloc[62:73, 1:3]"
   ]
  },
  {
   "cell_type": "markdown",
   "metadata": {
    "id": "LTCUOWvMc10L"
   },
   "source": [
    "For the second and thrid columns, calculate the number of null and not null values and verify that their sum equals the total number of rows"
   ]
  },
  {
   "cell_type": "code",
   "execution_count": 171,
   "metadata": {
    "id": "8aXxqkRSc10L"
   },
   "outputs": [
    {
     "name": "stdout",
     "output_type": "stream",
     "text": [
      "True\n"
     ]
    }
   ],
   "source": [
    "nullcol1 = df[df.columns[1]].isnull().sum()\n",
    "nullcol2 = df[df.columns[2]].isnull().sum()\n",
    "\n",
    "notnullcol1 = df[df.columns[1]].notnull().sum()\n",
    "notnullcol2 = df[df.columns[2]].notnull().sum()\n",
    "\n",
    "total_rows = df.shape[0]\n",
    "if (nullcol1 + notnullcol1 == total_rows) and (nullcol2 + notnullcol2 == total_rows):\n",
    "    print(True)\n",
    "else:\n",
    "    print(False)"
   ]
  },
  {
   "cell_type": "markdown",
   "metadata": {
    "id": "U_uhOT_Vc10L"
   },
   "source": [
    "Discard the last column\n"
   ]
  },
  {
   "cell_type": "code",
   "execution_count": 172,
   "metadata": {
    "id": "_fLEpBCSc10M"
   },
   "outputs": [],
   "source": [
    "df = df.drop(df.columns[-1], axis=1)"
   ]
  },
  {
   "cell_type": "markdown",
   "metadata": {
    "id": "3kUbCFT7c10M"
   },
   "source": [
    "### Questions\n",
    "\n",
    "Based on the previos results, provide a full description of yout dataset\n",
    "\n",
    "Your response: the dataset has 430 observations with 11 float columns and 1 int column that represents the ID, the xN columns could represent coordenates in time\n",
    "\n",
    "\n"
   ]
  },
  {
   "cell_type": "markdown",
   "metadata": {
    "id": "BrhTIgAuc10M"
   },
   "source": [
    "## c) Data visualization"
   ]
  },
  {
   "cell_type": "markdown",
   "metadata": {
    "id": "KGw1PlJIn5AB"
   },
   "source": [
    "Plot in the histogram of one of the variables"
   ]
  },
  {
   "cell_type": "code",
   "execution_count": 173,
   "metadata": {},
   "outputs": [
    {
     "data": {
      "text/plain": [
       "<Axes: >"
      ]
     },
     "execution_count": 173,
     "metadata": {},
     "output_type": "execute_result"
    },
    {
     "data": {
      "image/png": "[encoded data removed]",
      "text/plain": [
       "<Figure size 640x480 with 1 Axes>"
      ]
     },
     "metadata": {},
     "output_type": "display_data"
    }
   ],
   "source": [
    "df['x1'].hist(bins=20, edgecolor='black')"
   ]
  },
  {
   "cell_type": "markdown",
   "metadata": {
    "id": "Ducgjbdyc10M"
   },
   "source": [
    "Plot in the same figure the histogram of two variables\n",
    "\n"
   ]
  },
  {
   "cell_type": "code",
   "execution_count": 174,
   "metadata": {
    "id": "7A0rK-cKc10M"
   },
   "outputs": [
    {
     "data": {
      "text/plain": [
       "(array([ 6., 11., 25., 55., 43., 37., 32., 11., 12., 26., 29., 33., 20.,\n",
       "        17.,  8., 21., 19., 13.,  9.,  3.]),\n",
       " array([-14.18910451, -12.78218181, -11.3752591 ,  -9.9683364 ,\n",
       "         -8.5614137 ,  -7.15449099,  -5.74756829,  -4.34064559,\n",
       "         -2.93372288,  -1.52680018,  -0.11987747,   1.28704523,\n",
       "          2.69396793,   4.10089064,   5.50781334,   6.91473604,\n",
       "          8.32165875,   9.72858145,  11.13550416,  12.54242686,\n",
       "         13.94934956]),\n",
       " <BarContainer object of 20 artists>)"
      ]
     },
     "execution_count": 174,
     "metadata": {},
     "output_type": "execute_result"
    },
    {
     "data": {
      "image/png": "[encoded data removed]",
      "text/plain": [
       "<Figure size 640x480 with 1 Axes>"
      ]
     },
     "metadata": {},
     "output_type": "display_data"
    }
   ],
   "source": [
    "plt.hist(df['x1'], bins=20, alpha=0.5, label='x1', edgecolor='blue')\n",
    "plt.hist(df['x2'], bins=20, alpha=0.5, label='x2', edgecolor='black')"
   ]
  },
  {
   "cell_type": "markdown",
   "metadata": {
    "id": "VLX6LS0sc10M"
   },
   "source": [
    "Based on these plots, provide a description of your data:\n",
    "\n",
    "Your response here: x1 is slightly skewed to the negative side and the x2 is more centered and has a more symmetrical distribution"
   ]
  },
  {
   "cell_type": "markdown",
   "metadata": {
    "id": "c4JPxzUQoDU7"
   },
   "source": [
    "Plot the boxplot of one of the variables"
   ]
  },
  {
   "cell_type": "code",
   "execution_count": 175,
   "metadata": {
    "id": "2rpYyzMroDc6"
   },
   "outputs": [
    {
     "data": {
      "text/plain": [
       "{'whiskers': [<matplotlib.lines.Line2D at 0x13f12c750>,\n",
       "  <matplotlib.lines.Line2D at 0x13f12d190>],\n",
       " 'caps': [<matplotlib.lines.Line2D at 0x13f0dd790>,\n",
       "  <matplotlib.lines.Line2D at 0x13f12dd90>],\n",
       " 'boxes': [<matplotlib.lines.Line2D at 0x13f11be10>],\n",
       " 'medians': [<matplotlib.lines.Line2D at 0x13f12e610>],\n",
       " 'fliers': [<matplotlib.lines.Line2D at 0x13f12ef10>],\n",
       " 'means': []}"
      ]
     },
     "execution_count": 175,
     "metadata": {},
     "output_type": "execute_result"
    },
    {
     "data": {
      "image/png": "[encoded data removed]",
      "text/plain": [
       "<Figure size 640x480 with 1 Axes>"
      ]
     },
     "metadata": {},
     "output_type": "display_data"
    }
   ],
   "source": [
    "plt.boxplot(df['x3'])"
   ]
  },
  {
   "cell_type": "markdown",
   "metadata": {
    "id": "0Mc8oYehc10T"
   },
   "source": [
    "Plot in the same figure the boxplot of two variables"
   ]
  },
  {
   "cell_type": "code",
   "execution_count": 176,
   "metadata": {
    "id": "9O82DjeEc10T"
   },
   "outputs": [
    {
     "data": {
      "text/plain": [
       "{'whiskers': [<matplotlib.lines.Line2D at 0x13f17ff90>,\n",
       "  <matplotlib.lines.Line2D at 0x13f18cad0>,\n",
       "  <matplotlib.lines.Line2D at 0x13f19ca90>,\n",
       "  <matplotlib.lines.Line2D at 0x13f19d3d0>],\n",
       " 'caps': [<matplotlib.lines.Line2D at 0x13f18d510>,\n",
       "  <matplotlib.lines.Line2D at 0x13f18e010>,\n",
       "  <matplotlib.lines.Line2D at 0x13f19df50>,\n",
       "  <matplotlib.lines.Line2D at 0x13f19ea50>],\n",
       " 'boxes': [<matplotlib.lines.Line2D at 0x13f17f290>,\n",
       "  <matplotlib.lines.Line2D at 0x13f18ffd0>],\n",
       " 'medians': [<matplotlib.lines.Line2D at 0x13f18ea90>,\n",
       "  <matplotlib.lines.Line2D at 0x13f19f4d0>],\n",
       " 'fliers': [<matplotlib.lines.Line2D at 0x13f18f410>,\n",
       "  <matplotlib.lines.Line2D at 0x13f19fed0>],\n",
       " 'means': []}"
      ]
     },
     "execution_count": 176,
     "metadata": {},
     "output_type": "execute_result"
    },
    {
     "data": {
      "image/png": "[encoded data removed]",
      "text/plain": [
       "<Figure size 640x480 with 1 Axes>"
      ]
     },
     "metadata": {},
     "output_type": "display_data"
    }
   ],
   "source": [
    "plt.boxplot([df['x3'], df['x4']])"
   ]
  },
  {
   "cell_type": "markdown",
   "metadata": {
    "id": "gOlNCAaooQyp"
   },
   "source": [
    "Based on these plots, provide a description of your data:\n",
    "\n",
    "Your response here: x3 has slightly shorter range than x4 and x3 has a higher median"
   ]
  },
  {
   "cell_type": "markdown",
   "metadata": {
    "id": "njAfrbKXc10T"
   },
   "source": [
    "Plot the scatter plot between all pair of variables"
   ]
  },
  {
   "cell_type": "code",
   "execution_count": null,
   "metadata": {
    "id": "QKkZLPrnc10T"
   },
   "outputs": [
    {
     "data": {
      "text/plain": [
       "<seaborn.axisgrid.PairGrid at 0x13e8b0410>"
      ]
     },
     "execution_count": 177,
     "metadata": {},
     "output_type": "execute_result"
    }
   ],
   "source": [
    "df = df.drop(columns=['unnamed: 0'])\n",
    "\n",
    "sns.pairplot(df, diag_kind='kde', plot_kws={'alpha': 0.6, 's': 30})"
   ]
  },
  {
   "cell_type": "markdown",
   "metadata": {
    "id": "hhQgpr56c10U"
   },
   "source": [
    "### Questions\n",
    "\n",
    "Based on the previos plots, provide a full description of yout dataset\n",
    "\n",
    "Your response: This pairplot shows potential clusters in the way the data is distributed. Some variable pairs appear uncorrelated, some have a strong positive and negative correlations and most display a non linear relationship\n",
    "\n",
    "\n"
   ]
  },
  {
   "cell_type": "markdown",
   "metadata": {
    "id": "8AsjzPTKc10U"
   },
   "source": [
    "## d) Kmeans"
   ]
  },
  {
   "cell_type": "markdown",
   "metadata": {
    "id": "rBSqJzBwc10U"
   },
   "source": [
    "Do Kmeans clustering assuming a number of clusters accorging to your scatter plots"
   ]
  },
  {
   "cell_type": "code",
   "execution_count": null,
   "metadata": {
    "id": "NLf7i33Wc10U"
   },
   "outputs": [
    {
     "data": {
      "text/plain": [
       "array([2, 0, 1, 1, 0, 1, 2, 0, 2, 1, 1, 0, 2, 0, 0, 1, 1, 0, 2, 0, 0, 2,\n",
       "       0, 2, 2, 0, 1, 2, 1, 2, 2, 0, 1, 1, 0, 0, 2, 2, 2, 2, 0, 2, 0, 0,\n",
       "       0, 1, 2, 0, 0, 0, 1, 0, 2, 0, 2, 1, 1, 0, 0, 1, 2, 2, 2, 1, 2, 2,\n",
       "       1, 2, 2, 0, 1, 1, 1, 2, 2, 1, 2, 0, 0, 1, 0, 2, 1, 1, 0, 2, 0, 0,\n",
       "       1, 0, 0, 2, 1, 2, 0, 1, 1, 0, 0, 1, 1, 2, 1, 0, 2, 0, 1, 0, 1, 2,\n",
       "       0, 2, 2, 1, 2, 1, 0, 1, 0, 1, 0, 1, 1, 2, 1, 2, 2, 2, 1, 2, 0, 2,\n",
       "       0, 2, 1, 0, 0, 0, 2, 2, 1, 0, 0, 0, 2, 2, 1, 0, 2, 2, 2, 2, 2, 0,\n",
       "       2, 1, 0, 0, 0, 2, 0, 2, 0, 2, 0, 0, 0, 1, 2, 2, 0, 0, 2, 1, 0, 1,\n",
       "       1, 1, 1, 0, 2, 0, 0, 2, 2, 0, 0, 0, 0, 0, 1, 0, 0, 1, 2, 0, 2, 1,\n",
       "       2, 0, 1, 0, 0, 1, 2, 1, 2, 2, 2, 0, 1, 2, 2, 2, 2, 1, 0, 1, 1, 2,\n",
       "       1, 2, 1, 0, 1, 1, 0, 2, 2, 0, 1, 1, 1, 0, 0, 0, 1, 1, 2, 2, 1, 1,\n",
       "       1, 2, 0, 1, 1, 2, 2, 1, 2, 2, 1, 0, 0, 0, 2, 1, 2, 2, 1, 1, 2, 2,\n",
       "       2, 1, 1, 2, 1, 0, 1, 2, 0, 1, 2, 1, 0, 2, 1, 0, 0, 1, 0, 1, 1, 1,\n",
       "       0, 0, 1, 1, 1, 0, 1, 0, 1, 2, 0, 0, 0, 2, 2, 1, 0, 0, 1, 2, 0, 1,\n",
       "       0, 2, 0, 2, 2, 2, 1, 0, 2, 2, 2, 2, 2, 1, 1, 0, 1, 2, 2, 1, 2, 0,\n",
       "       1, 1, 1, 1, 0, 0, 1, 1, 2, 2, 0, 0, 0, 1, 1, 0, 1, 2, 1, 2, 1, 1,\n",
       "       0, 2, 2, 0, 1, 1, 0, 1, 2, 1, 0, 1, 1, 1, 2, 0, 0, 2, 0, 2, 0, 2,\n",
       "       1, 0, 1, 2, 1, 2, 0, 1, 2, 0, 2, 2, 1, 0, 2, 2, 2, 0, 2, 2, 2, 0,\n",
       "       1, 1, 2, 2, 1, 1, 2, 2, 1, 2, 1, 0, 0, 1, 2, 0, 0, 1, 2, 0, 1, 0,\n",
       "       0, 0, 1, 0, 2, 1, 1, 1, 0, 1, 0, 2], dtype=int32)"
      ]
     },
     "execution_count": 140,
     "metadata": {},
     "output_type": "execute_result"
    }
   ],
   "source": [
    "from sklearn.cluster import KMeans\n",
    "\n",
    "km = KMeans(n_clusters=3, n_init=\"auto\")\n",
    "\n",
    "Cluster1 = km.fit_predict(df)\n",
    "\n",
    "Cluster1"
   ]
  },
  {
   "cell_type": "markdown",
   "metadata": {
    "id": "HarT37iNc10U"
   },
   "source": [
    "Add to your dataset a column with the estimated cluster to each data point"
   ]
  },
  {
   "cell_type": "code",
   "execution_count": null,
   "metadata": {
    "id": "IM3pIwcxc10U"
   },
   "outputs": [],
   "source": [
    "df['Cluster'] = km.fit_predict(df)"
   ]
  },
  {
   "cell_type": "markdown",
   "metadata": {
    "id": "2YXXQtDdc10U"
   },
   "source": [
    "Print the number associated to each cluster"
   ]
  },
  {
   "cell_type": "code",
   "execution_count": null,
   "metadata": {
    "id": "BBEJysUZc10U"
   },
   "outputs": [
    {
     "name": "stdout",
     "output_type": "stream",
     "text": [
      "Clusters found: [0 2 1]\n"
     ]
    }
   ],
   "source": [
    "print(\"Clusters found:\", df['Cluster'].unique())"
   ]
  },
  {
   "cell_type": "markdown",
   "metadata": {
    "id": "l0TFxLcAc10V"
   },
   "source": [
    "Print the centroids"
   ]
  },
  {
   "cell_type": "code",
   "execution_count": null,
   "metadata": {
    "id": "sGdo8TT9c10V"
   },
   "outputs": [
    {
     "data": {
      "text/plain": [
       "array([[ 3.32670398, -2.67471588,  2.66607984, -6.15626722,  5.24647921,\n",
       "         4.60815163,  7.58680672,  3.36161097, -1.53471633, -3.8418853 ],\n",
       "       [-1.63630208, -2.51162997, -2.80226878, -1.09210004, -6.1613383 ,\n",
       "        -3.21928153, -0.46902142,  0.50704787,  4.59101648,  2.4089108 ],\n",
       "       [ 9.43296412,  0.09142211,  4.72931697,  9.20611642,  4.8108635 ,\n",
       "         7.94541626, -2.46530587, -7.55476561,  1.63506718,  8.49381416]])"
      ]
     },
     "execution_count": 143,
     "metadata": {},
     "output_type": "execute_result"
    }
   ],
   "source": [
    "km.cluster_centers_"
   ]
  },
  {
   "cell_type": "markdown",
   "metadata": {
    "id": "8Ul5wSO7c10V"
   },
   "source": [
    "Print the intertia metric"
   ]
  },
  {
   "cell_type": "code",
   "execution_count": null,
   "metadata": {
    "id": "Yq5A_5RTc10V"
   },
   "outputs": [
    {
     "data": {
      "text/plain": [
       "78098.02518974683"
      ]
     },
     "execution_count": 144,
     "metadata": {},
     "output_type": "execute_result"
    }
   ],
   "source": [
    "km.inertia_\n"
   ]
  },
  {
   "cell_type": "markdown",
   "metadata": {
    "id": "0_GmI4nHc10V"
   },
   "source": [
    "Plot a scatter plot of your data using different color for each cluster. Also plot the centroids"
   ]
  },
  {
   "cell_type": "code",
   "execution_count": null,
   "metadata": {
    "id": "pR-dRE80c10V"
   },
   "outputs": [
    {
     "data": {
      "text/plain": [
       "<matplotlib.collections.PathCollection at 0x13e26e650>"
      ]
     },
     "execution_count": 145,
     "metadata": {},
     "output_type": "execute_result"
    },
    {
     "data": {
      "image/png": "[encoded data removed]",
      "text/plain": [
       "<Figure size 800x600 with 1 Axes>"
      ]
     },
     "metadata": {},
     "output_type": "display_data"
    }
   ],
   "source": [
    "centroids = km.cluster_centers_\n",
    "\n",
    "x_col, y_col = df.columns[0], df.columns[1]\n",
    "\n",
    "plt.figure(figsize=(8, 6))\n",
    "sns.scatterplot(x=df[x_col], y=df[y_col], hue=df['Cluster'], palette='viridis', alpha=0.7)\n",
    "\n",
    "plt.scatter(centroids[:, 0], centroids[:, 1], c='red', marker='X', s=200, label='Centroids')\n"
   ]
  },
  {
   "cell_type": "markdown",
   "metadata": {
    "id": "rga2TFKSc10V"
   },
   "source": [
    "### Questions\n",
    "\n",
    "Provides a detailed description of your results\n",
    "\n",
    "Your response: The clusters are well-separated, indicating that K-Means effectively captured the natural structure of the data."
   ]
  },
  {
   "cell_type": "markdown",
   "metadata": {
    "id": "rq-0bfKIc10W"
   },
   "source": [
    "## d) Elbow plot\n",
    "\n",
    "Compute the Elbow plot"
   ]
  },
  {
   "cell_type": "code",
   "execution_count": null,
   "metadata": {
    "id": "fuuNlWsyc10W"
   },
   "outputs": [
    {
     "data": {
      "text/plain": [
       "[<matplotlib.lines.Line2D at 0x13e3f30d0>]"
      ]
     },
     "execution_count": 146,
     "metadata": {},
     "output_type": "execute_result"
    },
    {
     "data": {
      "image/png": "[encoded data removed]",
      "text/plain": [
       "<Figure size 800x600 with 1 Axes>"
      ]
     },
     "metadata": {},
     "output_type": "display_data"
    }
   ],
   "source": [
    "sse = []\n",
    "\n",
    "k_rng = range(1, 10)\n",
    "\n",
    "for k in k_rng:\n",
    "    km = KMeans(n_clusters=k, n_init=\"auto\", random_state=42)\n",
    "    km.fit(df)\n",
    "    sse.append(km.inertia_)  \n",
    "    \n",
    "plt.figure(figsize=(8, 6))\n",
    "plt.plot(k_rng, sse, marker='o', linestyle='-', color='b')"
   ]
  },
  {
   "cell_type": "markdown",
   "metadata": {
    "id": "0deiIrT-c10W"
   },
   "source": [
    "### Questions\n",
    "\n",
    "What is the best number of clusters K? (argue your response)\n",
    "\n",
    "Your response: The best number of clusters appears to be k = 3 because this is where the elbow occurs in the plot. Beyond this, adding more clusters only marginally reduces the sum of squared errors (SSE), indicating diminishing returns in clustering quality.\n",
    "\n",
    "\n",
    "Does this number of clusters agree with your inital guess? (argue your response, no problem at all if they do not agree)\n",
    "\n",
    "Your response: Yes, this number of clusters (k = 3) agrees with the initial assumption. The K-Means clustering visualized earlier also identified three distinct groups, confirming that this is a reasonable choice.\n",
    "\n"
   ]
  },
  {
   "cell_type": "markdown",
   "metadata": {
    "id": "gpbq0ymoc10W"
   },
   "source": [
    "# PART 2\n",
    "\n",
    "## Do clustering using the \"digits\" dataset"
   ]
  },
  {
   "cell_type": "markdown",
   "metadata": {
    "id": "Vedc4m8gc10W"
   },
   "source": [
    "1) Load the dataset from \"sklearn.datasets\"\n"
   ]
  },
  {
   "cell_type": "code",
   "execution_count": null,
   "metadata": {
    "id": "zwKMzr_Sc10W"
   },
   "outputs": [],
   "source": [
    "from sklearn.datasets import load_digits\n",
    "\n",
    "digits = load_digits()"
   ]
  },
  {
   "cell_type": "markdown",
   "metadata": {
    "id": "9zhJS9vZc10W"
   },
   "source": [
    "2) Plot some of the observations (add in the title the label/digit of that obserbation)"
   ]
  },
  {
   "cell_type": "code",
   "execution_count": null,
   "metadata": {
    "id": "52Sr_Mx_c10X"
   },
   "outputs": [
    {
     "data": {
      "image/png": "[encoded data removed]",
      "text/plain": [
       "<Figure size 1000x500 with 10 Axes>"
      ]
     },
     "metadata": {},
     "output_type": "display_data"
    }
   ],
   "source": [
    "fig, axes = plt.subplots(2, 5, figsize=(10, 5)) \n",
    "for i, ax in enumerate(axes.flat):\n",
    "    ax.imshow(digits.images[i], cmap=\"gray\") \n",
    "    ax.set_title(f\"Digit: {digits.target[i]}\") \n",
    "    ax.axis(\"off\")"
   ]
  },
  {
   "cell_type": "markdown",
   "metadata": {
    "id": "vFjt08yHc10X"
   },
   "source": [
    "3) Do K means clustering in the following cases:\n",
    "\n",
    "* KmeansAll: Using all 64 variables/pixels/features\n",
    "\n",
    "* Kmeans1row: Using only the 8 variables/pixels/features from the firt row\n",
    "\n",
    "* Kmeans4row: Using only the 8 variables/pixels/features from the fourth row\n",
    "\n",
    "* Kmeans8row: Using only the 8 variables/pixels/\n",
    "features from the eighth row\n"
   ]
  },
  {
   "cell_type": "code",
   "execution_count": null,
   "metadata": {
    "id": "YTLziZ1Uc10X"
   },
   "outputs": [
    {
     "data": {
      "text/html": [
       "<div>\n",
       "<style scoped>\n",
       "    .dataframe tbody tr th:only-of-type {\n",
       "        vertical-align: middle;\n",
       "    }\n",
       "\n",
       "    .dataframe tbody tr th {\n",
       "        vertical-align: top;\n",
       "    }\n",
       "\n",
       "    .dataframe thead th {\n",
       "        text-align: right;\n",
       "    }\n",
       "</style>\n",
       "<table border=\"1\" class=\"dataframe\">\n",
       "  <thead>\n",
       "    <tr style=\"text-align: right;\">\n",
       "      <th></th>\n",
       "      <th>0</th>\n",
       "      <th>1</th>\n",
       "      <th>2</th>\n",
       "      <th>3</th>\n",
       "      <th>4</th>\n",
       "      <th>5</th>\n",
       "      <th>6</th>\n",
       "      <th>7</th>\n",
       "      <th>8</th>\n",
       "      <th>9</th>\n",
       "      <th>...</th>\n",
       "      <th>58</th>\n",
       "      <th>59</th>\n",
       "      <th>60</th>\n",
       "      <th>61</th>\n",
       "      <th>62</th>\n",
       "      <th>63</th>\n",
       "      <th>KmeansAll</th>\n",
       "      <th>Kmeans1row</th>\n",
       "      <th>Kmeans4row</th>\n",
       "      <th>Kmeans8row</th>\n",
       "    </tr>\n",
       "  </thead>\n",
       "  <tbody>\n",
       "    <tr>\n",
       "      <th>0</th>\n",
       "      <td>0.0</td>\n",
       "      <td>0.0</td>\n",
       "      <td>5.0</td>\n",
       "      <td>13.0</td>\n",
       "      <td>9.0</td>\n",
       "      <td>1.0</td>\n",
       "      <td>0.0</td>\n",
       "      <td>0.0</td>\n",
       "      <td>0.0</td>\n",
       "      <td>0.0</td>\n",
       "      <td>...</td>\n",
       "      <td>6.0</td>\n",
       "      <td>13.0</td>\n",
       "      <td>10.0</td>\n",
       "      <td>0.0</td>\n",
       "      <td>0.0</td>\n",
       "      <td>0.0</td>\n",
       "      <td>5</td>\n",
       "      <td>2</td>\n",
       "      <td>8</td>\n",
       "      <td>3</td>\n",
       "    </tr>\n",
       "    <tr>\n",
       "      <th>1</th>\n",
       "      <td>0.0</td>\n",
       "      <td>0.0</td>\n",
       "      <td>0.0</td>\n",
       "      <td>12.0</td>\n",
       "      <td>13.0</td>\n",
       "      <td>5.0</td>\n",
       "      <td>0.0</td>\n",
       "      <td>0.0</td>\n",
       "      <td>0.0</td>\n",
       "      <td>0.0</td>\n",
       "      <td>...</td>\n",
       "      <td>0.0</td>\n",
       "      <td>11.0</td>\n",
       "      <td>16.0</td>\n",
       "      <td>10.0</td>\n",
       "      <td>0.0</td>\n",
       "      <td>0.0</td>\n",
       "      <td>7</td>\n",
       "      <td>9</td>\n",
       "      <td>1</td>\n",
       "      <td>5</td>\n",
       "    </tr>\n",
       "    <tr>\n",
       "      <th>2</th>\n",
       "      <td>0.0</td>\n",
       "      <td>0.0</td>\n",
       "      <td>0.0</td>\n",
       "      <td>4.0</td>\n",
       "      <td>15.0</td>\n",
       "      <td>12.0</td>\n",
       "      <td>0.0</td>\n",
       "      <td>0.0</td>\n",
       "      <td>0.0</td>\n",
       "      <td>0.0</td>\n",
       "      <td>...</td>\n",
       "      <td>0.0</td>\n",
       "      <td>3.0</td>\n",
       "      <td>11.0</td>\n",
       "      <td>16.0</td>\n",
       "      <td>9.0</td>\n",
       "      <td>0.0</td>\n",
       "      <td>7</td>\n",
       "      <td>3</td>\n",
       "      <td>7</td>\n",
       "      <td>6</td>\n",
       "    </tr>\n",
       "    <tr>\n",
       "      <th>3</th>\n",
       "      <td>0.0</td>\n",
       "      <td>0.0</td>\n",
       "      <td>7.0</td>\n",
       "      <td>15.0</td>\n",
       "      <td>13.0</td>\n",
       "      <td>1.0</td>\n",
       "      <td>0.0</td>\n",
       "      <td>0.0</td>\n",
       "      <td>0.0</td>\n",
       "      <td>8.0</td>\n",
       "      <td>...</td>\n",
       "      <td>7.0</td>\n",
       "      <td>13.0</td>\n",
       "      <td>13.0</td>\n",
       "      <td>9.0</td>\n",
       "      <td>0.0</td>\n",
       "      <td>0.0</td>\n",
       "      <td>6</td>\n",
       "      <td>1</td>\n",
       "      <td>3</td>\n",
       "      <td>5</td>\n",
       "    </tr>\n",
       "    <tr>\n",
       "      <th>4</th>\n",
       "      <td>0.0</td>\n",
       "      <td>0.0</td>\n",
       "      <td>0.0</td>\n",
       "      <td>1.0</td>\n",
       "      <td>11.0</td>\n",
       "      <td>0.0</td>\n",
       "      <td>0.0</td>\n",
       "      <td>0.0</td>\n",
       "      <td>0.0</td>\n",
       "      <td>0.0</td>\n",
       "      <td>...</td>\n",
       "      <td>0.0</td>\n",
       "      <td>2.0</td>\n",
       "      <td>16.0</td>\n",
       "      <td>4.0</td>\n",
       "      <td>0.0</td>\n",
       "      <td>0.0</td>\n",
       "      <td>4</td>\n",
       "      <td>5</td>\n",
       "      <td>9</td>\n",
       "      <td>0</td>\n",
       "    </tr>\n",
       "  </tbody>\n",
       "</table>\n",
       "<p>5 rows × 68 columns</p>\n",
       "</div>"
      ],
      "text/plain": [
       "     0    1    2     3     4     5    6    7    8    9  ...   58    59    60  \\\n",
       "0  0.0  0.0  5.0  13.0   9.0   1.0  0.0  0.0  0.0  0.0  ...  6.0  13.0  10.0   \n",
       "1  0.0  0.0  0.0  12.0  13.0   5.0  0.0  0.0  0.0  0.0  ...  0.0  11.0  16.0   \n",
       "2  0.0  0.0  0.0   4.0  15.0  12.0  0.0  0.0  0.0  0.0  ...  0.0   3.0  11.0   \n",
       "3  0.0  0.0  7.0  15.0  13.0   1.0  0.0  0.0  0.0  8.0  ...  7.0  13.0  13.0   \n",
       "4  0.0  0.0  0.0   1.0  11.0   0.0  0.0  0.0  0.0  0.0  ...  0.0   2.0  16.0   \n",
       "\n",
       "     61   62   63  KmeansAll  Kmeans1row  Kmeans4row  Kmeans8row  \n",
       "0   0.0  0.0  0.0          5           2           8           3  \n",
       "1  10.0  0.0  0.0          7           9           1           5  \n",
       "2  16.0  9.0  0.0          7           3           7           6  \n",
       "3   9.0  0.0  0.0          6           1           3           5  \n",
       "4   4.0  0.0  0.0          4           5           9           0  \n",
       "\n",
       "[5 rows x 68 columns]"
      ]
     },
     "execution_count": 149,
     "metadata": {},
     "output_type": "execute_result"
    }
   ],
   "source": [
    "df = pd.DataFrame(digits.data) \n",
    "\n",
    "def apply_kmeans(data, n_clusters=10):\n",
    "    km = KMeans(n_clusters=n_clusters, n_init=\"auto\", random_state=42)\n",
    "    return km.fit_predict(data)\n",
    "\n",
    "df[\"KmeansAll\"] = apply_kmeans(df.iloc[:, :64])\n",
    "\n",
    "df[\"Kmeans1row\"] = apply_kmeans(df.iloc[:, 0:8])\n",
    "\n",
    "df[\"Kmeans4row\"] = apply_kmeans(df.iloc[:, 24:32])\n",
    "\n",
    "df[\"Kmeans8row\"] = apply_kmeans(df.iloc[:, 56:64])\n",
    "\n",
    "df.head()"
   ]
  },
  {
   "cell_type": "markdown",
   "metadata": {
    "id": "4MxC0g0Mc10X"
   },
   "source": [
    "4) Verify your results. Plot several observations from the same digit and add in the title the real label and the estimated label to check in what observations the clusterization was correct or incorrect"
   ]
  },
  {
   "cell_type": "code",
   "execution_count": null,
   "metadata": {
    "id": "ZF1fAjlCc10X"
   },
   "outputs": [
    {
     "data": {
      "image/png": "[encoded data removed]",
      "text/plain": [
       "<Figure size 1000x500 with 10 Axes>"
      ]
     },
     "metadata": {},
     "output_type": "display_data"
    }
   ],
   "source": [
    "n_samples = 10\n",
    "random_indices = np.random.choice(len(df), n_samples, replace=False)\n",
    "\n",
    "fig, axes = plt.subplots(2, 5, figsize=(10, 5)) \n",
    "\n",
    "for i, ax in enumerate(axes.flat):\n",
    "    index = random_indices[i]\n",
    "    ax.imshow(digits.images[index], cmap='gray') \n",
    "    real_label = digits.target[index] \n",
    "    estimated_label = df[\"KmeansAll\"].iloc[index] \n",
    "    ax.set_title(f\"True: {real_label}\\nCluster: {estimated_label}\")\n",
    "    ax.axis(\"off\") "
   ]
  },
  {
   "cell_type": "markdown",
   "metadata": {
    "id": "0XYgBwCfnEiW"
   },
   "source": [
    "5) Compute the Elbow plot"
   ]
  },
  {
   "cell_type": "code",
   "execution_count": null,
   "metadata": {
    "id": "m5cc6NbGnEq4"
   },
   "outputs": [
    {
     "data": {
      "text/plain": [
       "[<matplotlib.lines.Line2D at 0x13e815c50>]"
      ]
     },
     "execution_count": 151,
     "metadata": {},
     "output_type": "execute_result"
    },
    {
     "data": {
      "image/png": "[encoded data removed]",
      "text/plain": [
       "<Figure size 800x500 with 1 Axes>"
      ]
     },
     "metadata": {},
     "output_type": "display_data"
    }
   ],
   "source": [
    "sse = []\n",
    "k_range = range(1, 15) \n",
    "\n",
    "for k in k_range:\n",
    "    km = KMeans(n_clusters=k, n_init=\"auto\", random_state=42)\n",
    "    km.fit(digits.data) \n",
    "    sse.append(km.inertia_) \n",
    "\n",
    "plt.figure(figsize=(8, 5))\n",
    "plt.plot(k_range, sse, marker='o', linestyle='-', color='b')"
   ]
  },
  {
   "cell_type": "markdown",
   "metadata": {
    "id": "PlX8PAZCc10X"
   },
   "source": [
    "### Questions\n",
    "\n",
    "Provides a detailed description of your results (e.g., in which case the clusterization is better, with KmeansAll, Kmeans1row, Kmeans4row, or Kmeans8row).\n",
    "\n",
    "Your response (argue your response):"
   ]
  },
  {
   "cell_type": "markdown",
   "metadata": {
    "id": "GkrnaHjPnSxk"
   },
   "source": [
    "# PART 3\n",
    "## Do classification using the \"digits\" dataset"
   ]
  },
  {
   "cell_type": "markdown",
   "metadata": {
    "id": "RzbyW7-FpZvp"
   },
   "source": [
    "1) Load the dataset from \"sklearn.datasets\""
   ]
  },
  {
   "cell_type": "code",
   "execution_count": null,
   "metadata": {
    "id": "n3VoeznCpaLo"
   },
   "outputs": [],
   "source": [
    "from sklearn.datasets import load_digits\n",
    "\n",
    "digits = load_digits()"
   ]
  },
  {
   "cell_type": "markdown",
   "metadata": {
    "id": "QZFG2PIYpaUV"
   },
   "source": [
    "2) Plot some of the observations  (add in the title the label/digit of that obserbation)"
   ]
  },
  {
   "cell_type": "code",
   "execution_count": null,
   "metadata": {
    "id": "cm64mjD6pacq"
   },
   "outputs": [
    {
     "data": {
      "image/png": "[encoded data removed]",
      "text/plain": [
       "<Figure size 1000x500 with 10 Axes>"
      ]
     },
     "metadata": {},
     "output_type": "display_data"
    }
   ],
   "source": [
    "fig, axes = plt.subplots(2, 5, figsize=(10, 5)) \n",
    "for i, ax in enumerate(axes.flat):\n",
    "    ax.imshow(digits.images[i], cmap=\"gray\") \n",
    "    ax.set_title(f\"Digit: {digits.target[i]}\") \n",
    "    ax.axis(\"off\")"
   ]
  },
  {
   "cell_type": "markdown",
   "metadata": {
    "id": "4afAEcdipeXR"
   },
   "source": [
    "3) Split the dataset in train and test"
   ]
  },
  {
   "cell_type": "code",
   "execution_count": null,
   "metadata": {
    "id": "MQ_S37HepedT"
   },
   "outputs": [],
   "source": [
    "from sklearn.model_selection import train_test_split\n",
    "X_train, X_test, y_train, y_test = train_test_split(\n",
    "    digits.data, digits.target, test_size=0.2, random_state=42\n",
    ")"
   ]
  },
  {
   "cell_type": "markdown",
   "metadata": {
    "id": "rCcrooD7pyma"
   },
   "source": [
    "4) Tune a classifier (Use the train set) in the following cases:\n",
    "\n",
    "* ClassifierAll: Using all 64 variables/pixels/features\n",
    "\n",
    "* Classifier1col: Using only the 8 variables/pixels/features from the firt column\n",
    "\n",
    "* Classifier4col: Using only the 8 variables/pixels/features from the fourth column\n",
    "\n",
    "* Classifier8col: Using only the 8 variables/pixels/\n",
    "features from the eighth column\n",
    "\n",
    "Note: in these four cases always use the same classification algorithm, e.g., a Suport Vector Machine\n"
   ]
  },
  {
   "cell_type": "code",
   "execution_count": null,
   "metadata": {
    "id": "fD1C-p42pyr9"
   },
   "outputs": [],
   "source": [
    "from sklearn.svm import SVC\n",
    "from sklearn.metrics import accuracy_score\n",
    "\n",
    "svm_model = SVC(kernel='linear', random_state=42)\n",
    "\n",
    "svm_model.fit(X_train, y_train)\n",
    "y_pred_all = svm_model.predict(X_test)\n",
    "accuracy_all = accuracy_score(y_test, y_pred_all)\n",
    "\n",
    "X_train_1col, X_test_1col = X_train[:, 0:8], X_test[:, 0:8]\n",
    "svm_model.fit(X_train_1col, y_train)\n",
    "y_pred_1col = svm_model.predict(X_test_1col)\n",
    "accuracy_1col = accuracy_score(y_test, y_pred_1col)\n",
    "\n",
    "X_train_4col, X_test_4col = X_train[:, 24:32], X_test[:, 24:32]\n",
    "svm_model.fit(X_train_4col, y_train)\n",
    "y_pred_4col = svm_model.predict(X_test_4col)\n",
    "accuracy_4col = accuracy_score(y_test, y_pred_4col)\n",
    "\n",
    "X_train_8col, X_test_8col = X_train[:, 56:64], X_test[:, 56:64]\n",
    "svm_model.fit(X_train_8col, y_train)\n",
    "y_pred_8col = svm_model.predict(X_test_8col)\n",
    "accuracy_8col = accuracy_score(y_test, y_pred_8col)\n"
   ]
  },
  {
   "cell_type": "markdown",
   "metadata": {
    "id": "Lp7k2_Qep5Rx"
   },
   "source": [
    "5) Make predictions (use the test set)"
   ]
  },
  {
   "cell_type": "code",
   "execution_count": null,
   "metadata": {
    "id": "ppax-YPip5Xp"
   },
   "outputs": [
    {
     "name": "stdout",
     "output_type": "stream",
     "text": [
      "Performance using all features:\n",
      "              precision    recall  f1-score   support\n",
      "\n",
      "           0       1.00      1.00      1.00        33\n",
      "           1       0.97      1.00      0.98        28\n",
      "           2       1.00      1.00      1.00        33\n",
      "           3       0.97      0.94      0.96        34\n",
      "           4       0.98      0.98      0.98        46\n",
      "           5       0.96      1.00      0.98        47\n",
      "           6       1.00      1.00      1.00        35\n",
      "           7       0.97      0.97      0.97        34\n",
      "           8       1.00      0.97      0.98        30\n",
      "           9       0.95      0.93      0.94        40\n",
      "\n",
      "    accuracy                           0.98       360\n",
      "   macro avg       0.98      0.98      0.98       360\n",
      "weighted avg       0.98      0.98      0.98       360\n",
      "\n",
      "\n",
      "Performance using first column:\n",
      "              precision    recall  f1-score   support\n",
      "\n",
      "           0       0.25      0.39      0.30        33\n",
      "           1       0.26      0.32      0.29        28\n",
      "           2       0.39      0.45      0.42        33\n",
      "           3       0.29      0.38      0.33        34\n",
      "           4       0.76      0.63      0.69        46\n",
      "           5       0.77      0.49      0.60        47\n",
      "           6       0.37      0.66      0.47        35\n",
      "           7       0.52      0.50      0.51        34\n",
      "           8       0.12      0.07      0.09        30\n",
      "           9       0.40      0.10      0.16        40\n",
      "\n",
      "    accuracy                           0.41       360\n",
      "   macro avg       0.41      0.40      0.39       360\n",
      "weighted avg       0.44      0.41      0.41       360\n",
      "\n",
      "\n",
      "Performance using fourth column:\n",
      "              precision    recall  f1-score   support\n",
      "\n",
      "           0       0.79      0.94      0.86        33\n",
      "           1       0.29      0.43      0.35        28\n",
      "           2       0.59      0.73      0.65        33\n",
      "           3       0.56      0.65      0.60        34\n",
      "           4       0.75      0.72      0.73        46\n",
      "           5       0.69      0.62      0.65        47\n",
      "           6       0.76      0.83      0.79        35\n",
      "           7       0.62      0.53      0.57        34\n",
      "           8       0.25      0.07      0.11        30\n",
      "           9       0.64      0.62      0.63        40\n",
      "\n",
      "    accuracy                           0.62       360\n",
      "   macro avg       0.60      0.61      0.59       360\n",
      "weighted avg       0.61      0.62      0.61       360\n",
      "\n",
      "\n",
      "Performance using eighth column:\n",
      "              precision    recall  f1-score   support\n",
      "\n",
      "           0       0.30      0.48      0.37        33\n",
      "           1       0.42      0.39      0.41        28\n",
      "           2       0.70      0.42      0.53        33\n",
      "           3       0.39      0.65      0.49        34\n",
      "           4       0.75      0.72      0.73        46\n",
      "           5       0.54      0.47      0.50        47\n",
      "           6       0.52      0.74      0.61        35\n",
      "           7       0.61      0.88      0.72        34\n",
      "           8       0.00      0.00      0.00        30\n",
      "           9       0.26      0.12      0.17        40\n",
      "\n",
      "    accuracy                           0.50       360\n",
      "   macro avg       0.45      0.49      0.45       360\n",
      "weighted avg       0.46      0.50      0.47       360\n",
      "\n"
     ]
    }
   ],
   "source": [
    "from sklearn.metrics import classification_report\n",
    "\n",
    "print(\"Performance using all features:\")\n",
    "print(classification_report(y_test, y_pred_all))\n",
    "\n",
    "print(\"\\nPerformance using first column:\")\n",
    "print(classification_report(y_test, y_pred_1col))\n",
    "\n",
    "print(\"\\nPerformance using fourth column:\")\n",
    "print(classification_report(y_test, y_pred_4col))\n",
    "\n",
    "print(\"\\nPerformance using eighth column:\")\n",
    "print(classification_report(y_test, y_pred_8col))\n"
   ]
  },
  {
   "cell_type": "markdown",
   "metadata": {
    "id": "Ih9AsREhqJ-o"
   },
   "source": [
    "6) Compute performance metrics"
   ]
  },
  {
   "cell_type": "code",
   "execution_count": null,
   "metadata": {
    "id": "kOI4rj5EqKGC"
   },
   "outputs": [
    {
     "name": "stdout",
     "output_type": "stream",
     "text": [
      "Performance using all features:\n",
      "              precision    recall  f1-score   support\n",
      "\n",
      "           0       1.00      1.00      1.00        33\n",
      "           1       0.97      1.00      0.98        28\n",
      "           2       1.00      1.00      1.00        33\n",
      "           3       0.97      0.94      0.96        34\n",
      "           4       0.98      0.98      0.98        46\n",
      "           5       0.96      1.00      0.98        47\n",
      "           6       1.00      1.00      1.00        35\n",
      "           7       0.97      0.97      0.97        34\n",
      "           8       1.00      0.97      0.98        30\n",
      "           9       0.95      0.93      0.94        40\n",
      "\n",
      "    accuracy                           0.98       360\n",
      "   macro avg       0.98      0.98      0.98       360\n",
      "weighted avg       0.98      0.98      0.98       360\n",
      "\n",
      "\n",
      "Performance using first column:\n",
      "              precision    recall  f1-score   support\n",
      "\n",
      "           0       0.25      0.39      0.30        33\n",
      "           1       0.26      0.32      0.29        28\n",
      "           2       0.39      0.45      0.42        33\n",
      "           3       0.29      0.38      0.33        34\n",
      "           4       0.76      0.63      0.69        46\n",
      "           5       0.77      0.49      0.60        47\n",
      "           6       0.37      0.66      0.47        35\n",
      "           7       0.52      0.50      0.51        34\n",
      "           8       0.12      0.07      0.09        30\n",
      "           9       0.40      0.10      0.16        40\n",
      "\n",
      "    accuracy                           0.41       360\n",
      "   macro avg       0.41      0.40      0.39       360\n",
      "weighted avg       0.44      0.41      0.41       360\n",
      "\n",
      "\n",
      "Performance using fourth column:\n",
      "              precision    recall  f1-score   support\n",
      "\n",
      "           0       0.79      0.94      0.86        33\n",
      "           1       0.29      0.43      0.35        28\n",
      "           2       0.59      0.73      0.65        33\n",
      "           3       0.56      0.65      0.60        34\n",
      "           4       0.75      0.72      0.73        46\n",
      "           5       0.69      0.62      0.65        47\n",
      "           6       0.76      0.83      0.79        35\n",
      "           7       0.62      0.53      0.57        34\n",
      "           8       0.25      0.07      0.11        30\n",
      "           9       0.64      0.62      0.63        40\n",
      "\n",
      "    accuracy                           0.62       360\n",
      "   macro avg       0.60      0.61      0.59       360\n",
      "weighted avg       0.61      0.62      0.61       360\n",
      "\n",
      "\n",
      "Performance using eighth column:\n",
      "              precision    recall  f1-score   support\n",
      "\n",
      "           0       0.30      0.48      0.37        33\n",
      "           1       0.42      0.39      0.41        28\n",
      "           2       0.70      0.42      0.53        33\n",
      "           3       0.39      0.65      0.49        34\n",
      "           4       0.75      0.72      0.73        46\n",
      "           5       0.54      0.47      0.50        47\n",
      "           6       0.52      0.74      0.61        35\n",
      "           7       0.61      0.88      0.72        34\n",
      "           8       0.00      0.00      0.00        30\n",
      "           9       0.26      0.12      0.17        40\n",
      "\n",
      "    accuracy                           0.50       360\n",
      "   macro avg       0.45      0.49      0.45       360\n",
      "weighted avg       0.46      0.50      0.47       360\n",
      "\n"
     ]
    }
   ],
   "source": [
    "from sklearn.metrics import classification_report\n",
    "\n",
    "print(\"Performance using all features:\")\n",
    "print(classification_report(y_test, y_pred_all))\n",
    "\n",
    "print(\"\\nPerformance using first column:\")\n",
    "print(classification_report(y_test, y_pred_1col))\n",
    "\n",
    "print(\"\\nPerformance using fourth column:\")\n",
    "print(classification_report(y_test, y_pred_4col))\n",
    "\n",
    "print(\"\\nPerformance using eighth column:\")\n",
    "print(classification_report(y_test, y_pred_8col))\n"
   ]
  },
  {
   "cell_type": "markdown",
   "metadata": {
    "id": "T0OmHtvKpemW"
   },
   "source": [
    "7) Verify your results. Plot several observations from the same digit and add in the title the real label and the estimated label to check in what observations the classification was correct or incorrect"
   ]
  },
  {
   "cell_type": "code",
   "execution_count": null,
   "metadata": {
    "id": "lwWSH_5JperD"
   },
   "outputs": [
    {
     "data": {
      "image/png": "[encoded data removed]",
      "text/plain": [
       "<Figure size 1000x500 with 10 Axes>"
      ]
     },
     "metadata": {},
     "output_type": "display_data"
    }
   ],
   "source": [
    "import matplotlib.pyplot as plt\n",
    "import numpy as np\n",
    "\n",
    "num_samples = 10  \n",
    "indices = np.random.choice(len(X_test), num_samples, replace=False)\n",
    "\n",
    "plt.figure(figsize=(10, 5))\n",
    "for i, idx in enumerate(indices):\n",
    "    plt.subplot(2, 5, i + 1)\n",
    "    plt.imshow(X_test[idx].reshape(8, 8), cmap='gray') \n",
    "    plt.title(f\"True: {y_test[idx]}\\nPred: {y_pred_all[idx]}\")\n",
    "    plt.axis(\"off\")\n",
    "\n"
   ]
  },
  {
   "cell_type": "markdown",
   "metadata": {
    "id": "xAlvUj1dpdSk"
   },
   "source": [
    "### Questions\n",
    "\n",
    "Provides a detailed description of your results (e.g., in which case the classification performance is better, with ClassifierAll, Classifier1col, Classifier4col, or Classifier8col).\n",
    "\n",
    "Your response (argue your response): In all cases the only one that reaches a 1 in the various performance metrics is Classifier All, between the other ones they vary a lot but Classifier All is the best one by far."
   ]
  },
  {
   "cell_type": "markdown",
   "metadata": {
    "id": "qW1yhCYCc10Y"
   },
   "source": [
    "# PART 4\n",
    "\n",
    "## Descripción de tu percepcion del nivel de desarrollo de la subcompetencia\n",
    "\n",
    "### SING0202A Interpretación de variables\n"
   ]
  },
  {
   "cell_type": "markdown",
   "metadata": {
    "id": "kJLR4iumc10Y"
   },
   "source": [
    "Escribe tu description del nivel de logro del siguiente criterio de la subcompetencia\n",
    "\n",
    "**Interpreta interacciones**. Interpreta interacciones entre variables relevantes en un problema, como base para la construcción de modelos bivariados basados en datos de un fenómeno investigado que le permita reproducir la respuesta del mismo."
   ]
  },
  {
   "cell_type": "markdown",
   "metadata": {
    "id": "aeAR4f53c10Y"
   },
   "source": [
    "Tu respuesta: Tengo un dominio total a la hora de interpretar las interacciones en una base de datos. Puedo analizar de manera clara de que tratan esos datos y relacionarlos para crear una solucion."
   ]
  },
  {
   "cell_type": "markdown",
   "metadata": {
    "id": "6edjQj1Dc10Y"
   },
   "source": [
    "Escribe tu description del nivel de logro del siguiente criterio de la subcompetencia\n",
    "\n",
    "**Construcción de modelos**. Es capaz de construir modelos bivariados que expliquen el comportamiento de un fenómeno."
   ]
  },
  {
   "cell_type": "markdown",
   "metadata": {
    "id": "thc32Ajkc10Y"
   },
   "source": [
    "Tu respuesta: Creo que puedo comprender claramente el codigo sobre estos modelos a nivel teorico pero aun no creo haber dominado la construccion de estos modelos."
   ]
  }
 ],
 "metadata": {
  "colab": {
   "provenance": [],
   "toc_visible": true
  },
  "kernelspec": {
   "display_name": "Python 3",
   "language": "python",
   "name": "python3"
  },
  "language_info": {
   "codemirror_mode": {
    "name": "ipython",
    "version": 3
   },
   "file_extension": ".py",
   "mimetype": "text/x-python",
   "name": "python",
   "nbconvert_exporter": "python",
   "pygments_lexer": "ipython3",
   "version": "3.11.4"
  }
 },
 "nbformat": 4,
 "nbformat_minor": 0
}
