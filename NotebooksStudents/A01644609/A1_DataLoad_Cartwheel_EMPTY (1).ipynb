{
  "cells": [
    {
      "cell_type": "markdown",
      "metadata": {
        "id": "u0MPe62dYgl0"
      },
      "source": [
        "# Undertanding the cartwheel data set\n",
        "\n",
        "The notebook aims to undertand the content of the cartwheel data set.\n",
        "\n",
        "\n",
        "## Acknowledgments\n",
        "\n",
        "- Data from https://www.coursera.org/ from the course \"Understanding and Visualizing Data with Python\" by University of Michigan\n"
      ]
    },
    {
      "cell_type": "markdown",
      "metadata": {
        "id": "30s2UXlPYgl4"
      },
      "source": [
        "# Cartwheel data set\n",
        "\n",
        "1. A cartwheel\n",
        "\n",
        "\n",
        "2. The dataset description\n",
        "    - The dataset used here is an extension from the original cartwheel dataset from cursera\n",
        "    - Total numer of observations: 28\n",
        "    - Many observations/measurements/recordings of the characteristics/attributes/variables of cartwheel executions\n",
        "    - Variables: Age, Gender, GenderGroup, Glasses, GlassesGroup, Height, Wingspan, CWDistance, ... (X variables)\n",
        "    \n"
      ]
    },
    {
      "cell_type": "markdown",
      "metadata": {
        "id": "xmSEe706Ygl5"
      },
      "source": [
        "# Importing and inspecting the data"
      ]
    },
    {
      "cell_type": "code",
      "execution_count": 7,
      "metadata": {
        "id": "wksMvHQBYjRu",
        "colab": {
          "base_uri": "https://localhost:8080/"
        },
        "outputId": "7d5febd5-2653-4743-9049-df71d6503117"
      },
      "outputs": [
        {
          "output_type": "stream",
          "name": "stdout",
          "text": [
            "Drive already mounted at /content/drive; to attempt to forcibly remount, call drive.mount(\"/content/drive\", force_remount=True).\n"
          ]
        }
      ],
      "source": [
        "# Definir si se ejecuta en Google Colab o localmente\n",
        "RunInColab = True  # (False: no  | True: sí)\n",
        "\n",
        "# Si se ejecuta en Google Colab:\n",
        "if RunInColab:\n",
        "    from google.colab import drive\n",
        "    drive.mount('/content/drive')\n",
        "\n",
        "    # Definir la ruta del archivo en la carpeta NotebooksProfessor\n",
        "    Ruta = \"/content/drive/My Drive/NotebooksProfessor/\"\n",
        "\n",
        "else:\n",
        "    # Si se ejecuta localmente, definir la ruta donde se encuentra el archivo\n",
        "    Ruta = \"\""
      ]
    },
    {
      "cell_type": "code",
      "execution_count": 8,
      "metadata": {
        "id": "fyR3iS-uYgl5"
      },
      "outputs": [],
      "source": [
        "import pandas as pd\n",
        "import numpy as np\n",
        "import matplotlib.pyplot as plt\n",
        "import seaborn as sns\n",
        "\n",
        "url  = Ruta + \"cartwheel.csv\"\n",
        "df = pd.read_csv(url)"
      ]
    },
    {
      "cell_type": "code",
      "execution_count": 10,
      "metadata": {
        "id": "j614eRL1Ygl6",
        "colab": {
          "base_uri": "https://localhost:8080/"
        },
        "outputId": "0dc1745e-ee4f-4a54-efbb-fa573cf8e60d"
      },
      "outputs": [
        {
          "output_type": "stream",
          "name": "stdout",
          "text": [
            "    ID   Age Gender  GenderGroup Glasses  GlassesGroup  Height  Wingspan  \\\n",
            "0    1  56.0      F            1       Y             1   62.00      61.0   \n",
            "1    2  26.0      F            1       Y             1   62.00      60.0   \n",
            "2    3  33.0      F            1       Y             1   66.00      64.0   \n",
            "3    4  39.0      F            1       N             0   64.00      63.0   \n",
            "4    5  27.0      M            2       N             0   73.00      75.0   \n",
            "5    6  24.0      M            2       N             0   75.00      71.0   \n",
            "6    7  28.0      M            2       N             0   75.00      76.0   \n",
            "7    8  22.0      F            1       N             0   65.00      62.0   \n",
            "8    9  29.0      M            2       Y             1   74.00      73.0   \n",
            "9   10  33.0      F            1       Y             1   63.00      60.0   \n",
            "10  11  30.0      M            2       Y             1   69.50      66.0   \n",
            "11  12  28.0      F            1       Y             1   62.75      58.0   \n",
            "12  13  25.0      F            1       Y             1   65.00      64.5   \n",
            "13  14  23.0      F            1       N             0   61.50      57.5   \n",
            "14  15  31.0      M            2       Y             1   73.00      74.0   \n",
            "15  16  26.0      M            2       Y             1   71.00      72.0   \n",
            "16  17  26.0      F            1       N             0   61.50      59.5   \n",
            "17  18  27.0      M            2       N             0   66.00      66.0   \n",
            "18  19  23.0      M            2       Y             1   70.00      69.0   \n",
            "19  20  24.0      F            1       Y             1   68.00      66.0   \n",
            "20  21  23.0      M            2       Y             1   69.00      67.0   \n",
            "21  22  29.0      M            2       N             0   71.00      70.0   \n",
            "22  23  25.0      M            2       N             0   70.00      68.0   \n",
            "23  24  26.0      M            2       N             0   69.00      71.0   \n",
            "24  25  23.0      F            1       Y             1   65.00      63.0   \n",
            "25  26  28.0      M            2       N             0   75.00      76.0   \n",
            "26  27  24.0      M            2       N             0   78.40      71.0   \n",
            "27  28  25.0      M            2       Y             1   76.00      73.0   \n",
            "28  29  32.0      F            1       Y             1   63.00      60.0   \n",
            "29  30  38.0      F            1       Y             1   61.50      61.0   \n",
            "30  31  27.0      F            1       Y             1   62.00      60.0   \n",
            "31  32  33.0      F            1       Y             1   65.30      64.0   \n",
            "32  33  38.0      F            1       N             0   64.00      63.0   \n",
            "33  34  27.0      M            2       N             0   77.00      75.0   \n",
            "34  35  24.0      F            1       N             0   67.80      62.0   \n",
            "35  36  27.0      M            2       N             0   68.00      66.0   \n",
            "36  37  25.0      F            1       Y             1   65.00      64.5   \n",
            "37  38  26.0      F            1       N             0   61.50      59.5   \n",
            "38  39  31.0      M            2       Y             1   73.00      74.0   \n",
            "39  40  30.0      M            2       Y             1   69.50      66.0   \n",
            "40  41  23.0      F            1       N             0   70.40      71.0   \n",
            "41  42  26.0      M            2       Y             1   73.50      72.0   \n",
            "42  43  28.0      F            1       Y             1   72.50      72.0   \n",
            "43  44  26.0      F            1       Y             1   72.00      72.0   \n",
            "44  45  30.0      F            1       Y             1   66.00      64.0   \n",
            "45  46  39.0      F            1       N             0   64.00      63.0   \n",
            "46  47  27.0      M            2       N             0   78.00      75.0   \n",
            "47  48  24.0      M            2       N             0   79.50      75.0   \n",
            "48  49  28.0      M            2       N             0   77.80      76.0   \n",
            "49  50  30.0      F            1       N             0   74.60       NaN   \n",
            "50  51   NaN      M            2       N             0   71.00      70.0   \n",
            "51  52  27.0      M            2       N             0     NaN      71.5   \n",
            "\n",
            "    CWDistance Complete  CompleteGroup  Score  \n",
            "0           79        Y            1.0      7  \n",
            "1           70        Y            1.0      8  \n",
            "2           85        Y            1.0      7  \n",
            "3           87        Y            1.0     10  \n",
            "4           72        N            0.0      4  \n",
            "5           81        N            0.0      3  \n",
            "6          107        Y            1.0     10  \n",
            "7           98        Y            1.0      9  \n",
            "8          106        N            0.0      5  \n",
            "9           65        Y            1.0      8  \n",
            "10          96        Y            1.0      6  \n",
            "11          79        Y            1.0     10  \n",
            "12          92        Y            1.0      6  \n",
            "13          66        Y            1.0      4  \n",
            "14          72        Y            1.0      9  \n",
            "15         115        Y            1.0      6  \n",
            "16          90        N            0.0     10  \n",
            "17          74        Y            1.0      5  \n",
            "18          64        Y            1.0      3  \n",
            "19          85        Y            1.0      8  \n",
            "20          66        N            0.0      2  \n",
            "21         101        Y            1.0      8  \n",
            "22          82        Y            1.0      4  \n",
            "23          63        Y            1.0      5  \n",
            "24          67        N            0.0      3  \n",
            "25         111        Y            1.0     10  \n",
            "26          92        Y            1.0      7  \n",
            "27         107        Y            1.0      8  \n",
            "28          75        Y            1.0      8  \n",
            "29          78        Y            1.0      7  \n",
            "30          72        Y            1.0      8  \n",
            "31          91        Y            1.0      7  \n",
            "32          86        Y            1.0     10  \n",
            "33         100        Y            1.0      8  \n",
            "34          98        Y            1.0      9  \n",
            "35          74        Y            1.0      5  \n",
            "36          92        Y            1.0      6  \n",
            "37          90        Y            1.0      9  \n",
            "38          72        Y            1.0      9  \n",
            "39          96        Y            1.0      6  \n",
            "40          66        Y            1.0      4  \n",
            "41         115        Y            1.0      6  \n",
            "42          81        Y            1.0     10  \n",
            "43          92        Y            1.0      8  \n",
            "44          85        Y            1.0      7  \n",
            "45          87        Y            1.0     10  \n",
            "46          72        N            0.0      7  \n",
            "47          82        N            0.0      8  \n",
            "48          99        Y            1.0      9  \n",
            "49          71        Y            1.0      9  \n",
            "50         101        Y            NaN      8  \n",
            "51         103        Y            1.0     10  \n"
          ]
        }
      ],
      "source": [
        "# Print the dataset\n",
        "print(df)\n"
      ]
    },
    {
      "cell_type": "code",
      "execution_count": 12,
      "metadata": {
        "id": "UHf53273Ygl7",
        "colab": {
          "base_uri": "https://localhost:8080/"
        },
        "outputId": "eaafe0e7-e182-46da-c09b-71b269fcb585"
      },
      "outputs": [
        {
          "output_type": "stream",
          "name": "stdout",
          "text": [
            "\n",
            "Número total de filas:\n",
            "52\n"
          ]
        }
      ],
      "source": [
        "# Print the number of rows\n",
        "\n",
        "print(\"\\nNúmero total de filas:\")\n",
        "print(df.shape[0])"
      ]
    },
    {
      "cell_type": "code",
      "execution_count": 13,
      "metadata": {
        "id": "oULLxV8eYgl7",
        "colab": {
          "base_uri": "https://localhost:8080/"
        },
        "outputId": "9a629099-2e7d-4e10-beec-ad8765baf430"
      },
      "outputs": [
        {
          "output_type": "stream",
          "name": "stdout",
          "text": [
            "\n",
            "Número total de columnas:\n",
            "12\n"
          ]
        }
      ],
      "source": [
        "# Print the number of columns\n",
        "\n",
        "print(\"\\nNúmero total de columnas:\")\n",
        "print(df.shape[1])\n"
      ]
    },
    {
      "cell_type": "markdown",
      "source": [
        "# Data types"
      ],
      "metadata": {
        "id": "Ucha2CMGuF8A"
      }
    },
    {
      "cell_type": "code",
      "source": [
        "print(\"\\nTipos de datos de cada variable:\")\n",
        "print(df.dtypes)"
      ],
      "metadata": {
        "id": "xOA1m-EVuMxz",
        "colab": {
          "base_uri": "https://localhost:8080/"
        },
        "outputId": "d6593948-ed38-4989-b40c-abf78c7a0e42"
      },
      "execution_count": 26,
      "outputs": [
        {
          "output_type": "stream",
          "name": "stdout",
          "text": [
            "\n",
            "Tipos de datos de cada variable:\n",
            "ID                 int64\n",
            "Age              float64\n",
            "Gender            object\n",
            "GenderGroup        int64\n",
            "Glasses           object\n",
            "GlassesGroup       int64\n",
            "Height           float64\n",
            "Wingspan         float64\n",
            "CWDistance         int64\n",
            "Complete          object\n",
            "CompleteGroup    float64\n",
            "Score              int64\n",
            "dtype: object\n"
          ]
        }
      ]
    },
    {
      "cell_type": "markdown",
      "metadata": {
        "id": "wQIcyogKYgl8"
      },
      "source": [
        "# Activity: work with the iris dataset\n",
        "\n",
        "1. Load the iris.csv file in your computer and understand the dataset\n",
        "\n",
        "\n",
        "2. How many observations (rows) are in total?\n",
        "\n",
        "\n",
        "3. How many variables (columns) are in total? What do they represent?\n",
        "\n",
        "\n",
        "4. How many observations are for each type of flower?\n",
        "\n",
        "\n",
        "5. What is the type of data for each variable?\n",
        "\n",
        "\n",
        "6. What are the units of each variable?\n"
      ]
    },
    {
      "cell_type": "code",
      "execution_count": 18,
      "metadata": {
        "id": "fTHj_8jsYgl8"
      },
      "outputs": [],
      "source": [
        "# Definir la ruta del archivo CSV\n",
        "url_1 = Ruta + \"iris.csv\"\n",
        "\n",
        "# Cargar el dataset\n",
        "df_1 = pd.read_csv(url_1)\n"
      ]
    },
    {
      "cell_type": "code",
      "source": [
        "# Mostrar las primeras filas del dataset\n",
        "print(\"Primeras filas del dataset:\")\n",
        "print(df_1.head())\n"
      ],
      "metadata": {
        "colab": {
          "base_uri": "https://localhost:8080/"
        },
        "id": "44kgM7h_5LYW",
        "outputId": "dfeb3d6c-c01b-403c-cc32-732a8afc167e"
      },
      "execution_count": 19,
      "outputs": [
        {
          "output_type": "stream",
          "name": "stdout",
          "text": [
            "Primeras filas del dataset:\n",
            "   sepal.length  sepal.width  petal.length  petal.width variety\n",
            "0           5.1          3.5           1.4          0.2  Setosa\n",
            "1           4.9          3.0           1.4          0.2  Setosa\n",
            "2           4.7          3.2           1.3          0.2  Setosa\n",
            "3           4.6          3.1           1.5          0.2  Setosa\n",
            "4           5.0          3.6           1.4          0.2  Setosa\n"
          ]
        }
      ]
    },
    {
      "cell_type": "code",
      "source": [
        "# Información del dataset\n",
        "print(\"\\nInformación del dataset:\")\n",
        "print(df_1.info())"
      ],
      "metadata": {
        "colab": {
          "base_uri": "https://localhost:8080/"
        },
        "id": "AiS7nnwQ5Ogl",
        "outputId": "7146b5ff-f32e-485f-e4ff-3c1f63e296c1"
      },
      "execution_count": 20,
      "outputs": [
        {
          "output_type": "stream",
          "name": "stdout",
          "text": [
            "\n",
            "Información del dataset:\n",
            "<class 'pandas.core.frame.DataFrame'>\n",
            "RangeIndex: 150 entries, 0 to 149\n",
            "Data columns (total 5 columns):\n",
            " #   Column        Non-Null Count  Dtype  \n",
            "---  ------        --------------  -----  \n",
            " 0   sepal.length  150 non-null    float64\n",
            " 1   sepal.width   150 non-null    float64\n",
            " 2   petal.length  150 non-null    float64\n",
            " 3   petal.width   150 non-null    float64\n",
            " 4   variety       150 non-null    object \n",
            "dtypes: float64(4), object(1)\n",
            "memory usage: 6.0+ KB\n",
            "None\n"
          ]
        }
      ]
    },
    {
      "cell_type": "code",
      "source": [
        "# Número total de observaciones (filas)\n",
        "print(\"\\nNúmero total de observaciones (filas):\")\n",
        "print(df_1.shape[0])"
      ],
      "metadata": {
        "colab": {
          "base_uri": "https://localhost:8080/"
        },
        "id": "nbhNqvou5RPV",
        "outputId": "11863f7a-095d-45cb-af9c-c0ff0540003c"
      },
      "execution_count": 21,
      "outputs": [
        {
          "output_type": "stream",
          "name": "stdout",
          "text": [
            "\n",
            "Número total de observaciones (filas):\n",
            "150\n"
          ]
        }
      ]
    },
    {
      "cell_type": "code",
      "source": [
        "# Número total de variables (columnas)\n",
        "print(\"\\nNúmero total de variables (columnas):\")\n",
        "print(df_1.shape[1])"
      ],
      "metadata": {
        "colab": {
          "base_uri": "https://localhost:8080/"
        },
        "id": "ZLAovm_J5TPd",
        "outputId": "a6dfb5d4-08bf-42e6-8c2c-0ee5cf69028d"
      },
      "execution_count": 22,
      "outputs": [
        {
          "output_type": "stream",
          "name": "stdout",
          "text": [
            "\n",
            "Número total de variables (columnas):\n",
            "5\n"
          ]
        }
      ]
    },
    {
      "cell_type": "code",
      "source": [
        "# Nombres de las columnas\n",
        "print(\"\\nNombres de las columnas:\")\n",
        "print(df_1.columns)"
      ],
      "metadata": {
        "colab": {
          "base_uri": "https://localhost:8080/"
        },
        "id": "CoXgnaBJ5X6Y",
        "outputId": "788ec77e-397e-49ae-eb4c-15a17b2b63a3"
      },
      "execution_count": 23,
      "outputs": [
        {
          "output_type": "stream",
          "name": "stdout",
          "text": [
            "\n",
            "Nombres de las columnas:\n",
            "Index(['sepal.length', 'sepal.width', 'petal.length', 'petal.width',\n",
            "       'variety'],\n",
            "      dtype='object')\n"
          ]
        }
      ]
    },
    {
      "cell_type": "code",
      "source": [
        "#Data Type\n",
        "print(\"\\nTipos de datos de cada variable:\")\n",
        "print(df_1.dtypes)"
      ],
      "metadata": {
        "colab": {
          "base_uri": "https://localhost:8080/"
        },
        "id": "ydfQawRk5Y8k",
        "outputId": "c76f3880-b40e-4962-d74a-0e78ee7930f6"
      },
      "execution_count": 24,
      "outputs": [
        {
          "output_type": "stream",
          "name": "stdout",
          "text": [
            "\n",
            "Tipos de datos de cada variable:\n",
            "sepal.length    float64\n",
            "sepal.width     float64\n",
            "petal.length    float64\n",
            "petal.width     float64\n",
            "variety          object\n",
            "dtype: object\n"
          ]
        }
      ]
    },
    {
      "cell_type": "code",
      "source": [
        "#Observaciones por especie\n",
        "print(\"\\nNúmero de observaciones por especie:\")\n",
        "print(df_1['variety'].value_counts())\n"
      ],
      "metadata": {
        "colab": {
          "base_uri": "https://localhost:8080/"
        },
        "id": "d3ZoBJxm5maR",
        "outputId": "83b9d58f-b118-436c-f700-8b75a151a077"
      },
      "execution_count": 25,
      "outputs": [
        {
          "output_type": "stream",
          "name": "stdout",
          "text": [
            "\n",
            "Número de observaciones por especie:\n",
            "variety\n",
            "Setosa        50\n",
            "Versicolor    50\n",
            "Virginica     50\n",
            "Name: count, dtype: int64\n"
          ]
        }
      ]
    },
    {
      "cell_type": "markdown",
      "source": [
        "# DATASET 3"
      ],
      "metadata": {
        "id": "iACumRqV59XM"
      }
    },
    {
      "cell_type": "code",
      "source": [
        "from sklearn.datasets import load_digits\n",
        "\n",
        "# Cargar el dataset de dígitos\n",
        "digits = load_digits()"
      ],
      "metadata": {
        "id": "4j_pCWgf6D7-"
      },
      "execution_count": 41,
      "outputs": []
    },
    {
      "cell_type": "code",
      "source": [
        "# Convertir el dataset en un DataFrame para facilitar el análisis\n",
        "df_2 = pd.DataFrame(digits.data, columns=[f\"pixel{i}\" for i in range(digits.data.shape[1])])\n",
        "df_2['target'] = digits.target  # Añadir la columna de etiquetas (dígitos)\n",
        "\n",
        "# Mostrar la información completa del dataset de manera compacta\n",
        "print(df_2.describe(include='all'))\n"
      ],
      "metadata": {
        "colab": {
          "base_uri": "https://localhost:8080/"
        },
        "id": "KKiB-zB69O-M",
        "outputId": "59f8edcf-f226-4dc4-bc59-cc1d423ecb2e"
      },
      "execution_count": 42,
      "outputs": [
        {
          "output_type": "stream",
          "name": "stdout",
          "text": [
            "       pixel0       pixel1       pixel2       pixel3       pixel4  \\\n",
            "count  1797.0  1797.000000  1797.000000  1797.000000  1797.000000   \n",
            "mean      0.0     0.303840     5.204786    11.835838    11.848080   \n",
            "std       0.0     0.907192     4.754826     4.248842     4.287388   \n",
            "min       0.0     0.000000     0.000000     0.000000     0.000000   \n",
            "25%       0.0     0.000000     1.000000    10.000000    10.000000   \n",
            "50%       0.0     0.000000     4.000000    13.000000    13.000000   \n",
            "75%       0.0     0.000000     9.000000    15.000000    15.000000   \n",
            "max       0.0     8.000000    16.000000    16.000000    16.000000   \n",
            "\n",
            "            pixel5       pixel6       pixel7       pixel8       pixel9  ...  \\\n",
            "count  1797.000000  1797.000000  1797.000000  1797.000000  1797.000000  ...   \n",
            "mean      5.781859     1.362270     0.129661     0.005565     1.993879  ...   \n",
            "std       5.666418     3.325775     1.037383     0.094222     3.196160  ...   \n",
            "min       0.000000     0.000000     0.000000     0.000000     0.000000  ...   \n",
            "25%       0.000000     0.000000     0.000000     0.000000     0.000000  ...   \n",
            "50%       4.000000     0.000000     0.000000     0.000000     0.000000  ...   \n",
            "75%      11.000000     0.000000     0.000000     0.000000     3.000000  ...   \n",
            "max      16.000000    16.000000    15.000000     2.000000    16.000000  ...   \n",
            "\n",
            "           pixel55      pixel56      pixel57      pixel58      pixel59  \\\n",
            "count  1797.000000  1797.000000  1797.000000  1797.000000  1797.000000   \n",
            "mean      0.206455     0.000556     0.279354     5.557596    12.089037   \n",
            "std       0.984401     0.023590     0.934302     5.103019     4.374694   \n",
            "min       0.000000     0.000000     0.000000     0.000000     0.000000   \n",
            "25%       0.000000     0.000000     0.000000     1.000000    11.000000   \n",
            "50%       0.000000     0.000000     0.000000     4.000000    13.000000   \n",
            "75%       0.000000     0.000000     0.000000    10.000000    16.000000   \n",
            "max      13.000000     1.000000     9.000000    16.000000    16.000000   \n",
            "\n",
            "           pixel60      pixel61      pixel62      pixel63       target  \n",
            "count  1797.000000  1797.000000  1797.000000  1797.000000  1797.000000  \n",
            "mean     11.809126     6.764051     2.067891     0.364496     4.490818  \n",
            "std       4.933947     5.900623     4.090548     1.860122     2.865304  \n",
            "min       0.000000     0.000000     0.000000     0.000000     0.000000  \n",
            "25%      10.000000     0.000000     0.000000     0.000000     2.000000  \n",
            "50%      14.000000     6.000000     0.000000     0.000000     4.000000  \n",
            "75%      16.000000    12.000000     2.000000     0.000000     7.000000  \n",
            "max      16.000000    16.000000    16.000000    16.000000     9.000000  \n",
            "\n",
            "[8 rows x 65 columns]\n"
          ]
        }
      ]
    },
    {
      "cell_type": "code",
      "source": [
        "# Información del dataset\n",
        "print(\"\\nInformación del dataset:\")\n",
        "print(df_2.info())"
      ],
      "metadata": {
        "colab": {
          "base_uri": "https://localhost:8080/"
        },
        "id": "jh8l6Hi59S2D",
        "outputId": "0de0d487-028f-4379-f1ff-2f49c3da8c56"
      },
      "execution_count": 35,
      "outputs": [
        {
          "output_type": "stream",
          "name": "stdout",
          "text": [
            "\n",
            "Información del dataset:\n",
            "<class 'pandas.core.frame.DataFrame'>\n",
            "RangeIndex: 1797 entries, 0 to 1796\n",
            "Data columns (total 65 columns):\n",
            " #   Column   Non-Null Count  Dtype  \n",
            "---  ------   --------------  -----  \n",
            " 0   pixel0   1797 non-null   float64\n",
            " 1   pixel1   1797 non-null   float64\n",
            " 2   pixel2   1797 non-null   float64\n",
            " 3   pixel3   1797 non-null   float64\n",
            " 4   pixel4   1797 non-null   float64\n",
            " 5   pixel5   1797 non-null   float64\n",
            " 6   pixel6   1797 non-null   float64\n",
            " 7   pixel7   1797 non-null   float64\n",
            " 8   pixel8   1797 non-null   float64\n",
            " 9   pixel9   1797 non-null   float64\n",
            " 10  pixel10  1797 non-null   float64\n",
            " 11  pixel11  1797 non-null   float64\n",
            " 12  pixel12  1797 non-null   float64\n",
            " 13  pixel13  1797 non-null   float64\n",
            " 14  pixel14  1797 non-null   float64\n",
            " 15  pixel15  1797 non-null   float64\n",
            " 16  pixel16  1797 non-null   float64\n",
            " 17  pixel17  1797 non-null   float64\n",
            " 18  pixel18  1797 non-null   float64\n",
            " 19  pixel19  1797 non-null   float64\n",
            " 20  pixel20  1797 non-null   float64\n",
            " 21  pixel21  1797 non-null   float64\n",
            " 22  pixel22  1797 non-null   float64\n",
            " 23  pixel23  1797 non-null   float64\n",
            " 24  pixel24  1797 non-null   float64\n",
            " 25  pixel25  1797 non-null   float64\n",
            " 26  pixel26  1797 non-null   float64\n",
            " 27  pixel27  1797 non-null   float64\n",
            " 28  pixel28  1797 non-null   float64\n",
            " 29  pixel29  1797 non-null   float64\n",
            " 30  pixel30  1797 non-null   float64\n",
            " 31  pixel31  1797 non-null   float64\n",
            " 32  pixel32  1797 non-null   float64\n",
            " 33  pixel33  1797 non-null   float64\n",
            " 34  pixel34  1797 non-null   float64\n",
            " 35  pixel35  1797 non-null   float64\n",
            " 36  pixel36  1797 non-null   float64\n",
            " 37  pixel37  1797 non-null   float64\n",
            " 38  pixel38  1797 non-null   float64\n",
            " 39  pixel39  1797 non-null   float64\n",
            " 40  pixel40  1797 non-null   float64\n",
            " 41  pixel41  1797 non-null   float64\n",
            " 42  pixel42  1797 non-null   float64\n",
            " 43  pixel43  1797 non-null   float64\n",
            " 44  pixel44  1797 non-null   float64\n",
            " 45  pixel45  1797 non-null   float64\n",
            " 46  pixel46  1797 non-null   float64\n",
            " 47  pixel47  1797 non-null   float64\n",
            " 48  pixel48  1797 non-null   float64\n",
            " 49  pixel49  1797 non-null   float64\n",
            " 50  pixel50  1797 non-null   float64\n",
            " 51  pixel51  1797 non-null   float64\n",
            " 52  pixel52  1797 non-null   float64\n",
            " 53  pixel53  1797 non-null   float64\n",
            " 54  pixel54  1797 non-null   float64\n",
            " 55  pixel55  1797 non-null   float64\n",
            " 56  pixel56  1797 non-null   float64\n",
            " 57  pixel57  1797 non-null   float64\n",
            " 58  pixel58  1797 non-null   float64\n",
            " 59  pixel59  1797 non-null   float64\n",
            " 60  pixel60  1797 non-null   float64\n",
            " 61  pixel61  1797 non-null   float64\n",
            " 62  pixel62  1797 non-null   float64\n",
            " 63  pixel63  1797 non-null   float64\n",
            " 64  target   1797 non-null   int64  \n",
            "dtypes: float64(64), int64(1)\n",
            "memory usage: 912.7 KB\n",
            "None\n"
          ]
        }
      ]
    },
    {
      "cell_type": "code",
      "source": [
        "# Mostrar las primeras filas\n",
        "print(\"\\nPrimeras filas del dataset:\")\n",
        "print(df_2.head())"
      ],
      "metadata": {
        "colab": {
          "base_uri": "https://localhost:8080/"
        },
        "id": "AFGHd8YJ9kc8",
        "outputId": "60e5dbd4-1313-4131-e433-cb69720de6ec"
      },
      "execution_count": 36,
      "outputs": [
        {
          "output_type": "stream",
          "name": "stdout",
          "text": [
            "\n",
            "Primeras filas del dataset:\n",
            "   pixel0  pixel1  pixel2  pixel3  pixel4  pixel5  pixel6  pixel7  pixel8  \\\n",
            "0     0.0     0.0     5.0    13.0     9.0     1.0     0.0     0.0     0.0   \n",
            "1     0.0     0.0     0.0    12.0    13.0     5.0     0.0     0.0     0.0   \n",
            "2     0.0     0.0     0.0     4.0    15.0    12.0     0.0     0.0     0.0   \n",
            "3     0.0     0.0     7.0    15.0    13.0     1.0     0.0     0.0     0.0   \n",
            "4     0.0     0.0     0.0     1.0    11.0     0.0     0.0     0.0     0.0   \n",
            "\n",
            "   pixel9  ...  pixel55  pixel56  pixel57  pixel58  pixel59  pixel60  pixel61  \\\n",
            "0     0.0  ...      0.0      0.0      0.0      6.0     13.0     10.0      0.0   \n",
            "1     0.0  ...      0.0      0.0      0.0      0.0     11.0     16.0     10.0   \n",
            "2     0.0  ...      0.0      0.0      0.0      0.0      3.0     11.0     16.0   \n",
            "3     8.0  ...      0.0      0.0      0.0      7.0     13.0     13.0      9.0   \n",
            "4     0.0  ...      0.0      0.0      0.0      0.0      2.0     16.0      4.0   \n",
            "\n",
            "   pixel62  pixel63  target  \n",
            "0      0.0      0.0       0  \n",
            "1      0.0      0.0       1  \n",
            "2      9.0      0.0       2  \n",
            "3      0.0      0.0       3  \n",
            "4      0.0      0.0       4  \n",
            "\n",
            "[5 rows x 65 columns]\n"
          ]
        }
      ]
    },
    {
      "cell_type": "code",
      "source": [
        "# Número total de observaciones (filas) y variables (columnas)\n",
        "print(\"\\nNúmero total de observaciones (filas) y columnas:\")\n",
        "print(df_2.shape)\n"
      ],
      "metadata": {
        "colab": {
          "base_uri": "https://localhost:8080/"
        },
        "id": "zwUEht7k9qr6",
        "outputId": "c1f5c4d3-c267-4b4f-c30d-3a286b394199"
      },
      "execution_count": 37,
      "outputs": [
        {
          "output_type": "stream",
          "name": "stdout",
          "text": [
            "\n",
            "Número total de observaciones (filas) y columnas:\n",
            "(1797, 65)\n"
          ]
        }
      ]
    },
    {
      "cell_type": "code",
      "source": [
        "# Nombres de las columnas\n",
        "print(\"\\nNombres de las columnas:\")\n",
        "print(df_2.columns)\n",
        "\n",
        "# Número de observaciones por etiqueta (dígito)\n",
        "print(\"\\nNúmero de observaciones por cada dígito:\")\n",
        "print(df_2['target'].value_counts())"
      ],
      "metadata": {
        "colab": {
          "base_uri": "https://localhost:8080/"
        },
        "id": "dWN2bN3V9soV",
        "outputId": "678bef21-1d7f-4b68-837f-ca0ed8457e34"
      },
      "execution_count": 38,
      "outputs": [
        {
          "output_type": "stream",
          "name": "stdout",
          "text": [
            "\n",
            "Nombres de las columnas:\n",
            "Index(['pixel0', 'pixel1', 'pixel2', 'pixel3', 'pixel4', 'pixel5', 'pixel6',\n",
            "       'pixel7', 'pixel8', 'pixel9', 'pixel10', 'pixel11', 'pixel12',\n",
            "       'pixel13', 'pixel14', 'pixel15', 'pixel16', 'pixel17', 'pixel18',\n",
            "       'pixel19', 'pixel20', 'pixel21', 'pixel22', 'pixel23', 'pixel24',\n",
            "       'pixel25', 'pixel26', 'pixel27', 'pixel28', 'pixel29', 'pixel30',\n",
            "       'pixel31', 'pixel32', 'pixel33', 'pixel34', 'pixel35', 'pixel36',\n",
            "       'pixel37', 'pixel38', 'pixel39', 'pixel40', 'pixel41', 'pixel42',\n",
            "       'pixel43', 'pixel44', 'pixel45', 'pixel46', 'pixel47', 'pixel48',\n",
            "       'pixel49', 'pixel50', 'pixel51', 'pixel52', 'pixel53', 'pixel54',\n",
            "       'pixel55', 'pixel56', 'pixel57', 'pixel58', 'pixel59', 'pixel60',\n",
            "       'pixel61', 'pixel62', 'pixel63', 'target'],\n",
            "      dtype='object')\n",
            "\n",
            "Número de observaciones por cada dígito:\n",
            "target\n",
            "3    183\n",
            "1    182\n",
            "5    182\n",
            "4    181\n",
            "6    181\n",
            "9    180\n",
            "7    179\n",
            "0    178\n",
            "2    177\n",
            "8    174\n",
            "Name: count, dtype: int64\n"
          ]
        }
      ]
    },
    {
      "cell_type": "code",
      "source": [
        "# Tipos de datos de cada variable\n",
        "print(\"\\nTipos de datos de cada variable:\")\n",
        "print(df_2.dtypes)"
      ],
      "metadata": {
        "colab": {
          "base_uri": "https://localhost:8080/"
        },
        "id": "SSE7pE8u9wVU",
        "outputId": "f624fd4a-b597-4edc-b8d3-817090a46e6c"
      },
      "execution_count": 39,
      "outputs": [
        {
          "output_type": "stream",
          "name": "stdout",
          "text": [
            "\n",
            "Tipos de datos de cada variable:\n",
            "pixel0     float64\n",
            "pixel1     float64\n",
            "pixel2     float64\n",
            "pixel3     float64\n",
            "pixel4     float64\n",
            "pixel5     float64\n",
            "pixel6     float64\n",
            "pixel7     float64\n",
            "pixel8     float64\n",
            "pixel9     float64\n",
            "pixel10    float64\n",
            "pixel11    float64\n",
            "pixel12    float64\n",
            "pixel13    float64\n",
            "pixel14    float64\n",
            "pixel15    float64\n",
            "pixel16    float64\n",
            "pixel17    float64\n",
            "pixel18    float64\n",
            "pixel19    float64\n",
            "pixel20    float64\n",
            "pixel21    float64\n",
            "pixel22    float64\n",
            "pixel23    float64\n",
            "pixel24    float64\n",
            "pixel25    float64\n",
            "pixel26    float64\n",
            "pixel27    float64\n",
            "pixel28    float64\n",
            "pixel29    float64\n",
            "pixel30    float64\n",
            "pixel31    float64\n",
            "pixel32    float64\n",
            "pixel33    float64\n",
            "pixel34    float64\n",
            "pixel35    float64\n",
            "pixel36    float64\n",
            "pixel37    float64\n",
            "pixel38    float64\n",
            "pixel39    float64\n",
            "pixel40    float64\n",
            "pixel41    float64\n",
            "pixel42    float64\n",
            "pixel43    float64\n",
            "pixel44    float64\n",
            "pixel45    float64\n",
            "pixel46    float64\n",
            "pixel47    float64\n",
            "pixel48    float64\n",
            "pixel49    float64\n",
            "pixel50    float64\n",
            "pixel51    float64\n",
            "pixel52    float64\n",
            "pixel53    float64\n",
            "pixel54    float64\n",
            "pixel55    float64\n",
            "pixel56    float64\n",
            "pixel57    float64\n",
            "pixel58    float64\n",
            "pixel59    float64\n",
            "pixel60    float64\n",
            "pixel61    float64\n",
            "pixel62    float64\n",
            "pixel63    float64\n",
            "target       int64\n",
            "dtype: object\n"
          ]
        }
      ]
    },
    {
      "cell_type": "code",
      "source": [
        "i = 2\n",
        "print(digits.images[i])"
      ],
      "metadata": {
        "colab": {
          "base_uri": "https://localhost:8080/"
        },
        "id": "7sB0WIhVD7kI",
        "outputId": "750d496f-5c84-47a5-feb8-c755e12ebaaa"
      },
      "execution_count": 54,
      "outputs": [
        {
          "output_type": "stream",
          "name": "stdout",
          "text": [
            "[[ 0.  0.  0.  4. 15. 12.  0.  0.]\n",
            " [ 0.  0.  3. 16. 15. 14.  0.  0.]\n",
            " [ 0.  0.  8. 13.  8. 16.  0.  0.]\n",
            " [ 0.  0.  1.  6. 15. 11.  0.  0.]\n",
            " [ 0.  1.  8. 13. 15.  1.  0.  0.]\n",
            " [ 0.  9. 16. 16.  5.  0.  0.  0.]\n",
            " [ 0.  3. 13. 16. 16. 11.  5.  0.]\n",
            " [ 0.  0.  0.  3. 11. 16.  9.  0.]]\n"
          ]
        }
      ]
    },
    {
      "cell_type": "code",
      "source": [
        "plt.imshow(digits.images[i], cmap='gray')\n",
        "plt.show()"
      ],
      "metadata": {
        "colab": {
          "base_uri": "https://localhost:8080/",
          "height": 430
        },
        "id": "krCk4B9tEhUf",
        "outputId": "9357fe34-d287-4fdf-a351-f7eaf4cedf0f"
      },
      "execution_count": 55,
      "outputs": [
        {
          "output_type": "display_data",
          "data": {
            "text/plain": [
              "<Figure size 640x480 with 1 Axes>"
            ],
            "image/png": "[encoded data removed]"
          },
          "metadata": {}
        }
      ]
    },
    {
      "cell_type": "code",
      "source": [
        "plt.imshow(digits.images[3], cmap='gray')\n",
        "plt.title(f\"Dígito: {digits.target[i]}\")\n",
        "plt.show()"
      ],
      "metadata": {
        "colab": {
          "base_uri": "https://localhost:8080/",
          "height": 453
        },
        "id": "Ss5iegUaFApl",
        "outputId": "5127f878-e229-4765-a233-d6ae48f4547b"
      },
      "execution_count": 60,
      "outputs": [
        {
          "output_type": "display_data",
          "data": {
            "text/plain": [
              "<Figure size 640x480 with 1 Axes>"
            ],
            "image/png": "[encoded data removed]"
          },
          "metadata": {}
        }
      ]
    }
  ],
  "metadata": {
    "colab": {
      "provenance": []
    },
    "kernelspec": {
      "display_name": "Python 3",
      "language": "python",
      "name": "python3"
    },
    "language_info": {
      "codemirror_mode": {
        "name": "ipython",
        "version": 3
      },
      "file_extension": ".py",
      "mimetype": "text/x-python",
      "name": "python",
      "nbconvert_exporter": "python",
      "pygments_lexer": "ipython3",
      "version": "3.8.3"
    }
  },
  "nbformat": 4,
  "nbformat_minor": 0
}