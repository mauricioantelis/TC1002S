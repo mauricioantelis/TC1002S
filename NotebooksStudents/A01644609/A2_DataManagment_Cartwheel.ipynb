{
  "cells": [
    {
      "cell_type": "markdown",
      "metadata": {
        "id": "GPScbsDWhjjS"
      },
      "source": [
        "# Data management using Pandas\n",
        "\n",
        "**Data management** is a crucial component to statistical analysis and data science work.\n",
        "\n",
        "This notebook will show you how to import, view, undertand, and manage your data using the [Pandas](http://pandas.pydata.org) data processing library, i.e., the notebook will demonstrates how to read a dataset into Python, and obtain a basic understanding of its content.\n",
        "\n",
        "Note that **Python** by itself is a general-purpose programming language and does not provide high-level data processing capabilities.  The **Pandas** library was developed to meet this need. **Pandas** is the most popular Python library for data manipulation, and we will use it extensively in this course. **Pandas** provides high-performance, easy-to-use data structures and data analysis tools.\n",
        "\n",
        "The main data structure that **Pandas** works with is called a **Data Frame**. This is a two-dimensional table of data in which the rows typically\n",
        "represent cases and the columns represent variables (e.g. data used in this tutorial).  Pandas also has a one-dimensional data structure called a **Series** that we will encounter when accesing a single column of a Data Frame.\n",
        "\n",
        "Pandas has a variety of functions named `read_xxx` for reading data in different formats.  Right now we will focus on reading `csv` files, which stands for comma-separated values. However the other file formats include `excel`, `json`, and `sql`.\n",
        "\n",
        "There are many other options to `read_csv` that are very useful.  For example, you would use the option `sep='\\t'` instead of the default `sep=','` if the fields of your data file are delimited by tabs instead of commas.  See [here](https://pandas.pydata.org/pandas-docs/stable/generated/pandas.read_csv.html) for the full documentation for `read_csv`.\n",
        "\n",
        "\n",
        "## Acknowledgments\n",
        "\n",
        "- The dataset used in this tutorial is from https://www.coursera.org/ from the course \"Understanding and Visualizing Data with Python\" by University of Michigan\n"
      ]
    },
    {
      "cell_type": "markdown",
      "metadata": {
        "id": "b9FN-daXhjjT"
      },
      "source": [
        "# Importing libraries\n"
      ]
    },
    {
      "cell_type": "code",
      "execution_count": 2,
      "metadata": {
        "id": "uRwVhX-YhjjU"
      },
      "outputs": [],
      "source": [
        "# Import the packages that we will be using\n",
        "import pandas as pd\n"
      ]
    },
    {
      "cell_type": "markdown",
      "metadata": {
        "id": "MbGKgakihjjg"
      },
      "source": [
        "# Importing data"
      ]
    },
    {
      "cell_type": "code",
      "source": [
        "# Definir si se ejecuta en Google Colab o localmente\n",
        "RunInColab = True  # (False: no  | True: sí)\n",
        "\n",
        "# Si se ejecuta en Google Colab:\n",
        "if RunInColab:\n",
        "    from google.colab import drive\n",
        "    drive.mount('/content/drive')\n",
        "\n",
        "    # Definir la ruta del archivo en la carpeta NotebooksProfessor\n",
        "    Ruta = \"/content/drive/My Drive/NotebooksProfessor/\"\n",
        "\n",
        "else:\n",
        "    # Si se ejecuta localmente, definir la ruta donde se encuentra el archivo\n",
        "    Ruta = \"\""
      ],
      "metadata": {
        "id": "QIpyBSfdcMjJ",
        "colab": {
          "base_uri": "https://localhost:8080/"
        },
        "outputId": "32de6e2d-0025-4684-fd7f-b478b168ab58"
      },
      "execution_count": 3,
      "outputs": [
        {
          "output_type": "stream",
          "name": "stdout",
          "text": [
            "Drive already mounted at /content/drive; to attempt to forcibly remount, call drive.mount(\"/content/drive\", force_remount=True).\n"
          ]
        }
      ]
    },
    {
      "cell_type": "code",
      "execution_count": 5,
      "metadata": {
        "id": "DXHHhj2jhjjg"
      },
      "outputs": [],
      "source": [
        "url = Ruta + \"cartwheel.csv\"\n",
        "\n",
        "# Read the csv file into a data frame\n",
        "df = pd.read_csv(url)\n"
      ]
    },
    {
      "cell_type": "markdown",
      "metadata": {
        "id": "hkKl8GApcJwL"
      },
      "source": [
        "If we want to print the information about th output object type we would simply type the following: type(df)"
      ]
    },
    {
      "cell_type": "code",
      "execution_count": 6,
      "metadata": {
        "id": "lBSUFAZ7cJwM",
        "colab": {
          "base_uri": "https://localhost:8080/"
        },
        "outputId": "008b7b3f-96d1-4155-fc63-b1cd446b33fa"
      },
      "outputs": [
        {
          "output_type": "stream",
          "name": "stdout",
          "text": [
            "<class 'pandas.core.frame.DataFrame'>\n"
          ]
        }
      ],
      "source": [
        "print(type(df))"
      ]
    },
    {
      "cell_type": "markdown",
      "metadata": {
        "id": "-TrO3YWShjjl"
      },
      "source": [
        "# Exploring the content of the data set\n",
        "\n",
        "Use the `shape` method to determine the numbers of rows and columns in a data frame. This can be used to confirm that we have actually obtained the data the we are expecting.\n",
        "\n",
        "Based on what we see below, the data set being read here has $N_r$ rows, corresponding to $N_r$ observations, and $N_c$ columns, corresponding to $N_c$ variables in this particular data file."
      ]
    },
    {
      "cell_type": "code",
      "execution_count": 7,
      "metadata": {
        "id": "9BOomVZBcJwM",
        "colab": {
          "base_uri": "https://localhost:8080/"
        },
        "outputId": "cc6a78d8-5d56-4031-b675-1638b7eebfd2"
      },
      "outputs": [
        {
          "output_type": "stream",
          "name": "stdout",
          "text": [
            "Nr (rows): 52, Nc (columns): 12\n"
          ]
        }
      ],
      "source": [
        "# Use the shape method to determine the number of rows and columns\n",
        "print(f\"Nr (rows): {df.shape[0]}, Nc (columns): {df.shape[1]}\")"
      ]
    },
    {
      "cell_type": "markdown",
      "metadata": {
        "id": "FyCc2caAcJwN"
      },
      "source": [
        "If we want to show the entire data frame we would simply write the following:"
      ]
    },
    {
      "cell_type": "code",
      "execution_count": 9,
      "metadata": {
        "id": "clB7ZnfOhjjq",
        "colab": {
          "base_uri": "https://localhost:8080/"
        },
        "outputId": "75bd5887-e7f5-40ce-8643-89ba528d2eaf"
      },
      "outputs": [
        {
          "output_type": "stream",
          "name": "stdout",
          "text": [
            "    ID   Age Gender  GenderGroup Glasses  GlassesGroup  Height  Wingspan  \\\n",
            "0    1  56.0      F            1       Y             1   62.00      61.0   \n",
            "1    2  26.0      F            1       Y             1   62.00      60.0   \n",
            "2    3  33.0      F            1       Y             1   66.00      64.0   \n",
            "3    4  39.0      F            1       N             0   64.00      63.0   \n",
            "4    5  27.0      M            2       N             0   73.00      75.0   \n",
            "5    6  24.0      M            2       N             0   75.00      71.0   \n",
            "6    7  28.0      M            2       N             0   75.00      76.0   \n",
            "7    8  22.0      F            1       N             0   65.00      62.0   \n",
            "8    9  29.0      M            2       Y             1   74.00      73.0   \n",
            "9   10  33.0      F            1       Y             1   63.00      60.0   \n",
            "10  11  30.0      M            2       Y             1   69.50      66.0   \n",
            "11  12  28.0      F            1       Y             1   62.75      58.0   \n",
            "12  13  25.0      F            1       Y             1   65.00      64.5   \n",
            "13  14  23.0      F            1       N             0   61.50      57.5   \n",
            "14  15  31.0      M            2       Y             1   73.00      74.0   \n",
            "15  16  26.0      M            2       Y             1   71.00      72.0   \n",
            "16  17  26.0      F            1       N             0   61.50      59.5   \n",
            "17  18  27.0      M            2       N             0   66.00      66.0   \n",
            "18  19  23.0      M            2       Y             1   70.00      69.0   \n",
            "19  20  24.0      F            1       Y             1   68.00      66.0   \n",
            "20  21  23.0      M            2       Y             1   69.00      67.0   \n",
            "21  22  29.0      M            2       N             0   71.00      70.0   \n",
            "22  23  25.0      M            2       N             0   70.00      68.0   \n",
            "23  24  26.0      M            2       N             0   69.00      71.0   \n",
            "24  25  23.0      F            1       Y             1   65.00      63.0   \n",
            "25  26  28.0      M            2       N             0   75.00      76.0   \n",
            "26  27  24.0      M            2       N             0   78.40      71.0   \n",
            "27  28  25.0      M            2       Y             1   76.00      73.0   \n",
            "28  29  32.0      F            1       Y             1   63.00      60.0   \n",
            "29  30  38.0      F            1       Y             1   61.50      61.0   \n",
            "30  31  27.0      F            1       Y             1   62.00      60.0   \n",
            "31  32  33.0      F            1       Y             1   65.30      64.0   \n",
            "32  33  38.0      F            1       N             0   64.00      63.0   \n",
            "33  34  27.0      M            2       N             0   77.00      75.0   \n",
            "34  35  24.0      F            1       N             0   67.80      62.0   \n",
            "35  36  27.0      M            2       N             0   68.00      66.0   \n",
            "36  37  25.0      F            1       Y             1   65.00      64.5   \n",
            "37  38  26.0      F            1       N             0   61.50      59.5   \n",
            "38  39  31.0      M            2       Y             1   73.00      74.0   \n",
            "39  40  30.0      M            2       Y             1   69.50      66.0   \n",
            "40  41  23.0      F            1       N             0   70.40      71.0   \n",
            "41  42  26.0      M            2       Y             1   73.50      72.0   \n",
            "42  43  28.0      F            1       Y             1   72.50      72.0   \n",
            "43  44  26.0      F            1       Y             1   72.00      72.0   \n",
            "44  45  30.0      F            1       Y             1   66.00      64.0   \n",
            "45  46  39.0      F            1       N             0   64.00      63.0   \n",
            "46  47  27.0      M            2       N             0   78.00      75.0   \n",
            "47  48  24.0      M            2       N             0   79.50      75.0   \n",
            "48  49  28.0      M            2       N             0   77.80      76.0   \n",
            "49  50  30.0      F            1       N             0   74.60       NaN   \n",
            "50  51   NaN      M            2       N             0   71.00      70.0   \n",
            "51  52  27.0      M            2       N             0     NaN      71.5   \n",
            "\n",
            "    CWDistance Complete  CompleteGroup  Score  \n",
            "0           79        Y            1.0      7  \n",
            "1           70        Y            1.0      8  \n",
            "2           85        Y            1.0      7  \n",
            "3           87        Y            1.0     10  \n",
            "4           72        N            0.0      4  \n",
            "5           81        N            0.0      3  \n",
            "6          107        Y            1.0     10  \n",
            "7           98        Y            1.0      9  \n",
            "8          106        N            0.0      5  \n",
            "9           65        Y            1.0      8  \n",
            "10          96        Y            1.0      6  \n",
            "11          79        Y            1.0     10  \n",
            "12          92        Y            1.0      6  \n",
            "13          66        Y            1.0      4  \n",
            "14          72        Y            1.0      9  \n",
            "15         115        Y            1.0      6  \n",
            "16          90        N            0.0     10  \n",
            "17          74        Y            1.0      5  \n",
            "18          64        Y            1.0      3  \n",
            "19          85        Y            1.0      8  \n",
            "20          66        N            0.0      2  \n",
            "21         101        Y            1.0      8  \n",
            "22          82        Y            1.0      4  \n",
            "23          63        Y            1.0      5  \n",
            "24          67        N            0.0      3  \n",
            "25         111        Y            1.0     10  \n",
            "26          92        Y            1.0      7  \n",
            "27         107        Y            1.0      8  \n",
            "28          75        Y            1.0      8  \n",
            "29          78        Y            1.0      7  \n",
            "30          72        Y            1.0      8  \n",
            "31          91        Y            1.0      7  \n",
            "32          86        Y            1.0     10  \n",
            "33         100        Y            1.0      8  \n",
            "34          98        Y            1.0      9  \n",
            "35          74        Y            1.0      5  \n",
            "36          92        Y            1.0      6  \n",
            "37          90        Y            1.0      9  \n",
            "38          72        Y            1.0      9  \n",
            "39          96        Y            1.0      6  \n",
            "40          66        Y            1.0      4  \n",
            "41         115        Y            1.0      6  \n",
            "42          81        Y            1.0     10  \n",
            "43          92        Y            1.0      8  \n",
            "44          85        Y            1.0      7  \n",
            "45          87        Y            1.0     10  \n",
            "46          72        N            0.0      7  \n",
            "47          82        N            0.0      8  \n",
            "48          99        Y            1.0      9  \n",
            "49          71        Y            1.0      9  \n",
            "50         101        Y            NaN      8  \n",
            "51         103        Y            1.0     10  \n"
          ]
        }
      ],
      "source": [
        "print(df)"
      ]
    },
    {
      "cell_type": "markdown",
      "metadata": {
        "id": "JxMPJW-OcJwO"
      },
      "source": [
        "As you can see, we have a 2-Dimensional object where each row is an independent observation and each coloum is a variable.\n",
        "\n",
        "Now, use the the `head()` function to show the first 5 rows of our data frame"
      ]
    },
    {
      "cell_type": "code",
      "execution_count": 10,
      "metadata": {
        "id": "IMgR30w4hjjl",
        "colab": {
          "base_uri": "https://localhost:8080/"
        },
        "outputId": "22a2df09-3b91-4e50-fa73-541e5aa46369"
      },
      "outputs": [
        {
          "output_type": "stream",
          "name": "stdout",
          "text": [
            "\n",
            "Primeras 5 filas del dataset:\n",
            "   ID   Age Gender  GenderGroup Glasses  GlassesGroup  Height  Wingspan  \\\n",
            "0   1  56.0      F            1       Y             1    62.0      61.0   \n",
            "1   2  26.0      F            1       Y             1    62.0      60.0   \n",
            "2   3  33.0      F            1       Y             1    66.0      64.0   \n",
            "3   4  39.0      F            1       N             0    64.0      63.0   \n",
            "4   5  27.0      M            2       N             0    73.0      75.0   \n",
            "\n",
            "   CWDistance Complete  CompleteGroup  Score  \n",
            "0          79        Y            1.0      7  \n",
            "1          70        Y            1.0      8  \n",
            "2          85        Y            1.0      7  \n",
            "3          87        Y            1.0     10  \n",
            "4          72        N            0.0      4  \n"
          ]
        }
      ],
      "source": [
        "print(\"\\nPrimeras 5 filas del dataset:\")\n",
        "print(df.head())"
      ]
    },
    {
      "cell_type": "markdown",
      "metadata": {
        "id": "oiWMoIUrcJwO"
      },
      "source": [
        "Also, you can use the the `tail()` function to show the last 5 rows of our data frame"
      ]
    },
    {
      "cell_type": "code",
      "execution_count": 11,
      "metadata": {
        "id": "gEBR6g19cJwO",
        "colab": {
          "base_uri": "https://localhost:8080/"
        },
        "outputId": "ef612fdb-139e-4b78-a023-0e28d9ac627a"
      },
      "outputs": [
        {
          "output_type": "stream",
          "name": "stdout",
          "text": [
            "\n",
            "Últimas 5 filas del dataset:\n",
            "    ID   Age Gender  GenderGroup Glasses  GlassesGroup  Height  Wingspan  \\\n",
            "47  48  24.0      M            2       N             0    79.5      75.0   \n",
            "48  49  28.0      M            2       N             0    77.8      76.0   \n",
            "49  50  30.0      F            1       N             0    74.6       NaN   \n",
            "50  51   NaN      M            2       N             0    71.0      70.0   \n",
            "51  52  27.0      M            2       N             0     NaN      71.5   \n",
            "\n",
            "    CWDistance Complete  CompleteGroup  Score  \n",
            "47          82        N            0.0      8  \n",
            "48          99        Y            1.0      9  \n",
            "49          71        Y            1.0      9  \n",
            "50         101        Y            NaN      8  \n",
            "51         103        Y            1.0     10  \n"
          ]
        }
      ],
      "source": [
        "print(\"\\nÚltimas 5 filas del dataset:\")\n",
        "print(df.tail())"
      ]
    },
    {
      "cell_type": "markdown",
      "metadata": {
        "id": "-F1DVbu4hjju"
      },
      "source": [
        "The columns in a Pandas data frame have names, to see the names, use the `columns` method:\n",
        "\n",
        "To gather more information regarding the data, we can view the column names with the following function:"
      ]
    },
    {
      "cell_type": "code",
      "execution_count": 12,
      "metadata": {
        "id": "pEdgVYnDhjjv",
        "colab": {
          "base_uri": "https://localhost:8080/"
        },
        "outputId": "d712afb3-f71b-4f50-8d66-43f2a83baecb"
      },
      "outputs": [
        {
          "output_type": "stream",
          "name": "stdout",
          "text": [
            "\n",
            "Nombres de las columnas:\n",
            "Index(['ID', 'Age', 'Gender', 'GenderGroup', 'Glasses', 'GlassesGroup',\n",
            "       'Height', 'Wingspan', 'CWDistance', 'Complete', 'CompleteGroup',\n",
            "       'Score'],\n",
            "      dtype='object')\n"
          ]
        }
      ],
      "source": [
        "print(\"\\nNombres de las columnas:\")\n",
        "print(df.columns)"
      ]
    },
    {
      "cell_type": "markdown",
      "metadata": {
        "id": "9LxX0C9hcJwP"
      },
      "source": [
        "Be aware that every variable in a Pandas data frame has a data type.  There are many different data types, but most commonly you will encounter floating point values (real numbers), integers, strings (text), and date/time values.  When Pandas reads a text/csv file, it guesses the data types based on what it sees in the first few rows of the data file.  Usually it selects an appropriate type, but occasionally it does not.  To confirm that the data types are consistent with what the variables represent, inspect the `dtypes` attribute of the data frame."
      ]
    },
    {
      "cell_type": "code",
      "execution_count": 13,
      "metadata": {
        "id": "E2aYPe4McJwT",
        "colab": {
          "base_uri": "https://localhost:8080/"
        },
        "outputId": "5e5e572a-44f2-454f-c059-0e9c5800a5f4"
      },
      "outputs": [
        {
          "output_type": "stream",
          "name": "stdout",
          "text": [
            "\n",
            "Tipos de datos de las variables:\n",
            "ID                 int64\n",
            "Age              float64\n",
            "Gender            object\n",
            "GenderGroup        int64\n",
            "Glasses           object\n",
            "GlassesGroup       int64\n",
            "Height           float64\n",
            "Wingspan         float64\n",
            "CWDistance         int64\n",
            "Complete          object\n",
            "CompleteGroup    float64\n",
            "Score              int64\n",
            "dtype: object\n"
          ]
        }
      ],
      "source": [
        "print(\"\\nTipos de datos de las variables:\")\n",
        "print(df.dtypes)"
      ]
    },
    {
      "cell_type": "markdown",
      "metadata": {
        "id": "6AGDxEK-cJwW"
      },
      "source": [
        "Summary statistics, which include things like the mean, min, and max of the data, can be useful to get a feel for how large some of the variables are and what variables may be the most important."
      ]
    },
    {
      "cell_type": "code",
      "execution_count": 14,
      "metadata": {
        "id": "lZjYPS7jcJwZ",
        "colab": {
          "base_uri": "https://localhost:8080/"
        },
        "outputId": "b179e952-aac7-4d73-9252-23ac9bd4c83a"
      },
      "outputs": [
        {
          "output_type": "stream",
          "name": "stdout",
          "text": [
            "\n",
            "Estadísticas descriptivas del dataset:\n",
            "              ID        Age  GenderGroup  GlassesGroup     Height   Wingspan  \\\n",
            "count  52.000000  51.000000    52.000000     52.000000  51.000000  51.000000   \n",
            "mean   26.500000  28.411765     1.500000      0.500000  68.971569  67.313725   \n",
            "std    15.154757   5.755611     0.504878      0.504878   5.303812   5.624021   \n",
            "min     1.000000  22.000000     1.000000      0.000000  61.500000  57.500000   \n",
            "25%    13.750000  25.000000     1.000000      0.000000  64.500000  63.000000   \n",
            "50%    26.500000  27.000000     1.500000      0.500000  69.000000  66.000000   \n",
            "75%    39.250000  30.000000     2.000000      1.000000  73.000000  72.000000   \n",
            "max    52.000000  56.000000     2.000000      1.000000  79.500000  76.000000   \n",
            "\n",
            "       CWDistance  CompleteGroup      Score  \n",
            "count   52.000000      51.000000  52.000000  \n",
            "mean    85.576923       0.843137   7.173077  \n",
            "std     14.353173       0.367290   2.211566  \n",
            "min     63.000000       0.000000   2.000000  \n",
            "25%     72.000000       1.000000   6.000000  \n",
            "50%     85.000000       1.000000   8.000000  \n",
            "75%     96.500000       1.000000   9.000000  \n",
            "max    115.000000       1.000000  10.000000  \n"
          ]
        }
      ],
      "source": [
        "# Summary statistics for the quantitative variables\n",
        "\n",
        "print(\"\\nEstadísticas descriptivas del dataset:\")\n",
        "print(df.describe())"
      ]
    },
    {
      "cell_type": "code",
      "execution_count": 16,
      "metadata": {
        "id": "rKA6bMsfcJwb",
        "colab": {
          "base_uri": "https://localhost:8080/"
        },
        "outputId": "a7082777-df30-49fc-ddff-865c39013b92"
      },
      "outputs": [
        {
          "output_type": "stream",
          "name": "stdout",
          "text": [
            "\n",
            "Estadísticas sin valores NaN en la columna 'Age':\n",
            "count    51.000000\n",
            "mean     28.411765\n",
            "std       5.755611\n",
            "min      22.000000\n",
            "25%      25.000000\n",
            "50%      27.000000\n",
            "75%      30.000000\n",
            "max      56.000000\n",
            "Name: Age, dtype: float64\n",
            "\n",
            "Estadísticas sin valores NaN en la columna 'Wingspan':\n",
            "count    51.000000\n",
            "mean     67.313725\n",
            "std       5.624021\n",
            "min      57.500000\n",
            "25%      63.000000\n",
            "50%      66.000000\n",
            "75%      72.000000\n",
            "max      76.000000\n",
            "Name: Wingspan, dtype: float64\n"
          ]
        }
      ],
      "source": [
        "# Drop observations with NaN values\n",
        "\n",
        "print(\"\\nEstadísticas sin valores NaN en la columna 'Age':\")\n",
        "print(df['Age'].dropna().describe())\n",
        "\n",
        "print(\"\\nEstadísticas sin valores NaN en la columna 'Wingspan':\")\n",
        "print(df['Wingspan'].dropna().describe())"
      ]
    },
    {
      "cell_type": "markdown",
      "metadata": {
        "id": "1ZvtmKtucJwc"
      },
      "source": [
        "It is also possible to get statistics on the entire data frame or a column as follows\n",
        "\n",
        "- `df.mean()` Returns the mean of all columns\n",
        "- `df.corr()` Returns the correlation between columns in a data frame\n",
        "- `df.count()` Returns the number of non-null values in each data frame column\n",
        "- `df.max()` Returns the highest value in each column\n",
        "- `df.min()` Returns the lowest value in each column\n",
        "- `df.median()` Returns the median of each column\n",
        "- `df.std()` Returns the standard deviation of each column"
      ]
    },
    {
      "cell_type": "code",
      "execution_count": 20,
      "metadata": {
        "id": "O_ZsRJ8ZcJwd",
        "colab": {
          "base_uri": "https://localhost:8080/"
        },
        "outputId": "2e09a689-060e-412d-c6d0-f1a5783f2d9a"
      },
      "outputs": [
        {
          "output_type": "stream",
          "name": "stdout",
          "text": [
            "\n",
            "Promedio de todas las columnas numéricas:\n",
            "ID               26.500000\n",
            "Age              28.411765\n",
            "GenderGroup       1.500000\n",
            "GlassesGroup      0.500000\n",
            "Height           68.971569\n",
            "Wingspan         67.313725\n",
            "CWDistance       85.576923\n",
            "CompleteGroup     0.843137\n",
            "Score             7.173077\n",
            "dtype: float64\n",
            "\n",
            "Correlación entre las columnas numéricas:\n",
            "                     ID       Age  GenderGroup  GlassesGroup    Height  \\\n",
            "ID             1.000000 -0.139088     0.066630     -0.184513  0.313570   \n",
            "Age           -0.139088  1.000000    -0.263563      0.153441 -0.321105   \n",
            "GenderGroup    0.066630 -0.263563     1.000000     -0.230769  0.731284   \n",
            "GlassesGroup  -0.184513  0.153441    -0.230769      1.000000 -0.251782   \n",
            "Height         0.313570 -0.321105     0.731284     -0.251782  1.000000   \n",
            "Wingspan       0.272402 -0.250976     0.763129     -0.212414  0.941516   \n",
            "CWDistance     0.120251 -0.030501     0.265168     -0.075762  0.315947   \n",
            "CompleteGroup  0.110208  0.229843    -0.224166      0.116313 -0.242616   \n",
            "Score          0.223190  0.317358    -0.272192     -0.149266 -0.042706   \n",
            "\n",
            "               Wingspan  CWDistance  CompleteGroup     Score  \n",
            "ID             0.272402    0.120251       0.110208  0.223190  \n",
            "Age           -0.250976   -0.030501       0.229843  0.317358  \n",
            "GenderGroup    0.763129    0.265168      -0.224166 -0.272192  \n",
            "GlassesGroup  -0.212414   -0.075762       0.116313 -0.149266  \n",
            "Height         0.941516    0.315947      -0.242616 -0.042706  \n",
            "Wingspan       1.000000    0.326148      -0.198542 -0.044400  \n",
            "CWDistance     0.326148    1.000000       0.175570  0.368652  \n",
            "CompleteGroup -0.198542    0.175570       1.000000  0.372424  \n",
            "Score         -0.044400    0.368652       0.372424  1.000000  \n",
            "\n",
            "Número de valores no nulos por columna:\n",
            "ID               52\n",
            "Age              51\n",
            "GenderGroup      52\n",
            "GlassesGroup     52\n",
            "Height           51\n",
            "Wingspan         51\n",
            "CWDistance       52\n",
            "CompleteGroup    51\n",
            "Score            52\n",
            "dtype: int64\n",
            "\n",
            "Valor máximo de cada columna numérica:\n",
            "ID                52.0\n",
            "Age               56.0\n",
            "GenderGroup        2.0\n",
            "GlassesGroup       1.0\n",
            "Height            79.5\n",
            "Wingspan          76.0\n",
            "CWDistance       115.0\n",
            "CompleteGroup      1.0\n",
            "Score             10.0\n",
            "dtype: float64\n",
            "\n",
            "Valor mínimo de cada columna numérica:\n",
            "ID                1.0\n",
            "Age              22.0\n",
            "GenderGroup       1.0\n",
            "GlassesGroup      0.0\n",
            "Height           61.5\n",
            "Wingspan         57.5\n",
            "CWDistance       63.0\n",
            "CompleteGroup     0.0\n",
            "Score             2.0\n",
            "dtype: float64\n",
            "\n",
            "Mediana de cada columna numérica:\n",
            "ID               26.5\n",
            "Age              27.0\n",
            "GenderGroup       1.5\n",
            "GlassesGroup      0.5\n",
            "Height           69.0\n",
            "Wingspan         66.0\n",
            "CWDistance       85.0\n",
            "CompleteGroup     1.0\n",
            "Score             8.0\n",
            "dtype: float64\n",
            "\n",
            "Desviación estándar de cada columna numérica:\n",
            "ID               15.154757\n",
            "Age               5.755611\n",
            "GenderGroup       0.504878\n",
            "GlassesGroup      0.504878\n",
            "Height            5.303812\n",
            "Wingspan          5.624021\n",
            "CWDistance       14.353173\n",
            "CompleteGroup     0.367290\n",
            "Score             2.211566\n",
            "dtype: float64\n"
          ]
        }
      ],
      "source": [
        "# Filtrar solo las columnas numéricas\n",
        "df_numeric = df.select_dtypes(include=['number'])\n",
        "\n",
        "# Promedio de todas las columnas numéricas\n",
        "print(\"\\nPromedio de todas las columnas numéricas:\")\n",
        "print(df_numeric.mean())\n",
        "\n",
        "# Correlación entre las columnas numéricas\n",
        "print(\"\\nCorrelación entre las columnas numéricas:\")\n",
        "print(df_numeric.corr())\n",
        "\n",
        "# Número de valores no nulos en cada columna numérica\n",
        "print(\"\\nNúmero de valores no nulos por columna:\")\n",
        "print(df_numeric.count())\n",
        "\n",
        "# Valor máximo de cada columna numérica\n",
        "print(\"\\nValor máximo de cada columna numérica:\")\n",
        "print(df_numeric.max())\n",
        "\n",
        "# Valor mínimo de cada columna numérica\n",
        "print(\"\\nValor mínimo de cada columna numérica:\")\n",
        "print(df_numeric.min())\n",
        "\n",
        "# Mediana de cada columna numérica\n",
        "print(\"\\nMediana de cada columna numérica:\")\n",
        "print(df_numeric.median())\n",
        "\n",
        "# Desviación estándar de cada columna numérica\n",
        "print(\"\\nDesviación estándar de cada columna numérica:\")\n",
        "print(df_numeric.std())"
      ]
    },
    {
      "cell_type": "markdown",
      "metadata": {
        "id": "bzUhsRI6cJwe"
      },
      "source": [
        "# How to write a data frame to a File\n",
        "\n",
        "To save a file with your data simply use the `to_csv` attribute\n",
        "\n",
        "Examples:\n",
        "- df.to_csv('myDataFrame.csv')\n",
        "- df.to_csv('myDataFrame.csv', sep='\\t')"
      ]
    },
    {
      "cell_type": "code",
      "execution_count": 22,
      "metadata": {
        "id": "eqh8w6JwcJwg"
      },
      "outputs": [],
      "source": [
        "# Save the data to a CSV file\n",
        "df.to_csv('cartwheel_output.csv', index=False)\n",
        "\n",
        "# Save the data with a tab separator\n",
        "df.to_csv('cartwheel_output_tab_separated.csv', sep='\\t', index=False)"
      ]
    },
    {
      "cell_type": "markdown",
      "metadata": {
        "id": "QY9GYpGWcJwg"
      },
      "source": [
        "# Rename columns\n",
        "\n",
        "To change the name of a colum use the `rename` attribute\n",
        "\n",
        "Example:\n",
        "\n",
        "df = df.rename(columns={\"Age\": \"Edad\"})\n",
        "\n",
        "df.head()"
      ]
    },
    {
      "cell_type": "code",
      "execution_count": 23,
      "metadata": {
        "id": "cA09Cmp_cJwh",
        "colab": {
          "base_uri": "https://localhost:8080/"
        },
        "outputId": "5c8508e3-d9c0-40c9-fc7c-366eb907361c"
      },
      "outputs": [
        {
          "output_type": "stream",
          "name": "stdout",
          "text": [
            "\n",
            "Renombrado 'Age' a 'Edad':\n",
            "   ID  Edad Gender  GenderGroup Glasses  GlassesGroup  Height  Wingspan  \\\n",
            "0   1  56.0      F            1       Y             1    62.0      61.0   \n",
            "1   2  26.0      F            1       Y             1    62.0      60.0   \n",
            "2   3  33.0      F            1       Y             1    66.0      64.0   \n",
            "3   4  39.0      F            1       N             0    64.0      63.0   \n",
            "4   5  27.0      M            2       N             0    73.0      75.0   \n",
            "\n",
            "   CWDistance Complete  CompleteGroup  Score  \n",
            "0          79        Y            1.0      7  \n",
            "1          70        Y            1.0      8  \n",
            "2          85        Y            1.0      7  \n",
            "3          87        Y            1.0     10  \n",
            "4          72        N            0.0      4  \n"
          ]
        }
      ],
      "source": [
        "df = df.rename(columns={\"Age\": \"Edad\"})\n",
        "print(\"\\nRenombrado 'Age' a 'Edad':\")\n",
        "print(df.head())"
      ]
    },
    {
      "cell_type": "code",
      "execution_count": 24,
      "metadata": {
        "id": "hLwRliQjcJwh",
        "colab": {
          "base_uri": "https://localhost:8080/"
        },
        "outputId": "58fe235d-fbb8-48ac-9810-93d195218610"
      },
      "outputs": [
        {
          "output_type": "stream",
          "name": "stdout",
          "text": [
            "\n",
            "Vuelto al nombre original 'Age':\n",
            "   ID   Age Gender  GenderGroup Glasses  GlassesGroup  Height  Wingspan  \\\n",
            "0   1  56.0      F            1       Y             1    62.0      61.0   \n",
            "1   2  26.0      F            1       Y             1    62.0      60.0   \n",
            "2   3  33.0      F            1       Y             1    66.0      64.0   \n",
            "3   4  39.0      F            1       N             0    64.0      63.0   \n",
            "4   5  27.0      M            2       N             0    73.0      75.0   \n",
            "\n",
            "   CWDistance Complete  CompleteGroup  Score  \n",
            "0          79        Y            1.0      7  \n",
            "1          70        Y            1.0      8  \n",
            "2          85        Y            1.0      7  \n",
            "3          87        Y            1.0     10  \n",
            "4          72        N            0.0      4  \n"
          ]
        }
      ],
      "source": [
        "# Back to the original name\n",
        "df = df.rename(columns={\"Edad\": \"Age\"})\n",
        "print(\"\\nVuelto al nombre original 'Age':\")\n",
        "print(df.head())"
      ]
    },
    {
      "cell_type": "markdown",
      "metadata": {
        "id": "DNftbkpIcJwi"
      },
      "source": [
        "# Selection of colums\n",
        "\n",
        "As discussed above, a Pandas data frame is a rectangular data table, in which the rows represent observations or samples and the columns represent variables.  One common manipulation of a data frame is to extract the data for one case or for one variable.  There are several ways to do this, as shown below.\n",
        "\n",
        "To extract all the values for one column (variable), use one of the following alternatives."
      ]
    },
    {
      "cell_type": "code",
      "execution_count": 25,
      "metadata": {
        "id": "KCFrEdLUcJwi",
        "colab": {
          "base_uri": "https://localhost:8080/"
        },
        "outputId": "e3e10214-4e48-45db-b984-9fac68d26d3b"
      },
      "outputs": [
        {
          "output_type": "stream",
          "name": "stdout",
          "text": [
            "\n",
            "Valores de la columna 'Age':\n",
            "0     56.0\n",
            "1     26.0\n",
            "2     33.0\n",
            "3     39.0\n",
            "4     27.0\n",
            "5     24.0\n",
            "6     28.0\n",
            "7     22.0\n",
            "8     29.0\n",
            "9     33.0\n",
            "10    30.0\n",
            "11    28.0\n",
            "12    25.0\n",
            "13    23.0\n",
            "14    31.0\n",
            "15    26.0\n",
            "16    26.0\n",
            "17    27.0\n",
            "18    23.0\n",
            "19    24.0\n",
            "20    23.0\n",
            "21    29.0\n",
            "22    25.0\n",
            "23    26.0\n",
            "24    23.0\n",
            "25    28.0\n",
            "26    24.0\n",
            "27    25.0\n",
            "28    32.0\n",
            "29    38.0\n",
            "30    27.0\n",
            "31    33.0\n",
            "32    38.0\n",
            "33    27.0\n",
            "34    24.0\n",
            "35    27.0\n",
            "36    25.0\n",
            "37    26.0\n",
            "38    31.0\n",
            "39    30.0\n",
            "40    23.0\n",
            "41    26.0\n",
            "42    28.0\n",
            "43    26.0\n",
            "44    30.0\n",
            "45    39.0\n",
            "46    27.0\n",
            "47    24.0\n",
            "48    28.0\n",
            "49    30.0\n",
            "50     NaN\n",
            "51    27.0\n",
            "Name: Age, dtype: float64\n"
          ]
        }
      ],
      "source": [
        "a = df[\"Age\"]  # Extract using the column name\n",
        "print(\"\\nValores de la columna 'Age':\")\n",
        "print(a)\n"
      ]
    },
    {
      "cell_type": "markdown",
      "metadata": {
        "id": "s0JdLwSZcJwj"
      },
      "source": [
        "# Slicing a data set\n",
        "\n",
        "As discussed above, a Pandas data frame is a rectangular data table, in which the rows represent cases and the columns represent variables.  One common manipulation of a data frame is to extract the data for one observation or for one variable.  There are several ways to do this, as shown below.\n",
        "\n",
        "Lets say we would like to splice our data frame and select only specific portions of our data.  There are three different ways of doing so.\n",
        "\n",
        "1. .loc()\n",
        "2. .iloc()\n",
        "3. .ix()\n",
        "\n",
        "We will cover the .loc() and .iloc() splicing functions.\n"
      ]
    },
    {
      "cell_type": "markdown",
      "metadata": {
        "id": "oeR8lBkmhjjz"
      },
      "source": [
        "The attibute **.loc()** uses labels/column names, in specific, it takes two single/list/range operator separated by ',', the first one indicates the rows and the second one indicates columns."
      ]
    },
    {
      "cell_type": "code",
      "execution_count": 26,
      "metadata": {
        "id": "HpUEXXovhjj0",
        "colab": {
          "base_uri": "https://localhost:8080/"
        },
        "outputId": "cac31fa6-a4aa-4b23-d798-b32ed2527595"
      },
      "outputs": [
        {
          "output_type": "stream",
          "name": "stdout",
          "text": [
            "\n",
            "Subconjunto de las primeras 10 filas de 'CWDistance':\n",
            "0     79\n",
            "1     70\n",
            "2     85\n",
            "3     87\n",
            "4     72\n",
            "5     81\n",
            "6    107\n",
            "7     98\n",
            "8    106\n",
            "9     65\n",
            "Name: CWDistance, dtype: int64\n",
            "\n",
            "Subconjunto de las columnas 'Gender' y 'GenderGroup':\n",
            "   Gender  GenderGroup\n",
            "0       F            1\n",
            "1       F            1\n",
            "2       F            1\n",
            "3       F            1\n",
            "4       M            2\n",
            "5       M            2\n",
            "6       M            2\n",
            "7       F            1\n",
            "8       M            2\n",
            "9       F            1\n",
            "10      M            2\n",
            "11      F            1\n",
            "12      F            1\n",
            "13      F            1\n",
            "14      M            2\n",
            "15      M            2\n",
            "16      F            1\n",
            "17      M            2\n",
            "18      M            2\n",
            "19      F            1\n",
            "20      M            2\n",
            "21      M            2\n",
            "22      M            2\n",
            "23      M            2\n",
            "24      F            1\n",
            "25      M            2\n",
            "26      M            2\n",
            "27      M            2\n",
            "28      F            1\n",
            "29      F            1\n",
            "30      F            1\n",
            "31      F            1\n",
            "32      F            1\n",
            "33      M            2\n",
            "34      F            1\n",
            "35      M            2\n",
            "36      F            1\n",
            "37      F            1\n",
            "38      M            2\n",
            "39      M            2\n",
            "40      F            1\n",
            "41      M            2\n",
            "42      F            1\n",
            "43      F            1\n",
            "44      F            1\n",
            "45      F            1\n",
            "46      M            2\n",
            "47      M            2\n",
            "48      M            2\n",
            "49      F            1\n",
            "50      M            2\n",
            "51      M            2\n"
          ]
        }
      ],
      "source": [
        "# Select rows 0 to 9 for the column 'CWDistance'\n",
        "print(\"\\nSubconjunto de las primeras 10 filas de 'CWDistance':\")\n",
        "print(df.loc[:9, \"CWDistance\"])\n",
        "\n",
        "# Select multiple columns (e.g., 'Gender' and 'GenderGroup')\n",
        "print(\"\\nSubconjunto de las columnas 'Gender' y 'GenderGroup':\")\n",
        "print(df.loc[:, [\"Gender\", \"GenderGroup\"]])\n"
      ]
    },
    {
      "cell_type": "markdown",
      "metadata": {
        "id": "DhluNGL1hjkI"
      },
      "source": [
        "The attribute **iloc()** is an integer based slicing."
      ]
    },
    {
      "cell_type": "code",
      "execution_count": 27,
      "metadata": {
        "id": "6u1A-2drhjkJ",
        "colab": {
          "base_uri": "https://localhost:8080/"
        },
        "outputId": "82984476-22f3-4d6f-ac45-688a6e3f989a"
      },
      "outputs": [
        {
          "output_type": "stream",
          "name": "stdout",
          "text": [
            "\n",
            "Seleccionando las primeras 4 filas y 4 columnas:\n",
            "   ID   Age Gender  GenderGroup\n",
            "0   1  56.0      F            1\n",
            "1   2  26.0      F            1\n",
            "2   3  33.0      F            1\n",
            "3   4  39.0      F            1\n"
          ]
        }
      ],
      "source": [
        "# Selecting the first 4 rows for the first 4 columns\n",
        "print(\"\\nSeleccionando las primeras 4 filas y 4 columnas:\")\n",
        "print(df.iloc[:4, :4])"
      ]
    },
    {
      "cell_type": "markdown",
      "metadata": {
        "id": "u4ORG1PlcJwl"
      },
      "source": [
        "# Get unique existing values\n",
        "\n",
        "List unique values in the one of the columns\n",
        "\n",
        "df.Gender.unique()\n"
      ]
    },
    {
      "cell_type": "code",
      "execution_count": 28,
      "metadata": {
        "id": "brIC2kbKhjkZ",
        "colab": {
          "base_uri": "https://localhost:8080/"
        },
        "outputId": "c5734a6b-653f-4deb-e80f-1f554c6fac8d"
      },
      "outputs": [
        {
          "output_type": "stream",
          "name": "stdout",
          "text": [
            "\n",
            "Valores únicos en la columna 'Gender':\n",
            "['F' 'M']\n"
          ]
        }
      ],
      "source": [
        "# List unique values in the df['Gender'] column\n",
        "\n",
        "print(\"\\nValores únicos en la columna 'Gender':\")\n",
        "print(df['Gender'].unique())"
      ]
    },
    {
      "cell_type": "code",
      "execution_count": 29,
      "metadata": {
        "id": "Js4ikCVWhjkc",
        "colab": {
          "base_uri": "https://localhost:8080/"
        },
        "outputId": "084dddee-cbc5-4ed4-f6e9-6264aa436b01"
      },
      "outputs": [
        {
          "output_type": "stream",
          "name": "stdout",
          "text": [
            "\n",
            "Valores únicos en la columna 'GenderGroup':\n",
            "[1 2]\n"
          ]
        }
      ],
      "source": [
        "# Lets explore df[\"GenderGroup] as well\n",
        "print(\"\\nValores únicos en la columna 'GenderGroup':\")\n",
        "print(df['GenderGroup'].unique())"
      ]
    },
    {
      "cell_type": "markdown",
      "metadata": {
        "id": "n0S7vCwphjkj"
      },
      "source": [
        "# Filter, Sort and Groupby\n",
        "\n"
      ]
    },
    {
      "cell_type": "markdown",
      "metadata": {
        "id": "yTtJ3JKFcJwn"
      },
      "source": [
        "With **Filter** you can use different conditions to filter columns. For example, df[df[year] > 1984] would give you only the column year is greater than 1984. You can use & (and) or | (or) to add different conditions to your filtering. This is also called boolean filtering.\n",
        "\n",
        "df[df[\"Height\"] >= 70]"
      ]
    },
    {
      "cell_type": "code",
      "execution_count": 30,
      "metadata": {
        "id": "ATi54wH_cJwo",
        "colab": {
          "base_uri": "https://localhost:8080/"
        },
        "outputId": "5c5cd78d-9e78-40a1-da55-55e8e41b4131"
      },
      "outputs": [
        {
          "output_type": "stream",
          "name": "stdout",
          "text": [
            "\n",
            "Filtrando por 'Height' >= 70:\n",
            "    ID   Age Gender  GenderGroup Glasses  GlassesGroup  Height  Wingspan  \\\n",
            "4    5  27.0      M            2       N             0    73.0      75.0   \n",
            "5    6  24.0      M            2       N             0    75.0      71.0   \n",
            "6    7  28.0      M            2       N             0    75.0      76.0   \n",
            "8    9  29.0      M            2       Y             1    74.0      73.0   \n",
            "14  15  31.0      M            2       Y             1    73.0      74.0   \n",
            "15  16  26.0      M            2       Y             1    71.0      72.0   \n",
            "18  19  23.0      M            2       Y             1    70.0      69.0   \n",
            "21  22  29.0      M            2       N             0    71.0      70.0   \n",
            "22  23  25.0      M            2       N             0    70.0      68.0   \n",
            "25  26  28.0      M            2       N             0    75.0      76.0   \n",
            "26  27  24.0      M            2       N             0    78.4      71.0   \n",
            "27  28  25.0      M            2       Y             1    76.0      73.0   \n",
            "33  34  27.0      M            2       N             0    77.0      75.0   \n",
            "38  39  31.0      M            2       Y             1    73.0      74.0   \n",
            "40  41  23.0      F            1       N             0    70.4      71.0   \n",
            "41  42  26.0      M            2       Y             1    73.5      72.0   \n",
            "42  43  28.0      F            1       Y             1    72.5      72.0   \n",
            "43  44  26.0      F            1       Y             1    72.0      72.0   \n",
            "46  47  27.0      M            2       N             0    78.0      75.0   \n",
            "47  48  24.0      M            2       N             0    79.5      75.0   \n",
            "48  49  28.0      M            2       N             0    77.8      76.0   \n",
            "49  50  30.0      F            1       N             0    74.6       NaN   \n",
            "50  51   NaN      M            2       N             0    71.0      70.0   \n",
            "\n",
            "    CWDistance Complete  CompleteGroup  Score  \n",
            "4           72        N            0.0      4  \n",
            "5           81        N            0.0      3  \n",
            "6          107        Y            1.0     10  \n",
            "8          106        N            0.0      5  \n",
            "14          72        Y            1.0      9  \n",
            "15         115        Y            1.0      6  \n",
            "18          64        Y            1.0      3  \n",
            "21         101        Y            1.0      8  \n",
            "22          82        Y            1.0      4  \n",
            "25         111        Y            1.0     10  \n",
            "26          92        Y            1.0      7  \n",
            "27         107        Y            1.0      8  \n",
            "33         100        Y            1.0      8  \n",
            "38          72        Y            1.0      9  \n",
            "40          66        Y            1.0      4  \n",
            "41         115        Y            1.0      6  \n",
            "42          81        Y            1.0     10  \n",
            "43          92        Y            1.0      8  \n",
            "46          72        N            0.0      7  \n",
            "47          82        N            0.0      8  \n",
            "48          99        Y            1.0      9  \n",
            "49          71        Y            1.0      9  \n",
            "50         101        Y            NaN      8  \n"
          ]
        }
      ],
      "source": [
        "print(\"\\nFiltrando por 'Height' >= 70:\")\n",
        "print(df[df[\"Height\"] >= 70])\n"
      ]
    },
    {
      "cell_type": "markdown",
      "metadata": {
        "id": "LR5TNojlcJwq"
      },
      "source": [
        "With **Sort** is possible to sort values in a certain column in an ascending order using `df.sort_values(\"ColumnName\")` or in descending order using `df.sort_values(ColumnName, ascending=False)`.\n",
        "\n",
        "Furthermore, it’s possible to sort values by Column1Name in ascending order then Column2Name in descending order by using `df.sort_values([Column1Name,Column2Name],ascending=[True,False])`\n",
        "\n",
        "\n",
        "df.sort_values(\"Height\")\n",
        "#df.sort_values(\"Height\",ascending=False)"
      ]
    },
    {
      "cell_type": "code",
      "execution_count": 31,
      "metadata": {
        "id": "oJCVsL3fcJwq",
        "colab": {
          "base_uri": "https://localhost:8080/"
        },
        "outputId": "05c12446-a66a-4438-820a-a58919d4ccd5"
      },
      "outputs": [
        {
          "output_type": "stream",
          "name": "stdout",
          "text": [
            "\n",
            "Ordenando por 'Height' de mayor a menor:\n",
            "    ID   Age Gender  GenderGroup Glasses  GlassesGroup  Height  Wingspan  \\\n",
            "47  48  24.0      M            2       N             0   79.50      75.0   \n",
            "26  27  24.0      M            2       N             0   78.40      71.0   \n",
            "46  47  27.0      M            2       N             0   78.00      75.0   \n",
            "48  49  28.0      M            2       N             0   77.80      76.0   \n",
            "33  34  27.0      M            2       N             0   77.00      75.0   \n",
            "27  28  25.0      M            2       Y             1   76.00      73.0   \n",
            "25  26  28.0      M            2       N             0   75.00      76.0   \n",
            "5    6  24.0      M            2       N             0   75.00      71.0   \n",
            "6    7  28.0      M            2       N             0   75.00      76.0   \n",
            "49  50  30.0      F            1       N             0   74.60       NaN   \n",
            "8    9  29.0      M            2       Y             1   74.00      73.0   \n",
            "41  42  26.0      M            2       Y             1   73.50      72.0   \n",
            "14  15  31.0      M            2       Y             1   73.00      74.0   \n",
            "38  39  31.0      M            2       Y             1   73.00      74.0   \n",
            "4    5  27.0      M            2       N             0   73.00      75.0   \n",
            "42  43  28.0      F            1       Y             1   72.50      72.0   \n",
            "43  44  26.0      F            1       Y             1   72.00      72.0   \n",
            "15  16  26.0      M            2       Y             1   71.00      72.0   \n",
            "21  22  29.0      M            2       N             0   71.00      70.0   \n",
            "50  51   NaN      M            2       N             0   71.00      70.0   \n",
            "40  41  23.0      F            1       N             0   70.40      71.0   \n",
            "18  19  23.0      M            2       Y             1   70.00      69.0   \n",
            "22  23  25.0      M            2       N             0   70.00      68.0   \n",
            "39  40  30.0      M            2       Y             1   69.50      66.0   \n",
            "10  11  30.0      M            2       Y             1   69.50      66.0   \n",
            "20  21  23.0      M            2       Y             1   69.00      67.0   \n",
            "23  24  26.0      M            2       N             0   69.00      71.0   \n",
            "19  20  24.0      F            1       Y             1   68.00      66.0   \n",
            "35  36  27.0      M            2       N             0   68.00      66.0   \n",
            "34  35  24.0      F            1       N             0   67.80      62.0   \n",
            "17  18  27.0      M            2       N             0   66.00      66.0   \n",
            "44  45  30.0      F            1       Y             1   66.00      64.0   \n",
            "2    3  33.0      F            1       Y             1   66.00      64.0   \n",
            "31  32  33.0      F            1       Y             1   65.30      64.0   \n",
            "12  13  25.0      F            1       Y             1   65.00      64.5   \n",
            "24  25  23.0      F            1       Y             1   65.00      63.0   \n",
            "36  37  25.0      F            1       Y             1   65.00      64.5   \n",
            "7    8  22.0      F            1       N             0   65.00      62.0   \n",
            "45  46  39.0      F            1       N             0   64.00      63.0   \n",
            "3    4  39.0      F            1       N             0   64.00      63.0   \n",
            "32  33  38.0      F            1       N             0   64.00      63.0   \n",
            "28  29  32.0      F            1       Y             1   63.00      60.0   \n",
            "9   10  33.0      F            1       Y             1   63.00      60.0   \n",
            "11  12  28.0      F            1       Y             1   62.75      58.0   \n",
            "30  31  27.0      F            1       Y             1   62.00      60.0   \n",
            "0    1  56.0      F            1       Y             1   62.00      61.0   \n",
            "1    2  26.0      F            1       Y             1   62.00      60.0   \n",
            "16  17  26.0      F            1       N             0   61.50      59.5   \n",
            "13  14  23.0      F            1       N             0   61.50      57.5   \n",
            "29  30  38.0      F            1       Y             1   61.50      61.0   \n",
            "37  38  26.0      F            1       N             0   61.50      59.5   \n",
            "51  52  27.0      M            2       N             0     NaN      71.5   \n",
            "\n",
            "    CWDistance Complete  CompleteGroup  Score  \n",
            "47          82        N            0.0      8  \n",
            "26          92        Y            1.0      7  \n",
            "46          72        N            0.0      7  \n",
            "48          99        Y            1.0      9  \n",
            "33         100        Y            1.0      8  \n",
            "27         107        Y            1.0      8  \n",
            "25         111        Y            1.0     10  \n",
            "5           81        N            0.0      3  \n",
            "6          107        Y            1.0     10  \n",
            "49          71        Y            1.0      9  \n",
            "8          106        N            0.0      5  \n",
            "41         115        Y            1.0      6  \n",
            "14          72        Y            1.0      9  \n",
            "38          72        Y            1.0      9  \n",
            "4           72        N            0.0      4  \n",
            "42          81        Y            1.0     10  \n",
            "43          92        Y            1.0      8  \n",
            "15         115        Y            1.0      6  \n",
            "21         101        Y            1.0      8  \n",
            "50         101        Y            NaN      8  \n",
            "40          66        Y            1.0      4  \n",
            "18          64        Y            1.0      3  \n",
            "22          82        Y            1.0      4  \n",
            "39          96        Y            1.0      6  \n",
            "10          96        Y            1.0      6  \n",
            "20          66        N            0.0      2  \n",
            "23          63        Y            1.0      5  \n",
            "19          85        Y            1.0      8  \n",
            "35          74        Y            1.0      5  \n",
            "34          98        Y            1.0      9  \n",
            "17          74        Y            1.0      5  \n",
            "44          85        Y            1.0      7  \n",
            "2           85        Y            1.0      7  \n",
            "31          91        Y            1.0      7  \n",
            "12          92        Y            1.0      6  \n",
            "24          67        N            0.0      3  \n",
            "36          92        Y            1.0      6  \n",
            "7           98        Y            1.0      9  \n",
            "45          87        Y            1.0     10  \n",
            "3           87        Y            1.0     10  \n",
            "32          86        Y            1.0     10  \n",
            "28          75        Y            1.0      8  \n",
            "9           65        Y            1.0      8  \n",
            "11          79        Y            1.0     10  \n",
            "30          72        Y            1.0      8  \n",
            "0           79        Y            1.0      7  \n",
            "1           70        Y            1.0      8  \n",
            "16          90        N            0.0     10  \n",
            "13          66        Y            1.0      4  \n",
            "29          78        Y            1.0      7  \n",
            "37          90        Y            1.0      9  \n",
            "51         103        Y            1.0     10  \n"
          ]
        }
      ],
      "source": [
        "print(\"\\nOrdenando por 'Height' de mayor a menor:\")\n",
        "print(df.sort_values(\"Height\", ascending=False))"
      ]
    },
    {
      "cell_type": "markdown",
      "metadata": {
        "id": "jzSIpt_8cJwr"
      },
      "source": [
        "The attribute **Groupby** involves splitting the data into groups based on some criteria, applying a function to each group independently and combining the results into a data structure. df.groupby(col) returns a groupby object for values from one column while df.groupby([col1,col2]) returns a groupby object for values from multiple columns.\n",
        "\n",
        "df.groupby(['Gender'])"
      ]
    },
    {
      "cell_type": "code",
      "execution_count": 33,
      "metadata": {
        "id": "QvIXfwC5cJwr",
        "colab": {
          "base_uri": "https://localhost:8080/"
        },
        "outputId": "35c1dcfa-f2af-4a57-ce4e-30bad7aaf36f"
      },
      "outputs": [
        {
          "output_type": "stream",
          "name": "stdout",
          "text": [
            "\n",
            "Agrupando por 'Gender' y contando el tamaño de cada grupo:\n",
            "Gender\n",
            "F    26\n",
            "M    26\n",
            "dtype: int64\n",
            "\n",
            "Agrupando por 'Gender' y 'GenderGroup' y contando el tamaño de cada grupo:\n",
            "Gender  GenderGroup\n",
            "F       1              26\n",
            "M       2              26\n",
            "dtype: int64\n"
          ]
        }
      ],
      "source": [
        "print(\"\\nAgrupando por 'Gender' y contando el tamaño de cada grupo:\")\n",
        "print(df.groupby(['Gender']).size())\n",
        "\n",
        "print(\"\\nAgrupando por 'Gender' y 'GenderGroup' y contando el tamaño de cada grupo:\")\n",
        "print(df.groupby(['Gender', 'GenderGroup']).size())"
      ]
    },
    {
      "cell_type": "markdown",
      "metadata": {
        "id": "nTRCVyPhcJwr"
      },
      "source": [
        "Size of each group\n",
        "\n",
        "df.groupby(['Gender']).size()\n",
        "\n",
        "df.groupby(['Gender','GenderGroup']).size()"
      ]
    },
    {
      "cell_type": "code",
      "execution_count": 34,
      "metadata": {
        "id": "nNvUQetJhjkj",
        "colab": {
          "base_uri": "https://localhost:8080/"
        },
        "outputId": "f24d5d6b-6a88-4973-ad21-60962f9fbbca"
      },
      "outputs": [
        {
          "output_type": "stream",
          "name": "stdout",
          "text": [
            "\n",
            "Tamaño de cada grupo en 'Gender':\n",
            "Gender\n",
            "F    26\n",
            "M    26\n",
            "dtype: int64\n"
          ]
        }
      ],
      "source": [
        "print(\"\\nTamaño de cada grupo en 'Gender':\")\n",
        "print(df.groupby(['Gender']).size())"
      ]
    },
    {
      "cell_type": "markdown",
      "metadata": {
        "id": "7bHLzOH2hjkn"
      },
      "source": [
        "This output indicates that we have two types of combinations.\n",
        "\n",
        "* Case 1: Gender = F & Gender Group = 1\n",
        "* Case 2: Gender = M & GenderGroup = 2.  \n",
        "\n",
        "This validates our initial assumption that these two fields essentially portray the same information."
      ]
    },
    {
      "cell_type": "markdown",
      "metadata": {
        "id": "eWlEBPtscJws"
      },
      "source": [
        "# Data Cleaning: handle with missing data\n",
        "\n",
        "Before getting started to work with your data, it's a good practice to observe it thoroughly to identify missing values and handle them accordingly.\n",
        "\n",
        "When reading a dataset using Pandas, there is a set of values including 'NA', 'NULL', and 'NaN' that are taken by default to represent a missing value.  The full list of default missing value codes is in the '`read_csv`' documentation [here](https://pandas.pydata.org/pandas-docs/stable/generated/pandas.read_csv.html).  This document also explains how to change the way that '`read_csv`' decides whether a variable's value is missing.\n",
        "\n",
        "Pandas has functions called `isnull` and `notnull` that can be used to identify where the missing and non-missing values are located in a data frame.  \n",
        "\n",
        "Below we use these functions to count the number of missing and non-missing values in each variable of the datasetr."
      ]
    },
    {
      "cell_type": "markdown",
      "metadata": {
        "id": "ON2BW-VPcJwt"
      },
      "source": [
        "Unfortunately, our output indicates that some of our columns contain missing values so we are no able to continue on doing analysis with those colums"
      ]
    },
    {
      "cell_type": "code",
      "execution_count": 37,
      "metadata": {
        "id": "TGajtmWfcJwt",
        "colab": {
          "base_uri": "https://localhost:8080/"
        },
        "outputId": "b466ee34-0edb-474c-8659-3d5461359ff3"
      },
      "outputs": [
        {
          "output_type": "stream",
          "name": "stdout",
          "text": [
            "\n",
            "Contando valores nulos por columna:\n",
            "ID               0\n",
            "Age              1\n",
            "Gender           0\n",
            "GenderGroup      0\n",
            "Glasses          0\n",
            "GlassesGroup     0\n",
            "Height           1\n",
            "Wingspan         1\n",
            "CWDistance       0\n",
            "Complete         0\n",
            "CompleteGroup    1\n",
            "Score            0\n",
            "dtype: int64\n",
            "\n",
            "Contando valores no nulos por columna:\n",
            "ID               52\n",
            "Age              51\n",
            "Gender           52\n",
            "GenderGroup      52\n",
            "Glasses          52\n",
            "GlassesGroup     52\n",
            "Height           51\n",
            "Wingspan         51\n",
            "CWDistance       52\n",
            "Complete         52\n",
            "CompleteGroup    51\n",
            "Score            52\n",
            "dtype: int64\n"
          ]
        }
      ],
      "source": [
        "print(\"\\nContando valores nulos por columna:\")\n",
        "print(df.isnull().sum())\n",
        "print(\"\\nContando valores no nulos por columna:\")\n",
        "print(df.notnull().sum())"
      ]
    },
    {
      "cell_type": "markdown",
      "metadata": {
        "id": "e-oY7TFccJwt"
      },
      "source": [
        "Now we use these functions to count the number of missing and non-missing values in a single variable in the dataset\n",
        "\n",
        "print( df.Height.notnull().sum() )\n",
        "\n",
        "print( pd.isnull(df.Height).sum() )"
      ]
    },
    {
      "cell_type": "code",
      "execution_count": null,
      "metadata": {
        "id": "ZcXbjV3rcJwu"
      },
      "outputs": [],
      "source": []
    },
    {
      "cell_type": "code",
      "execution_count": 39,
      "metadata": {
        "id": "W4IDFNQncJwu",
        "colab": {
          "base_uri": "https://localhost:8080/",
          "height": 335
        },
        "outputId": "67a1797c-4f1d-4d78-a001-a1f42efd6b86"
      },
      "outputs": [
        {
          "output_type": "execute_result",
          "data": {
            "text/plain": [
              "count     8.000000\n",
              "mean     30.645922\n",
              "std      16.044470\n",
              "min       5.755611\n",
              "25%      24.250000\n",
              "50%      27.705882\n",
              "75%      35.250000\n",
              "max      56.000000\n",
              "Name: Age, dtype: float64"
            ],
            "text/html": [
              "<div>\n",
              "<style scoped>\n",
              "    .dataframe tbody tr th:only-of-type {\n",
              "        vertical-align: middle;\n",
              "    }\n",
              "\n",
              "    .dataframe tbody tr th {\n",
              "        vertical-align: top;\n",
              "    }\n",
              "\n",
              "    .dataframe thead th {\n",
              "        text-align: right;\n",
              "    }\n",
              "</style>\n",
              "<table border=\"1\" class=\"dataframe\">\n",
              "  <thead>\n",
              "    <tr style=\"text-align: right;\">\n",
              "      <th></th>\n",
              "      <th>Age</th>\n",
              "    </tr>\n",
              "  </thead>\n",
              "  <tbody>\n",
              "    <tr>\n",
              "      <th>count</th>\n",
              "      <td>8.000000</td>\n",
              "    </tr>\n",
              "    <tr>\n",
              "      <th>mean</th>\n",
              "      <td>30.645922</td>\n",
              "    </tr>\n",
              "    <tr>\n",
              "      <th>std</th>\n",
              "      <td>16.044470</td>\n",
              "    </tr>\n",
              "    <tr>\n",
              "      <th>min</th>\n",
              "      <td>5.755611</td>\n",
              "    </tr>\n",
              "    <tr>\n",
              "      <th>25%</th>\n",
              "      <td>24.250000</td>\n",
              "    </tr>\n",
              "    <tr>\n",
              "      <th>50%</th>\n",
              "      <td>27.705882</td>\n",
              "    </tr>\n",
              "    <tr>\n",
              "      <th>75%</th>\n",
              "      <td>35.250000</td>\n",
              "    </tr>\n",
              "    <tr>\n",
              "      <th>max</th>\n",
              "      <td>56.000000</td>\n",
              "    </tr>\n",
              "  </tbody>\n",
              "</table>\n",
              "</div><br><label><b>dtype:</b> float64</label>"
            ]
          },
          "metadata": {},
          "execution_count": 39
        }
      ],
      "source": [
        "# Extract all non-missing values of one of the columns into a new variable\n",
        "\n",
        "x = df.Age.dropna().describe()\n",
        "x.describe()"
      ]
    },
    {
      "cell_type": "markdown",
      "metadata": {
        "id": "PcbsqjI6cJwu"
      },
      "source": [
        "# Add and eliminate columns\n",
        "\n",
        "In some cases it is useful to create or eiminate new columns"
      ]
    },
    {
      "cell_type": "code",
      "execution_count": 40,
      "metadata": {
        "id": "OXL2cnn0cJwu",
        "colab": {
          "base_uri": "https://localhost:8080/",
          "height": 206
        },
        "outputId": "e0d7f231-f45d-422b-be8c-da489963e7cb"
      },
      "outputs": [
        {
          "output_type": "execute_result",
          "data": {
            "text/plain": [
              "   ID   Age Gender  GenderGroup Glasses  GlassesGroup  Height  Wingspan  \\\n",
              "0   1  56.0      F            1       Y             1    62.0      61.0   \n",
              "1   2  26.0      F            1       Y             1    62.0      60.0   \n",
              "2   3  33.0      F            1       Y             1    66.0      64.0   \n",
              "3   4  39.0      F            1       N             0    64.0      63.0   \n",
              "4   5  27.0      M            2       N             0    73.0      75.0   \n",
              "\n",
              "   CWDistance Complete  CompleteGroup  Score  \n",
              "0          79        Y            1.0      7  \n",
              "1          70        Y            1.0      8  \n",
              "2          85        Y            1.0      7  \n",
              "3          87        Y            1.0     10  \n",
              "4          72        N            0.0      4  "
            ],
            "text/html": [
              "\n",
              "  <div id=\"df-0ad06dcc-a2d9-4e00-9fca-3e3d00d378c1\" class=\"colab-df-container\">\n",
              "    <div>\n",
              "<style scoped>\n",
              "    .dataframe tbody tr th:only-of-type {\n",
              "        vertical-align: middle;\n",
              "    }\n",
              "\n",
              "    .dataframe tbody tr th {\n",
              "        vertical-align: top;\n",
              "    }\n",
              "\n",
              "    .dataframe thead th {\n",
              "        text-align: right;\n",
              "    }\n",
              "</style>\n",
              "<table border=\"1\" class=\"dataframe\">\n",
              "  <thead>\n",
              "    <tr style=\"text-align: right;\">\n",
              "      <th></th>\n",
              "      <th>ID</th>\n",
              "      <th>Age</th>\n",
              "      <th>Gender</th>\n",
              "      <th>GenderGroup</th>\n",
              "      <th>Glasses</th>\n",
              "      <th>GlassesGroup</th>\n",
              "      <th>Height</th>\n",
              "      <th>Wingspan</th>\n",
              "      <th>CWDistance</th>\n",
              "      <th>Complete</th>\n",
              "      <th>CompleteGroup</th>\n",
              "      <th>Score</th>\n",
              "    </tr>\n",
              "  </thead>\n",
              "  <tbody>\n",
              "    <tr>\n",
              "      <th>0</th>\n",
              "      <td>1</td>\n",
              "      <td>56.0</td>\n",
              "      <td>F</td>\n",
              "      <td>1</td>\n",
              "      <td>Y</td>\n",
              "      <td>1</td>\n",
              "      <td>62.0</td>\n",
              "      <td>61.0</td>\n",
              "      <td>79</td>\n",
              "      <td>Y</td>\n",
              "      <td>1.0</td>\n",
              "      <td>7</td>\n",
              "    </tr>\n",
              "    <tr>\n",
              "      <th>1</th>\n",
              "      <td>2</td>\n",
              "      <td>26.0</td>\n",
              "      <td>F</td>\n",
              "      <td>1</td>\n",
              "      <td>Y</td>\n",
              "      <td>1</td>\n",
              "      <td>62.0</td>\n",
              "      <td>60.0</td>\n",
              "      <td>70</td>\n",
              "      <td>Y</td>\n",
              "      <td>1.0</td>\n",
              "      <td>8</td>\n",
              "    </tr>\n",
              "    <tr>\n",
              "      <th>2</th>\n",
              "      <td>3</td>\n",
              "      <td>33.0</td>\n",
              "      <td>F</td>\n",
              "      <td>1</td>\n",
              "      <td>Y</td>\n",
              "      <td>1</td>\n",
              "      <td>66.0</td>\n",
              "      <td>64.0</td>\n",
              "      <td>85</td>\n",
              "      <td>Y</td>\n",
              "      <td>1.0</td>\n",
              "      <td>7</td>\n",
              "    </tr>\n",
              "    <tr>\n",
              "      <th>3</th>\n",
              "      <td>4</td>\n",
              "      <td>39.0</td>\n",
              "      <td>F</td>\n",
              "      <td>1</td>\n",
              "      <td>N</td>\n",
              "      <td>0</td>\n",
              "      <td>64.0</td>\n",
              "      <td>63.0</td>\n",
              "      <td>87</td>\n",
              "      <td>Y</td>\n",
              "      <td>1.0</td>\n",
              "      <td>10</td>\n",
              "    </tr>\n",
              "    <tr>\n",
              "      <th>4</th>\n",
              "      <td>5</td>\n",
              "      <td>27.0</td>\n",
              "      <td>M</td>\n",
              "      <td>2</td>\n",
              "      <td>N</td>\n",
              "      <td>0</td>\n",
              "      <td>73.0</td>\n",
              "      <td>75.0</td>\n",
              "      <td>72</td>\n",
              "      <td>N</td>\n",
              "      <td>0.0</td>\n",
              "      <td>4</td>\n",
              "    </tr>\n",
              "  </tbody>\n",
              "</table>\n",
              "</div>\n",
              "    <div class=\"colab-df-buttons\">\n",
              "\n",
              "  <div class=\"colab-df-container\">\n",
              "    <button class=\"colab-df-convert\" onclick=\"convertToInteractive('df-0ad06dcc-a2d9-4e00-9fca-3e3d00d378c1')\"\n",
              "            title=\"Convert this dataframe to an interactive table.\"\n",
              "            style=\"display:none;\">\n",
              "\n",
              "  <svg xmlns=\"http://www.w3.org/2000/svg\" height=\"24px\" viewBox=\"0 -960 960 960\">\n",
              "    <path d=\"M120-120v-720h720v720H120Zm60-500h600v-160H180v160Zm220 220h160v-160H400v160Zm0 220h160v-160H400v160ZM180-400h160v-160H180v160Zm440 0h160v-160H620v160ZM180-180h160v-160H180v160Zm440 0h160v-160H620v160Z\"/>\n",
              "  </svg>\n",
              "    </button>\n",
              "\n",
              "  <style>\n",
              "    .colab-df-container {\n",
              "      display:flex;\n",
              "      gap: 12px;\n",
              "    }\n",
              "\n",
              "    .colab-df-convert {\n",
              "      background-color: #E8F0FE;\n",
              "      border: none;\n",
              "      border-radius: 50%;\n",
              "      cursor: pointer;\n",
              "      display: none;\n",
              "      fill: #1967D2;\n",
              "      height: 32px;\n",
              "      padding: 0 0 0 0;\n",
              "      width: 32px;\n",
              "    }\n",
              "\n",
              "    .colab-df-convert:hover {\n",
              "      background-color: #E2EBFA;\n",
              "      box-shadow: 0px 1px 2px rgba(60, 64, 67, 0.3), 0px 1px 3px 1px rgba(60, 64, 67, 0.15);\n",
              "      fill: #174EA6;\n",
              "    }\n",
              "\n",
              "    .colab-df-buttons div {\n",
              "      margin-bottom: 4px;\n",
              "    }\n",
              "\n",
              "    [theme=dark] .colab-df-convert {\n",
              "      background-color: #3B4455;\n",
              "      fill: #D2E3FC;\n",
              "    }\n",
              "\n",
              "    [theme=dark] .colab-df-convert:hover {\n",
              "      background-color: #434B5C;\n",
              "      box-shadow: 0px 1px 3px 1px rgba(0, 0, 0, 0.15);\n",
              "      filter: drop-shadow(0px 1px 2px rgba(0, 0, 0, 0.3));\n",
              "      fill: #FFFFFF;\n",
              "    }\n",
              "  </style>\n",
              "\n",
              "    <script>\n",
              "      const buttonEl =\n",
              "        document.querySelector('#df-0ad06dcc-a2d9-4e00-9fca-3e3d00d378c1 button.colab-df-convert');\n",
              "      buttonEl.style.display =\n",
              "        google.colab.kernel.accessAllowed ? 'block' : 'none';\n",
              "\n",
              "      async function convertToInteractive(key) {\n",
              "        const element = document.querySelector('#df-0ad06dcc-a2d9-4e00-9fca-3e3d00d378c1');\n",
              "        const dataTable =\n",
              "          await google.colab.kernel.invokeFunction('convertToInteractive',\n",
              "                                                    [key], {});\n",
              "        if (!dataTable) return;\n",
              "\n",
              "        const docLinkHtml = 'Like what you see? Visit the ' +\n",
              "          '<a target=\"_blank\" href=https://colab.research.google.com/notebooks/data_table.ipynb>data table notebook</a>'\n",
              "          + ' to learn more about interactive tables.';\n",
              "        element.innerHTML = '';\n",
              "        dataTable['output_type'] = 'display_data';\n",
              "        await google.colab.output.renderOutput(dataTable, element);\n",
              "        const docLink = document.createElement('div');\n",
              "        docLink.innerHTML = docLinkHtml;\n",
              "        element.appendChild(docLink);\n",
              "      }\n",
              "    </script>\n",
              "  </div>\n",
              "\n",
              "\n",
              "<div id=\"df-72b1e1d8-20a5-4a0f-8170-99262c65cc7f\">\n",
              "  <button class=\"colab-df-quickchart\" onclick=\"quickchart('df-72b1e1d8-20a5-4a0f-8170-99262c65cc7f')\"\n",
              "            title=\"Suggest charts\"\n",
              "            style=\"display:none;\">\n",
              "\n",
              "<svg xmlns=\"http://www.w3.org/2000/svg\" height=\"24px\"viewBox=\"0 0 24 24\"\n",
              "     width=\"24px\">\n",
              "    <g>\n",
              "        <path d=\"M19 3H5c-1.1 0-2 .9-2 2v14c0 1.1.9 2 2 2h14c1.1 0 2-.9 2-2V5c0-1.1-.9-2-2-2zM9 17H7v-7h2v7zm4 0h-2V7h2v10zm4 0h-2v-4h2v4z\"/>\n",
              "    </g>\n",
              "</svg>\n",
              "  </button>\n",
              "\n",
              "<style>\n",
              "  .colab-df-quickchart {\n",
              "      --bg-color: #E8F0FE;\n",
              "      --fill-color: #1967D2;\n",
              "      --hover-bg-color: #E2EBFA;\n",
              "      --hover-fill-color: #174EA6;\n",
              "      --disabled-fill-color: #AAA;\n",
              "      --disabled-bg-color: #DDD;\n",
              "  }\n",
              "\n",
              "  [theme=dark] .colab-df-quickchart {\n",
              "      --bg-color: #3B4455;\n",
              "      --fill-color: #D2E3FC;\n",
              "      --hover-bg-color: #434B5C;\n",
              "      --hover-fill-color: #FFFFFF;\n",
              "      --disabled-bg-color: #3B4455;\n",
              "      --disabled-fill-color: #666;\n",
              "  }\n",
              "\n",
              "  .colab-df-quickchart {\n",
              "    background-color: var(--bg-color);\n",
              "    border: none;\n",
              "    border-radius: 50%;\n",
              "    cursor: pointer;\n",
              "    display: none;\n",
              "    fill: var(--fill-color);\n",
              "    height: 32px;\n",
              "    padding: 0;\n",
              "    width: 32px;\n",
              "  }\n",
              "\n",
              "  .colab-df-quickchart:hover {\n",
              "    background-color: var(--hover-bg-color);\n",
              "    box-shadow: 0 1px 2px rgba(60, 64, 67, 0.3), 0 1px 3px 1px rgba(60, 64, 67, 0.15);\n",
              "    fill: var(--button-hover-fill-color);\n",
              "  }\n",
              "\n",
              "  .colab-df-quickchart-complete:disabled,\n",
              "  .colab-df-quickchart-complete:disabled:hover {\n",
              "    background-color: var(--disabled-bg-color);\n",
              "    fill: var(--disabled-fill-color);\n",
              "    box-shadow: none;\n",
              "  }\n",
              "\n",
              "  .colab-df-spinner {\n",
              "    border: 2px solid var(--fill-color);\n",
              "    border-color: transparent;\n",
              "    border-bottom-color: var(--fill-color);\n",
              "    animation:\n",
              "      spin 1s steps(1) infinite;\n",
              "  }\n",
              "\n",
              "  @keyframes spin {\n",
              "    0% {\n",
              "      border-color: transparent;\n",
              "      border-bottom-color: var(--fill-color);\n",
              "      border-left-color: var(--fill-color);\n",
              "    }\n",
              "    20% {\n",
              "      border-color: transparent;\n",
              "      border-left-color: var(--fill-color);\n",
              "      border-top-color: var(--fill-color);\n",
              "    }\n",
              "    30% {\n",
              "      border-color: transparent;\n",
              "      border-left-color: var(--fill-color);\n",
              "      border-top-color: var(--fill-color);\n",
              "      border-right-color: var(--fill-color);\n",
              "    }\n",
              "    40% {\n",
              "      border-color: transparent;\n",
              "      border-right-color: var(--fill-color);\n",
              "      border-top-color: var(--fill-color);\n",
              "    }\n",
              "    60% {\n",
              "      border-color: transparent;\n",
              "      border-right-color: var(--fill-color);\n",
              "    }\n",
              "    80% {\n",
              "      border-color: transparent;\n",
              "      border-right-color: var(--fill-color);\n",
              "      border-bottom-color: var(--fill-color);\n",
              "    }\n",
              "    90% {\n",
              "      border-color: transparent;\n",
              "      border-bottom-color: var(--fill-color);\n",
              "    }\n",
              "  }\n",
              "</style>\n",
              "\n",
              "  <script>\n",
              "    async function quickchart(key) {\n",
              "      const quickchartButtonEl =\n",
              "        document.querySelector('#' + key + ' button');\n",
              "      quickchartButtonEl.disabled = true;  // To prevent multiple clicks.\n",
              "      quickchartButtonEl.classList.add('colab-df-spinner');\n",
              "      try {\n",
              "        const charts = await google.colab.kernel.invokeFunction(\n",
              "            'suggestCharts', [key], {});\n",
              "      } catch (error) {\n",
              "        console.error('Error during call to suggestCharts:', error);\n",
              "      }\n",
              "      quickchartButtonEl.classList.remove('colab-df-spinner');\n",
              "      quickchartButtonEl.classList.add('colab-df-quickchart-complete');\n",
              "    }\n",
              "    (() => {\n",
              "      let quickchartButtonEl =\n",
              "        document.querySelector('#df-72b1e1d8-20a5-4a0f-8170-99262c65cc7f button');\n",
              "      quickchartButtonEl.style.display =\n",
              "        google.colab.kernel.accessAllowed ? 'block' : 'none';\n",
              "    })();\n",
              "  </script>\n",
              "</div>\n",
              "\n",
              "    </div>\n",
              "  </div>\n"
            ],
            "application/vnd.google.colaboratory.intrinsic+json": {
              "type": "dataframe",
              "variable_name": "df",
              "summary": "{\n  \"name\": \"df\",\n  \"rows\": 52,\n  \"fields\": [\n    {\n      \"column\": \"ID\",\n      \"properties\": {\n        \"dtype\": \"number\",\n        \"std\": 15,\n        \"min\": 1,\n        \"max\": 52,\n        \"num_unique_values\": 52,\n        \"samples\": [\n          20,\n          42,\n          48\n        ],\n        \"semantic_type\": \"\",\n        \"description\": \"\"\n      }\n    },\n    {\n      \"column\": \"Age\",\n      \"properties\": {\n        \"dtype\": \"number\",\n        \"std\": 5.755611072990376,\n        \"min\": 22.0,\n        \"max\": 56.0,\n        \"num_unique_values\": 15,\n        \"samples\": [\n          30.0,\n          23.0,\n          56.0\n        ],\n        \"semantic_type\": \"\",\n        \"description\": \"\"\n      }\n    },\n    {\n      \"column\": \"Gender\",\n      \"properties\": {\n        \"dtype\": \"category\",\n        \"num_unique_values\": 2,\n        \"samples\": [\n          \"M\",\n          \"F\"\n        ],\n        \"semantic_type\": \"\",\n        \"description\": \"\"\n      }\n    },\n    {\n      \"column\": \"GenderGroup\",\n      \"properties\": {\n        \"dtype\": \"number\",\n        \"std\": 0,\n        \"min\": 1,\n        \"max\": 2,\n        \"num_unique_values\": 2,\n        \"samples\": [\n          2,\n          1\n        ],\n        \"semantic_type\": \"\",\n        \"description\": \"\"\n      }\n    },\n    {\n      \"column\": \"Glasses\",\n      \"properties\": {\n        \"dtype\": \"category\",\n        \"num_unique_values\": 2,\n        \"samples\": [\n          \"N\",\n          \"Y\"\n        ],\n        \"semantic_type\": \"\",\n        \"description\": \"\"\n      }\n    },\n    {\n      \"column\": \"GlassesGroup\",\n      \"properties\": {\n        \"dtype\": \"number\",\n        \"std\": 0,\n        \"min\": 0,\n        \"max\": 1,\n        \"num_unique_values\": 2,\n        \"samples\": [\n          0,\n          1\n        ],\n        \"semantic_type\": \"\",\n        \"description\": \"\"\n      }\n    },\n    {\n      \"column\": \"Height\",\n      \"properties\": {\n        \"dtype\": \"number\",\n        \"std\": 5.303812354353807,\n        \"min\": 61.5,\n        \"max\": 79.5,\n        \"num_unique_values\": 28,\n        \"samples\": [\n          62.75,\n          79.5\n        ],\n        \"semantic_type\": \"\",\n        \"description\": \"\"\n      }\n    },\n    {\n      \"column\": \"Wingspan\",\n      \"properties\": {\n        \"dtype\": \"number\",\n        \"std\": 5.624020611905442,\n        \"min\": 57.5,\n        \"max\": 76.0,\n        \"num_unique_values\": 21,\n        \"samples\": [\n          61.0,\n          67.0\n        ],\n        \"semantic_type\": \"\",\n        \"description\": \"\"\n      }\n    },\n    {\n      \"column\": \"CWDistance\",\n      \"properties\": {\n        \"dtype\": \"number\",\n        \"std\": 14,\n        \"min\": 63,\n        \"max\": 115,\n        \"num_unique_values\": 30,\n        \"samples\": [\n          99,\n          74\n        ],\n        \"semantic_type\": \"\",\n        \"description\": \"\"\n      }\n    },\n    {\n      \"column\": \"Complete\",\n      \"properties\": {\n        \"dtype\": \"category\",\n        \"num_unique_values\": 2,\n        \"samples\": [\n          \"N\",\n          \"Y\"\n        ],\n        \"semantic_type\": \"\",\n        \"description\": \"\"\n      }\n    },\n    {\n      \"column\": \"CompleteGroup\",\n      \"properties\": {\n        \"dtype\": \"number\",\n        \"std\": 0.36729002271272465,\n        \"min\": 0.0,\n        \"max\": 1.0,\n        \"num_unique_values\": 2,\n        \"samples\": [\n          0.0,\n          1.0\n        ],\n        \"semantic_type\": \"\",\n        \"description\": \"\"\n      }\n    },\n    {\n      \"column\": \"Score\",\n      \"properties\": {\n        \"dtype\": \"number\",\n        \"std\": 2,\n        \"min\": 2,\n        \"max\": 10,\n        \"num_unique_values\": 9,\n        \"samples\": [\n          6,\n          8\n        ],\n        \"semantic_type\": \"\",\n        \"description\": \"\"\n      }\n    }\n  ]\n}"
            }
          },
          "metadata": {},
          "execution_count": 40
        }
      ],
      "source": [
        "df.head()"
      ]
    },
    {
      "cell_type": "code",
      "execution_count": 43,
      "metadata": {
        "id": "PFjBasJacJwu",
        "colab": {
          "base_uri": "https://localhost:8080/",
          "height": 242
        },
        "outputId": "87664018-7146-4667-cb53-6f8a9e12d454"
      },
      "outputs": [
        {
          "output_type": "stream",
          "name": "stdout",
          "text": [
            "\n",
            "Nuevo DataFrame con la columna 'AgeRatio' añadida:\n"
          ]
        },
        {
          "output_type": "execute_result",
          "data": {
            "text/plain": [
              "   ID   Age Gender  GenderGroup Glasses  GlassesGroup  Height  Wingspan  \\\n",
              "0   1  56.0      F            1       Y             1    62.0      61.0   \n",
              "1   2  26.0      F            1       Y             1    62.0      60.0   \n",
              "2   3  33.0      F            1       Y             1    66.0      64.0   \n",
              "3   4  39.0      F            1       N             0    64.0      63.0   \n",
              "4   5  27.0      M            2       N             0    73.0      75.0   \n",
              "\n",
              "   CWDistance Complete  CompleteGroup  Score  AgeRatio  \n",
              "0          79        Y            1.0      7       1.0  \n",
              "1          70        Y            1.0      8       1.0  \n",
              "2          85        Y            1.0      7       1.0  \n",
              "3          87        Y            1.0     10       1.0  \n",
              "4          72        N            0.0      4       1.0  "
            ],
            "text/html": [
              "\n",
              "  <div id=\"df-83c92de8-9749-49ab-a125-f91d9c4cdea9\" class=\"colab-df-container\">\n",
              "    <div>\n",
              "<style scoped>\n",
              "    .dataframe tbody tr th:only-of-type {\n",
              "        vertical-align: middle;\n",
              "    }\n",
              "\n",
              "    .dataframe tbody tr th {\n",
              "        vertical-align: top;\n",
              "    }\n",
              "\n",
              "    .dataframe thead th {\n",
              "        text-align: right;\n",
              "    }\n",
              "</style>\n",
              "<table border=\"1\" class=\"dataframe\">\n",
              "  <thead>\n",
              "    <tr style=\"text-align: right;\">\n",
              "      <th></th>\n",
              "      <th>ID</th>\n",
              "      <th>Age</th>\n",
              "      <th>Gender</th>\n",
              "      <th>GenderGroup</th>\n",
              "      <th>Glasses</th>\n",
              "      <th>GlassesGroup</th>\n",
              "      <th>Height</th>\n",
              "      <th>Wingspan</th>\n",
              "      <th>CWDistance</th>\n",
              "      <th>Complete</th>\n",
              "      <th>CompleteGroup</th>\n",
              "      <th>Score</th>\n",
              "      <th>AgeRatio</th>\n",
              "    </tr>\n",
              "  </thead>\n",
              "  <tbody>\n",
              "    <tr>\n",
              "      <th>0</th>\n",
              "      <td>1</td>\n",
              "      <td>56.0</td>\n",
              "      <td>F</td>\n",
              "      <td>1</td>\n",
              "      <td>Y</td>\n",
              "      <td>1</td>\n",
              "      <td>62.0</td>\n",
              "      <td>61.0</td>\n",
              "      <td>79</td>\n",
              "      <td>Y</td>\n",
              "      <td>1.0</td>\n",
              "      <td>7</td>\n",
              "      <td>1.0</td>\n",
              "    </tr>\n",
              "    <tr>\n",
              "      <th>1</th>\n",
              "      <td>2</td>\n",
              "      <td>26.0</td>\n",
              "      <td>F</td>\n",
              "      <td>1</td>\n",
              "      <td>Y</td>\n",
              "      <td>1</td>\n",
              "      <td>62.0</td>\n",
              "      <td>60.0</td>\n",
              "      <td>70</td>\n",
              "      <td>Y</td>\n",
              "      <td>1.0</td>\n",
              "      <td>8</td>\n",
              "      <td>1.0</td>\n",
              "    </tr>\n",
              "    <tr>\n",
              "      <th>2</th>\n",
              "      <td>3</td>\n",
              "      <td>33.0</td>\n",
              "      <td>F</td>\n",
              "      <td>1</td>\n",
              "      <td>Y</td>\n",
              "      <td>1</td>\n",
              "      <td>66.0</td>\n",
              "      <td>64.0</td>\n",
              "      <td>85</td>\n",
              "      <td>Y</td>\n",
              "      <td>1.0</td>\n",
              "      <td>7</td>\n",
              "      <td>1.0</td>\n",
              "    </tr>\n",
              "    <tr>\n",
              "      <th>3</th>\n",
              "      <td>4</td>\n",
              "      <td>39.0</td>\n",
              "      <td>F</td>\n",
              "      <td>1</td>\n",
              "      <td>N</td>\n",
              "      <td>0</td>\n",
              "      <td>64.0</td>\n",
              "      <td>63.0</td>\n",
              "      <td>87</td>\n",
              "      <td>Y</td>\n",
              "      <td>1.0</td>\n",
              "      <td>10</td>\n",
              "      <td>1.0</td>\n",
              "    </tr>\n",
              "    <tr>\n",
              "      <th>4</th>\n",
              "      <td>5</td>\n",
              "      <td>27.0</td>\n",
              "      <td>M</td>\n",
              "      <td>2</td>\n",
              "      <td>N</td>\n",
              "      <td>0</td>\n",
              "      <td>73.0</td>\n",
              "      <td>75.0</td>\n",
              "      <td>72</td>\n",
              "      <td>N</td>\n",
              "      <td>0.0</td>\n",
              "      <td>4</td>\n",
              "      <td>1.0</td>\n",
              "    </tr>\n",
              "  </tbody>\n",
              "</table>\n",
              "</div>\n",
              "    <div class=\"colab-df-buttons\">\n",
              "\n",
              "  <div class=\"colab-df-container\">\n",
              "    <button class=\"colab-df-convert\" onclick=\"convertToInteractive('df-83c92de8-9749-49ab-a125-f91d9c4cdea9')\"\n",
              "            title=\"Convert this dataframe to an interactive table.\"\n",
              "            style=\"display:none;\">\n",
              "\n",
              "  <svg xmlns=\"http://www.w3.org/2000/svg\" height=\"24px\" viewBox=\"0 -960 960 960\">\n",
              "    <path d=\"M120-120v-720h720v720H120Zm60-500h600v-160H180v160Zm220 220h160v-160H400v160Zm0 220h160v-160H400v160ZM180-400h160v-160H180v160Zm440 0h160v-160H620v160ZM180-180h160v-160H180v160Zm440 0h160v-160H620v160Z\"/>\n",
              "  </svg>\n",
              "    </button>\n",
              "\n",
              "  <style>\n",
              "    .colab-df-container {\n",
              "      display:flex;\n",
              "      gap: 12px;\n",
              "    }\n",
              "\n",
              "    .colab-df-convert {\n",
              "      background-color: #E8F0FE;\n",
              "      border: none;\n",
              "      border-radius: 50%;\n",
              "      cursor: pointer;\n",
              "      display: none;\n",
              "      fill: #1967D2;\n",
              "      height: 32px;\n",
              "      padding: 0 0 0 0;\n",
              "      width: 32px;\n",
              "    }\n",
              "\n",
              "    .colab-df-convert:hover {\n",
              "      background-color: #E2EBFA;\n",
              "      box-shadow: 0px 1px 2px rgba(60, 64, 67, 0.3), 0px 1px 3px 1px rgba(60, 64, 67, 0.15);\n",
              "      fill: #174EA6;\n",
              "    }\n",
              "\n",
              "    .colab-df-buttons div {\n",
              "      margin-bottom: 4px;\n",
              "    }\n",
              "\n",
              "    [theme=dark] .colab-df-convert {\n",
              "      background-color: #3B4455;\n",
              "      fill: #D2E3FC;\n",
              "    }\n",
              "\n",
              "    [theme=dark] .colab-df-convert:hover {\n",
              "      background-color: #434B5C;\n",
              "      box-shadow: 0px 1px 3px 1px rgba(0, 0, 0, 0.15);\n",
              "      filter: drop-shadow(0px 1px 2px rgba(0, 0, 0, 0.3));\n",
              "      fill: #FFFFFF;\n",
              "    }\n",
              "  </style>\n",
              "\n",
              "    <script>\n",
              "      const buttonEl =\n",
              "        document.querySelector('#df-83c92de8-9749-49ab-a125-f91d9c4cdea9 button.colab-df-convert');\n",
              "      buttonEl.style.display =\n",
              "        google.colab.kernel.accessAllowed ? 'block' : 'none';\n",
              "\n",
              "      async function convertToInteractive(key) {\n",
              "        const element = document.querySelector('#df-83c92de8-9749-49ab-a125-f91d9c4cdea9');\n",
              "        const dataTable =\n",
              "          await google.colab.kernel.invokeFunction('convertToInteractive',\n",
              "                                                    [key], {});\n",
              "        if (!dataTable) return;\n",
              "\n",
              "        const docLinkHtml = 'Like what you see? Visit the ' +\n",
              "          '<a target=\"_blank\" href=https://colab.research.google.com/notebooks/data_table.ipynb>data table notebook</a>'\n",
              "          + ' to learn more about interactive tables.';\n",
              "        element.innerHTML = '';\n",
              "        dataTable['output_type'] = 'display_data';\n",
              "        await google.colab.output.renderOutput(dataTable, element);\n",
              "        const docLink = document.createElement('div');\n",
              "        docLink.innerHTML = docLinkHtml;\n",
              "        element.appendChild(docLink);\n",
              "      }\n",
              "    </script>\n",
              "  </div>\n",
              "\n",
              "\n",
              "<div id=\"df-36cc89d4-1ad6-4a0c-aef1-82054b26ca53\">\n",
              "  <button class=\"colab-df-quickchart\" onclick=\"quickchart('df-36cc89d4-1ad6-4a0c-aef1-82054b26ca53')\"\n",
              "            title=\"Suggest charts\"\n",
              "            style=\"display:none;\">\n",
              "\n",
              "<svg xmlns=\"http://www.w3.org/2000/svg\" height=\"24px\"viewBox=\"0 0 24 24\"\n",
              "     width=\"24px\">\n",
              "    <g>\n",
              "        <path d=\"M19 3H5c-1.1 0-2 .9-2 2v14c0 1.1.9 2 2 2h14c1.1 0 2-.9 2-2V5c0-1.1-.9-2-2-2zM9 17H7v-7h2v7zm4 0h-2V7h2v10zm4 0h-2v-4h2v4z\"/>\n",
              "    </g>\n",
              "</svg>\n",
              "  </button>\n",
              "\n",
              "<style>\n",
              "  .colab-df-quickchart {\n",
              "      --bg-color: #E8F0FE;\n",
              "      --fill-color: #1967D2;\n",
              "      --hover-bg-color: #E2EBFA;\n",
              "      --hover-fill-color: #174EA6;\n",
              "      --disabled-fill-color: #AAA;\n",
              "      --disabled-bg-color: #DDD;\n",
              "  }\n",
              "\n",
              "  [theme=dark] .colab-df-quickchart {\n",
              "      --bg-color: #3B4455;\n",
              "      --fill-color: #D2E3FC;\n",
              "      --hover-bg-color: #434B5C;\n",
              "      --hover-fill-color: #FFFFFF;\n",
              "      --disabled-bg-color: #3B4455;\n",
              "      --disabled-fill-color: #666;\n",
              "  }\n",
              "\n",
              "  .colab-df-quickchart {\n",
              "    background-color: var(--bg-color);\n",
              "    border: none;\n",
              "    border-radius: 50%;\n",
              "    cursor: pointer;\n",
              "    display: none;\n",
              "    fill: var(--fill-color);\n",
              "    height: 32px;\n",
              "    padding: 0;\n",
              "    width: 32px;\n",
              "  }\n",
              "\n",
              "  .colab-df-quickchart:hover {\n",
              "    background-color: var(--hover-bg-color);\n",
              "    box-shadow: 0 1px 2px rgba(60, 64, 67, 0.3), 0 1px 3px 1px rgba(60, 64, 67, 0.15);\n",
              "    fill: var(--button-hover-fill-color);\n",
              "  }\n",
              "\n",
              "  .colab-df-quickchart-complete:disabled,\n",
              "  .colab-df-quickchart-complete:disabled:hover {\n",
              "    background-color: var(--disabled-bg-color);\n",
              "    fill: var(--disabled-fill-color);\n",
              "    box-shadow: none;\n",
              "  }\n",
              "\n",
              "  .colab-df-spinner {\n",
              "    border: 2px solid var(--fill-color);\n",
              "    border-color: transparent;\n",
              "    border-bottom-color: var(--fill-color);\n",
              "    animation:\n",
              "      spin 1s steps(1) infinite;\n",
              "  }\n",
              "\n",
              "  @keyframes spin {\n",
              "    0% {\n",
              "      border-color: transparent;\n",
              "      border-bottom-color: var(--fill-color);\n",
              "      border-left-color: var(--fill-color);\n",
              "    }\n",
              "    20% {\n",
              "      border-color: transparent;\n",
              "      border-left-color: var(--fill-color);\n",
              "      border-top-color: var(--fill-color);\n",
              "    }\n",
              "    30% {\n",
              "      border-color: transparent;\n",
              "      border-left-color: var(--fill-color);\n",
              "      border-top-color: var(--fill-color);\n",
              "      border-right-color: var(--fill-color);\n",
              "    }\n",
              "    40% {\n",
              "      border-color: transparent;\n",
              "      border-right-color: var(--fill-color);\n",
              "      border-top-color: var(--fill-color);\n",
              "    }\n",
              "    60% {\n",
              "      border-color: transparent;\n",
              "      border-right-color: var(--fill-color);\n",
              "    }\n",
              "    80% {\n",
              "      border-color: transparent;\n",
              "      border-right-color: var(--fill-color);\n",
              "      border-bottom-color: var(--fill-color);\n",
              "    }\n",
              "    90% {\n",
              "      border-color: transparent;\n",
              "      border-bottom-color: var(--fill-color);\n",
              "    }\n",
              "  }\n",
              "</style>\n",
              "\n",
              "  <script>\n",
              "    async function quickchart(key) {\n",
              "      const quickchartButtonEl =\n",
              "        document.querySelector('#' + key + ' button');\n",
              "      quickchartButtonEl.disabled = true;  // To prevent multiple clicks.\n",
              "      quickchartButtonEl.classList.add('colab-df-spinner');\n",
              "      try {\n",
              "        const charts = await google.colab.kernel.invokeFunction(\n",
              "            'suggestCharts', [key], {});\n",
              "      } catch (error) {\n",
              "        console.error('Error during call to suggestCharts:', error);\n",
              "      }\n",
              "      quickchartButtonEl.classList.remove('colab-df-spinner');\n",
              "      quickchartButtonEl.classList.add('colab-df-quickchart-complete');\n",
              "    }\n",
              "    (() => {\n",
              "      let quickchartButtonEl =\n",
              "        document.querySelector('#df-36cc89d4-1ad6-4a0c-aef1-82054b26ca53 button');\n",
              "      quickchartButtonEl.style.display =\n",
              "        google.colab.kernel.accessAllowed ? 'block' : 'none';\n",
              "    })();\n",
              "  </script>\n",
              "</div>\n",
              "\n",
              "    </div>\n",
              "  </div>\n"
            ],
            "application/vnd.google.colaboratory.intrinsic+json": {
              "type": "dataframe",
              "variable_name": "df",
              "summary": "{\n  \"name\": \"df\",\n  \"rows\": 52,\n  \"fields\": [\n    {\n      \"column\": \"ID\",\n      \"properties\": {\n        \"dtype\": \"number\",\n        \"std\": 15,\n        \"min\": 1,\n        \"max\": 52,\n        \"num_unique_values\": 52,\n        \"samples\": [\n          20,\n          42,\n          48\n        ],\n        \"semantic_type\": \"\",\n        \"description\": \"\"\n      }\n    },\n    {\n      \"column\": \"Age\",\n      \"properties\": {\n        \"dtype\": \"number\",\n        \"std\": 5.755611072990376,\n        \"min\": 22.0,\n        \"max\": 56.0,\n        \"num_unique_values\": 15,\n        \"samples\": [\n          30.0,\n          23.0,\n          56.0\n        ],\n        \"semantic_type\": \"\",\n        \"description\": \"\"\n      }\n    },\n    {\n      \"column\": \"Gender\",\n      \"properties\": {\n        \"dtype\": \"category\",\n        \"num_unique_values\": 2,\n        \"samples\": [\n          \"M\",\n          \"F\"\n        ],\n        \"semantic_type\": \"\",\n        \"description\": \"\"\n      }\n    },\n    {\n      \"column\": \"GenderGroup\",\n      \"properties\": {\n        \"dtype\": \"number\",\n        \"std\": 0,\n        \"min\": 1,\n        \"max\": 2,\n        \"num_unique_values\": 2,\n        \"samples\": [\n          2,\n          1\n        ],\n        \"semantic_type\": \"\",\n        \"description\": \"\"\n      }\n    },\n    {\n      \"column\": \"Glasses\",\n      \"properties\": {\n        \"dtype\": \"category\",\n        \"num_unique_values\": 2,\n        \"samples\": [\n          \"N\",\n          \"Y\"\n        ],\n        \"semantic_type\": \"\",\n        \"description\": \"\"\n      }\n    },\n    {\n      \"column\": \"GlassesGroup\",\n      \"properties\": {\n        \"dtype\": \"number\",\n        \"std\": 0,\n        \"min\": 0,\n        \"max\": 1,\n        \"num_unique_values\": 2,\n        \"samples\": [\n          0,\n          1\n        ],\n        \"semantic_type\": \"\",\n        \"description\": \"\"\n      }\n    },\n    {\n      \"column\": \"Height\",\n      \"properties\": {\n        \"dtype\": \"number\",\n        \"std\": 5.303812354353807,\n        \"min\": 61.5,\n        \"max\": 79.5,\n        \"num_unique_values\": 28,\n        \"samples\": [\n          62.75,\n          79.5\n        ],\n        \"semantic_type\": \"\",\n        \"description\": \"\"\n      }\n    },\n    {\n      \"column\": \"Wingspan\",\n      \"properties\": {\n        \"dtype\": \"number\",\n        \"std\": 5.624020611905442,\n        \"min\": 57.5,\n        \"max\": 76.0,\n        \"num_unique_values\": 21,\n        \"samples\": [\n          61.0,\n          67.0\n        ],\n        \"semantic_type\": \"\",\n        \"description\": \"\"\n      }\n    },\n    {\n      \"column\": \"CWDistance\",\n      \"properties\": {\n        \"dtype\": \"number\",\n        \"std\": 14,\n        \"min\": 63,\n        \"max\": 115,\n        \"num_unique_values\": 30,\n        \"samples\": [\n          99,\n          74\n        ],\n        \"semantic_type\": \"\",\n        \"description\": \"\"\n      }\n    },\n    {\n      \"column\": \"Complete\",\n      \"properties\": {\n        \"dtype\": \"category\",\n        \"num_unique_values\": 2,\n        \"samples\": [\n          \"N\",\n          \"Y\"\n        ],\n        \"semantic_type\": \"\",\n        \"description\": \"\"\n      }\n    },\n    {\n      \"column\": \"CompleteGroup\",\n      \"properties\": {\n        \"dtype\": \"number\",\n        \"std\": 0.36729002271272465,\n        \"min\": 0.0,\n        \"max\": 1.0,\n        \"num_unique_values\": 2,\n        \"samples\": [\n          0.0,\n          1.0\n        ],\n        \"semantic_type\": \"\",\n        \"description\": \"\"\n      }\n    },\n    {\n      \"column\": \"Score\",\n      \"properties\": {\n        \"dtype\": \"number\",\n        \"std\": 2,\n        \"min\": 2,\n        \"max\": 10,\n        \"num_unique_values\": 9,\n        \"samples\": [\n          6,\n          8\n        ],\n        \"semantic_type\": \"\",\n        \"description\": \"\"\n      }\n    },\n    {\n      \"column\": \"AgeRatio\",\n      \"properties\": {\n        \"dtype\": \"number\",\n        \"std\": 0.0,\n        \"min\": 1.0,\n        \"max\": 1.0,\n        \"num_unique_values\": 1,\n        \"samples\": [\n          1.0\n        ],\n        \"semantic_type\": \"\",\n        \"description\": \"\"\n      }\n    }\n  ]\n}"
            }
          },
          "metadata": {},
          "execution_count": 43
        }
      ],
      "source": [
        "# Add a new column with new data\n",
        "\n",
        "NewColumnData = df['Age'] / df['Age']\n",
        "df.insert(12, \"AgeRatio\", NewColumnData, True)\n",
        "print(\"\\nNuevo DataFrame con la columna 'AgeRatio' añadida:\")\n",
        "\n",
        "df.head()"
      ]
    },
    {
      "cell_type": "code",
      "execution_count": 44,
      "metadata": {
        "id": "7AY1Xf0PcJwv",
        "colab": {
          "base_uri": "https://localhost:8080/"
        },
        "outputId": "5a7fe4c5-7da5-4d5e-eb40-121c594040f3"
      },
      "outputs": [
        {
          "output_type": "stream",
          "name": "stdout",
          "text": [
            "\n",
            "DataFrame después de eliminar la columna 'AgeRatio':\n",
            "   ID   Age Gender  GenderGroup Glasses  GlassesGroup  Height  Wingspan  \\\n",
            "0   1  56.0      F            1       Y             1    62.0      61.0   \n",
            "1   2  26.0      F            1       Y             1    62.0      60.0   \n",
            "2   3  33.0      F            1       Y             1    66.0      64.0   \n",
            "3   4  39.0      F            1       N             0    64.0      63.0   \n",
            "4   5  27.0      M            2       N             0    73.0      75.0   \n",
            "\n",
            "   CWDistance Complete  CompleteGroup  Score  \n",
            "0          79        Y            1.0      7  \n",
            "1          70        Y            1.0      8  \n",
            "2          85        Y            1.0      7  \n",
            "3          87        Y            1.0     10  \n",
            "4          72        N            0.0      4  \n"
          ]
        }
      ],
      "source": [
        "# # Eliminate inserted column\n",
        "df.drop(\"AgeRatio\", axis=1, inplace=True)\n",
        "print(\"\\nDataFrame después de eliminar la columna 'AgeRatio':\")\n",
        "print(df.head())"
      ]
    },
    {
      "cell_type": "code",
      "execution_count": 45,
      "metadata": {
        "id": "tVJVlUR2cJwv",
        "colab": {
          "base_uri": "https://localhost:8080/"
        },
        "outputId": "04d22748-0a91-46fc-a65b-f8ed4805a495"
      },
      "outputs": [
        {
          "output_type": "stream",
          "name": "stdout",
          "text": [
            "\n",
            "Nuevo DataFrame con la columna 'AgeInMonths' añadida:\n",
            "   ID   Age Gender  GenderGroup Glasses  GlassesGroup  Height  Wingspan  \\\n",
            "0   1  56.0      F            1       Y             1    62.0      61.0   \n",
            "1   2  26.0      F            1       Y             1    62.0      60.0   \n",
            "2   3  33.0      F            1       Y             1    66.0      64.0   \n",
            "3   4  39.0      F            1       N             0    64.0      63.0   \n",
            "4   5  27.0      M            2       N             0    73.0      75.0   \n",
            "\n",
            "   CWDistance Complete  CompleteGroup  Score  AgeInMonths  \n",
            "0          79        Y            1.0      7        672.0  \n",
            "1          70        Y            1.0      8        312.0  \n",
            "2          85        Y            1.0      7        396.0  \n",
            "3          87        Y            1.0     10        468.0  \n",
            "4          72        N            0.0      4        324.0  \n"
          ]
        }
      ],
      "source": [
        "# # Add new column derived from existing columns\n",
        "df[\"AgeInMonths\"] = df[\"Age\"] * 12\n",
        "print(\"\\nNuevo DataFrame con la columna 'AgeInMonths' añadida:\")\n",
        "print(df.head())"
      ]
    },
    {
      "cell_type": "code",
      "execution_count": 46,
      "metadata": {
        "id": "C8FJvHsQcJwv",
        "colab": {
          "base_uri": "https://localhost:8080/"
        },
        "outputId": "c6aae4b8-b6d3-48d4-c01a-7e63169b6ec0"
      },
      "outputs": [
        {
          "output_type": "stream",
          "name": "stdout",
          "text": [
            "\n",
            "DataFrame después de eliminar la columna 'AgeInMonths':\n",
            "   ID   Age Gender  GenderGroup Glasses  GlassesGroup  Height  Wingspan  \\\n",
            "0   1  56.0      F            1       Y             1    62.0      61.0   \n",
            "1   2  26.0      F            1       Y             1    62.0      60.0   \n",
            "2   3  33.0      F            1       Y             1    66.0      64.0   \n",
            "3   4  39.0      F            1       N             0    64.0      63.0   \n",
            "4   5  27.0      M            2       N             0    73.0      75.0   \n",
            "\n",
            "   CWDistance Complete  CompleteGroup  Score  \n",
            "0          79        Y            1.0      7  \n",
            "1          70        Y            1.0      8  \n",
            "2          85        Y            1.0      7  \n",
            "3          87        Y            1.0     10  \n",
            "4          72        N            0.0      4  \n"
          ]
        }
      ],
      "source": [
        "# # Eliminate inserted column\n",
        "df.drop(\"AgeInMonths\", axis=1, inplace=True)\n",
        "print(\"\\nDataFrame después de eliminar la columna 'AgeInMonths':\")\n",
        "print(df.head())\n"
      ]
    },
    {
      "cell_type": "code",
      "execution_count": 47,
      "metadata": {
        "id": "bRKPB77mcJww",
        "colab": {
          "base_uri": "https://localhost:8080/"
        },
        "outputId": "858e5bc4-cd3c-43aa-dad7-2b098bca7acd"
      },
      "outputs": [
        {
          "output_type": "stream",
          "name": "stdout",
          "text": [
            "\n",
            "Nuevo DataFrame con la columna 'GenderGroupNew' añadida:\n",
            "   ID   Age Gender  GenderGroup Glasses  GlassesGroup  Height  Wingspan  \\\n",
            "0   1  56.0      F            1       Y             1    62.0      61.0   \n",
            "1   2  26.0      F            1       Y             1    62.0      60.0   \n",
            "2   3  33.0      F            1       Y             1    66.0      64.0   \n",
            "3   4  39.0      F            1       N             0    64.0      63.0   \n",
            "4   5  27.0      M            2       N             0    73.0      75.0   \n",
            "\n",
            "   CWDistance Complete  CompleteGroup  Score GenderGroupNew  \n",
            "0          79        Y            1.0      7         Female  \n",
            "1          70        Y            1.0      8         Female  \n",
            "2          85        Y            1.0      7         Female  \n",
            "3          87        Y            1.0     10         Female  \n",
            "4          72        N            0.0      4           Male  \n"
          ]
        }
      ],
      "source": [
        "# Add a new column with text labels reflecting the code's meaning\n",
        "\n",
        "df[\"GenderGroupNew\"] = df.GenderGroup.replace({1: \"Female\", 2: \"Male\"})\n",
        "print(\"\\nNuevo DataFrame con la columna 'GenderGroupNew' añadida:\")\n",
        "print(df.head())"
      ]
    },
    {
      "cell_type": "code",
      "execution_count": 48,
      "metadata": {
        "id": "1aQx04JrcJww",
        "colab": {
          "base_uri": "https://localhost:8080/"
        },
        "outputId": "ff34348c-02f8-42c6-8788-8170a81cf709"
      },
      "outputs": [
        {
          "output_type": "stream",
          "name": "stdout",
          "text": [
            "\n",
            "DataFrame después de eliminar la columna 'GenderGroupNew':\n",
            "   ID   Age Gender  GenderGroup Glasses  GlassesGroup  Height  Wingspan  \\\n",
            "0   1  56.0      F            1       Y             1    62.0      61.0   \n",
            "1   2  26.0      F            1       Y             1    62.0      60.0   \n",
            "2   3  33.0      F            1       Y             1    66.0      64.0   \n",
            "3   4  39.0      F            1       N             0    64.0      63.0   \n",
            "4   5  27.0      M            2       N             0    73.0      75.0   \n",
            "\n",
            "   CWDistance Complete  CompleteGroup  Score  \n",
            "0          79        Y            1.0      7  \n",
            "1          70        Y            1.0      8  \n",
            "2          85        Y            1.0      7  \n",
            "3          87        Y            1.0     10  \n",
            "4          72        N            0.0      4  \n"
          ]
        }
      ],
      "source": [
        "## Eliminate inserted column\n",
        "df.drop(\"GenderGroupNew\", axis=1, inplace=True)\n",
        "print(\"\\nDataFrame después de eliminar la columna 'GenderGroupNew':\")\n",
        "print(df.head())\n"
      ]
    },
    {
      "cell_type": "code",
      "execution_count": 49,
      "metadata": {
        "id": "JDRFjGPgcJwx",
        "colab": {
          "base_uri": "https://localhost:8080/"
        },
        "outputId": "8800e4e2-69ec-4af8-df8b-c504cbdeb645"
      },
      "outputs": [
        {
          "output_type": "stream",
          "name": "stdout",
          "text": [
            "\n",
            "Nuevo DataFrame con la columna 'ColumnStrata' añadida:\n",
            "   ID   Age Gender  GenderGroup Glasses  GlassesGroup  Height  Wingspan  \\\n",
            "0   1  56.0      F            1       Y             1    62.0      61.0   \n",
            "1   2  26.0      F            1       Y             1    62.0      60.0   \n",
            "2   3  33.0      F            1       Y             1    66.0      64.0   \n",
            "3   4  39.0      F            1       N             0    64.0      63.0   \n",
            "4   5  27.0      M            2       N             0    73.0      75.0   \n",
            "\n",
            "   CWDistance Complete  CompleteGroup  Score  ColumnStrata  \n",
            "0          79        Y            1.0      7  (60.0, 63.0]  \n",
            "1          70        Y            1.0      8  (60.0, 63.0]  \n",
            "2          85        Y            1.0      7  (63.0, 66.0]  \n",
            "3          87        Y            1.0     10  (63.0, 66.0]  \n",
            "4          72        N            0.0      4  (72.0, 75.0]  \n"
          ]
        }
      ],
      "source": [
        "## Add a new column with strata based on these cut points\n",
        "df[\"ColumnStrata\"] = pd.cut(df.Height, [60., 63., 66., 69., 72., 75., 78.])\n",
        "print(\"\\nNuevo DataFrame con la columna 'ColumnStrata' añadida:\")\n",
        "print(df.head())\n",
        "\n"
      ]
    },
    {
      "cell_type": "code",
      "execution_count": 50,
      "metadata": {
        "id": "92xxpyXYcJwy",
        "colab": {
          "base_uri": "https://localhost:8080/"
        },
        "outputId": "7b17e1dc-87cb-475d-9ede-e1e2471750bf"
      },
      "outputs": [
        {
          "output_type": "stream",
          "name": "stdout",
          "text": [
            "\n",
            "DataFrame después de eliminar la columna 'ColumnStrata':\n",
            "   ID   Age Gender  GenderGroup Glasses  GlassesGroup  Height  Wingspan  \\\n",
            "0   1  56.0      F            1       Y             1    62.0      61.0   \n",
            "1   2  26.0      F            1       Y             1    62.0      60.0   \n",
            "2   3  33.0      F            1       Y             1    66.0      64.0   \n",
            "3   4  39.0      F            1       N             0    64.0      63.0   \n",
            "4   5  27.0      M            2       N             0    73.0      75.0   \n",
            "\n",
            "   CWDistance Complete  CompleteGroup  Score  \n",
            "0          79        Y            1.0      7  \n",
            "1          70        Y            1.0      8  \n",
            "2          85        Y            1.0      7  \n",
            "3          87        Y            1.0     10  \n",
            "4          72        N            0.0      4  \n"
          ]
        }
      ],
      "source": [
        "## Eliminate inserted column\n",
        "df.drop(\"ColumnStrata\", axis=1, inplace=True)\n",
        "print(\"\\nDataFrame después de eliminar la columna 'ColumnStrata':\")\n",
        "print(df.head())\n"
      ]
    },
    {
      "cell_type": "code",
      "execution_count": 51,
      "metadata": {
        "id": "LuA1GyJlcJw0",
        "colab": {
          "base_uri": "https://localhost:8080/"
        },
        "outputId": "b72c2df9-fdc4-4e86-b2ac-7f823937e946"
      },
      "outputs": [
        {
          "output_type": "stream",
          "name": "stdout",
          "text": [
            "\n",
            "DataFrame después de eliminar varias columnas:\n",
            "    Age Gender Glasses  Height  Wingspan  CWDistance Complete  Score\n",
            "0  56.0      F       Y    62.0      61.0          79        Y      7\n",
            "1  26.0      F       Y    62.0      60.0          70        Y      8\n",
            "2  33.0      F       Y    66.0      64.0          85        Y      7\n",
            "3  39.0      F       N    64.0      63.0          87        Y     10\n",
            "4  27.0      M       N    73.0      75.0          72        N      4\n"
          ]
        }
      ],
      "source": [
        "# Drop several \"unused\" columns\n",
        "vars_to_drop = [\"ID\", \"GenderGroup\", \"GlassesGroup\", \"CompleteGroup\"]\n",
        "df.drop(vars_to_drop, axis=1, inplace=True)\n",
        "print(\"\\nDataFrame después de eliminar varias columnas:\")\n",
        "print(df.head())"
      ]
    },
    {
      "cell_type": "markdown",
      "metadata": {
        "id": "FJhET6apcJw3"
      },
      "source": [
        "# Add and eliminate rows\n",
        "\n",
        "In some cases it is requiered to add new observations (rows) to the data set"
      ]
    },
    {
      "cell_type": "code",
      "execution_count": 52,
      "metadata": {
        "id": "xkVVZL79cJw4",
        "colab": {
          "base_uri": "https://localhost:8080/"
        },
        "outputId": "2c842d01-b481-4b0d-b7f7-7450e36204f5"
      },
      "outputs": [
        {
          "output_type": "stream",
          "name": "stdout",
          "text": [
            "\n",
            "Últimas filas del DataFrame:\n",
            "     Age Gender Glasses  Height  Wingspan  CWDistance Complete  Score\n",
            "47  24.0      M       N    79.5      75.0          82        N      8\n",
            "48  28.0      M       N    77.8      76.0          99        Y      9\n",
            "49  30.0      F       N    74.6       NaN          71        Y      9\n",
            "50   NaN      M       N    71.0      70.0         101        Y      8\n",
            "51  27.0      M       N     NaN      71.5         103        Y     10\n"
          ]
        }
      ],
      "source": [
        "# Print tail\n",
        "print(\"\\nÚltimas filas del DataFrame:\")\n",
        "print(df.tail())"
      ]
    },
    {
      "cell_type": "code",
      "execution_count": 55,
      "metadata": {
        "id": "-xpEkmQmcJw5",
        "colab": {
          "base_uri": "https://localhost:8080/",
          "height": 206
        },
        "outputId": "83edafd2-f9f5-4f49-b58b-4aaa9fe54f8b"
      },
      "outputs": [
        {
          "output_type": "execute_result",
          "data": {
            "text/plain": [
              "     Age Gender Glasses  Height Wingspan  CWDistance Complete  Score\n",
              "48  28.0      M       N    77.8     76.0          99        Y      9\n",
              "49  30.0      F       N    74.6      NaN          71        Y      9\n",
              "50   NaN      M       N    71.0     70.0         101        Y      8\n",
              "51  27.0      M       N     NaN     71.5         103        Y     10\n",
              "52  26.0      F       1    66.0      NaN          68        0      3"
            ],
            "text/html": [
              "\n",
              "  <div id=\"df-7789abd2-6bc3-4265-a259-e33f23ab51b6\" class=\"colab-df-container\">\n",
              "    <div>\n",
              "<style scoped>\n",
              "    .dataframe tbody tr th:only-of-type {\n",
              "        vertical-align: middle;\n",
              "    }\n",
              "\n",
              "    .dataframe tbody tr th {\n",
              "        vertical-align: top;\n",
              "    }\n",
              "\n",
              "    .dataframe thead th {\n",
              "        text-align: right;\n",
              "    }\n",
              "</style>\n",
              "<table border=\"1\" class=\"dataframe\">\n",
              "  <thead>\n",
              "    <tr style=\"text-align: right;\">\n",
              "      <th></th>\n",
              "      <th>Age</th>\n",
              "      <th>Gender</th>\n",
              "      <th>Glasses</th>\n",
              "      <th>Height</th>\n",
              "      <th>Wingspan</th>\n",
              "      <th>CWDistance</th>\n",
              "      <th>Complete</th>\n",
              "      <th>Score</th>\n",
              "    </tr>\n",
              "  </thead>\n",
              "  <tbody>\n",
              "    <tr>\n",
              "      <th>48</th>\n",
              "      <td>28.0</td>\n",
              "      <td>M</td>\n",
              "      <td>N</td>\n",
              "      <td>77.8</td>\n",
              "      <td>76.0</td>\n",
              "      <td>99</td>\n",
              "      <td>Y</td>\n",
              "      <td>9</td>\n",
              "    </tr>\n",
              "    <tr>\n",
              "      <th>49</th>\n",
              "      <td>30.0</td>\n",
              "      <td>F</td>\n",
              "      <td>N</td>\n",
              "      <td>74.6</td>\n",
              "      <td>NaN</td>\n",
              "      <td>71</td>\n",
              "      <td>Y</td>\n",
              "      <td>9</td>\n",
              "    </tr>\n",
              "    <tr>\n",
              "      <th>50</th>\n",
              "      <td>NaN</td>\n",
              "      <td>M</td>\n",
              "      <td>N</td>\n",
              "      <td>71.0</td>\n",
              "      <td>70.0</td>\n",
              "      <td>101</td>\n",
              "      <td>Y</td>\n",
              "      <td>8</td>\n",
              "    </tr>\n",
              "    <tr>\n",
              "      <th>51</th>\n",
              "      <td>27.0</td>\n",
              "      <td>M</td>\n",
              "      <td>N</td>\n",
              "      <td>NaN</td>\n",
              "      <td>71.5</td>\n",
              "      <td>103</td>\n",
              "      <td>Y</td>\n",
              "      <td>10</td>\n",
              "    </tr>\n",
              "    <tr>\n",
              "      <th>52</th>\n",
              "      <td>26.0</td>\n",
              "      <td>F</td>\n",
              "      <td>1</td>\n",
              "      <td>66.0</td>\n",
              "      <td>NaN</td>\n",
              "      <td>68</td>\n",
              "      <td>0</td>\n",
              "      <td>3</td>\n",
              "    </tr>\n",
              "  </tbody>\n",
              "</table>\n",
              "</div>\n",
              "    <div class=\"colab-df-buttons\">\n",
              "\n",
              "  <div class=\"colab-df-container\">\n",
              "    <button class=\"colab-df-convert\" onclick=\"convertToInteractive('df-7789abd2-6bc3-4265-a259-e33f23ab51b6')\"\n",
              "            title=\"Convert this dataframe to an interactive table.\"\n",
              "            style=\"display:none;\">\n",
              "\n",
              "  <svg xmlns=\"http://www.w3.org/2000/svg\" height=\"24px\" viewBox=\"0 -960 960 960\">\n",
              "    <path d=\"M120-120v-720h720v720H120Zm60-500h600v-160H180v160Zm220 220h160v-160H400v160Zm0 220h160v-160H400v160ZM180-400h160v-160H180v160Zm440 0h160v-160H620v160ZM180-180h160v-160H180v160Zm440 0h160v-160H620v160Z\"/>\n",
              "  </svg>\n",
              "    </button>\n",
              "\n",
              "  <style>\n",
              "    .colab-df-container {\n",
              "      display:flex;\n",
              "      gap: 12px;\n",
              "    }\n",
              "\n",
              "    .colab-df-convert {\n",
              "      background-color: #E8F0FE;\n",
              "      border: none;\n",
              "      border-radius: 50%;\n",
              "      cursor: pointer;\n",
              "      display: none;\n",
              "      fill: #1967D2;\n",
              "      height: 32px;\n",
              "      padding: 0 0 0 0;\n",
              "      width: 32px;\n",
              "    }\n",
              "\n",
              "    .colab-df-convert:hover {\n",
              "      background-color: #E2EBFA;\n",
              "      box-shadow: 0px 1px 2px rgba(60, 64, 67, 0.3), 0px 1px 3px 1px rgba(60, 64, 67, 0.15);\n",
              "      fill: #174EA6;\n",
              "    }\n",
              "\n",
              "    .colab-df-buttons div {\n",
              "      margin-bottom: 4px;\n",
              "    }\n",
              "\n",
              "    [theme=dark] .colab-df-convert {\n",
              "      background-color: #3B4455;\n",
              "      fill: #D2E3FC;\n",
              "    }\n",
              "\n",
              "    [theme=dark] .colab-df-convert:hover {\n",
              "      background-color: #434B5C;\n",
              "      box-shadow: 0px 1px 3px 1px rgba(0, 0, 0, 0.15);\n",
              "      filter: drop-shadow(0px 1px 2px rgba(0, 0, 0, 0.3));\n",
              "      fill: #FFFFFF;\n",
              "    }\n",
              "  </style>\n",
              "\n",
              "    <script>\n",
              "      const buttonEl =\n",
              "        document.querySelector('#df-7789abd2-6bc3-4265-a259-e33f23ab51b6 button.colab-df-convert');\n",
              "      buttonEl.style.display =\n",
              "        google.colab.kernel.accessAllowed ? 'block' : 'none';\n",
              "\n",
              "      async function convertToInteractive(key) {\n",
              "        const element = document.querySelector('#df-7789abd2-6bc3-4265-a259-e33f23ab51b6');\n",
              "        const dataTable =\n",
              "          await google.colab.kernel.invokeFunction('convertToInteractive',\n",
              "                                                    [key], {});\n",
              "        if (!dataTable) return;\n",
              "\n",
              "        const docLinkHtml = 'Like what you see? Visit the ' +\n",
              "          '<a target=\"_blank\" href=https://colab.research.google.com/notebooks/data_table.ipynb>data table notebook</a>'\n",
              "          + ' to learn more about interactive tables.';\n",
              "        element.innerHTML = '';\n",
              "        dataTable['output_type'] = 'display_data';\n",
              "        await google.colab.output.renderOutput(dataTable, element);\n",
              "        const docLink = document.createElement('div');\n",
              "        docLink.innerHTML = docLinkHtml;\n",
              "        element.appendChild(docLink);\n",
              "      }\n",
              "    </script>\n",
              "  </div>\n",
              "\n",
              "\n",
              "<div id=\"df-5489a91c-3531-421d-9ef9-b76e174b50ff\">\n",
              "  <button class=\"colab-df-quickchart\" onclick=\"quickchart('df-5489a91c-3531-421d-9ef9-b76e174b50ff')\"\n",
              "            title=\"Suggest charts\"\n",
              "            style=\"display:none;\">\n",
              "\n",
              "<svg xmlns=\"http://www.w3.org/2000/svg\" height=\"24px\"viewBox=\"0 0 24 24\"\n",
              "     width=\"24px\">\n",
              "    <g>\n",
              "        <path d=\"M19 3H5c-1.1 0-2 .9-2 2v14c0 1.1.9 2 2 2h14c1.1 0 2-.9 2-2V5c0-1.1-.9-2-2-2zM9 17H7v-7h2v7zm4 0h-2V7h2v10zm4 0h-2v-4h2v4z\"/>\n",
              "    </g>\n",
              "</svg>\n",
              "  </button>\n",
              "\n",
              "<style>\n",
              "  .colab-df-quickchart {\n",
              "      --bg-color: #E8F0FE;\n",
              "      --fill-color: #1967D2;\n",
              "      --hover-bg-color: #E2EBFA;\n",
              "      --hover-fill-color: #174EA6;\n",
              "      --disabled-fill-color: #AAA;\n",
              "      --disabled-bg-color: #DDD;\n",
              "  }\n",
              "\n",
              "  [theme=dark] .colab-df-quickchart {\n",
              "      --bg-color: #3B4455;\n",
              "      --fill-color: #D2E3FC;\n",
              "      --hover-bg-color: #434B5C;\n",
              "      --hover-fill-color: #FFFFFF;\n",
              "      --disabled-bg-color: #3B4455;\n",
              "      --disabled-fill-color: #666;\n",
              "  }\n",
              "\n",
              "  .colab-df-quickchart {\n",
              "    background-color: var(--bg-color);\n",
              "    border: none;\n",
              "    border-radius: 50%;\n",
              "    cursor: pointer;\n",
              "    display: none;\n",
              "    fill: var(--fill-color);\n",
              "    height: 32px;\n",
              "    padding: 0;\n",
              "    width: 32px;\n",
              "  }\n",
              "\n",
              "  .colab-df-quickchart:hover {\n",
              "    background-color: var(--hover-bg-color);\n",
              "    box-shadow: 0 1px 2px rgba(60, 64, 67, 0.3), 0 1px 3px 1px rgba(60, 64, 67, 0.15);\n",
              "    fill: var(--button-hover-fill-color);\n",
              "  }\n",
              "\n",
              "  .colab-df-quickchart-complete:disabled,\n",
              "  .colab-df-quickchart-complete:disabled:hover {\n",
              "    background-color: var(--disabled-bg-color);\n",
              "    fill: var(--disabled-fill-color);\n",
              "    box-shadow: none;\n",
              "  }\n",
              "\n",
              "  .colab-df-spinner {\n",
              "    border: 2px solid var(--fill-color);\n",
              "    border-color: transparent;\n",
              "    border-bottom-color: var(--fill-color);\n",
              "    animation:\n",
              "      spin 1s steps(1) infinite;\n",
              "  }\n",
              "\n",
              "  @keyframes spin {\n",
              "    0% {\n",
              "      border-color: transparent;\n",
              "      border-bottom-color: var(--fill-color);\n",
              "      border-left-color: var(--fill-color);\n",
              "    }\n",
              "    20% {\n",
              "      border-color: transparent;\n",
              "      border-left-color: var(--fill-color);\n",
              "      border-top-color: var(--fill-color);\n",
              "    }\n",
              "    30% {\n",
              "      border-color: transparent;\n",
              "      border-left-color: var(--fill-color);\n",
              "      border-top-color: var(--fill-color);\n",
              "      border-right-color: var(--fill-color);\n",
              "    }\n",
              "    40% {\n",
              "      border-color: transparent;\n",
              "      border-right-color: var(--fill-color);\n",
              "      border-top-color: var(--fill-color);\n",
              "    }\n",
              "    60% {\n",
              "      border-color: transparent;\n",
              "      border-right-color: var(--fill-color);\n",
              "    }\n",
              "    80% {\n",
              "      border-color: transparent;\n",
              "      border-right-color: var(--fill-color);\n",
              "      border-bottom-color: var(--fill-color);\n",
              "    }\n",
              "    90% {\n",
              "      border-color: transparent;\n",
              "      border-bottom-color: var(--fill-color);\n",
              "    }\n",
              "  }\n",
              "</style>\n",
              "\n",
              "  <script>\n",
              "    async function quickchart(key) {\n",
              "      const quickchartButtonEl =\n",
              "        document.querySelector('#' + key + ' button');\n",
              "      quickchartButtonEl.disabled = true;  // To prevent multiple clicks.\n",
              "      quickchartButtonEl.classList.add('colab-df-spinner');\n",
              "      try {\n",
              "        const charts = await google.colab.kernel.invokeFunction(\n",
              "            'suggestCharts', [key], {});\n",
              "      } catch (error) {\n",
              "        console.error('Error during call to suggestCharts:', error);\n",
              "      }\n",
              "      quickchartButtonEl.classList.remove('colab-df-spinner');\n",
              "      quickchartButtonEl.classList.add('colab-df-quickchart-complete');\n",
              "    }\n",
              "    (() => {\n",
              "      let quickchartButtonEl =\n",
              "        document.querySelector('#df-5489a91c-3531-421d-9ef9-b76e174b50ff button');\n",
              "      quickchartButtonEl.style.display =\n",
              "        google.colab.kernel.accessAllowed ? 'block' : 'none';\n",
              "    })();\n",
              "  </script>\n",
              "</div>\n",
              "\n",
              "    </div>\n",
              "  </div>\n"
            ],
            "application/vnd.google.colaboratory.intrinsic+json": {
              "type": "dataframe",
              "repr_error": "0"
            }
          },
          "metadata": {},
          "execution_count": 55
        }
      ],
      "source": [
        "df.loc[len(df.index)] = [26,  'F', 1, 66, 'NaN', 68,  0, 3]\n",
        "\n",
        "df.tail()\n",
        "\n",
        "\n"
      ]
    },
    {
      "cell_type": "code",
      "execution_count": 56,
      "metadata": {
        "id": "L4j5bL6hcJw5",
        "colab": {
          "base_uri": "https://localhost:8080/"
        },
        "outputId": "aa5f303e-2ae0-4dd2-88b2-c64f864890fd"
      },
      "outputs": [
        {
          "output_type": "stream",
          "name": "stdout",
          "text": [
            "\n",
            "DataFrame después de eliminar la fila añadida:\n",
            "     Age Gender Glasses  Height Wingspan  CWDistance Complete  Score\n",
            "48  28.0      M       N    77.8     76.0          99        Y      9\n",
            "49  30.0      F       N    74.6      NaN          71        Y      9\n",
            "50   NaN      M       N    71.0     70.0         101        Y      8\n",
            "51  27.0      M       N     NaN     71.5         103        Y     10\n",
            "52  26.0      F       1    66.0      NaN          68        0      3\n"
          ]
        }
      ],
      "source": [
        "## Eliminate inserted row\n",
        "df.drop([28], inplace=True)\n",
        "print(\"\\nDataFrame después de eliminar la fila añadida:\")\n",
        "print(df.tail())\n",
        "\n"
      ]
    },
    {
      "cell_type": "markdown",
      "metadata": {
        "id": "E7cXjrR5cJw6"
      },
      "source": [
        "# Cleaning your data: drop out unused columns and/or drop out rows with any missing values"
      ]
    },
    {
      "cell_type": "code",
      "execution_count": 57,
      "metadata": {
        "id": "8n-Cq_kycJw6",
        "colab": {
          "base_uri": "https://localhost:8080/"
        },
        "outputId": "1546d36c-e487-4102-fb4a-439f7ebe111c"
      },
      "outputs": [
        {
          "output_type": "stream",
          "name": "stdout",
          "text": [
            "\n",
            "DataFrame después de eliminar columnas no usadas y filas con valores faltantes:\n",
            "    Age Gender Glasses  Height Wingspan  CWDistance Complete  Score\n",
            "0  56.0      F       Y    62.0     61.0          79        Y      7\n",
            "1  26.0      F       Y    62.0     60.0          70        Y      8\n",
            "2  33.0      F       Y    66.0     64.0          85        Y      7\n",
            "3  39.0      F       N    64.0     63.0          87        Y     10\n",
            "4  27.0      M       N    73.0     75.0          72        N      4\n"
          ]
        }
      ],
      "source": [
        "# Drop unused columns\n",
        "df = df[[\"Age\", \"Gender\", \"Glasses\", \"Height\", \"Wingspan\", \"CWDistance\", \"Complete\", \"Score\"]]\n",
        "df = df.dropna()\n",
        "print(\"\\nDataFrame después de eliminar columnas no usadas y filas con valores faltantes:\")\n",
        "print(df.head())"
      ]
    },
    {
      "cell_type": "markdown",
      "metadata": {
        "id": "xtbam6vHcJw6"
      },
      "source": [
        "# Final remarks\n",
        "\n",
        "\n",
        "- The understanding of your dataset is essential\n",
        "    - Number of observations\n",
        "    - Variables\n",
        "    - Data types: numerical or categorial\n",
        "    - What are my variables of interest\n",
        "\n",
        "- There are several ways to do the same thing\n",
        "\n",
        "- Cleaning your dataset (dropping out rows with any missing values) is a good practice\n",
        "\n",
        "- The **Pandas** library provides fancy, high-performance, easy-to-use data structures and data analysis tools\n"
      ]
    },
    {
      "cell_type": "markdown",
      "metadata": {
        "id": "aKzAqogCcJw7"
      },
      "source": [
        "# Activity: work with the iris dataset\n",
        "\n",
        "Repeat this tutorial with the iris data set and respond to the following inquiries\n",
        "\n",
        "1. Calculate the statistical summary for each quantitative variables. Explain the results\n",
        "    - Identify the name of each column\n",
        "    - Identify the type of each column\n",
        "    - Minimum, maximum, mean, average, median, standar deviation\n",
        "    \n",
        "    \n",
        "2. Are there missing data? If so, create a new dataset containing only the rows with the non-missing data\n",
        "\n",
        "\n",
        "3. Create a new dataset containing only the petal width and length and the type of Flower\n",
        "\n",
        "\n",
        "4. Create a new dataset containing only the setal width and length and the type of Flower\n",
        "\n",
        "\n",
        "5. Create a new dataset containing the setal width and length and the type of Flower encoded as a categorical numerical column\n"
      ]
    },
    {
      "cell_type": "code",
      "execution_count": 61,
      "metadata": {
        "id": "1tW9Q-fdcJw7",
        "colab": {
          "base_uri": "https://localhost:8080/"
        },
        "outputId": "9d3b81b6-0218-4304-bbbd-e304e290e2e8"
      },
      "outputs": [
        {
          "output_type": "stream",
          "name": "stdout",
          "text": [
            "\n",
            "Resumen estadístico del dataset:\n",
            "       sepal.length  sepal.width  petal.length  petal.width\n",
            "count    150.000000   150.000000    150.000000   150.000000\n",
            "mean       5.843333     3.057333      3.758000     1.199333\n",
            "std        0.828066     0.435866      1.765298     0.762238\n",
            "min        4.300000     2.000000      1.000000     0.100000\n",
            "25%        5.100000     2.800000      1.600000     0.300000\n",
            "50%        5.800000     3.000000      4.350000     1.300000\n",
            "75%        6.400000     3.300000      5.100000     1.800000\n",
            "max        7.900000     4.400000      6.900000     2.500000\n",
            "\n",
            "Nombres de las columnas:\n",
            "Index(['sepal.length', 'sepal.width', 'petal.length', 'petal.width',\n",
            "       'variety'],\n",
            "      dtype='object')\n",
            "\n",
            "Tipos de cada columna:\n",
            "sepal.length    float64\n",
            "sepal.width     float64\n",
            "petal.length    float64\n",
            "petal.width     float64\n",
            "variety          object\n",
            "dtype: object\n",
            "\n",
            "Mínimo, máximo, media, mediana y desviación estándar de las columnas numéricas:\n",
            "\n",
            "Mínimo:\n",
            "sepal.length    4.3\n",
            "sepal.width     2.0\n",
            "petal.length    1.0\n",
            "petal.width     0.1\n",
            "dtype: float64\n",
            "\n",
            "Máximo:\n",
            "sepal.length    7.9\n",
            "sepal.width     4.4\n",
            "petal.length    6.9\n",
            "petal.width     2.5\n",
            "dtype: float64\n",
            "\n",
            "Media:\n",
            "sepal.length    5.843333\n",
            "sepal.width     3.057333\n",
            "petal.length    3.758000\n",
            "petal.width     1.199333\n",
            "dtype: float64\n",
            "\n",
            "Mediana:\n",
            "sepal.length    5.80\n",
            "sepal.width     3.00\n",
            "petal.length    4.35\n",
            "petal.width     1.30\n",
            "dtype: float64\n",
            "\n",
            "Desviación estándar:\n",
            "sepal.length    0.828066\n",
            "sepal.width     0.435866\n",
            "petal.length    1.765298\n",
            "petal.width     0.762238\n",
            "dtype: float64\n",
            "\n",
            "¿Hay datos faltantes?\n",
            "sepal.length    0\n",
            "sepal.width     0\n",
            "petal.length    0\n",
            "petal.width     0\n",
            "variety         0\n",
            "dtype: int64\n",
            "\n",
            "Nuevo dataset sin datos faltantes:\n",
            "   sepal.length  sepal.width  petal.length  petal.width variety\n",
            "0           5.1          3.5           1.4          0.2  Setosa\n",
            "1           4.9          3.0           1.4          0.2  Setosa\n",
            "2           4.7          3.2           1.3          0.2  Setosa\n",
            "3           4.6          3.1           1.5          0.2  Setosa\n",
            "4           5.0          3.6           1.4          0.2  Setosa\n",
            "\n",
            "Nuevo dataset con solo el ancho y largo de los pétalos y el tipo de flor:\n",
            "   petal.length  petal.width variety\n",
            "0           1.4          0.2  Setosa\n",
            "1           1.4          0.2  Setosa\n",
            "2           1.3          0.2  Setosa\n",
            "3           1.5          0.2  Setosa\n",
            "4           1.4          0.2  Setosa\n",
            "\n",
            "Nuevo dataset con solo el ancho y largo del sépalo y el tipo de flor:\n",
            "   sepal.length  sepal.width variety\n",
            "0           5.1          3.5  Setosa\n",
            "1           4.9          3.0  Setosa\n",
            "2           4.7          3.2  Setosa\n",
            "3           4.6          3.1  Setosa\n",
            "4           5.0          3.6  Setosa\n",
            "\n",
            "Nuevo dataset con el tipo de flor codificado numéricamente:\n",
            "   sepal.length  sepal.width  variety\n",
            "0           5.1          3.5        0\n",
            "1           4.9          3.0        0\n",
            "2           4.7          3.2        0\n",
            "3           4.6          3.1        0\n",
            "4           5.0          3.6        0\n"
          ]
        }
      ],
      "source": [
        "url = Ruta + \"iris.csv\"\n",
        "df_iris = pd.read_csv(url)\n",
        "\n",
        "# 1. Calcular el resumen estadístico de las variables cuantitativas (Mean, Min, Max, etc.)\n",
        "print(\"\\nResumen estadístico del dataset:\")\n",
        "print(df_iris.describe())\n",
        "\n",
        "# 2. Identificar el nombre de cada columna\n",
        "print(\"\\nNombres de las columnas:\")\n",
        "print(df_iris.columns)\n",
        "\n",
        "# 3. Identificar el tipo de cada columna\n",
        "print(\"\\nTipos de cada columna:\")\n",
        "print(df_iris.dtypes)\n",
        "\n",
        "# 4. Calcular el mínimo, máximo, media, mediana, y desviación estándar\n",
        "# Filtrar solo las columnas numéricas\n",
        "numeric_columns = df_iris.select_dtypes(include=['float64', 'int64'])\n",
        "\n",
        "# Mínimo, máximo, media, mediana y desviación estándar solo de las columnas numéricas\n",
        "print(\"\\nMínimo, máximo, media, mediana y desviación estándar de las columnas numéricas:\")\n",
        "\n",
        "print(f\"\\nMínimo:\\n{numeric_columns.min()}\")\n",
        "print(f\"\\nMáximo:\\n{numeric_columns.max()}\")\n",
        "print(f\"\\nMedia:\\n{numeric_columns.mean()}\")\n",
        "print(f\"\\nMediana:\\n{numeric_columns.median()}\")\n",
        "print(f\"\\nDesviación estándar:\\n{numeric_columns.std()}\")\n",
        "\n",
        "# 5. Verificar si hay datos faltantes y crear un nuevo dataset sin los datos faltantes\n",
        "print(\"\\n¿Hay datos faltantes?\")\n",
        "print(df_iris.isnull().sum())  # Contar los valores faltantes por columna\n",
        "\n",
        "# Crear un nuevo dataset con solo las filas que no tienen datos faltantes\n",
        "df_iris_clean = df_iris.dropna()\n",
        "print(\"\\nNuevo dataset sin datos faltantes:\")\n",
        "print(df_iris_clean.head())\n",
        "\n",
        "# 6. Crear un nuevo dataset con solo el ancho y largo de los pétalos y el tipo de flor\n",
        "df_petal = df_iris[['petal.length', 'petal.width', 'variety']]\n",
        "print(\"\\nNuevo dataset con solo el ancho y largo de los pétalos y el tipo de flor:\")\n",
        "print(df_petal.head())\n",
        "\n",
        "# 7. Crear un nuevo dataset con solo el ancho y largo del sépalo y el tipo de flor\n",
        "df_sepal = df_iris[['sepal.length', 'sepal.width', 'variety']]\n",
        "print(\"\\nNuevo dataset con solo el ancho y largo del sépalo y el tipo de flor:\")\n",
        "print(df_sepal.head())\n",
        "\n",
        "# 8. Crear un nuevo dataset con solo el ancho y largo del sépalo y el tipo de flor codificado numéricamente\n",
        "df_sepal_encoded = df_sepal.copy()\n",
        "df_sepal_encoded['variety'] = df_sepal_encoded['variety'].map({'Setosa': 0, 'Versicolor': 1, 'Virginica': 2})\n",
        "print(\"\\nNuevo dataset con el tipo de flor codificado numéricamente:\")\n",
        "print(df_sepal_encoded.head())"
      ]
    }
  ],
  "metadata": {
    "colab": {
      "provenance": []
    },
    "kernelspec": {
      "display_name": "Python 3",
      "language": "python",
      "name": "python3"
    },
    "language_info": {
      "codemirror_mode": {
        "name": "ipython",
        "version": 3
      },
      "file_extension": ".py",
      "mimetype": "text/x-python",
      "name": "python",
      "nbconvert_exporter": "python",
      "pygments_lexer": "ipython3",
      "version": "3.8.3"
    }
  },
  "nbformat": 4,
  "nbformat_minor": 0
}