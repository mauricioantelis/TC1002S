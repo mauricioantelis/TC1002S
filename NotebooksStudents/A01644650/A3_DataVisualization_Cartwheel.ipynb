{
  "cells": [
    {
      "cell_type": "markdown",
      "metadata": {
        "id": "p12DsNzicARD"
      },
      "source": [
        "# Visualizing Data in Python\n",
        "\n",
        "When working with a new dataset, one of the most useful things to do is to begin to visualize the data. By using **tables**, **histograms**, **boxplots**, **scatter plots** and other visual tools, we can get a better idea of what the data may be trying to tell us, and we can gain insights into the data that we may have not discovered otherwise.\n",
        "\n",
        "In this notebook will use the [Seaborn](https://seaborn.pydata.org/) data processing library, which is a higher-level interface to **Matplotlib** that can be used to simplify many visualization tasks\n",
        "\n",
        "The **Seaborn** provides visualisations tools that will allow to explore data from a graphical perspective.\n",
        "\n",
        "\n",
        "## Acknowledgments\n",
        "\n",
        "- Data from https://www.coursera.org/ from the course \"Understanding and Visualizing Data with Python\" by University of Michigan"
      ]
    },
    {
      "cell_type": "code",
      "execution_count": null,
      "metadata": {
        "id": "MDr51cs8y8v6"
      },
      "outputs": [],
      "source": []
    },
    {
      "cell_type": "markdown",
      "metadata": {
        "id": "tdcF3gPxcARK"
      },
      "source": [
        "# Importing libraries"
      ]
    },
    {
      "cell_type": "code",
      "execution_count": 1,
      "metadata": {
        "id": "Z6wRR8zMcARL"
      },
      "outputs": [],
      "source": [
        "# Import the packages that we will be using\n",
        "import pandas as pd\n",
        "import seaborn as sns\n",
        "import matplotlib.pyplot as plt\n"
      ]
    },
    {
      "cell_type": "markdown",
      "metadata": {
        "id": "cNbE9wCWcARN"
      },
      "source": [
        "# Importing data"
      ]
    },
    {
      "cell_type": "code",
      "execution_count": 2,
      "metadata": {
        "colab": {
          "base_uri": "https://localhost:8080/"
        },
        "id": "P4HDjCMMcB1N",
        "outputId": "90879fbd-d4ea-4e6b-e0f6-b910d13c3689"
      },
      "outputs": [
        {
          "output_type": "stream",
          "name": "stdout",
          "text": [
            "Drive already mounted at /content/drive; to attempt to forcibly remount, call drive.mount(\"/content/drive\", force_remount=True).\n"
          ]
        }
      ],
      "source": [
        "# Define where you are running the code: colab or local\n",
        "RunInColab          = True     # (False: no  | True: yes)\n",
        "\n",
        "# If running in colab:\n",
        "if RunInColab:\n",
        "    # Mount your google drive in google colab\n",
        "    from google.colab import drive\n",
        "    drive.mount('/content/drive')\n",
        "\n",
        "    # Find location\n",
        "    #!pwd\n",
        "    #!ls\n",
        "    #!ls \"/content/drive/My Drive/Colab Notebooks/MachineLearningWithPython/\"\n",
        "\n",
        "    # Define path del proyecto\n",
        "    Ruta            = \"/content/drive/MyDrive/Semana tec marzo 2025/\"\n",
        "\n",
        "else:\n",
        "    # Define path del proyecto\n",
        "    Ruta            = \"\""
      ]
    },
    {
      "cell_type": "code",
      "execution_count": 3,
      "metadata": {
        "id": "MBGcqB7-cARO"
      },
      "outputs": [],
      "source": [
        "# url string that hosts our .csv file\n",
        "url = \"cartwheel.csv\"\n",
        "\n",
        "# Read the .csv file and store it as a pandas Data Frame\n",
        "df = pd.read_csv(Ruta + url)\n",
        "\n"
      ]
    },
    {
      "cell_type": "markdown",
      "metadata": {
        "id": "4z9nK8uHcARP"
      },
      "source": [
        "# Exploring the content of the data set\n",
        "\n",
        "Get a general 'feel' of the data\n"
      ]
    },
    {
      "cell_type": "code",
      "execution_count": 4,
      "metadata": {
        "id": "cukHDVNDcARP",
        "colab": {
          "base_uri": "https://localhost:8080/"
        },
        "outputId": "ff055cba-2b99-4723-a99c-85a592476c81"
      },
      "outputs": [
        {
          "output_type": "stream",
          "name": "stdout",
          "text": [
            "   ID   Age Gender  GenderGroup Glasses  GlassesGroup  Height  Wingspan  \\\n",
            "0   1  56.0      F            1       Y             1    62.0      61.0   \n",
            "1   2  26.0      F            1       Y             1    62.0      60.0   \n",
            "2   3  33.0      F            1       Y             1    66.0      64.0   \n",
            "3   4  39.0      F            1       N             0    64.0      63.0   \n",
            "4   5  27.0      M            2       N             0    73.0      75.0   \n",
            "\n",
            "   CWDistance Complete  CompleteGroup  Score  \n",
            "0          79        Y            1.0      7  \n",
            "1          70        Y            1.0      8  \n",
            "2          85        Y            1.0      7  \n",
            "3          87        Y            1.0     10  \n",
            "4          72        N            0.0      4  \n",
            "Index(['ID', 'Age', 'Gender', 'GenderGroup', 'Glasses', 'GlassesGroup',\n",
            "       'Height', 'Wingspan', 'CWDistance', 'Complete', 'CompleteGroup',\n",
            "       'Score'],\n",
            "      dtype='object')\n",
            "              ID        Age  GenderGroup  GlassesGroup     Height   Wingspan  \\\n",
            "count  52.000000  51.000000    52.000000     52.000000  51.000000  51.000000   \n",
            "mean   26.500000  28.411765     1.500000      0.500000  68.971569  67.313725   \n",
            "std    15.154757   5.755611     0.504878      0.504878   5.303812   5.624021   \n",
            "min     1.000000  22.000000     1.000000      0.000000  61.500000  57.500000   \n",
            "25%    13.750000  25.000000     1.000000      0.000000  64.500000  63.000000   \n",
            "50%    26.500000  27.000000     1.500000      0.500000  69.000000  66.000000   \n",
            "75%    39.250000  30.000000     2.000000      1.000000  73.000000  72.000000   \n",
            "max    52.000000  56.000000     2.000000      1.000000  79.500000  76.000000   \n",
            "\n",
            "       CWDistance  CompleteGroup      Score  \n",
            "count   52.000000      51.000000  52.000000  \n",
            "mean    85.576923       0.843137   7.173077  \n",
            "std     14.353173       0.367290   2.211566  \n",
            "min     63.000000       0.000000   2.000000  \n",
            "25%     72.000000       1.000000   6.000000  \n",
            "50%     85.000000       1.000000   8.000000  \n",
            "75%     96.500000       1.000000   9.000000  \n",
            "max    115.000000       1.000000  10.000000  \n",
            "ID                 int64\n",
            "Age              float64\n",
            "Gender            object\n",
            "GenderGroup        int64\n",
            "Glasses           object\n",
            "GlassesGroup       int64\n",
            "Height           float64\n",
            "Wingspan         float64\n",
            "CWDistance         int64\n",
            "Complete          object\n",
            "CompleteGroup    float64\n",
            "Score              int64\n",
            "dtype: object\n"
          ]
        }
      ],
      "source": [
        "print(df.head())\n",
        "print(df.columns)\n",
        "print(df.describe())\n",
        "print(df.dtypes)"
      ]
    },
    {
      "cell_type": "markdown",
      "metadata": {
        "id": "E9QYvkW_cARQ"
      },
      "source": [
        "# Frequency tables\n",
        "\n",
        "The `value_counts()` method can be used to determine the number of times that each distinct value of a variable occurs in a data set.  In statistical terms, this is the \"frequency distribution\" of the variable. The `value_counts()` method produces a table with two columns.  The first column contains all distinct observed values for the variable.  The second column contains the number of times each of these values occurs.  Note that the table returned by `value_counts()` is actually a **Pandas** data frame, so can be further processed using any Pandas methods for working with data frames.\n"
      ]
    },
    {
      "cell_type": "code",
      "execution_count": 5,
      "metadata": {
        "id": "ka9g40wAcARR",
        "colab": {
          "base_uri": "https://localhost:8080/",
          "height": 1000
        },
        "outputId": "2a2115c3-6006-4d53-dbd0-2883a06627b2"
      },
      "outputs": [
        {
          "output_type": "execute_result",
          "data": {
            "text/plain": [
              "ID  Age   Gender  GenderGroup  Glasses  GlassesGroup  Height  Wingspan  CWDistance  Complete  CompleteGroup  Score\n",
              "1   56.0  F       1            Y        1             62.00   61.0      79          Y         1.0            7        1\n",
              "2   26.0  F       1            Y        1             62.00   60.0      70          Y         1.0            8        1\n",
              "3   33.0  F       1            Y        1             66.00   64.0      85          Y         1.0            7        1\n",
              "4   39.0  F       1            N        0             64.00   63.0      87          Y         1.0            10       1\n",
              "5   27.0  M       2            N        0             73.00   75.0      72          N         0.0            4        1\n",
              "6   24.0  M       2            N        0             75.00   71.0      81          N         0.0            3        1\n",
              "7   28.0  M       2            N        0             75.00   76.0      107         Y         1.0            10       1\n",
              "8   22.0  F       1            N        0             65.00   62.0      98          Y         1.0            9        1\n",
              "9   29.0  M       2            Y        1             74.00   73.0      106         N         0.0            5        1\n",
              "10  33.0  F       1            Y        1             63.00   60.0      65          Y         1.0            8        1\n",
              "11  30.0  M       2            Y        1             69.50   66.0      96          Y         1.0            6        1\n",
              "12  28.0  F       1            Y        1             62.75   58.0      79          Y         1.0            10       1\n",
              "13  25.0  F       1            Y        1             65.00   64.5      92          Y         1.0            6        1\n",
              "14  23.0  F       1            N        0             61.50   57.5      66          Y         1.0            4        1\n",
              "15  31.0  M       2            Y        1             73.00   74.0      72          Y         1.0            9        1\n",
              "16  26.0  M       2            Y        1             71.00   72.0      115         Y         1.0            6        1\n",
              "17  26.0  F       1            N        0             61.50   59.5      90          N         0.0            10       1\n",
              "18  27.0  M       2            N        0             66.00   66.0      74          Y         1.0            5        1\n",
              "19  23.0  M       2            Y        1             70.00   69.0      64          Y         1.0            3        1\n",
              "20  24.0  F       1            Y        1             68.00   66.0      85          Y         1.0            8        1\n",
              "21  23.0  M       2            Y        1             69.00   67.0      66          N         0.0            2        1\n",
              "22  29.0  M       2            N        0             71.00   70.0      101         Y         1.0            8        1\n",
              "23  25.0  M       2            N        0             70.00   68.0      82          Y         1.0            4        1\n",
              "24  26.0  M       2            N        0             69.00   71.0      63          Y         1.0            5        1\n",
              "25  23.0  F       1            Y        1             65.00   63.0      67          N         0.0            3        1\n",
              "26  28.0  M       2            N        0             75.00   76.0      111         Y         1.0            10       1\n",
              "27  24.0  M       2            N        0             78.40   71.0      92          Y         1.0            7        1\n",
              "28  25.0  M       2            Y        1             76.00   73.0      107         Y         1.0            8        1\n",
              "29  32.0  F       1            Y        1             63.00   60.0      75          Y         1.0            8        1\n",
              "30  38.0  F       1            Y        1             61.50   61.0      78          Y         1.0            7        1\n",
              "31  27.0  F       1            Y        1             62.00   60.0      72          Y         1.0            8        1\n",
              "32  33.0  F       1            Y        1             65.30   64.0      91          Y         1.0            7        1\n",
              "33  38.0  F       1            N        0             64.00   63.0      86          Y         1.0            10       1\n",
              "34  27.0  M       2            N        0             77.00   75.0      100         Y         1.0            8        1\n",
              "35  24.0  F       1            N        0             67.80   62.0      98          Y         1.0            9        1\n",
              "36  27.0  M       2            N        0             68.00   66.0      74          Y         1.0            5        1\n",
              "37  25.0  F       1            Y        1             65.00   64.5      92          Y         1.0            6        1\n",
              "38  26.0  F       1            N        0             61.50   59.5      90          Y         1.0            9        1\n",
              "39  31.0  M       2            Y        1             73.00   74.0      72          Y         1.0            9        1\n",
              "40  30.0  M       2            Y        1             69.50   66.0      96          Y         1.0            6        1\n",
              "41  23.0  F       1            N        0             70.40   71.0      66          Y         1.0            4        1\n",
              "42  26.0  M       2            Y        1             73.50   72.0      115         Y         1.0            6        1\n",
              "43  28.0  F       1            Y        1             72.50   72.0      81          Y         1.0            10       1\n",
              "44  26.0  F       1            Y        1             72.00   72.0      92          Y         1.0            8        1\n",
              "45  30.0  F       1            Y        1             66.00   64.0      85          Y         1.0            7        1\n",
              "46  39.0  F       1            N        0             64.00   63.0      87          Y         1.0            10       1\n",
              "47  27.0  M       2            N        0             78.00   75.0      72          N         0.0            7        1\n",
              "48  24.0  M       2            N        0             79.50   75.0      82          N         0.0            8        1\n",
              "49  28.0  M       2            N        0             77.80   76.0      99          Y         1.0            9        1\n",
              "Name: count, dtype: int64"
            ],
            "text/html": [
              "<div>\n",
              "<style scoped>\n",
              "    .dataframe tbody tr th:only-of-type {\n",
              "        vertical-align: middle;\n",
              "    }\n",
              "\n",
              "    .dataframe tbody tr th {\n",
              "        vertical-align: top;\n",
              "    }\n",
              "\n",
              "    .dataframe thead th {\n",
              "        text-align: right;\n",
              "    }\n",
              "</style>\n",
              "<table border=\"1\" class=\"dataframe\">\n",
              "  <thead>\n",
              "    <tr style=\"text-align: right;\">\n",
              "      <th></th>\n",
              "      <th></th>\n",
              "      <th></th>\n",
              "      <th></th>\n",
              "      <th></th>\n",
              "      <th></th>\n",
              "      <th></th>\n",
              "      <th></th>\n",
              "      <th></th>\n",
              "      <th></th>\n",
              "      <th></th>\n",
              "      <th></th>\n",
              "      <th>count</th>\n",
              "    </tr>\n",
              "    <tr>\n",
              "      <th>ID</th>\n",
              "      <th>Age</th>\n",
              "      <th>Gender</th>\n",
              "      <th>GenderGroup</th>\n",
              "      <th>Glasses</th>\n",
              "      <th>GlassesGroup</th>\n",
              "      <th>Height</th>\n",
              "      <th>Wingspan</th>\n",
              "      <th>CWDistance</th>\n",
              "      <th>Complete</th>\n",
              "      <th>CompleteGroup</th>\n",
              "      <th>Score</th>\n",
              "      <th></th>\n",
              "    </tr>\n",
              "  </thead>\n",
              "  <tbody>\n",
              "    <tr>\n",
              "      <th>1</th>\n",
              "      <th>56.0</th>\n",
              "      <th>F</th>\n",
              "      <th>1</th>\n",
              "      <th>Y</th>\n",
              "      <th>1</th>\n",
              "      <th>62.00</th>\n",
              "      <th>61.0</th>\n",
              "      <th>79</th>\n",
              "      <th>Y</th>\n",
              "      <th>1.0</th>\n",
              "      <th>7</th>\n",
              "      <td>1</td>\n",
              "    </tr>\n",
              "    <tr>\n",
              "      <th>2</th>\n",
              "      <th>26.0</th>\n",
              "      <th>F</th>\n",
              "      <th>1</th>\n",
              "      <th>Y</th>\n",
              "      <th>1</th>\n",
              "      <th>62.00</th>\n",
              "      <th>60.0</th>\n",
              "      <th>70</th>\n",
              "      <th>Y</th>\n",
              "      <th>1.0</th>\n",
              "      <th>8</th>\n",
              "      <td>1</td>\n",
              "    </tr>\n",
              "    <tr>\n",
              "      <th>3</th>\n",
              "      <th>33.0</th>\n",
              "      <th>F</th>\n",
              "      <th>1</th>\n",
              "      <th>Y</th>\n",
              "      <th>1</th>\n",
              "      <th>66.00</th>\n",
              "      <th>64.0</th>\n",
              "      <th>85</th>\n",
              "      <th>Y</th>\n",
              "      <th>1.0</th>\n",
              "      <th>7</th>\n",
              "      <td>1</td>\n",
              "    </tr>\n",
              "    <tr>\n",
              "      <th>4</th>\n",
              "      <th>39.0</th>\n",
              "      <th>F</th>\n",
              "      <th>1</th>\n",
              "      <th>N</th>\n",
              "      <th>0</th>\n",
              "      <th>64.00</th>\n",
              "      <th>63.0</th>\n",
              "      <th>87</th>\n",
              "      <th>Y</th>\n",
              "      <th>1.0</th>\n",
              "      <th>10</th>\n",
              "      <td>1</td>\n",
              "    </tr>\n",
              "    <tr>\n",
              "      <th>5</th>\n",
              "      <th>27.0</th>\n",
              "      <th>M</th>\n",
              "      <th>2</th>\n",
              "      <th>N</th>\n",
              "      <th>0</th>\n",
              "      <th>73.00</th>\n",
              "      <th>75.0</th>\n",
              "      <th>72</th>\n",
              "      <th>N</th>\n",
              "      <th>0.0</th>\n",
              "      <th>4</th>\n",
              "      <td>1</td>\n",
              "    </tr>\n",
              "    <tr>\n",
              "      <th>6</th>\n",
              "      <th>24.0</th>\n",
              "      <th>M</th>\n",
              "      <th>2</th>\n",
              "      <th>N</th>\n",
              "      <th>0</th>\n",
              "      <th>75.00</th>\n",
              "      <th>71.0</th>\n",
              "      <th>81</th>\n",
              "      <th>N</th>\n",
              "      <th>0.0</th>\n",
              "      <th>3</th>\n",
              "      <td>1</td>\n",
              "    </tr>\n",
              "    <tr>\n",
              "      <th>7</th>\n",
              "      <th>28.0</th>\n",
              "      <th>M</th>\n",
              "      <th>2</th>\n",
              "      <th>N</th>\n",
              "      <th>0</th>\n",
              "      <th>75.00</th>\n",
              "      <th>76.0</th>\n",
              "      <th>107</th>\n",
              "      <th>Y</th>\n",
              "      <th>1.0</th>\n",
              "      <th>10</th>\n",
              "      <td>1</td>\n",
              "    </tr>\n",
              "    <tr>\n",
              "      <th>8</th>\n",
              "      <th>22.0</th>\n",
              "      <th>F</th>\n",
              "      <th>1</th>\n",
              "      <th>N</th>\n",
              "      <th>0</th>\n",
              "      <th>65.00</th>\n",
              "      <th>62.0</th>\n",
              "      <th>98</th>\n",
              "      <th>Y</th>\n",
              "      <th>1.0</th>\n",
              "      <th>9</th>\n",
              "      <td>1</td>\n",
              "    </tr>\n",
              "    <tr>\n",
              "      <th>9</th>\n",
              "      <th>29.0</th>\n",
              "      <th>M</th>\n",
              "      <th>2</th>\n",
              "      <th>Y</th>\n",
              "      <th>1</th>\n",
              "      <th>74.00</th>\n",
              "      <th>73.0</th>\n",
              "      <th>106</th>\n",
              "      <th>N</th>\n",
              "      <th>0.0</th>\n",
              "      <th>5</th>\n",
              "      <td>1</td>\n",
              "    </tr>\n",
              "    <tr>\n",
              "      <th>10</th>\n",
              "      <th>33.0</th>\n",
              "      <th>F</th>\n",
              "      <th>1</th>\n",
              "      <th>Y</th>\n",
              "      <th>1</th>\n",
              "      <th>63.00</th>\n",
              "      <th>60.0</th>\n",
              "      <th>65</th>\n",
              "      <th>Y</th>\n",
              "      <th>1.0</th>\n",
              "      <th>8</th>\n",
              "      <td>1</td>\n",
              "    </tr>\n",
              "    <tr>\n",
              "      <th>11</th>\n",
              "      <th>30.0</th>\n",
              "      <th>M</th>\n",
              "      <th>2</th>\n",
              "      <th>Y</th>\n",
              "      <th>1</th>\n",
              "      <th>69.50</th>\n",
              "      <th>66.0</th>\n",
              "      <th>96</th>\n",
              "      <th>Y</th>\n",
              "      <th>1.0</th>\n",
              "      <th>6</th>\n",
              "      <td>1</td>\n",
              "    </tr>\n",
              "    <tr>\n",
              "      <th>12</th>\n",
              "      <th>28.0</th>\n",
              "      <th>F</th>\n",
              "      <th>1</th>\n",
              "      <th>Y</th>\n",
              "      <th>1</th>\n",
              "      <th>62.75</th>\n",
              "      <th>58.0</th>\n",
              "      <th>79</th>\n",
              "      <th>Y</th>\n",
              "      <th>1.0</th>\n",
              "      <th>10</th>\n",
              "      <td>1</td>\n",
              "    </tr>\n",
              "    <tr>\n",
              "      <th>13</th>\n",
              "      <th>25.0</th>\n",
              "      <th>F</th>\n",
              "      <th>1</th>\n",
              "      <th>Y</th>\n",
              "      <th>1</th>\n",
              "      <th>65.00</th>\n",
              "      <th>64.5</th>\n",
              "      <th>92</th>\n",
              "      <th>Y</th>\n",
              "      <th>1.0</th>\n",
              "      <th>6</th>\n",
              "      <td>1</td>\n",
              "    </tr>\n",
              "    <tr>\n",
              "      <th>14</th>\n",
              "      <th>23.0</th>\n",
              "      <th>F</th>\n",
              "      <th>1</th>\n",
              "      <th>N</th>\n",
              "      <th>0</th>\n",
              "      <th>61.50</th>\n",
              "      <th>57.5</th>\n",
              "      <th>66</th>\n",
              "      <th>Y</th>\n",
              "      <th>1.0</th>\n",
              "      <th>4</th>\n",
              "      <td>1</td>\n",
              "    </tr>\n",
              "    <tr>\n",
              "      <th>15</th>\n",
              "      <th>31.0</th>\n",
              "      <th>M</th>\n",
              "      <th>2</th>\n",
              "      <th>Y</th>\n",
              "      <th>1</th>\n",
              "      <th>73.00</th>\n",
              "      <th>74.0</th>\n",
              "      <th>72</th>\n",
              "      <th>Y</th>\n",
              "      <th>1.0</th>\n",
              "      <th>9</th>\n",
              "      <td>1</td>\n",
              "    </tr>\n",
              "    <tr>\n",
              "      <th>16</th>\n",
              "      <th>26.0</th>\n",
              "      <th>M</th>\n",
              "      <th>2</th>\n",
              "      <th>Y</th>\n",
              "      <th>1</th>\n",
              "      <th>71.00</th>\n",
              "      <th>72.0</th>\n",
              "      <th>115</th>\n",
              "      <th>Y</th>\n",
              "      <th>1.0</th>\n",
              "      <th>6</th>\n",
              "      <td>1</td>\n",
              "    </tr>\n",
              "    <tr>\n",
              "      <th>17</th>\n",
              "      <th>26.0</th>\n",
              "      <th>F</th>\n",
              "      <th>1</th>\n",
              "      <th>N</th>\n",
              "      <th>0</th>\n",
              "      <th>61.50</th>\n",
              "      <th>59.5</th>\n",
              "      <th>90</th>\n",
              "      <th>N</th>\n",
              "      <th>0.0</th>\n",
              "      <th>10</th>\n",
              "      <td>1</td>\n",
              "    </tr>\n",
              "    <tr>\n",
              "      <th>18</th>\n",
              "      <th>27.0</th>\n",
              "      <th>M</th>\n",
              "      <th>2</th>\n",
              "      <th>N</th>\n",
              "      <th>0</th>\n",
              "      <th>66.00</th>\n",
              "      <th>66.0</th>\n",
              "      <th>74</th>\n",
              "      <th>Y</th>\n",
              "      <th>1.0</th>\n",
              "      <th>5</th>\n",
              "      <td>1</td>\n",
              "    </tr>\n",
              "    <tr>\n",
              "      <th>19</th>\n",
              "      <th>23.0</th>\n",
              "      <th>M</th>\n",
              "      <th>2</th>\n",
              "      <th>Y</th>\n",
              "      <th>1</th>\n",
              "      <th>70.00</th>\n",
              "      <th>69.0</th>\n",
              "      <th>64</th>\n",
              "      <th>Y</th>\n",
              "      <th>1.0</th>\n",
              "      <th>3</th>\n",
              "      <td>1</td>\n",
              "    </tr>\n",
              "    <tr>\n",
              "      <th>20</th>\n",
              "      <th>24.0</th>\n",
              "      <th>F</th>\n",
              "      <th>1</th>\n",
              "      <th>Y</th>\n",
              "      <th>1</th>\n",
              "      <th>68.00</th>\n",
              "      <th>66.0</th>\n",
              "      <th>85</th>\n",
              "      <th>Y</th>\n",
              "      <th>1.0</th>\n",
              "      <th>8</th>\n",
              "      <td>1</td>\n",
              "    </tr>\n",
              "    <tr>\n",
              "      <th>21</th>\n",
              "      <th>23.0</th>\n",
              "      <th>M</th>\n",
              "      <th>2</th>\n",
              "      <th>Y</th>\n",
              "      <th>1</th>\n",
              "      <th>69.00</th>\n",
              "      <th>67.0</th>\n",
              "      <th>66</th>\n",
              "      <th>N</th>\n",
              "      <th>0.0</th>\n",
              "      <th>2</th>\n",
              "      <td>1</td>\n",
              "    </tr>\n",
              "    <tr>\n",
              "      <th>22</th>\n",
              "      <th>29.0</th>\n",
              "      <th>M</th>\n",
              "      <th>2</th>\n",
              "      <th>N</th>\n",
              "      <th>0</th>\n",
              "      <th>71.00</th>\n",
              "      <th>70.0</th>\n",
              "      <th>101</th>\n",
              "      <th>Y</th>\n",
              "      <th>1.0</th>\n",
              "      <th>8</th>\n",
              "      <td>1</td>\n",
              "    </tr>\n",
              "    <tr>\n",
              "      <th>23</th>\n",
              "      <th>25.0</th>\n",
              "      <th>M</th>\n",
              "      <th>2</th>\n",
              "      <th>N</th>\n",
              "      <th>0</th>\n",
              "      <th>70.00</th>\n",
              "      <th>68.0</th>\n",
              "      <th>82</th>\n",
              "      <th>Y</th>\n",
              "      <th>1.0</th>\n",
              "      <th>4</th>\n",
              "      <td>1</td>\n",
              "    </tr>\n",
              "    <tr>\n",
              "      <th>24</th>\n",
              "      <th>26.0</th>\n",
              "      <th>M</th>\n",
              "      <th>2</th>\n",
              "      <th>N</th>\n",
              "      <th>0</th>\n",
              "      <th>69.00</th>\n",
              "      <th>71.0</th>\n",
              "      <th>63</th>\n",
              "      <th>Y</th>\n",
              "      <th>1.0</th>\n",
              "      <th>5</th>\n",
              "      <td>1</td>\n",
              "    </tr>\n",
              "    <tr>\n",
              "      <th>25</th>\n",
              "      <th>23.0</th>\n",
              "      <th>F</th>\n",
              "      <th>1</th>\n",
              "      <th>Y</th>\n",
              "      <th>1</th>\n",
              "      <th>65.00</th>\n",
              "      <th>63.0</th>\n",
              "      <th>67</th>\n",
              "      <th>N</th>\n",
              "      <th>0.0</th>\n",
              "      <th>3</th>\n",
              "      <td>1</td>\n",
              "    </tr>\n",
              "    <tr>\n",
              "      <th>26</th>\n",
              "      <th>28.0</th>\n",
              "      <th>M</th>\n",
              "      <th>2</th>\n",
              "      <th>N</th>\n",
              "      <th>0</th>\n",
              "      <th>75.00</th>\n",
              "      <th>76.0</th>\n",
              "      <th>111</th>\n",
              "      <th>Y</th>\n",
              "      <th>1.0</th>\n",
              "      <th>10</th>\n",
              "      <td>1</td>\n",
              "    </tr>\n",
              "    <tr>\n",
              "      <th>27</th>\n",
              "      <th>24.0</th>\n",
              "      <th>M</th>\n",
              "      <th>2</th>\n",
              "      <th>N</th>\n",
              "      <th>0</th>\n",
              "      <th>78.40</th>\n",
              "      <th>71.0</th>\n",
              "      <th>92</th>\n",
              "      <th>Y</th>\n",
              "      <th>1.0</th>\n",
              "      <th>7</th>\n",
              "      <td>1</td>\n",
              "    </tr>\n",
              "    <tr>\n",
              "      <th>28</th>\n",
              "      <th>25.0</th>\n",
              "      <th>M</th>\n",
              "      <th>2</th>\n",
              "      <th>Y</th>\n",
              "      <th>1</th>\n",
              "      <th>76.00</th>\n",
              "      <th>73.0</th>\n",
              "      <th>107</th>\n",
              "      <th>Y</th>\n",
              "      <th>1.0</th>\n",
              "      <th>8</th>\n",
              "      <td>1</td>\n",
              "    </tr>\n",
              "    <tr>\n",
              "      <th>29</th>\n",
              "      <th>32.0</th>\n",
              "      <th>F</th>\n",
              "      <th>1</th>\n",
              "      <th>Y</th>\n",
              "      <th>1</th>\n",
              "      <th>63.00</th>\n",
              "      <th>60.0</th>\n",
              "      <th>75</th>\n",
              "      <th>Y</th>\n",
              "      <th>1.0</th>\n",
              "      <th>8</th>\n",
              "      <td>1</td>\n",
              "    </tr>\n",
              "    <tr>\n",
              "      <th>30</th>\n",
              "      <th>38.0</th>\n",
              "      <th>F</th>\n",
              "      <th>1</th>\n",
              "      <th>Y</th>\n",
              "      <th>1</th>\n",
              "      <th>61.50</th>\n",
              "      <th>61.0</th>\n",
              "      <th>78</th>\n",
              "      <th>Y</th>\n",
              "      <th>1.0</th>\n",
              "      <th>7</th>\n",
              "      <td>1</td>\n",
              "    </tr>\n",
              "    <tr>\n",
              "      <th>31</th>\n",
              "      <th>27.0</th>\n",
              "      <th>F</th>\n",
              "      <th>1</th>\n",
              "      <th>Y</th>\n",
              "      <th>1</th>\n",
              "      <th>62.00</th>\n",
              "      <th>60.0</th>\n",
              "      <th>72</th>\n",
              "      <th>Y</th>\n",
              "      <th>1.0</th>\n",
              "      <th>8</th>\n",
              "      <td>1</td>\n",
              "    </tr>\n",
              "    <tr>\n",
              "      <th>32</th>\n",
              "      <th>33.0</th>\n",
              "      <th>F</th>\n",
              "      <th>1</th>\n",
              "      <th>Y</th>\n",
              "      <th>1</th>\n",
              "      <th>65.30</th>\n",
              "      <th>64.0</th>\n",
              "      <th>91</th>\n",
              "      <th>Y</th>\n",
              "      <th>1.0</th>\n",
              "      <th>7</th>\n",
              "      <td>1</td>\n",
              "    </tr>\n",
              "    <tr>\n",
              "      <th>33</th>\n",
              "      <th>38.0</th>\n",
              "      <th>F</th>\n",
              "      <th>1</th>\n",
              "      <th>N</th>\n",
              "      <th>0</th>\n",
              "      <th>64.00</th>\n",
              "      <th>63.0</th>\n",
              "      <th>86</th>\n",
              "      <th>Y</th>\n",
              "      <th>1.0</th>\n",
              "      <th>10</th>\n",
              "      <td>1</td>\n",
              "    </tr>\n",
              "    <tr>\n",
              "      <th>34</th>\n",
              "      <th>27.0</th>\n",
              "      <th>M</th>\n",
              "      <th>2</th>\n",
              "      <th>N</th>\n",
              "      <th>0</th>\n",
              "      <th>77.00</th>\n",
              "      <th>75.0</th>\n",
              "      <th>100</th>\n",
              "      <th>Y</th>\n",
              "      <th>1.0</th>\n",
              "      <th>8</th>\n",
              "      <td>1</td>\n",
              "    </tr>\n",
              "    <tr>\n",
              "      <th>35</th>\n",
              "      <th>24.0</th>\n",
              "      <th>F</th>\n",
              "      <th>1</th>\n",
              "      <th>N</th>\n",
              "      <th>0</th>\n",
              "      <th>67.80</th>\n",
              "      <th>62.0</th>\n",
              "      <th>98</th>\n",
              "      <th>Y</th>\n",
              "      <th>1.0</th>\n",
              "      <th>9</th>\n",
              "      <td>1</td>\n",
              "    </tr>\n",
              "    <tr>\n",
              "      <th>36</th>\n",
              "      <th>27.0</th>\n",
              "      <th>M</th>\n",
              "      <th>2</th>\n",
              "      <th>N</th>\n",
              "      <th>0</th>\n",
              "      <th>68.00</th>\n",
              "      <th>66.0</th>\n",
              "      <th>74</th>\n",
              "      <th>Y</th>\n",
              "      <th>1.0</th>\n",
              "      <th>5</th>\n",
              "      <td>1</td>\n",
              "    </tr>\n",
              "    <tr>\n",
              "      <th>37</th>\n",
              "      <th>25.0</th>\n",
              "      <th>F</th>\n",
              "      <th>1</th>\n",
              "      <th>Y</th>\n",
              "      <th>1</th>\n",
              "      <th>65.00</th>\n",
              "      <th>64.5</th>\n",
              "      <th>92</th>\n",
              "      <th>Y</th>\n",
              "      <th>1.0</th>\n",
              "      <th>6</th>\n",
              "      <td>1</td>\n",
              "    </tr>\n",
              "    <tr>\n",
              "      <th>38</th>\n",
              "      <th>26.0</th>\n",
              "      <th>F</th>\n",
              "      <th>1</th>\n",
              "      <th>N</th>\n",
              "      <th>0</th>\n",
              "      <th>61.50</th>\n",
              "      <th>59.5</th>\n",
              "      <th>90</th>\n",
              "      <th>Y</th>\n",
              "      <th>1.0</th>\n",
              "      <th>9</th>\n",
              "      <td>1</td>\n",
              "    </tr>\n",
              "    <tr>\n",
              "      <th>39</th>\n",
              "      <th>31.0</th>\n",
              "      <th>M</th>\n",
              "      <th>2</th>\n",
              "      <th>Y</th>\n",
              "      <th>1</th>\n",
              "      <th>73.00</th>\n",
              "      <th>74.0</th>\n",
              "      <th>72</th>\n",
              "      <th>Y</th>\n",
              "      <th>1.0</th>\n",
              "      <th>9</th>\n",
              "      <td>1</td>\n",
              "    </tr>\n",
              "    <tr>\n",
              "      <th>40</th>\n",
              "      <th>30.0</th>\n",
              "      <th>M</th>\n",
              "      <th>2</th>\n",
              "      <th>Y</th>\n",
              "      <th>1</th>\n",
              "      <th>69.50</th>\n",
              "      <th>66.0</th>\n",
              "      <th>96</th>\n",
              "      <th>Y</th>\n",
              "      <th>1.0</th>\n",
              "      <th>6</th>\n",
              "      <td>1</td>\n",
              "    </tr>\n",
              "    <tr>\n",
              "      <th>41</th>\n",
              "      <th>23.0</th>\n",
              "      <th>F</th>\n",
              "      <th>1</th>\n",
              "      <th>N</th>\n",
              "      <th>0</th>\n",
              "      <th>70.40</th>\n",
              "      <th>71.0</th>\n",
              "      <th>66</th>\n",
              "      <th>Y</th>\n",
              "      <th>1.0</th>\n",
              "      <th>4</th>\n",
              "      <td>1</td>\n",
              "    </tr>\n",
              "    <tr>\n",
              "      <th>42</th>\n",
              "      <th>26.0</th>\n",
              "      <th>M</th>\n",
              "      <th>2</th>\n",
              "      <th>Y</th>\n",
              "      <th>1</th>\n",
              "      <th>73.50</th>\n",
              "      <th>72.0</th>\n",
              "      <th>115</th>\n",
              "      <th>Y</th>\n",
              "      <th>1.0</th>\n",
              "      <th>6</th>\n",
              "      <td>1</td>\n",
              "    </tr>\n",
              "    <tr>\n",
              "      <th>43</th>\n",
              "      <th>28.0</th>\n",
              "      <th>F</th>\n",
              "      <th>1</th>\n",
              "      <th>Y</th>\n",
              "      <th>1</th>\n",
              "      <th>72.50</th>\n",
              "      <th>72.0</th>\n",
              "      <th>81</th>\n",
              "      <th>Y</th>\n",
              "      <th>1.0</th>\n",
              "      <th>10</th>\n",
              "      <td>1</td>\n",
              "    </tr>\n",
              "    <tr>\n",
              "      <th>44</th>\n",
              "      <th>26.0</th>\n",
              "      <th>F</th>\n",
              "      <th>1</th>\n",
              "      <th>Y</th>\n",
              "      <th>1</th>\n",
              "      <th>72.00</th>\n",
              "      <th>72.0</th>\n",
              "      <th>92</th>\n",
              "      <th>Y</th>\n",
              "      <th>1.0</th>\n",
              "      <th>8</th>\n",
              "      <td>1</td>\n",
              "    </tr>\n",
              "    <tr>\n",
              "      <th>45</th>\n",
              "      <th>30.0</th>\n",
              "      <th>F</th>\n",
              "      <th>1</th>\n",
              "      <th>Y</th>\n",
              "      <th>1</th>\n",
              "      <th>66.00</th>\n",
              "      <th>64.0</th>\n",
              "      <th>85</th>\n",
              "      <th>Y</th>\n",
              "      <th>1.0</th>\n",
              "      <th>7</th>\n",
              "      <td>1</td>\n",
              "    </tr>\n",
              "    <tr>\n",
              "      <th>46</th>\n",
              "      <th>39.0</th>\n",
              "      <th>F</th>\n",
              "      <th>1</th>\n",
              "      <th>N</th>\n",
              "      <th>0</th>\n",
              "      <th>64.00</th>\n",
              "      <th>63.0</th>\n",
              "      <th>87</th>\n",
              "      <th>Y</th>\n",
              "      <th>1.0</th>\n",
              "      <th>10</th>\n",
              "      <td>1</td>\n",
              "    </tr>\n",
              "    <tr>\n",
              "      <th>47</th>\n",
              "      <th>27.0</th>\n",
              "      <th>M</th>\n",
              "      <th>2</th>\n",
              "      <th>N</th>\n",
              "      <th>0</th>\n",
              "      <th>78.00</th>\n",
              "      <th>75.0</th>\n",
              "      <th>72</th>\n",
              "      <th>N</th>\n",
              "      <th>0.0</th>\n",
              "      <th>7</th>\n",
              "      <td>1</td>\n",
              "    </tr>\n",
              "    <tr>\n",
              "      <th>48</th>\n",
              "      <th>24.0</th>\n",
              "      <th>M</th>\n",
              "      <th>2</th>\n",
              "      <th>N</th>\n",
              "      <th>0</th>\n",
              "      <th>79.50</th>\n",
              "      <th>75.0</th>\n",
              "      <th>82</th>\n",
              "      <th>N</th>\n",
              "      <th>0.0</th>\n",
              "      <th>8</th>\n",
              "      <td>1</td>\n",
              "    </tr>\n",
              "    <tr>\n",
              "      <th>49</th>\n",
              "      <th>28.0</th>\n",
              "      <th>M</th>\n",
              "      <th>2</th>\n",
              "      <th>N</th>\n",
              "      <th>0</th>\n",
              "      <th>77.80</th>\n",
              "      <th>76.0</th>\n",
              "      <th>99</th>\n",
              "      <th>Y</th>\n",
              "      <th>1.0</th>\n",
              "      <th>9</th>\n",
              "      <td>1</td>\n",
              "    </tr>\n",
              "  </tbody>\n",
              "</table>\n",
              "</div><br><label><b>dtype:</b> int64</label>"
            ]
          },
          "metadata": {},
          "execution_count": 5
        }
      ],
      "source": [
        "# Number of times that each distinct value of a variable occurs in a data set\n",
        "df.value_counts()"
      ]
    },
    {
      "cell_type": "code",
      "execution_count": 6,
      "metadata": {
        "id": "gK1-5wkxcARS",
        "colab": {
          "base_uri": "https://localhost:8080/",
          "height": 1000
        },
        "outputId": "4c63265a-a25d-482f-c9a8-13fafd0931c7"
      },
      "outputs": [
        {
          "output_type": "execute_result",
          "data": {
            "text/plain": [
              "ID  Age   Gender  GenderGroup  Glasses  GlassesGroup  Height  Wingspan  CWDistance  Complete  CompleteGroup  Score\n",
              "1   56.0  F       1            Y        1             62.00   61.0      79          Y         1.0            7        0.020408\n",
              "2   26.0  F       1            Y        1             62.00   60.0      70          Y         1.0            8        0.020408\n",
              "3   33.0  F       1            Y        1             66.00   64.0      85          Y         1.0            7        0.020408\n",
              "4   39.0  F       1            N        0             64.00   63.0      87          Y         1.0            10       0.020408\n",
              "5   27.0  M       2            N        0             73.00   75.0      72          N         0.0            4        0.020408\n",
              "6   24.0  M       2            N        0             75.00   71.0      81          N         0.0            3        0.020408\n",
              "7   28.0  M       2            N        0             75.00   76.0      107         Y         1.0            10       0.020408\n",
              "8   22.0  F       1            N        0             65.00   62.0      98          Y         1.0            9        0.020408\n",
              "9   29.0  M       2            Y        1             74.00   73.0      106         N         0.0            5        0.020408\n",
              "10  33.0  F       1            Y        1             63.00   60.0      65          Y         1.0            8        0.020408\n",
              "11  30.0  M       2            Y        1             69.50   66.0      96          Y         1.0            6        0.020408\n",
              "12  28.0  F       1            Y        1             62.75   58.0      79          Y         1.0            10       0.020408\n",
              "13  25.0  F       1            Y        1             65.00   64.5      92          Y         1.0            6        0.020408\n",
              "14  23.0  F       1            N        0             61.50   57.5      66          Y         1.0            4        0.020408\n",
              "15  31.0  M       2            Y        1             73.00   74.0      72          Y         1.0            9        0.020408\n",
              "16  26.0  M       2            Y        1             71.00   72.0      115         Y         1.0            6        0.020408\n",
              "17  26.0  F       1            N        0             61.50   59.5      90          N         0.0            10       0.020408\n",
              "18  27.0  M       2            N        0             66.00   66.0      74          Y         1.0            5        0.020408\n",
              "19  23.0  M       2            Y        1             70.00   69.0      64          Y         1.0            3        0.020408\n",
              "20  24.0  F       1            Y        1             68.00   66.0      85          Y         1.0            8        0.020408\n",
              "21  23.0  M       2            Y        1             69.00   67.0      66          N         0.0            2        0.020408\n",
              "22  29.0  M       2            N        0             71.00   70.0      101         Y         1.0            8        0.020408\n",
              "23  25.0  M       2            N        0             70.00   68.0      82          Y         1.0            4        0.020408\n",
              "24  26.0  M       2            N        0             69.00   71.0      63          Y         1.0            5        0.020408\n",
              "25  23.0  F       1            Y        1             65.00   63.0      67          N         0.0            3        0.020408\n",
              "26  28.0  M       2            N        0             75.00   76.0      111         Y         1.0            10       0.020408\n",
              "27  24.0  M       2            N        0             78.40   71.0      92          Y         1.0            7        0.020408\n",
              "28  25.0  M       2            Y        1             76.00   73.0      107         Y         1.0            8        0.020408\n",
              "29  32.0  F       1            Y        1             63.00   60.0      75          Y         1.0            8        0.020408\n",
              "30  38.0  F       1            Y        1             61.50   61.0      78          Y         1.0            7        0.020408\n",
              "31  27.0  F       1            Y        1             62.00   60.0      72          Y         1.0            8        0.020408\n",
              "32  33.0  F       1            Y        1             65.30   64.0      91          Y         1.0            7        0.020408\n",
              "33  38.0  F       1            N        0             64.00   63.0      86          Y         1.0            10       0.020408\n",
              "34  27.0  M       2            N        0             77.00   75.0      100         Y         1.0            8        0.020408\n",
              "35  24.0  F       1            N        0             67.80   62.0      98          Y         1.0            9        0.020408\n",
              "36  27.0  M       2            N        0             68.00   66.0      74          Y         1.0            5        0.020408\n",
              "37  25.0  F       1            Y        1             65.00   64.5      92          Y         1.0            6        0.020408\n",
              "38  26.0  F       1            N        0             61.50   59.5      90          Y         1.0            9        0.020408\n",
              "39  31.0  M       2            Y        1             73.00   74.0      72          Y         1.0            9        0.020408\n",
              "40  30.0  M       2            Y        1             69.50   66.0      96          Y         1.0            6        0.020408\n",
              "41  23.0  F       1            N        0             70.40   71.0      66          Y         1.0            4        0.020408\n",
              "42  26.0  M       2            Y        1             73.50   72.0      115         Y         1.0            6        0.020408\n",
              "43  28.0  F       1            Y        1             72.50   72.0      81          Y         1.0            10       0.020408\n",
              "44  26.0  F       1            Y        1             72.00   72.0      92          Y         1.0            8        0.020408\n",
              "45  30.0  F       1            Y        1             66.00   64.0      85          Y         1.0            7        0.020408\n",
              "46  39.0  F       1            N        0             64.00   63.0      87          Y         1.0            10       0.020408\n",
              "47  27.0  M       2            N        0             78.00   75.0      72          N         0.0            7        0.020408\n",
              "48  24.0  M       2            N        0             79.50   75.0      82          N         0.0            8        0.020408\n",
              "49  28.0  M       2            N        0             77.80   76.0      99          Y         1.0            9        0.020408\n",
              "Name: proportion, dtype: float64"
            ],
            "text/html": [
              "<div>\n",
              "<style scoped>\n",
              "    .dataframe tbody tr th:only-of-type {\n",
              "        vertical-align: middle;\n",
              "    }\n",
              "\n",
              "    .dataframe tbody tr th {\n",
              "        vertical-align: top;\n",
              "    }\n",
              "\n",
              "    .dataframe thead th {\n",
              "        text-align: right;\n",
              "    }\n",
              "</style>\n",
              "<table border=\"1\" class=\"dataframe\">\n",
              "  <thead>\n",
              "    <tr style=\"text-align: right;\">\n",
              "      <th></th>\n",
              "      <th></th>\n",
              "      <th></th>\n",
              "      <th></th>\n",
              "      <th></th>\n",
              "      <th></th>\n",
              "      <th></th>\n",
              "      <th></th>\n",
              "      <th></th>\n",
              "      <th></th>\n",
              "      <th></th>\n",
              "      <th></th>\n",
              "      <th>proportion</th>\n",
              "    </tr>\n",
              "    <tr>\n",
              "      <th>ID</th>\n",
              "      <th>Age</th>\n",
              "      <th>Gender</th>\n",
              "      <th>GenderGroup</th>\n",
              "      <th>Glasses</th>\n",
              "      <th>GlassesGroup</th>\n",
              "      <th>Height</th>\n",
              "      <th>Wingspan</th>\n",
              "      <th>CWDistance</th>\n",
              "      <th>Complete</th>\n",
              "      <th>CompleteGroup</th>\n",
              "      <th>Score</th>\n",
              "      <th></th>\n",
              "    </tr>\n",
              "  </thead>\n",
              "  <tbody>\n",
              "    <tr>\n",
              "      <th>1</th>\n",
              "      <th>56.0</th>\n",
              "      <th>F</th>\n",
              "      <th>1</th>\n",
              "      <th>Y</th>\n",
              "      <th>1</th>\n",
              "      <th>62.00</th>\n",
              "      <th>61.0</th>\n",
              "      <th>79</th>\n",
              "      <th>Y</th>\n",
              "      <th>1.0</th>\n",
              "      <th>7</th>\n",
              "      <td>0.020408</td>\n",
              "    </tr>\n",
              "    <tr>\n",
              "      <th>2</th>\n",
              "      <th>26.0</th>\n",
              "      <th>F</th>\n",
              "      <th>1</th>\n",
              "      <th>Y</th>\n",
              "      <th>1</th>\n",
              "      <th>62.00</th>\n",
              "      <th>60.0</th>\n",
              "      <th>70</th>\n",
              "      <th>Y</th>\n",
              "      <th>1.0</th>\n",
              "      <th>8</th>\n",
              "      <td>0.020408</td>\n",
              "    </tr>\n",
              "    <tr>\n",
              "      <th>3</th>\n",
              "      <th>33.0</th>\n",
              "      <th>F</th>\n",
              "      <th>1</th>\n",
              "      <th>Y</th>\n",
              "      <th>1</th>\n",
              "      <th>66.00</th>\n",
              "      <th>64.0</th>\n",
              "      <th>85</th>\n",
              "      <th>Y</th>\n",
              "      <th>1.0</th>\n",
              "      <th>7</th>\n",
              "      <td>0.020408</td>\n",
              "    </tr>\n",
              "    <tr>\n",
              "      <th>4</th>\n",
              "      <th>39.0</th>\n",
              "      <th>F</th>\n",
              "      <th>1</th>\n",
              "      <th>N</th>\n",
              "      <th>0</th>\n",
              "      <th>64.00</th>\n",
              "      <th>63.0</th>\n",
              "      <th>87</th>\n",
              "      <th>Y</th>\n",
              "      <th>1.0</th>\n",
              "      <th>10</th>\n",
              "      <td>0.020408</td>\n",
              "    </tr>\n",
              "    <tr>\n",
              "      <th>5</th>\n",
              "      <th>27.0</th>\n",
              "      <th>M</th>\n",
              "      <th>2</th>\n",
              "      <th>N</th>\n",
              "      <th>0</th>\n",
              "      <th>73.00</th>\n",
              "      <th>75.0</th>\n",
              "      <th>72</th>\n",
              "      <th>N</th>\n",
              "      <th>0.0</th>\n",
              "      <th>4</th>\n",
              "      <td>0.020408</td>\n",
              "    </tr>\n",
              "    <tr>\n",
              "      <th>6</th>\n",
              "      <th>24.0</th>\n",
              "      <th>M</th>\n",
              "      <th>2</th>\n",
              "      <th>N</th>\n",
              "      <th>0</th>\n",
              "      <th>75.00</th>\n",
              "      <th>71.0</th>\n",
              "      <th>81</th>\n",
              "      <th>N</th>\n",
              "      <th>0.0</th>\n",
              "      <th>3</th>\n",
              "      <td>0.020408</td>\n",
              "    </tr>\n",
              "    <tr>\n",
              "      <th>7</th>\n",
              "      <th>28.0</th>\n",
              "      <th>M</th>\n",
              "      <th>2</th>\n",
              "      <th>N</th>\n",
              "      <th>0</th>\n",
              "      <th>75.00</th>\n",
              "      <th>76.0</th>\n",
              "      <th>107</th>\n",
              "      <th>Y</th>\n",
              "      <th>1.0</th>\n",
              "      <th>10</th>\n",
              "      <td>0.020408</td>\n",
              "    </tr>\n",
              "    <tr>\n",
              "      <th>8</th>\n",
              "      <th>22.0</th>\n",
              "      <th>F</th>\n",
              "      <th>1</th>\n",
              "      <th>N</th>\n",
              "      <th>0</th>\n",
              "      <th>65.00</th>\n",
              "      <th>62.0</th>\n",
              "      <th>98</th>\n",
              "      <th>Y</th>\n",
              "      <th>1.0</th>\n",
              "      <th>9</th>\n",
              "      <td>0.020408</td>\n",
              "    </tr>\n",
              "    <tr>\n",
              "      <th>9</th>\n",
              "      <th>29.0</th>\n",
              "      <th>M</th>\n",
              "      <th>2</th>\n",
              "      <th>Y</th>\n",
              "      <th>1</th>\n",
              "      <th>74.00</th>\n",
              "      <th>73.0</th>\n",
              "      <th>106</th>\n",
              "      <th>N</th>\n",
              "      <th>0.0</th>\n",
              "      <th>5</th>\n",
              "      <td>0.020408</td>\n",
              "    </tr>\n",
              "    <tr>\n",
              "      <th>10</th>\n",
              "      <th>33.0</th>\n",
              "      <th>F</th>\n",
              "      <th>1</th>\n",
              "      <th>Y</th>\n",
              "      <th>1</th>\n",
              "      <th>63.00</th>\n",
              "      <th>60.0</th>\n",
              "      <th>65</th>\n",
              "      <th>Y</th>\n",
              "      <th>1.0</th>\n",
              "      <th>8</th>\n",
              "      <td>0.020408</td>\n",
              "    </tr>\n",
              "    <tr>\n",
              "      <th>11</th>\n",
              "      <th>30.0</th>\n",
              "      <th>M</th>\n",
              "      <th>2</th>\n",
              "      <th>Y</th>\n",
              "      <th>1</th>\n",
              "      <th>69.50</th>\n",
              "      <th>66.0</th>\n",
              "      <th>96</th>\n",
              "      <th>Y</th>\n",
              "      <th>1.0</th>\n",
              "      <th>6</th>\n",
              "      <td>0.020408</td>\n",
              "    </tr>\n",
              "    <tr>\n",
              "      <th>12</th>\n",
              "      <th>28.0</th>\n",
              "      <th>F</th>\n",
              "      <th>1</th>\n",
              "      <th>Y</th>\n",
              "      <th>1</th>\n",
              "      <th>62.75</th>\n",
              "      <th>58.0</th>\n",
              "      <th>79</th>\n",
              "      <th>Y</th>\n",
              "      <th>1.0</th>\n",
              "      <th>10</th>\n",
              "      <td>0.020408</td>\n",
              "    </tr>\n",
              "    <tr>\n",
              "      <th>13</th>\n",
              "      <th>25.0</th>\n",
              "      <th>F</th>\n",
              "      <th>1</th>\n",
              "      <th>Y</th>\n",
              "      <th>1</th>\n",
              "      <th>65.00</th>\n",
              "      <th>64.5</th>\n",
              "      <th>92</th>\n",
              "      <th>Y</th>\n",
              "      <th>1.0</th>\n",
              "      <th>6</th>\n",
              "      <td>0.020408</td>\n",
              "    </tr>\n",
              "    <tr>\n",
              "      <th>14</th>\n",
              "      <th>23.0</th>\n",
              "      <th>F</th>\n",
              "      <th>1</th>\n",
              "      <th>N</th>\n",
              "      <th>0</th>\n",
              "      <th>61.50</th>\n",
              "      <th>57.5</th>\n",
              "      <th>66</th>\n",
              "      <th>Y</th>\n",
              "      <th>1.0</th>\n",
              "      <th>4</th>\n",
              "      <td>0.020408</td>\n",
              "    </tr>\n",
              "    <tr>\n",
              "      <th>15</th>\n",
              "      <th>31.0</th>\n",
              "      <th>M</th>\n",
              "      <th>2</th>\n",
              "      <th>Y</th>\n",
              "      <th>1</th>\n",
              "      <th>73.00</th>\n",
              "      <th>74.0</th>\n",
              "      <th>72</th>\n",
              "      <th>Y</th>\n",
              "      <th>1.0</th>\n",
              "      <th>9</th>\n",
              "      <td>0.020408</td>\n",
              "    </tr>\n",
              "    <tr>\n",
              "      <th>16</th>\n",
              "      <th>26.0</th>\n",
              "      <th>M</th>\n",
              "      <th>2</th>\n",
              "      <th>Y</th>\n",
              "      <th>1</th>\n",
              "      <th>71.00</th>\n",
              "      <th>72.0</th>\n",
              "      <th>115</th>\n",
              "      <th>Y</th>\n",
              "      <th>1.0</th>\n",
              "      <th>6</th>\n",
              "      <td>0.020408</td>\n",
              "    </tr>\n",
              "    <tr>\n",
              "      <th>17</th>\n",
              "      <th>26.0</th>\n",
              "      <th>F</th>\n",
              "      <th>1</th>\n",
              "      <th>N</th>\n",
              "      <th>0</th>\n",
              "      <th>61.50</th>\n",
              "      <th>59.5</th>\n",
              "      <th>90</th>\n",
              "      <th>N</th>\n",
              "      <th>0.0</th>\n",
              "      <th>10</th>\n",
              "      <td>0.020408</td>\n",
              "    </tr>\n",
              "    <tr>\n",
              "      <th>18</th>\n",
              "      <th>27.0</th>\n",
              "      <th>M</th>\n",
              "      <th>2</th>\n",
              "      <th>N</th>\n",
              "      <th>0</th>\n",
              "      <th>66.00</th>\n",
              "      <th>66.0</th>\n",
              "      <th>74</th>\n",
              "      <th>Y</th>\n",
              "      <th>1.0</th>\n",
              "      <th>5</th>\n",
              "      <td>0.020408</td>\n",
              "    </tr>\n",
              "    <tr>\n",
              "      <th>19</th>\n",
              "      <th>23.0</th>\n",
              "      <th>M</th>\n",
              "      <th>2</th>\n",
              "      <th>Y</th>\n",
              "      <th>1</th>\n",
              "      <th>70.00</th>\n",
              "      <th>69.0</th>\n",
              "      <th>64</th>\n",
              "      <th>Y</th>\n",
              "      <th>1.0</th>\n",
              "      <th>3</th>\n",
              "      <td>0.020408</td>\n",
              "    </tr>\n",
              "    <tr>\n",
              "      <th>20</th>\n",
              "      <th>24.0</th>\n",
              "      <th>F</th>\n",
              "      <th>1</th>\n",
              "      <th>Y</th>\n",
              "      <th>1</th>\n",
              "      <th>68.00</th>\n",
              "      <th>66.0</th>\n",
              "      <th>85</th>\n",
              "      <th>Y</th>\n",
              "      <th>1.0</th>\n",
              "      <th>8</th>\n",
              "      <td>0.020408</td>\n",
              "    </tr>\n",
              "    <tr>\n",
              "      <th>21</th>\n",
              "      <th>23.0</th>\n",
              "      <th>M</th>\n",
              "      <th>2</th>\n",
              "      <th>Y</th>\n",
              "      <th>1</th>\n",
              "      <th>69.00</th>\n",
              "      <th>67.0</th>\n",
              "      <th>66</th>\n",
              "      <th>N</th>\n",
              "      <th>0.0</th>\n",
              "      <th>2</th>\n",
              "      <td>0.020408</td>\n",
              "    </tr>\n",
              "    <tr>\n",
              "      <th>22</th>\n",
              "      <th>29.0</th>\n",
              "      <th>M</th>\n",
              "      <th>2</th>\n",
              "      <th>N</th>\n",
              "      <th>0</th>\n",
              "      <th>71.00</th>\n",
              "      <th>70.0</th>\n",
              "      <th>101</th>\n",
              "      <th>Y</th>\n",
              "      <th>1.0</th>\n",
              "      <th>8</th>\n",
              "      <td>0.020408</td>\n",
              "    </tr>\n",
              "    <tr>\n",
              "      <th>23</th>\n",
              "      <th>25.0</th>\n",
              "      <th>M</th>\n",
              "      <th>2</th>\n",
              "      <th>N</th>\n",
              "      <th>0</th>\n",
              "      <th>70.00</th>\n",
              "      <th>68.0</th>\n",
              "      <th>82</th>\n",
              "      <th>Y</th>\n",
              "      <th>1.0</th>\n",
              "      <th>4</th>\n",
              "      <td>0.020408</td>\n",
              "    </tr>\n",
              "    <tr>\n",
              "      <th>24</th>\n",
              "      <th>26.0</th>\n",
              "      <th>M</th>\n",
              "      <th>2</th>\n",
              "      <th>N</th>\n",
              "      <th>0</th>\n",
              "      <th>69.00</th>\n",
              "      <th>71.0</th>\n",
              "      <th>63</th>\n",
              "      <th>Y</th>\n",
              "      <th>1.0</th>\n",
              "      <th>5</th>\n",
              "      <td>0.020408</td>\n",
              "    </tr>\n",
              "    <tr>\n",
              "      <th>25</th>\n",
              "      <th>23.0</th>\n",
              "      <th>F</th>\n",
              "      <th>1</th>\n",
              "      <th>Y</th>\n",
              "      <th>1</th>\n",
              "      <th>65.00</th>\n",
              "      <th>63.0</th>\n",
              "      <th>67</th>\n",
              "      <th>N</th>\n",
              "      <th>0.0</th>\n",
              "      <th>3</th>\n",
              "      <td>0.020408</td>\n",
              "    </tr>\n",
              "    <tr>\n",
              "      <th>26</th>\n",
              "      <th>28.0</th>\n",
              "      <th>M</th>\n",
              "      <th>2</th>\n",
              "      <th>N</th>\n",
              "      <th>0</th>\n",
              "      <th>75.00</th>\n",
              "      <th>76.0</th>\n",
              "      <th>111</th>\n",
              "      <th>Y</th>\n",
              "      <th>1.0</th>\n",
              "      <th>10</th>\n",
              "      <td>0.020408</td>\n",
              "    </tr>\n",
              "    <tr>\n",
              "      <th>27</th>\n",
              "      <th>24.0</th>\n",
              "      <th>M</th>\n",
              "      <th>2</th>\n",
              "      <th>N</th>\n",
              "      <th>0</th>\n",
              "      <th>78.40</th>\n",
              "      <th>71.0</th>\n",
              "      <th>92</th>\n",
              "      <th>Y</th>\n",
              "      <th>1.0</th>\n",
              "      <th>7</th>\n",
              "      <td>0.020408</td>\n",
              "    </tr>\n",
              "    <tr>\n",
              "      <th>28</th>\n",
              "      <th>25.0</th>\n",
              "      <th>M</th>\n",
              "      <th>2</th>\n",
              "      <th>Y</th>\n",
              "      <th>1</th>\n",
              "      <th>76.00</th>\n",
              "      <th>73.0</th>\n",
              "      <th>107</th>\n",
              "      <th>Y</th>\n",
              "      <th>1.0</th>\n",
              "      <th>8</th>\n",
              "      <td>0.020408</td>\n",
              "    </tr>\n",
              "    <tr>\n",
              "      <th>29</th>\n",
              "      <th>32.0</th>\n",
              "      <th>F</th>\n",
              "      <th>1</th>\n",
              "      <th>Y</th>\n",
              "      <th>1</th>\n",
              "      <th>63.00</th>\n",
              "      <th>60.0</th>\n",
              "      <th>75</th>\n",
              "      <th>Y</th>\n",
              "      <th>1.0</th>\n",
              "      <th>8</th>\n",
              "      <td>0.020408</td>\n",
              "    </tr>\n",
              "    <tr>\n",
              "      <th>30</th>\n",
              "      <th>38.0</th>\n",
              "      <th>F</th>\n",
              "      <th>1</th>\n",
              "      <th>Y</th>\n",
              "      <th>1</th>\n",
              "      <th>61.50</th>\n",
              "      <th>61.0</th>\n",
              "      <th>78</th>\n",
              "      <th>Y</th>\n",
              "      <th>1.0</th>\n",
              "      <th>7</th>\n",
              "      <td>0.020408</td>\n",
              "    </tr>\n",
              "    <tr>\n",
              "      <th>31</th>\n",
              "      <th>27.0</th>\n",
              "      <th>F</th>\n",
              "      <th>1</th>\n",
              "      <th>Y</th>\n",
              "      <th>1</th>\n",
              "      <th>62.00</th>\n",
              "      <th>60.0</th>\n",
              "      <th>72</th>\n",
              "      <th>Y</th>\n",
              "      <th>1.0</th>\n",
              "      <th>8</th>\n",
              "      <td>0.020408</td>\n",
              "    </tr>\n",
              "    <tr>\n",
              "      <th>32</th>\n",
              "      <th>33.0</th>\n",
              "      <th>F</th>\n",
              "      <th>1</th>\n",
              "      <th>Y</th>\n",
              "      <th>1</th>\n",
              "      <th>65.30</th>\n",
              "      <th>64.0</th>\n",
              "      <th>91</th>\n",
              "      <th>Y</th>\n",
              "      <th>1.0</th>\n",
              "      <th>7</th>\n",
              "      <td>0.020408</td>\n",
              "    </tr>\n",
              "    <tr>\n",
              "      <th>33</th>\n",
              "      <th>38.0</th>\n",
              "      <th>F</th>\n",
              "      <th>1</th>\n",
              "      <th>N</th>\n",
              "      <th>0</th>\n",
              "      <th>64.00</th>\n",
              "      <th>63.0</th>\n",
              "      <th>86</th>\n",
              "      <th>Y</th>\n",
              "      <th>1.0</th>\n",
              "      <th>10</th>\n",
              "      <td>0.020408</td>\n",
              "    </tr>\n",
              "    <tr>\n",
              "      <th>34</th>\n",
              "      <th>27.0</th>\n",
              "      <th>M</th>\n",
              "      <th>2</th>\n",
              "      <th>N</th>\n",
              "      <th>0</th>\n",
              "      <th>77.00</th>\n",
              "      <th>75.0</th>\n",
              "      <th>100</th>\n",
              "      <th>Y</th>\n",
              "      <th>1.0</th>\n",
              "      <th>8</th>\n",
              "      <td>0.020408</td>\n",
              "    </tr>\n",
              "    <tr>\n",
              "      <th>35</th>\n",
              "      <th>24.0</th>\n",
              "      <th>F</th>\n",
              "      <th>1</th>\n",
              "      <th>N</th>\n",
              "      <th>0</th>\n",
              "      <th>67.80</th>\n",
              "      <th>62.0</th>\n",
              "      <th>98</th>\n",
              "      <th>Y</th>\n",
              "      <th>1.0</th>\n",
              "      <th>9</th>\n",
              "      <td>0.020408</td>\n",
              "    </tr>\n",
              "    <tr>\n",
              "      <th>36</th>\n",
              "      <th>27.0</th>\n",
              "      <th>M</th>\n",
              "      <th>2</th>\n",
              "      <th>N</th>\n",
              "      <th>0</th>\n",
              "      <th>68.00</th>\n",
              "      <th>66.0</th>\n",
              "      <th>74</th>\n",
              "      <th>Y</th>\n",
              "      <th>1.0</th>\n",
              "      <th>5</th>\n",
              "      <td>0.020408</td>\n",
              "    </tr>\n",
              "    <tr>\n",
              "      <th>37</th>\n",
              "      <th>25.0</th>\n",
              "      <th>F</th>\n",
              "      <th>1</th>\n",
              "      <th>Y</th>\n",
              "      <th>1</th>\n",
              "      <th>65.00</th>\n",
              "      <th>64.5</th>\n",
              "      <th>92</th>\n",
              "      <th>Y</th>\n",
              "      <th>1.0</th>\n",
              "      <th>6</th>\n",
              "      <td>0.020408</td>\n",
              "    </tr>\n",
              "    <tr>\n",
              "      <th>38</th>\n",
              "      <th>26.0</th>\n",
              "      <th>F</th>\n",
              "      <th>1</th>\n",
              "      <th>N</th>\n",
              "      <th>0</th>\n",
              "      <th>61.50</th>\n",
              "      <th>59.5</th>\n",
              "      <th>90</th>\n",
              "      <th>Y</th>\n",
              "      <th>1.0</th>\n",
              "      <th>9</th>\n",
              "      <td>0.020408</td>\n",
              "    </tr>\n",
              "    <tr>\n",
              "      <th>39</th>\n",
              "      <th>31.0</th>\n",
              "      <th>M</th>\n",
              "      <th>2</th>\n",
              "      <th>Y</th>\n",
              "      <th>1</th>\n",
              "      <th>73.00</th>\n",
              "      <th>74.0</th>\n",
              "      <th>72</th>\n",
              "      <th>Y</th>\n",
              "      <th>1.0</th>\n",
              "      <th>9</th>\n",
              "      <td>0.020408</td>\n",
              "    </tr>\n",
              "    <tr>\n",
              "      <th>40</th>\n",
              "      <th>30.0</th>\n",
              "      <th>M</th>\n",
              "      <th>2</th>\n",
              "      <th>Y</th>\n",
              "      <th>1</th>\n",
              "      <th>69.50</th>\n",
              "      <th>66.0</th>\n",
              "      <th>96</th>\n",
              "      <th>Y</th>\n",
              "      <th>1.0</th>\n",
              "      <th>6</th>\n",
              "      <td>0.020408</td>\n",
              "    </tr>\n",
              "    <tr>\n",
              "      <th>41</th>\n",
              "      <th>23.0</th>\n",
              "      <th>F</th>\n",
              "      <th>1</th>\n",
              "      <th>N</th>\n",
              "      <th>0</th>\n",
              "      <th>70.40</th>\n",
              "      <th>71.0</th>\n",
              "      <th>66</th>\n",
              "      <th>Y</th>\n",
              "      <th>1.0</th>\n",
              "      <th>4</th>\n",
              "      <td>0.020408</td>\n",
              "    </tr>\n",
              "    <tr>\n",
              "      <th>42</th>\n",
              "      <th>26.0</th>\n",
              "      <th>M</th>\n",
              "      <th>2</th>\n",
              "      <th>Y</th>\n",
              "      <th>1</th>\n",
              "      <th>73.50</th>\n",
              "      <th>72.0</th>\n",
              "      <th>115</th>\n",
              "      <th>Y</th>\n",
              "      <th>1.0</th>\n",
              "      <th>6</th>\n",
              "      <td>0.020408</td>\n",
              "    </tr>\n",
              "    <tr>\n",
              "      <th>43</th>\n",
              "      <th>28.0</th>\n",
              "      <th>F</th>\n",
              "      <th>1</th>\n",
              "      <th>Y</th>\n",
              "      <th>1</th>\n",
              "      <th>72.50</th>\n",
              "      <th>72.0</th>\n",
              "      <th>81</th>\n",
              "      <th>Y</th>\n",
              "      <th>1.0</th>\n",
              "      <th>10</th>\n",
              "      <td>0.020408</td>\n",
              "    </tr>\n",
              "    <tr>\n",
              "      <th>44</th>\n",
              "      <th>26.0</th>\n",
              "      <th>F</th>\n",
              "      <th>1</th>\n",
              "      <th>Y</th>\n",
              "      <th>1</th>\n",
              "      <th>72.00</th>\n",
              "      <th>72.0</th>\n",
              "      <th>92</th>\n",
              "      <th>Y</th>\n",
              "      <th>1.0</th>\n",
              "      <th>8</th>\n",
              "      <td>0.020408</td>\n",
              "    </tr>\n",
              "    <tr>\n",
              "      <th>45</th>\n",
              "      <th>30.0</th>\n",
              "      <th>F</th>\n",
              "      <th>1</th>\n",
              "      <th>Y</th>\n",
              "      <th>1</th>\n",
              "      <th>66.00</th>\n",
              "      <th>64.0</th>\n",
              "      <th>85</th>\n",
              "      <th>Y</th>\n",
              "      <th>1.0</th>\n",
              "      <th>7</th>\n",
              "      <td>0.020408</td>\n",
              "    </tr>\n",
              "    <tr>\n",
              "      <th>46</th>\n",
              "      <th>39.0</th>\n",
              "      <th>F</th>\n",
              "      <th>1</th>\n",
              "      <th>N</th>\n",
              "      <th>0</th>\n",
              "      <th>64.00</th>\n",
              "      <th>63.0</th>\n",
              "      <th>87</th>\n",
              "      <th>Y</th>\n",
              "      <th>1.0</th>\n",
              "      <th>10</th>\n",
              "      <td>0.020408</td>\n",
              "    </tr>\n",
              "    <tr>\n",
              "      <th>47</th>\n",
              "      <th>27.0</th>\n",
              "      <th>M</th>\n",
              "      <th>2</th>\n",
              "      <th>N</th>\n",
              "      <th>0</th>\n",
              "      <th>78.00</th>\n",
              "      <th>75.0</th>\n",
              "      <th>72</th>\n",
              "      <th>N</th>\n",
              "      <th>0.0</th>\n",
              "      <th>7</th>\n",
              "      <td>0.020408</td>\n",
              "    </tr>\n",
              "    <tr>\n",
              "      <th>48</th>\n",
              "      <th>24.0</th>\n",
              "      <th>M</th>\n",
              "      <th>2</th>\n",
              "      <th>N</th>\n",
              "      <th>0</th>\n",
              "      <th>79.50</th>\n",
              "      <th>75.0</th>\n",
              "      <th>82</th>\n",
              "      <th>N</th>\n",
              "      <th>0.0</th>\n",
              "      <th>8</th>\n",
              "      <td>0.020408</td>\n",
              "    </tr>\n",
              "    <tr>\n",
              "      <th>49</th>\n",
              "      <th>28.0</th>\n",
              "      <th>M</th>\n",
              "      <th>2</th>\n",
              "      <th>N</th>\n",
              "      <th>0</th>\n",
              "      <th>77.80</th>\n",
              "      <th>76.0</th>\n",
              "      <th>99</th>\n",
              "      <th>Y</th>\n",
              "      <th>1.0</th>\n",
              "      <th>9</th>\n",
              "      <td>0.020408</td>\n",
              "    </tr>\n",
              "  </tbody>\n",
              "</table>\n",
              "</div><br><label><b>dtype:</b> float64</label>"
            ]
          },
          "metadata": {},
          "execution_count": 6
        }
      ],
      "source": [
        "# Proportion of each distinct value of a variable occurs in a data set\n",
        "df.value_counts(normalize=True)\n"
      ]
    },
    {
      "cell_type": "markdown",
      "metadata": {
        "id": "ICVq0t9NcARS"
      },
      "source": [
        "Note that the `value_counts()` method excludes missing values. We confirm this below by adding up observations to your data frame with some missing values and then computing `value_counts()` and comparing this to the total number of rows in the data set, which is 28. This tells us that there are 28 - (21+6) = 1 missing values for this variable (other variables may have different numbers of missing values)."
      ]
    },
    {
      "cell_type": "code",
      "execution_count": 7,
      "metadata": {
        "id": "i-PobGgTcART",
        "colab": {
          "base_uri": "https://localhost:8080/"
        },
        "outputId": "a06c97f2-1942-4cda-da1a-ddc76aa13809"
      },
      "outputs": [
        {
          "output_type": "execute_result",
          "data": {
            "text/plain": [
              "np.int64(51)"
            ]
          },
          "metadata": {},
          "execution_count": 7
        }
      ],
      "source": [
        "# Total number of observations\n",
        "len(df)\n",
        "\n",
        "\n",
        "# total number of null observations in Age\n",
        "df.Age.isnull().sum()\n",
        "\n",
        "\n",
        "# Total number of counts in Age (excluding missing values)\n",
        "df.Age.value_counts().sum()\n",
        "\n"
      ]
    },
    {
      "cell_type": "markdown",
      "metadata": {
        "id": "eHheKa2ncART"
      },
      "source": [
        "# Histogram\n",
        "\n",
        "It is often good to get a feel for the shape of the distribution of the data."
      ]
    },
    {
      "cell_type": "code",
      "execution_count": 8,
      "metadata": {
        "id": "4HCWyjZccART",
        "colab": {
          "base_uri": "https://localhost:8080/",
          "height": 467
        },
        "outputId": "67ab63d0-e44e-4585-f41b-087609b1bbe0"
      },
      "outputs": [
        {
          "output_type": "execute_result",
          "data": {
            "text/plain": [
              "<Axes: xlabel='Age', ylabel='Count'>"
            ]
          },
          "metadata": {},
          "execution_count": 8
        },
        {
          "output_type": "display_data",
          "data": {
            "text/plain": [
              "<Figure size 640x480 with 1 Axes>"
            ],
            "image/png": "[encoded data removed]"
          },
          "metadata": {}
        }
      ],
      "source": [
        "# Plot histogram of Age\n",
        "sns.histplot(data=df, x=\"Age\")\n"
      ]
    },
    {
      "cell_type": "code",
      "execution_count": 9,
      "metadata": {
        "id": "X5s0wMx9cARU",
        "colab": {
          "base_uri": "https://localhost:8080/",
          "height": 666
        },
        "outputId": "fa80754f-5960-4331-c98e-a329fd7880aa"
      },
      "outputs": [
        {
          "output_type": "stream",
          "name": "stderr",
          "text": [
            "<ipython-input-9-753a1153ad6d>:2: UserWarning: \n",
            "\n",
            "`distplot` is a deprecated function and will be removed in seaborn v0.14.0.\n",
            "\n",
            "Please adapt your code to use either `displot` (a figure-level function with\n",
            "similar flexibility) or `histplot` (an axes-level function for histograms).\n",
            "\n",
            "For a guide to updating your code to use the new functions, please see\n",
            "https://gist.github.com/mwaskom/de44147ed2974457ad6372750bbe5751\n",
            "\n",
            "  sns.distplot(df.CWDistance)\n"
          ]
        },
        {
          "output_type": "execute_result",
          "data": {
            "text/plain": [
              "<Axes: xlabel='CWDistance', ylabel='Density'>"
            ]
          },
          "metadata": {},
          "execution_count": 9
        },
        {
          "output_type": "display_data",
          "data": {
            "text/plain": [
              "<Figure size 640x480 with 1 Axes>"
            ],
            "image/png": "[encoded data removed]"
          },
          "metadata": {}
        }
      ],
      "source": [
        "# Plot distribution of CWDistance\n",
        "sns.distplot(df.CWDistance)\n"
      ]
    },
    {
      "cell_type": "code",
      "execution_count": 10,
      "metadata": {
        "id": "2Cky5qRwcARU",
        "colab": {
          "base_uri": "https://localhost:8080/",
          "height": 467
        },
        "outputId": "be04ce40-3563-4467-ed24-5357c43721dd"
      },
      "outputs": [
        {
          "output_type": "execute_result",
          "data": {
            "text/plain": [
              "<Axes: xlabel='Age', ylabel='Wingspan'>"
            ]
          },
          "metadata": {},
          "execution_count": 10
        },
        {
          "output_type": "display_data",
          "data": {
            "text/plain": [
              "<Figure size 640x480 with 1 Axes>"
            ],
            "image/png": "[encoded data removed]"
          },
          "metadata": {}
        }
      ],
      "source": [
        "# Plot histogram of both the Age and the Wingspan\n",
        "sns.histplot(data=df, x=\"Age\", y=\"Wingspan\")\n"
      ]
    },
    {
      "cell_type": "markdown",
      "metadata": {
        "id": "esBYSlMDcARU"
      },
      "source": [
        "# Histograms plotted by groups\n",
        "\n",
        "While looking at a single variable is interesting, it is often useful to see how a variable changes in response to another. Thus, we can create a histograms of one quantitative variable grouped by another categorical variables."
      ]
    },
    {
      "cell_type": "code",
      "execution_count": 11,
      "metadata": {
        "id": "dhDPgHT0cARV",
        "colab": {
          "base_uri": "https://localhost:8080/",
          "height": 307
        },
        "outputId": "bfd953b3-409a-4e87-b80f-593a074c1957"
      },
      "outputs": [
        {
          "output_type": "display_data",
          "data": {
            "text/plain": [
              "<Figure size 600x300 with 2 Axes>"
            ],
            "image/png": "[encoded data removed]"
          },
          "metadata": {}
        }
      ],
      "source": [
        "g = sns.FacetGrid(df, col=\"Gender\")\n",
        "g.map(sns.histplot, \"Age\")\n",
        "plt.show()\n",
        "\n"
      ]
    },
    {
      "cell_type": "markdown",
      "metadata": {
        "id": "mHz2t_ifcARV"
      },
      "source": [
        "# Boxplots\n",
        "\n",
        "Boxplots do not show the shape of the distribution, but they can give us a better idea about the center and spread of the distribution as well as any potential outliers that may exist. Boxplots and Histograms often complement each other and help an analyst get more information about the data"
      ]
    },
    {
      "cell_type": "code",
      "execution_count": 12,
      "metadata": {
        "id": "B4h59xL6cARV",
        "colab": {
          "base_uri": "https://localhost:8080/",
          "height": 467
        },
        "outputId": "3a7c2a60-93e2-4d24-cb3e-1d4b94bb7d6d"
      },
      "outputs": [
        {
          "output_type": "execute_result",
          "data": {
            "text/plain": [
              "<Axes: xlabel='CWDistance'>"
            ]
          },
          "metadata": {},
          "execution_count": 12
        },
        {
          "output_type": "display_data",
          "data": {
            "text/plain": [
              "<Figure size 640x480 with 1 Axes>"
            ],
            "image/png": "[encoded data removed]"
          },
          "metadata": {}
        }
      ],
      "source": [
        "# Create the boxplot of the \"CWDistance\"\n",
        "sns.boxplot(data=df, x=\"CWDistance\")\n"
      ]
    },
    {
      "cell_type": "code",
      "execution_count": 13,
      "metadata": {
        "id": "_I6kMu4GcARV",
        "colab": {
          "base_uri": "https://localhost:8080/",
          "height": 467
        },
        "outputId": "7006d414-c322-4682-b561-b8cb04f96b02"
      },
      "outputs": [
        {
          "output_type": "execute_result",
          "data": {
            "text/plain": [
              "<Axes: xlabel='Height'>"
            ]
          },
          "metadata": {},
          "execution_count": 13
        },
        {
          "output_type": "display_data",
          "data": {
            "text/plain": [
              "<Figure size 640x480 with 1 Axes>"
            ],
            "image/png": "[encoded data removed]"
          },
          "metadata": {}
        }
      ],
      "source": [
        "# Create the boxplot of the \"Height\"\n",
        "sns.boxplot(data=df, x=\"Height\")\n"
      ]
    },
    {
      "cell_type": "code",
      "execution_count": 14,
      "metadata": {
        "id": "BnyRK-1vcARW",
        "colab": {
          "base_uri": "https://localhost:8080/",
          "height": 467
        },
        "outputId": "d255f863-1aef-4476-9849-ab5f470a5e32"
      },
      "outputs": [
        {
          "output_type": "execute_result",
          "data": {
            "text/plain": [
              "<Axes: xlabel='CWDistance', ylabel='Height'>"
            ]
          },
          "metadata": {},
          "execution_count": 14
        },
        {
          "output_type": "display_data",
          "data": {
            "text/plain": [
              "<Figure size 640x480 with 1 Axes>"
            ],
            "image/png": "[encoded data removed]"
          },
          "metadata": {}
        }
      ],
      "source": [
        "# Create the boxplots of the \"CWDistance\", \"Height\" and \"Wingspan\"\n",
        "sns.boxplot(data=df, x=\"CWDistance\", y=\"Height\", hue=\"Wingspan\")\n"
      ]
    },
    {
      "cell_type": "code",
      "execution_count": 15,
      "metadata": {
        "id": "5cxfNFdmcARW",
        "colab": {
          "base_uri": "https://localhost:8080/",
          "height": 467
        },
        "outputId": "b1c3bf80-da0a-43bc-c8ca-d6f4bd93e58d"
      },
      "outputs": [
        {
          "output_type": "execute_result",
          "data": {
            "text/plain": [
              "<Axes: xlabel='CWDistance', ylabel='Wingspan'>"
            ]
          },
          "metadata": {},
          "execution_count": 15
        },
        {
          "output_type": "display_data",
          "data": {
            "text/plain": [
              "<Figure size 640x480 with 1 Axes>"
            ],
            "image/png": "[encoded data removed]"
          },
          "metadata": {}
        }
      ],
      "source": [
        "# Create the boxplots of the \"CWDistance\" and of the \"Wingspan\"\n",
        "sns.boxplot(data=df, x=\"CWDistance\", y=\"Wingspan\")\n"
      ]
    },
    {
      "cell_type": "markdown",
      "metadata": {
        "id": "5wdAShWCcARW"
      },
      "source": [
        "# Boxplots plotted by groups\n",
        "\n",
        "While looking at a single variable is interesting, it is often useful to see how a variable changes in response to another. Thus, we can create a side-by-side boxplots of one quantitative variable grouped by another categorical variables."
      ]
    },
    {
      "cell_type": "code",
      "execution_count": 16,
      "metadata": {
        "id": "DWbiy1x8cARW",
        "colab": {
          "base_uri": "https://localhost:8080/",
          "height": 429
        },
        "outputId": "72220081-230c-4524-d98e-ab5e23464d0b"
      },
      "outputs": [
        {
          "output_type": "execute_result",
          "data": {
            "text/plain": [
              "<Axes: ylabel='CWDistance'>"
            ]
          },
          "metadata": {},
          "execution_count": 16
        },
        {
          "output_type": "display_data",
          "data": {
            "text/plain": [
              "<Figure size 640x480 with 1 Axes>"
            ],
            "image/png": "[encoded data removed]"
          },
          "metadata": {}
        }
      ],
      "source": [
        "# Create side-by-side boxplots of the \"CWDistance\" grouped by \"Gender\"\n",
        "sns.boxplot(data=df, y='CWDistance', hue='Gender', gap=.4)\n",
        "\n"
      ]
    },
    {
      "cell_type": "code",
      "execution_count": 17,
      "metadata": {
        "id": "aNkj8S5PkzTs",
        "colab": {
          "base_uri": "https://localhost:8080/",
          "height": 467
        },
        "outputId": "3c79b008-5382-4271-ebb6-a6e945c7ece9"
      },
      "outputs": [
        {
          "output_type": "execute_result",
          "data": {
            "text/plain": [
              "<Axes: xlabel='Glasses', ylabel='Height'>"
            ]
          },
          "metadata": {},
          "execution_count": 17
        },
        {
          "output_type": "display_data",
          "data": {
            "text/plain": [
              "<Figure size 640x480 with 1 Axes>"
            ],
            "image/png": "[encoded data removed]"
          },
          "metadata": {}
        }
      ],
      "source": [
        "# Create side-by-side boxplots of the \"Glasses\" grouped by \"Gender\"\n",
        "sns.boxplot(data=df, x=\"Glasses\", y=\"Height\", hue=\"Gender\")\n",
        "\n"
      ]
    },
    {
      "cell_type": "markdown",
      "metadata": {
        "id": "I5xXz6_3cARW"
      },
      "source": [
        "# Histograms and boxplots plotted by groups\n",
        "\n",
        "We cal also create both boxplots and histograms of one quantitative variable grouped by another categorical variables\n"
      ]
    },
    {
      "cell_type": "code",
      "execution_count": 18,
      "metadata": {
        "id": "jY_HIL0pcARX",
        "colab": {
          "base_uri": "https://localhost:8080/",
          "height": 467
        },
        "outputId": "b6423525-7951-4aaf-a3be-29e3d0d1afda"
      },
      "outputs": [
        {
          "output_type": "execute_result",
          "data": {
            "text/plain": [
              "<Axes: xlabel='Gender', ylabel='CWDistance'>"
            ]
          },
          "metadata": {},
          "execution_count": 18
        },
        {
          "output_type": "display_data",
          "data": {
            "text/plain": [
              "<Figure size 640x480 with 1 Axes>"
            ],
            "image/png": "[encoded data removed]"
          },
          "metadata": {}
        }
      ],
      "source": [
        "# Create a boxplot and histogram of the \"tips\" grouped by \"Gender\"\n",
        "sns.boxplot(data=df, x=\"Gender\", y=\"CWDistance\")\n",
        "sns.histplot(data=df, x=\"Gender\", y=\"CWDistance\")\n"
      ]
    },
    {
      "cell_type": "markdown",
      "metadata": {
        "id": "omahkX7mcARX"
      },
      "source": [
        "# Scatter plot\n",
        "\n",
        "Plot values of one variable versus another variable to see how they are correlated"
      ]
    },
    {
      "cell_type": "code",
      "execution_count": 19,
      "metadata": {
        "id": "FYIFOdxDcARX",
        "colab": {
          "base_uri": "https://localhost:8080/",
          "height": 467
        },
        "outputId": "e541c1a4-e8b5-4518-ad07-2e06ac1e8548"
      },
      "outputs": [
        {
          "output_type": "execute_result",
          "data": {
            "text/plain": [
              "<Axes: xlabel='Age', ylabel='Height'>"
            ]
          },
          "metadata": {},
          "execution_count": 19
        },
        {
          "output_type": "display_data",
          "data": {
            "text/plain": [
              "<Figure size 640x480 with 1 Axes>"
            ],
            "image/png": "[encoded data removed]"
          },
          "metadata": {}
        }
      ],
      "source": [
        "# scatter plot between two variables\n",
        "sns.scatterplot(data=df, x=\"Age\", y=\"Height\")"
      ]
    },
    {
      "cell_type": "code",
      "execution_count": 20,
      "metadata": {
        "id": "ogDqcCKCcARX",
        "colab": {
          "base_uri": "https://localhost:8080/",
          "height": 467
        },
        "outputId": "3a695a47-2525-4046-a51b-c8a97300b685"
      },
      "outputs": [
        {
          "output_type": "execute_result",
          "data": {
            "text/plain": [
              "<Axes: xlabel='Age', ylabel='Gender'>"
            ]
          },
          "metadata": {},
          "execution_count": 20
        },
        {
          "output_type": "display_data",
          "data": {
            "text/plain": [
              "<Figure size 640x480 with 1 Axes>"
            ],
            "image/png": "[encoded data removed]"
          },
          "metadata": {}
        }
      ],
      "source": [
        "# scatter plot between two variables (one categorical)\n",
        "sns.scatterplot(data=df, x=\"Age\", y=\"Gender\")"
      ]
    },
    {
      "cell_type": "code",
      "execution_count": 21,
      "metadata": {
        "id": "h_l3JZ5wcARY",
        "colab": {
          "base_uri": "https://localhost:8080/",
          "height": 467
        },
        "outputId": "e5f3bb6a-3dab-43e3-9e20-395ba6b09a1a"
      },
      "outputs": [
        {
          "output_type": "execute_result",
          "data": {
            "text/plain": [
              "<Axes: xlabel='Gender', ylabel='Height'>"
            ]
          },
          "metadata": {},
          "execution_count": 21
        },
        {
          "output_type": "display_data",
          "data": {
            "text/plain": [
              "<Figure size 640x480 with 1 Axes>"
            ],
            "image/png": "[encoded data removed]"
          },
          "metadata": {}
        }
      ],
      "source": [
        "# scatter plot between two variables (one categorical)\n",
        "sns.scatterplot(data=df, x=\"Gender\", y=\"Height\")"
      ]
    },
    {
      "cell_type": "code",
      "execution_count": 22,
      "metadata": {
        "id": "QIDn3wsLcARY",
        "colab": {
          "base_uri": "https://localhost:8080/",
          "height": 467
        },
        "outputId": "64011bda-60b9-4480-fb72-c4579ccaea7d"
      },
      "outputs": [
        {
          "output_type": "execute_result",
          "data": {
            "text/plain": [
              "<Axes: xlabel='Age', ylabel='Height'>"
            ]
          },
          "metadata": {},
          "execution_count": 22
        },
        {
          "output_type": "display_data",
          "data": {
            "text/plain": [
              "<Figure size 640x480 with 1 Axes>"
            ],
            "image/png": "[encoded data removed]"
          },
          "metadata": {}
        }
      ],
      "source": [
        "# scatter plot between two variables grouped according to a categorical variable\n",
        "sns.scatterplot(data=df, x=\"Age\", y=\"Height\", hue=\"Gender\")"
      ]
    },
    {
      "cell_type": "code",
      "execution_count": 23,
      "metadata": {
        "id": "yWjZ89LCcARY",
        "colab": {
          "base_uri": "https://localhost:8080/",
          "height": 467
        },
        "outputId": "1419f106-a2dd-4110-f8a8-c8e0ee9d3a17"
      },
      "outputs": [
        {
          "output_type": "execute_result",
          "data": {
            "text/plain": [
              "<Axes: xlabel='Age', ylabel='Height'>"
            ]
          },
          "metadata": {},
          "execution_count": 23
        },
        {
          "output_type": "display_data",
          "data": {
            "text/plain": [
              "<Figure size 640x480 with 1 Axes>"
            ],
            "image/png": "[encoded data removed]"
          },
          "metadata": {}
        }
      ],
      "source": [
        "# scatter plot between two variables grouped according to a categorical variable and with size of markers\n",
        "sns.scatterplot(data=df, x=\"Age\", y=\"Height\", hue=\"Gender\", size=\"Gender\")"
      ]
    },
    {
      "cell_type": "code",
      "execution_count": 24,
      "metadata": {
        "id": "VGbNrQBYmklx",
        "colab": {
          "base_uri": "https://localhost:8080/",
          "height": 1000
        },
        "outputId": "71c0e8e7-5312-43be-f0e2-8053edc0319d"
      },
      "outputs": [
        {
          "output_type": "execute_result",
          "data": {
            "text/plain": [
              "<seaborn.axisgrid.PairGrid at 0x7ff083050490>"
            ]
          },
          "metadata": {},
          "execution_count": 24
        },
        {
          "output_type": "display_data",
          "data": {
            "text/plain": [
              "<Figure size 1000x1000 with 20 Axes>"
            ],
            "image/png": "[encoded data removed]"
          },
          "metadata": {}
        }
      ],
      "source": [
        "# Pairplot: Scatterplot of \"Age\",\"CWDistance\",\"Height\",'Wingspan'\n",
        "sns.pairplot(df, vars=[\"Age\",\"CWDistance\",\"Height\",'Wingspan'])\n"
      ]
    },
    {
      "cell_type": "code",
      "execution_count": 24,
      "metadata": {
        "id": "EPFWRGUemkpP"
      },
      "outputs": [],
      "source": []
    },
    {
      "cell_type": "markdown",
      "metadata": {
        "id": "j0wJTQmIcARY"
      },
      "source": [
        "# Final remarks\n",
        "\n",
        "\n",
        "- Visualizing your data using **tables**, **histograms**, **boxplots**, **scatter plots** and other tools is essential to carry put analysis and extract conclusions\n",
        "\n",
        "- There are several ways to do the same thing\n",
        "\n",
        "- The **Seaborn** package provides visualisations tools that allow to explore data from a graphical perspective\n"
      ]
    },
    {
      "cell_type": "markdown",
      "metadata": {
        "id": "zYFZFDYacARY"
      },
      "source": [
        "# Activity: work with the iris dataset\n",
        "\n",
        "Repeat this tutorial with the iris data set and respond to the following inquiries\n",
        "\n",
        "1. Plot the histograms for each of the four quantitative variables\n",
        "\n",
        "\n",
        "2. Plot the histograms for each of the quantitative variables\n",
        "\n",
        "\n",
        "3. Plot the boxplots for each of the quantitative variables\n",
        "\n",
        "\n",
        "4. Plot the boxplots of the petal width grouped by type of flower\n",
        "\n",
        "\n",
        "5. Plot the boxplots of the setal length grouped by type of flower\n",
        "\n",
        "\n",
        "6. Provide a description (explaination from your observations) of each of the quantitative variables\n"
      ]
    },
    {
      "cell_type": "code",
      "execution_count": 24,
      "metadata": {
        "id": "96dpUZNIcARZ"
      },
      "outputs": [],
      "source": []
    }
  ],
  "metadata": {
    "colab": {
      "provenance": []
    },
    "kernelspec": {
      "display_name": "base",
      "language": "python",
      "name": "python3"
    },
    "language_info": {
      "codemirror_mode": {
        "name": "ipython",
        "version": 3
      },
      "file_extension": ".py",
      "mimetype": "text/x-python",
      "name": "python",
      "nbconvert_exporter": "python",
      "pygments_lexer": "ipython3",
      "version": "3.11.5"
    }
  },
  "nbformat": 4,
  "nbformat_minor": 0
}