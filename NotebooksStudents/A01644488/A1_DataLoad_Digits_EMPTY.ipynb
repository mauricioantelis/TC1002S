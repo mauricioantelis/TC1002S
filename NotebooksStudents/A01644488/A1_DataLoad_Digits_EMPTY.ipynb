{
 "cells": [
  {
   "cell_type": "markdown",
   "metadata": {
    "id": "OJNAZAQy3iM0"
   },
   "source": [
    "Edgar Osvaldo Navarro García A01644488\n",
    "# Dataset Digits"
   ]
  },
  {
   "cell_type": "markdown",
   "metadata": {
    "id": "1ZlCv7Oc06-u"
   },
   "source": [
    "# Import packages"
   ]
  },
  {
   "cell_type": "code",
   "execution_count": 1,
   "metadata": {
    "executionInfo": {
     "elapsed": 681,
     "status": "ok",
     "timestamp": 1729695569959,
     "user": {
      "displayName": "Mauricio Antelis",
      "userId": "11526682341763354036"
     },
     "user_tz": 360
    },
    "id": "eM5bnHjW05Wt"
   },
   "outputs": [],
   "source": [
    "# Import the packages that we will be using\n",
    "import numpy as np                  # For arrays, matrices, and functions to operate on them\n",
    "import matplotlib.pyplot as plt     # For showing plots\n",
    "import pandas as pd                 # For data handling\n"
   ]
  },
  {
   "cell_type": "markdown",
   "metadata": {
    "id": "HZ9sUIYba7Kb"
   },
   "source": [
    "# Digits data set v1\n",
    "\n",
    "- Data from scikit-learn https://scikit-learn.org/stable/auto_examples/datasets/plot_digits_last_image.html\n",
    "\n",
    "- More details in https://archive.ics.uci.edu/ml/datasets/Pen-Based+Recognition+of+Handwritten+Digits\n"
   ]
  },
  {
   "cell_type": "code",
   "execution_count": 2,
   "metadata": {
    "executionInfo": {
     "elapsed": 7288,
     "status": "ok",
     "timestamp": 1729695577885,
     "user": {
      "displayName": "Mauricio Antelis",
      "userId": "11526682341763354036"
     },
     "user_tz": 360
    },
    "id": "05EXkOdfa7Kk"
   },
   "outputs": [],
   "source": [
    "# Import the dataset\n",
    "from sklearn.datasets import load_digits\n",
    "\n",
    "# Load the dataset\n",
    "DS = load_digits()\n"
   ]
  },
  {
   "cell_type": "code",
   "execution_count": null,
   "metadata": {
    "executionInfo": {
     "elapsed": 5,
     "status": "ok",
     "timestamp": 1729695577885,
     "user": {
      "displayName": "Mauricio Antelis",
      "userId": "11526682341763354036"
     },
     "user_tz": 360
    },
    "id": "Xfwrkefo4jyN"
   },
   "outputs": [
    {
     "data": {
      "text/plain": [
       "dict_keys(['data', 'target', 'frame', 'feature_names', 'target_names', 'images', 'DESCR'])"
      ]
     },
     "execution_count": 11,
     "metadata": {},
     "output_type": "execute_result"
    }
   ],
   "source": [
    "# Print keys\n",
    "DS.keys() #Imprime las llaves del diccionario"
   ]
  },
  {
   "cell_type": "code",
   "execution_count": null,
   "metadata": {
    "executionInfo": {
     "elapsed": 4,
     "status": "ok",
     "timestamp": 1729695577885,
     "user": {
      "displayName": "Mauricio Antelis",
      "userId": "11526682341763354036"
     },
     "user_tz": 360
    },
    "id": "lTxHD0AFN6zZ"
   },
   "outputs": [
    {
     "name": "stdout",
     "output_type": "stream",
     "text": [
      "Explorando la base de datos\n",
      "   pixel_0_0  pixel_0_1  pixel_0_2  pixel_0_3  pixel_0_4  pixel_0_5  \\\n",
      "0        0.0        0.0        5.0       13.0        9.0        1.0   \n",
      "1        0.0        0.0        0.0       12.0       13.0        5.0   \n",
      "2        0.0        0.0        0.0        4.0       15.0       12.0   \n",
      "3        0.0        0.0        7.0       15.0       13.0        1.0   \n",
      "4        0.0        0.0        0.0        1.0       11.0        0.0   \n",
      "\n",
      "   pixel_0_6  pixel_0_7  pixel_1_0  pixel_1_1  ...  pixel_6_6  pixel_6_7  \\\n",
      "0        0.0        0.0        0.0        0.0  ...        0.0        0.0   \n",
      "1        0.0        0.0        0.0        0.0  ...        0.0        0.0   \n",
      "2        0.0        0.0        0.0        0.0  ...        5.0        0.0   \n",
      "3        0.0        0.0        0.0        8.0  ...        9.0        0.0   \n",
      "4        0.0        0.0        0.0        0.0  ...        0.0        0.0   \n",
      "\n",
      "   pixel_7_0  pixel_7_1  pixel_7_2  pixel_7_3  pixel_7_4  pixel_7_5  \\\n",
      "0        0.0        0.0        6.0       13.0       10.0        0.0   \n",
      "1        0.0        0.0        0.0       11.0       16.0       10.0   \n",
      "2        0.0        0.0        0.0        3.0       11.0       16.0   \n",
      "3        0.0        0.0        7.0       13.0       13.0        9.0   \n",
      "4        0.0        0.0        0.0        2.0       16.0        4.0   \n",
      "\n",
      "   pixel_7_6  pixel_7_7  \n",
      "0        0.0        0.0  \n",
      "1        0.0        0.0  \n",
      "2        9.0        0.0  \n",
      "3        0.0        0.0  \n",
      "4        0.0        0.0  \n",
      "\n",
      "[5 rows x 64 columns]\n",
      "(1797, 64)\n",
      "pixel_0_0    float64\n",
      "pixel_0_1    float64\n",
      "pixel_0_2    float64\n",
      "pixel_0_3    float64\n",
      "pixel_0_4    float64\n",
      "              ...   \n",
      "pixel_7_3    float64\n",
      "pixel_7_4    float64\n",
      "pixel_7_5    float64\n",
      "pixel_7_6    float64\n",
      "pixel_7_7    float64\n",
      "Length: 64, dtype: object\n",
      "Vector de datos\n",
      "[[ 0.  0.  5. ...  0.  0.  0.]\n",
      " [ 0.  0.  0. ... 10.  0.  0.]\n",
      " [ 0.  0.  0. ... 16.  9.  0.]\n",
      " ...\n",
      " [ 0.  0.  1. ...  6.  0.  0.]\n",
      " [ 0.  0.  2. ... 12.  0.  0.]\n",
      " [ 0.  0. 10. ... 12.  1.  0.]]\n",
      "CLases/Grupos\n",
      "[0 1 2 ... 8 9 8]\n",
      "Matriz de datos\n",
      "[[[ 0.  0.  5. ...  1.  0.  0.]\n",
      "  [ 0.  0. 13. ... 15.  5.  0.]\n",
      "  [ 0.  3. 15. ... 11.  8.  0.]\n",
      "  ...\n",
      "  [ 0.  4. 11. ... 12.  7.  0.]\n",
      "  [ 0.  2. 14. ... 12.  0.  0.]\n",
      "  [ 0.  0.  6. ...  0.  0.  0.]]\n",
      "\n",
      " [[ 0.  0.  0. ...  5.  0.  0.]\n",
      "  [ 0.  0.  0. ...  9.  0.  0.]\n",
      "  [ 0.  0.  3. ...  6.  0.  0.]\n",
      "  ...\n",
      "  [ 0.  0.  1. ...  6.  0.  0.]\n",
      "  [ 0.  0.  1. ...  6.  0.  0.]\n",
      "  [ 0.  0.  0. ... 10.  0.  0.]]\n",
      "\n",
      " [[ 0.  0.  0. ... 12.  0.  0.]\n",
      "  [ 0.  0.  3. ... 14.  0.  0.]\n",
      "  [ 0.  0.  8. ... 16.  0.  0.]\n",
      "  ...\n",
      "  [ 0.  9. 16. ...  0.  0.  0.]\n",
      "  [ 0.  3. 13. ... 11.  5.  0.]\n",
      "  [ 0.  0.  0. ... 16.  9.  0.]]\n",
      "\n",
      " ...\n",
      "\n",
      " [[ 0.  0.  1. ...  1.  0.  0.]\n",
      "  [ 0.  0. 13. ...  2.  1.  0.]\n",
      "  [ 0.  0. 16. ... 16.  5.  0.]\n",
      "  ...\n",
      "  [ 0.  0. 16. ... 15.  0.  0.]\n",
      "  [ 0.  0. 15. ... 16.  0.  0.]\n",
      "  [ 0.  0.  2. ...  6.  0.  0.]]\n",
      "\n",
      " [[ 0.  0.  2. ...  0.  0.  0.]\n",
      "  [ 0.  0. 14. ... 15.  1.  0.]\n",
      "  [ 0.  4. 16. ... 16.  7.  0.]\n",
      "  ...\n",
      "  [ 0.  0.  0. ... 16.  2.  0.]\n",
      "  [ 0.  0.  4. ... 16.  2.  0.]\n",
      "  [ 0.  0.  5. ... 12.  0.  0.]]\n",
      "\n",
      " [[ 0.  0. 10. ...  1.  0.  0.]\n",
      "  [ 0.  2. 16. ...  1.  0.  0.]\n",
      "  [ 0.  0. 15. ... 15.  0.  0.]\n",
      "  ...\n",
      "  [ 0.  4. 16. ... 16.  6.  0.]\n",
      "  [ 0.  8. 16. ... 16.  8.  0.]\n",
      "  [ 0.  1.  8. ... 12.  1.  0.]]]\n",
      "Nombre de las variables\n",
      "['pixel_0_0', 'pixel_0_1', 'pixel_0_2', 'pixel_0_3', 'pixel_0_4', 'pixel_0_5', 'pixel_0_6', 'pixel_0_7', 'pixel_1_0', 'pixel_1_1', 'pixel_1_2', 'pixel_1_3', 'pixel_1_4', 'pixel_1_5', 'pixel_1_6', 'pixel_1_7', 'pixel_2_0', 'pixel_2_1', 'pixel_2_2', 'pixel_2_3', 'pixel_2_4', 'pixel_2_5', 'pixel_2_6', 'pixel_2_7', 'pixel_3_0', 'pixel_3_1', 'pixel_3_2', 'pixel_3_3', 'pixel_3_4', 'pixel_3_5', 'pixel_3_6', 'pixel_3_7', 'pixel_4_0', 'pixel_4_1', 'pixel_4_2', 'pixel_4_3', 'pixel_4_4', 'pixel_4_5', 'pixel_4_6', 'pixel_4_7', 'pixel_5_0', 'pixel_5_1', 'pixel_5_2', 'pixel_5_3', 'pixel_5_4', 'pixel_5_5', 'pixel_5_6', 'pixel_5_7', 'pixel_6_0', 'pixel_6_1', 'pixel_6_2', 'pixel_6_3', 'pixel_6_4', 'pixel_6_5', 'pixel_6_6', 'pixel_6_7', 'pixel_7_0', 'pixel_7_1', 'pixel_7_2', 'pixel_7_3', 'pixel_7_4', 'pixel_7_5', 'pixel_7_6', 'pixel_7_7']\n",
      "Nombre de las clases\n",
      "[0 1 2 3 4 5 6 7 8 9]\n"
     ]
    }
   ],
   "source": [
    "# Explore the dataset\n",
    "print(\"Explorando la base de datos\") #Imprime el mensaje de exploración\n",
    "df = pd.DataFrame(DS.data, columns=DS.feature_names) #Crea un dataframe con los datos y los nombres de las variables\n",
    "print(df.head()) #Imprime las primeras 5 filas del dataframe\n",
    "print(df.shape) #Imprime la forma del dataframe\n",
    "print(df.dtypes) #Imprime los tipos de datos de las variables\n",
    "print(df.describe()) #Imprime un resumen de las estadísticas descriptivas de las variables\n",
    "\n",
    "# Data as vector\n",
    "print(\"Vector de datos\") #Imprime el mensaje de vector de datos\n",
    "print(DS.data) #Imprime los datos como vector\n",
    "\n",
    "# Target/Class/Group\n",
    "print(\"CLases/Grupos\") #Imprime el mensaje de clases/grupos\n",
    "print(DS.target) #Imprime los grupos de clase\n",
    "\n",
    "# Data as matrix\n",
    "print(\"Matriz de datos\") #Imprime el mensaje de matriz de datos\n",
    "print(DS.images) #Imprime los datos como matriz\n",
    "\n",
    "# Name of the variables\n",
    "print(\"Nombre de las variables\") #Imprime el mensaje de nombre de las variables\n",
    "print(DS.feature_names) #Imprime los nombres de las variables/columnas\n",
    "\n",
    "# Name of the classes/groups\n",
    "print(\"Nombre de las clases\") #Imprime el mensaje de nombre de las clases\n",
    "print(DS.target_names) #Imprime los nombres de las clases 1,2,3,4,5,6,7,8,9,0\n"
   ]
  },
  {
   "cell_type": "code",
   "execution_count": null,
   "metadata": {
    "executionInfo": {
     "elapsed": 4,
     "status": "ok",
     "timestamp": 1729695577885,
     "user": {
      "displayName": "Mauricio Antelis",
      "userId": "11526682341763354036"
     },
     "user_tz": 360
    },
    "id": "x6BvPQA_6Op0"
   },
   "outputs": [],
   "source": [
    "# Select one of the observations\n",
    "i = 345 #Selecciona la observación 345\n"
   ]
  },
  {
   "cell_type": "code",
   "execution_count": null,
   "metadata": {
    "executionInfo": {
     "elapsed": 3,
     "status": "ok",
     "timestamp": 1729695577885,
     "user": {
      "displayName": "Mauricio Antelis",
      "userId": "11526682341763354036"
     },
     "user_tz": 360
    },
    "id": "em_dBXrWH4ZU"
   },
   "outputs": [
    {
     "data": {
      "text/plain": [
       "array([ 0.,  0., 12., 16., 16., 13.,  1.,  0.,  0.,  4., 15.,  9., 12.,\n",
       "       16.,  2.,  0.,  0.,  0.,  2.,  0., 11., 15.,  0.,  0.,  0.,  0.,\n",
       "        0., 12., 16.,  4.,  0.,  0.,  0.,  0.,  0.,  8., 16., 13.,  1.,\n",
       "        0.,  0.,  0.,  0.,  0.,  6., 16.,  6.,  0.,  0.,  0.,  4.,  6.,\n",
       "        6., 16.,  6.,  0.,  0.,  0., 12., 16., 16.,  9.,  0.,  0.])"
      ]
     },
     "execution_count": 12,
     "metadata": {},
     "output_type": "execute_result"
    }
   ],
   "source": [
    "# Show the data vector of the selected observation\n",
    "DS.data[i] #Muestra el vector de datos de la observación seleccionada\n"
   ]
  },
  {
   "cell_type": "code",
   "execution_count": null,
   "metadata": {
    "executionInfo": {
     "elapsed": 4,
     "status": "ok",
     "timestamp": 1729695577886,
     "user": {
      "displayName": "Mauricio Antelis",
      "userId": "11526682341763354036"
     },
     "user_tz": 360
    },
    "id": "ZtkCd0tYa7LK"
   },
   "outputs": [
    {
     "data": {
      "text/plain": [
       "array([[ 0.,  0., 12., 16., 16., 13.,  1.,  0.],\n",
       "       [ 0.,  4., 15.,  9., 12., 16.,  2.,  0.],\n",
       "       [ 0.,  0.,  2.,  0., 11., 15.,  0.,  0.],\n",
       "       [ 0.,  0.,  0., 12., 16.,  4.,  0.,  0.],\n",
       "       [ 0.,  0.,  0.,  8., 16., 13.,  1.,  0.],\n",
       "       [ 0.,  0.,  0.,  0.,  6., 16.,  6.,  0.],\n",
       "       [ 0.,  0.,  4.,  6.,  6., 16.,  6.,  0.],\n",
       "       [ 0.,  0., 12., 16., 16.,  9.,  0.,  0.]])"
      ]
     },
     "execution_count": 13,
     "metadata": {},
     "output_type": "execute_result"
    }
   ],
   "source": [
    "# Show the data matrix of the selected observation\n",
    "DS.images[i] #Muestra la matriz de datos de la observación seleccionada\n",
    " "
   ]
  },
  {
   "cell_type": "code",
   "execution_count": null,
   "metadata": {
    "executionInfo": {
     "elapsed": 9,
     "status": "ok",
     "timestamp": 1729695578094,
     "user": {
      "displayName": "Mauricio Antelis",
      "userId": "11526682341763354036"
     },
     "user_tz": 360
    },
    "id": "9Uk-CQgXa7LM"
   },
   "outputs": [
    {
     "name": "stdout",
     "output_type": "stream",
     "text": [
      "3\n"
     ]
    }
   ],
   "source": [
    "# Show the number of the selected observation\n",
    "print(DS.target[i]) #Muestra el número de la observación seleccionada (su clase o grupo al que pertenece)\n"
   ]
  },
  {
   "cell_type": "code",
   "execution_count": null,
   "metadata": {
    "executionInfo": {
     "elapsed": 9,
     "status": "ok",
     "timestamp": 1729695578095,
     "user": {
      "displayName": "Mauricio Antelis",
      "userId": "11526682341763354036"
     },
     "user_tz": 360
    },
    "id": "J4X-jTjwa7LN"
   },
   "outputs": [
    {
     "data": {
      "image/png": "[encoded data removed]",
      "text/plain": [
       "<Figure size 640x480 with 1 Axes>"
      ]
     },
     "metadata": {},
     "output_type": "display_data"
    }
   ],
   "source": [
    "# Display one of the observations (zeros as white)\n",
    "plt.imshow(DS.images[i], cmap=plt.cm.gray_r, interpolation='nearest') #Muestra la observación seleccionada en una grafica\n",
    "plt.title('Number:' + str(DS.target[i])) #Agrega un título a la gráfica\n",
    "plt.show() #Muestra la gráfica"
   ]
  },
  {
   "cell_type": "code",
   "execution_count": null,
   "metadata": {
    "executionInfo": {
     "elapsed": 8,
     "status": "ok",
     "timestamp": 1729695578095,
     "user": {
      "displayName": "Mauricio Antelis",
      "userId": "11526682341763354036"
     },
     "user_tz": 360
    },
    "id": "NNLNt2qJ4cQP"
   },
   "outputs": [
    {
     "data": {
      "image/png": "[encoded data removed]",
      "text/plain": [
       "<Figure size 640x480 with 1 Axes>"
      ]
     },
     "metadata": {},
     "output_type": "display_data"
    }
   ],
   "source": [
    "# Display one of the observations (zeros as black)\n",
    "plt.imshow(DS.images[i], cmap=plt.cm.gray, interpolation='nearest') #Muestra la observación seleccionada en una grafica\n",
    "plt.title('Number:' + str(DS.target[i])) #Agrega un título a la gráfica\n",
    "plt.show() #Muestra la gráfica"
   ]
  },
  {
   "cell_type": "code",
   "execution_count": null,
   "metadata": {
    "executionInfo": {
     "elapsed": 8,
     "status": "ok",
     "timestamp": 1729695578095,
     "user": {
      "displayName": "Mauricio Antelis",
      "userId": "11526682341763354036"
     },
     "user_tz": 360
    },
    "id": "zb0hPszO0xWd"
   },
   "outputs": [
    {
     "data": {
      "image/png": "[encoded data removed]",
      "text/plain": [
       "<Figure size 640x480 with 4 Axes>"
      ]
     },
     "metadata": {},
     "output_type": "display_data"
    }
   ],
   "source": [
    "# Display 4 observations in a row (zeros as white)\n",
    "for i in range(4): #Ciclo para mostrar 4 observaciones\n",
    "    plt.subplot(1, 4, i + 1) #Subgráficas para que aparezcán 4 en una fila\n",
    "    plt.imshow(DS.images[i], cmap=plt.cm.gray_r, interpolation='nearest') #Muestra la observación seleccionada en una grafica\n",
    "    plt.title('Number:' + str(DS.target[i])) #Agrega un título a cada gráfica\n",
    "plt.show() #Muestra las gráficas"
   ]
  },
  {
   "cell_type": "code",
   "execution_count": null,
   "metadata": {
    "executionInfo": {
     "elapsed": 7,
     "status": "ok",
     "timestamp": 1729695578095,
     "user": {
      "displayName": "Mauricio Antelis",
      "userId": "11526682341763354036"
     },
     "user_tz": 360
    },
    "id": "bsGb3Ily3Qx_"
   },
   "outputs": [
    {
     "data": {
      "image/png": "[encoded data removed]",
      "text/plain": [
       "<Figure size 640x480 with 4 Axes>"
      ]
     },
     "metadata": {},
     "output_type": "display_data"
    }
   ],
   "source": [
    "# Display 4 observations in a row (zeros as blak)\n",
    "for i in range(4): #Ciclo para mostrar 4 observaciones\n",
    "    plt.subplot(1, 4, i + 1) #Subgráficas para que aparezcán 4 en una fila\n",
    "    plt.imshow(DS.images[i], cmap=plt.cm.gray, interpolation='nearest') #Muestra la observación seleccionada en una grafica\n",
    "    plt.title('Number:' + str(DS.target[i])) #Agrega un título a cada gráfica\n",
    "plt.show() #Muestra las gráficas"
   ]
  },
  {
   "cell_type": "code",
   "execution_count": null,
   "metadata": {
    "executionInfo": {
     "elapsed": 6,
     "status": "ok",
     "timestamp": 1729695578095,
     "user": {
      "displayName": "Mauricio Antelis",
      "userId": "11526682341763354036"
     },
     "user_tz": 360
    },
    "id": "KHfPTYXNa7LU"
   },
   "outputs": [
    {
     "name": "stdout",
     "output_type": "stream",
     "text": [
      "      pixel_0_0  pixel_0_1  pixel_0_2  pixel_0_3  pixel_0_4  pixel_0_5  \\\n",
      "0           0.0        0.0        5.0       13.0        9.0        1.0   \n",
      "1           0.0        0.0        0.0       12.0       13.0        5.0   \n",
      "2           0.0        0.0        0.0        4.0       15.0       12.0   \n",
      "3           0.0        0.0        7.0       15.0       13.0        1.0   \n",
      "4           0.0        0.0        0.0        1.0       11.0        0.0   \n",
      "...         ...        ...        ...        ...        ...        ...   \n",
      "1792        0.0        0.0        4.0       10.0       13.0        6.0   \n",
      "1793        0.0        0.0        6.0       16.0       13.0       11.0   \n",
      "1794        0.0        0.0        1.0       11.0       15.0        1.0   \n",
      "1795        0.0        0.0        2.0       10.0        7.0        0.0   \n",
      "1796        0.0        0.0       10.0       14.0        8.0        1.0   \n",
      "\n",
      "      pixel_0_6  pixel_0_7  pixel_1_0  pixel_1_1  ...  pixel_6_6  pixel_6_7  \\\n",
      "0           0.0        0.0        0.0        0.0  ...        0.0        0.0   \n",
      "1           0.0        0.0        0.0        0.0  ...        0.0        0.0   \n",
      "2           0.0        0.0        0.0        0.0  ...        5.0        0.0   \n",
      "3           0.0        0.0        0.0        8.0  ...        9.0        0.0   \n",
      "4           0.0        0.0        0.0        0.0  ...        0.0        0.0   \n",
      "...         ...        ...        ...        ...  ...        ...        ...   \n",
      "1792        0.0        0.0        0.0        1.0  ...        4.0        0.0   \n",
      "1793        1.0        0.0        0.0        0.0  ...        1.0        0.0   \n",
      "1794        0.0        0.0        0.0        0.0  ...        0.0        0.0   \n",
      "1795        0.0        0.0        0.0        0.0  ...        2.0        0.0   \n",
      "1796        0.0        0.0        0.0        2.0  ...        8.0        0.0   \n",
      "\n",
      "      pixel_7_0  pixel_7_1  pixel_7_2  pixel_7_3  pixel_7_4  pixel_7_5  \\\n",
      "0           0.0        0.0        6.0       13.0       10.0        0.0   \n",
      "1           0.0        0.0        0.0       11.0       16.0       10.0   \n",
      "2           0.0        0.0        0.0        3.0       11.0       16.0   \n",
      "3           0.0        0.0        7.0       13.0       13.0        9.0   \n",
      "4           0.0        0.0        0.0        2.0       16.0        4.0   \n",
      "...         ...        ...        ...        ...        ...        ...   \n",
      "1792        0.0        0.0        2.0       14.0       15.0        9.0   \n",
      "1793        0.0        0.0        6.0       16.0       14.0        6.0   \n",
      "1794        0.0        0.0        2.0        9.0       13.0        6.0   \n",
      "1795        0.0        0.0        5.0       12.0       16.0       12.0   \n",
      "1796        0.0        1.0        8.0       12.0       14.0       12.0   \n",
      "\n",
      "      pixel_7_6  pixel_7_7  \n",
      "0           0.0        0.0  \n",
      "1           0.0        0.0  \n",
      "2           9.0        0.0  \n",
      "3           0.0        0.0  \n",
      "4           0.0        0.0  \n",
      "...         ...        ...  \n",
      "1792        0.0        0.0  \n",
      "1793        0.0        0.0  \n",
      "1794        0.0        0.0  \n",
      "1795        0.0        0.0  \n",
      "1796        1.0        0.0  \n",
      "\n",
      "[1797 rows x 64 columns]\n"
     ]
    }
   ],
   "source": [
    "# Convert to a pandas dataframe\n",
    "df = pd.DataFrame(DS.data, columns=DS.feature_names) #Convierte los datos a un dataframe de pandas\n",
    "# Print the dataset\n",
    "print(df) #Imprime el dataframe\n"
   ]
  },
  {
   "cell_type": "code",
   "execution_count": null,
   "metadata": {
    "executionInfo": {
     "elapsed": 6,
     "status": "ok",
     "timestamp": 1729695578095,
     "user": {
      "displayName": "Mauricio Antelis",
      "userId": "11526682341763354036"
     },
     "user_tz": 360
    },
    "id": "cRCJ8vOaa7LY"
   },
   "outputs": [
    {
     "data": {
      "text/plain": [
       "1797"
      ]
     },
     "execution_count": 34,
     "metadata": {},
     "output_type": "execute_result"
    }
   ],
   "source": [
    "# Print the number of rows\n",
    "df.shape[0] #Imprime el número de filas del dataframe"
   ]
  },
  {
   "cell_type": "code",
   "execution_count": null,
   "metadata": {
    "executionInfo": {
     "elapsed": 6,
     "status": "ok",
     "timestamp": 1729695578095,
     "user": {
      "displayName": "Mauricio Antelis",
      "userId": "11526682341763354036"
     },
     "user_tz": 360
    },
    "id": "HdYbZso_a7LY"
   },
   "outputs": [
    {
     "data": {
      "text/plain": [
       "64"
      ]
     },
     "execution_count": 33,
     "metadata": {},
     "output_type": "execute_result"
    }
   ],
   "source": [
    "# Print the number of columns\n",
    "df.shape[1] #Imprime el número de columnas del dataframe"
   ]
  },
  {
   "cell_type": "markdown",
   "metadata": {
    "id": "UrfeqNQ6hggm"
   },
   "source": [
    "# Digits data set v2\n",
    "\n",
    "- Data from scikit-learn https://scikit-learn.org/stable/auto_examples/datasets/plot_digits_last_image.html\n",
    "\n",
    "- More details in https://archive.ics.uci.edu/ml/datasets/Pen-Based+Recognition+of+Handwritten+Digits"
   ]
  },
  {
   "cell_type": "code",
   "execution_count": 36,
   "metadata": {
    "executionInfo": {
     "elapsed": 308,
     "status": "ok",
     "timestamp": 1729695581493,
     "user": {
      "displayName": "Mauricio Antelis",
      "userId": "11526682341763354036"
     },
     "user_tz": 360
    },
    "id": "A7IpVlSmhhnP"
   },
   "outputs": [],
   "source": [
    "# Import the dataset\n",
    "from sklearn.datasets import load_digits\n",
    "\n",
    "# Load the dataset\n",
    "X, y = load_digits(return_X_y=True)\n"
   ]
  },
  {
   "cell_type": "code",
   "execution_count": 41,
   "metadata": {
    "executionInfo": {
     "elapsed": 209,
     "status": "ok",
     "timestamp": 1729695582975,
     "user": {
      "displayName": "Mauricio Antelis",
      "userId": "11526682341763354036"
     },
     "user_tz": 360
    },
    "id": "iifvlgDMhvMK"
   },
   "outputs": [
    {
     "name": "stdout",
     "output_type": "stream",
     "text": [
      "Type: float64\n",
      "Shape: (1797, 64)\n"
     ]
    }
   ],
   "source": [
    "# Undertand X (type and shape)\n",
    "\n",
    "print(\"Type: \" + str(X.dtype))\n",
    "print(\"Shape: \" + str(X.shape))\n",
    "\n"
   ]
  },
  {
   "cell_type": "code",
   "execution_count": 43,
   "metadata": {
    "executionInfo": {
     "elapsed": 209,
     "status": "ok",
     "timestamp": 1729695583600,
     "user": {
      "displayName": "Mauricio Antelis",
      "userId": "11526682341763354036"
     },
     "user_tz": 360
    },
    "id": "SzJz8MHq1NFJ"
   },
   "outputs": [
    {
     "name": "stdout",
     "output_type": "stream",
     "text": [
      "Type: int32\n",
      "Shape: (1797,)\n"
     ]
    }
   ],
   "source": [
    "# Undertand y (type and shape)\n",
    "print(\"Type: \" + str(y.dtype))\n",
    "print(\"Shape: \" + str(y.shape))\n"
   ]
  },
  {
   "cell_type": "code",
   "execution_count": 45,
   "metadata": {
    "id": "tptgMG6V2F2_"
   },
   "outputs": [
    {
     "name": "stdout",
     "output_type": "stream",
     "text": [
      "min max\n",
      "0.0 15.0\n",
      " \n",
      "min max\n",
      "0.0 16.0\n",
      " \n",
      "min max\n",
      "0.0 16.0\n",
      " \n",
      "min max\n",
      "0.0 16.0\n",
      " \n",
      "min max\n",
      "0.0 16.0\n",
      " \n",
      "min max\n",
      "0.0 16.0\n",
      " \n",
      "min max\n",
      "0.0 16.0\n",
      " \n",
      "min max\n",
      "0.0 16.0\n",
      " \n",
      "min max\n",
      "0.0 16.0\n",
      " \n",
      "min max\n",
      "0.0 16.0\n",
      " \n",
      "min max\n",
      "0.0 16.0\n",
      " \n",
      "min max\n",
      "0.0 16.0\n",
      " \n",
      "min max\n",
      "0.0 16.0\n",
      " \n",
      "min max\n",
      "0.0 16.0\n",
      " \n",
      "min max\n",
      "0.0 16.0\n",
      " \n",
      "min max\n",
      "0.0 16.0\n",
      " \n",
      "min max\n",
      "0.0 16.0\n",
      " \n",
      "min max\n",
      "0.0 16.0\n",
      " \n",
      "min max\n",
      "0.0 15.0\n",
      " \n",
      "min max\n",
      "0.0 16.0\n",
      " \n",
      "min max\n",
      "0.0 16.0\n",
      " \n",
      "min max\n",
      "0.0 16.0\n",
      " \n",
      "min max\n",
      "0.0 16.0\n",
      " \n",
      "min max\n",
      "0.0 16.0\n",
      " \n",
      "min max\n",
      "0.0 16.0\n",
      " \n",
      "min max\n",
      "0.0 16.0\n",
      " \n",
      "min max\n",
      "0.0 16.0\n",
      " \n",
      "min max\n",
      "0.0 16.0\n",
      " \n"
     ]
    },
    {
     "data": {
      "image/png": "[encoded data removed]",
      "text/plain": [
       "<Figure size 1200x800 with 28 Axes>"
      ]
     },
     "metadata": {},
     "output_type": "display_data"
    }
   ],
   "source": [
    "# -------------------------------\n",
    "# Select some of the images\n",
    "iimag = [  0,   11,   28,  42,    56,  70,    84,\n",
    "          91,  115,  280, 420,   560, 700,   906,\n",
    "         929,  970,  999, 1003, 1077, 1104, 1205,\n",
    "        1206, 1153, 1205, 1257, 1378, 1407, 1509]\n",
    "\n",
    "# -------------------------------\n",
    "# Plot selected images (zeros as black)\n",
    "plt.figure(figsize=(12,8))\n",
    "for i, i2p in enumerate(iimag):\n",
    "\n",
    "    Xi = X[i2p,:]\n",
    "    yi = y[i2p]\n",
    "\n",
    "    plt.subplot(4,7,i+1)\n",
    "    plt.xticks([])\n",
    "    plt.yticks([])\n",
    "    plt.grid(False)\n",
    "    plt.imshow(Xi.reshape(8,8), cmap=plt.cm.gray)\n",
    "    plt.title(\"Label: {0:.0f}\".format(yi))\n",
    "\n",
    "    # Verify data\n",
    "    minX = np.min(Xi)\n",
    "    maxX = np.max(Xi)\n",
    "    print(\"min max\")\n",
    "    print(minX, maxX)\n",
    "    print(\" \")\n",
    "\n",
    "plt.show()\n"
   ]
  }
 ],
 "metadata": {
  "colab": {
   "provenance": [],
   "toc_visible": true
  },
  "kernelspec": {
   "display_name": "Python 3",
   "language": "python",
   "name": "python3"
  },
  "language_info": {
   "codemirror_mode": {
    "name": "ipython",
    "version": 3
   },
   "file_extension": ".py",
   "mimetype": "text/x-python",
   "name": "python",
   "nbconvert_exporter": "python",
   "pygments_lexer": "ipython3",
   "version": "3.10.7"
  }
 },
 "nbformat": 4,
 "nbformat_minor": 0
}
