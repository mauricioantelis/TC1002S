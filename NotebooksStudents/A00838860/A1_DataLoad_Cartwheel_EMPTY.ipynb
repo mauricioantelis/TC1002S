{
 "cells": [
  {
   "cell_type": "markdown",
   "metadata": {
    "id": "u0MPe62dYgl0"
   },
   "source": [
    "# Undertanding the cartwheel data set\n",
    "\n",
    "The notebook aims to undertand the content of the cartwheel data set.\n",
    "\n",
    "\n",
    "## Acknowledgments\n",
    "\n",
    "- Data from https://www.coursera.org/ from the course \"Understanding and Visualizing Data with Python\" by University of Michigan\n"
   ]
  },
  {
   "cell_type": "markdown",
   "metadata": {
    "id": "30s2UXlPYgl4"
   },
   "source": [
    "# Cartwheel data set\n",
    "\n",
    "1. A cartwheel\n",
    "\n",
    "![cartwheel1.png](C:\\Users\\ali_l\\OneDrive\\Escritorio\\Semestre 4\\SemanaTec\\TC1002S\\NotebooksStudents\\A00838860\\cartwheel.csv)\n",
    "\n",
    "\n",
    "\n",
    "\n",
    "2. The dataset description\n",
    "    - The dataset used here is an extension from the original cartwheel dataset from cursera\n",
    "    - Total numer of observations: 28\n",
    "    - Many observations/measurements/recordings of the characteristics/attributes/variables of cartwheel executions\n",
    "    - Variables: Age, Gender, GenderGroup, Glasses, GlassesGroup, Height, Wingspan, CWDistance, ... (X variables)\n",
    "    \n"
   ]
  },
  {
   "cell_type": "markdown",
   "metadata": {
    "id": "xmSEe706Ygl5"
   },
   "source": [
    "# Importing and inspecting the data"
   ]
  },
  {
   "cell_type": "code",
   "execution_count": 17,
   "metadata": {
    "id": "wksMvHQBYjRu"
   },
   "outputs": [],
   "source": [
    "# Define where you are running the code: colab or local\n",
    "RunInColab          = False     # (False: no  | True: yes)\n",
    "\n",
    "# If running in colab:\n",
    "if RunInColab:\n",
    "    # Mount your google drive in google colab\n",
    "    from google.colab import drive\n",
    "    drive.mount('/content/drive')\n",
    "\n",
    "    # Find location\n",
    "    #!pwd\n",
    "    #!ls\n",
    "    #!ls \"/content/drive/My Drive/Colab Notebooks/MachineLearningWithPython/\"\n",
    "\n",
    "    # Define path del proyecto\n",
    "    Ruta            = \"/content/drive/My Drive/Colab Notebooks/MachineLearningWithPython/\"\n",
    "\n",
    "else:\n",
    "    # Define path del proyecto\n",
    "    Ruta = \"../../NotebooksProfessor/\""
   ]
  },
  {
   "cell_type": "code",
   "execution_count": 18,
   "metadata": {
    "id": "fyR3iS-uYgl5"
   },
   "outputs": [],
   "source": [
    "# Import the packages that we will be using\n",
    "import pandas as pd\n",
    "import seaborn as sns\n",
    "import numpy as np\n",
    "\n",
    "# Dataset url\n",
    "url= Ruta + \"cartwheel.csv\"\n",
    "\n",
    "# Load the dataset\n",
    "dataset=pd.read_csv(url)"
   ]
  },
  {
   "cell_type": "code",
   "execution_count": 19,
   "metadata": {
    "id": "j614eRL1Ygl6"
   },
   "outputs": [
    {
     "name": "stdout",
     "output_type": "stream",
     "text": [
      "    ID   Age Gender  GenderGroup Glasses  GlassesGroup  Height  Wingspan  \\\n",
      "0    1  56.0      F            1       Y             1   62.00      61.0   \n",
      "1    2  26.0      F            1       Y             1   62.00      60.0   \n",
      "2    3  33.0      F            1       Y             1   66.00      64.0   \n",
      "3    4  39.0      F            1       N             0   64.00      63.0   \n",
      "4    5  27.0      M            2       N             0   73.00      75.0   \n",
      "5    6  24.0      M            2       N             0   75.00      71.0   \n",
      "6    7  28.0      M            2       N             0   75.00      76.0   \n",
      "7    8  22.0      F            1       N             0   65.00      62.0   \n",
      "8    9  29.0      M            2       Y             1   74.00      73.0   \n",
      "9   10  33.0      F            1       Y             1   63.00      60.0   \n",
      "10  11  30.0      M            2       Y             1   69.50      66.0   \n",
      "11  12  28.0      F            1       Y             1   62.75      58.0   \n",
      "12  13  25.0      F            1       Y             1   65.00      64.5   \n",
      "13  14  23.0      F            1       N             0   61.50      57.5   \n",
      "14  15  31.0      M            2       Y             1   73.00      74.0   \n",
      "15  16  26.0      M            2       Y             1   71.00      72.0   \n",
      "16  17  26.0      F            1       N             0   61.50      59.5   \n",
      "17  18  27.0      M            2       N             0   66.00      66.0   \n",
      "18  19  23.0      M            2       Y             1   70.00      69.0   \n",
      "19  20  24.0      F            1       Y             1   68.00      66.0   \n",
      "20  21  23.0      M            2       Y             1   69.00      67.0   \n",
      "21  22  29.0      M            2       N             0   71.00      70.0   \n",
      "22  23  25.0      M            2       N             0   70.00      68.0   \n",
      "23  24  26.0      M            2       N             0   69.00      71.0   \n",
      "24  25  23.0      F            1       Y             1   65.00      63.0   \n",
      "25  26  28.0      M            2       N             0   75.00      76.0   \n",
      "26  27  24.0      M            2       N             0   78.40      71.0   \n",
      "27  28  25.0      M            2       Y             1   76.00      73.0   \n",
      "28  29  32.0      F            1       Y             1   63.00      60.0   \n",
      "29  30  38.0      F            1       Y             1   61.50      61.0   \n",
      "30  31  27.0      F            1       Y             1   62.00      60.0   \n",
      "31  32  33.0      F            1       Y             1   65.30      64.0   \n",
      "32  33  38.0      F            1       N             0   64.00      63.0   \n",
      "33  34  27.0      M            2       N             0   77.00      75.0   \n",
      "34  35  24.0      F            1       N             0   67.80      62.0   \n",
      "35  36  27.0      M            2       N             0   68.00      66.0   \n",
      "36  37  25.0      F            1       Y             1   65.00      64.5   \n",
      "37  38  26.0      F            1       N             0   61.50      59.5   \n",
      "38  39  31.0      M            2       Y             1   73.00      74.0   \n",
      "39  40  30.0      M            2       Y             1   69.50      66.0   \n",
      "40  41  23.0      F            1       N             0   70.40      71.0   \n",
      "41  42  26.0      M            2       Y             1   73.50      72.0   \n",
      "42  43  28.0      F            1       Y             1   72.50      72.0   \n",
      "43  44  26.0      F            1       Y             1   72.00      72.0   \n",
      "44  45  30.0      F            1       Y             1   66.00      64.0   \n",
      "45  46  39.0      F            1       N             0   64.00      63.0   \n",
      "46  47  27.0      M            2       N             0   78.00      75.0   \n",
      "47  48  24.0      M            2       N             0   79.50      75.0   \n",
      "48  49  28.0      M            2       N             0   77.80      76.0   \n",
      "49  50  30.0      F            1       N             0   74.60       NaN   \n",
      "50  51   NaN      M            2       N             0   71.00      70.0   \n",
      "51  52  27.0      M            2       N             0     NaN      71.5   \n",
      "\n",
      "    CWDistance Complete  CompleteGroup  Score  \n",
      "0           79        Y            1.0      7  \n",
      "1           70        Y            1.0      8  \n",
      "2           85        Y            1.0      7  \n",
      "3           87        Y            1.0     10  \n",
      "4           72        N            0.0      4  \n",
      "5           81        N            0.0      3  \n",
      "6          107        Y            1.0     10  \n",
      "7           98        Y            1.0      9  \n",
      "8          106        N            0.0      5  \n",
      "9           65        Y            1.0      8  \n",
      "10          96        Y            1.0      6  \n",
      "11          79        Y            1.0     10  \n",
      "12          92        Y            1.0      6  \n",
      "13          66        Y            1.0      4  \n",
      "14          72        Y            1.0      9  \n",
      "15         115        Y            1.0      6  \n",
      "16          90        N            0.0     10  \n",
      "17          74        Y            1.0      5  \n",
      "18          64        Y            1.0      3  \n",
      "19          85        Y            1.0      8  \n",
      "20          66        N            0.0      2  \n",
      "21         101        Y            1.0      8  \n",
      "22          82        Y            1.0      4  \n",
      "23          63        Y            1.0      5  \n",
      "24          67        N            0.0      3  \n",
      "25         111        Y            1.0     10  \n",
      "26          92        Y            1.0      7  \n",
      "27         107        Y            1.0      8  \n",
      "28          75        Y            1.0      8  \n",
      "29          78        Y            1.0      7  \n",
      "30          72        Y            1.0      8  \n",
      "31          91        Y            1.0      7  \n",
      "32          86        Y            1.0     10  \n",
      "33         100        Y            1.0      8  \n",
      "34          98        Y            1.0      9  \n",
      "35          74        Y            1.0      5  \n",
      "36          92        Y            1.0      6  \n",
      "37          90        Y            1.0      9  \n",
      "38          72        Y            1.0      9  \n",
      "39          96        Y            1.0      6  \n",
      "40          66        Y            1.0      4  \n",
      "41         115        Y            1.0      6  \n",
      "42          81        Y            1.0     10  \n",
      "43          92        Y            1.0      8  \n",
      "44          85        Y            1.0      7  \n",
      "45          87        Y            1.0     10  \n",
      "46          72        N            0.0      7  \n",
      "47          82        N            0.0      8  \n",
      "48          99        Y            1.0      9  \n",
      "49          71        Y            1.0      9  \n",
      "50         101        Y            NaN      8  \n",
      "51         103        Y            1.0     10  \n"
     ]
    }
   ],
   "source": [
    "# Print the dataset\n",
    "print(dataset)"
   ]
  },
  {
   "cell_type": "code",
   "execution_count": 20,
   "metadata": {
    "id": "UHf53273Ygl7"
   },
   "outputs": [
    {
     "name": "stdout",
     "output_type": "stream",
     "text": [
      "52\n"
     ]
    }
   ],
   "source": [
    "# Print the number of rows\n",
    "print(dataset.shape[0]) \n"
   ]
  },
  {
   "cell_type": "code",
   "execution_count": 21,
   "metadata": {
    "id": "oULLxV8eYgl7"
   },
   "outputs": [
    {
     "name": "stdout",
     "output_type": "stream",
     "text": [
      "12\n"
     ]
    }
   ],
   "source": [
    "# Print the number of columns\n",
    "print(dataset.shape[1]) \n"
   ]
  },
  {
   "cell_type": "markdown",
   "metadata": {
    "id": "Ucha2CMGuF8A"
   },
   "source": [
    "# Data types"
   ]
  },
  {
   "cell_type": "code",
   "execution_count": 22,
   "metadata": {
    "id": "xOA1m-EVuMxz"
   },
   "outputs": [
    {
     "name": "stdout",
     "output_type": "stream",
     "text": [
      "ID                 int64\n",
      "Age              float64\n",
      "Gender            object\n",
      "GenderGroup        int64\n",
      "Glasses           object\n",
      "GlassesGroup       int64\n",
      "Height           float64\n",
      "Wingspan         float64\n",
      "CWDistance         int64\n",
      "Complete          object\n",
      "CompleteGroup    float64\n",
      "Score              int64\n",
      "dtype: object\n"
     ]
    }
   ],
   "source": [
    "print(dataset.dtypes)"
   ]
  },
  {
   "cell_type": "markdown",
   "metadata": {
    "id": "wQIcyogKYgl8"
   },
   "source": [
    "# Activity: work with the iris dataset\n",
    "\n",
    "1. Load the iris.csv file in your computer and understand the dataset\n",
    "\n",
    "\n",
    "2. How many observations (rows) are in total?\n",
    "\n",
    "\n",
    "3. How many variables (columns) are in total? What do they represent?\n",
    "\n",
    "\n",
    "4. How many observations are for each type of flower?\n",
    "\n",
    "\n",
    "5. What is the type of data for each variable?\n",
    "\n",
    "\n",
    "6. What are the units of each variable?\n"
   ]
  },
  {
   "cell_type": "code",
   "execution_count": 27,
   "metadata": {
    "id": "fTHj_8jsYgl8"
   },
   "outputs": [
    {
     "data": {
      "text/html": [
       "<div>\n",
       "<style scoped>\n",
       "    .dataframe tbody tr th:only-of-type {\n",
       "        vertical-align: middle;\n",
       "    }\n",
       "\n",
       "    .dataframe tbody tr th {\n",
       "        vertical-align: top;\n",
       "    }\n",
       "\n",
       "    .dataframe thead th {\n",
       "        text-align: right;\n",
       "    }\n",
       "</style>\n",
       "<table border=\"1\" class=\"dataframe\">\n",
       "  <thead>\n",
       "    <tr style=\"text-align: right;\">\n",
       "      <th></th>\n",
       "      <th>Sepal_Length</th>\n",
       "      <th>Sepal_Width</th>\n",
       "      <th>Petal_Length</th>\n",
       "      <th>Petal_ Width</th>\n",
       "      <th>Species</th>\n",
       "    </tr>\n",
       "  </thead>\n",
       "  <tbody>\n",
       "    <tr>\n",
       "      <th>0</th>\n",
       "      <td>5.1</td>\n",
       "      <td>3.5</td>\n",
       "      <td>1.4</td>\n",
       "      <td>0.2</td>\n",
       "      <td>Iris-setosa</td>\n",
       "    </tr>\n",
       "    <tr>\n",
       "      <th>1</th>\n",
       "      <td>4.9</td>\n",
       "      <td>3.0</td>\n",
       "      <td>1.4</td>\n",
       "      <td>0.2</td>\n",
       "      <td>Iris-setosa</td>\n",
       "    </tr>\n",
       "    <tr>\n",
       "      <th>2</th>\n",
       "      <td>4.7</td>\n",
       "      <td>3.2</td>\n",
       "      <td>1.3</td>\n",
       "      <td>0.2</td>\n",
       "      <td>Iris-setosa</td>\n",
       "    </tr>\n",
       "    <tr>\n",
       "      <th>3</th>\n",
       "      <td>4.6</td>\n",
       "      <td>3.1</td>\n",
       "      <td>1.5</td>\n",
       "      <td>0.2</td>\n",
       "      <td>Iris-setosa</td>\n",
       "    </tr>\n",
       "    <tr>\n",
       "      <th>4</th>\n",
       "      <td>5.0</td>\n",
       "      <td>3.6</td>\n",
       "      <td>1.4</td>\n",
       "      <td>0.2</td>\n",
       "      <td>Iris-setosa</td>\n",
       "    </tr>\n",
       "    <tr>\n",
       "      <th>...</th>\n",
       "      <td>...</td>\n",
       "      <td>...</td>\n",
       "      <td>...</td>\n",
       "      <td>...</td>\n",
       "      <td>...</td>\n",
       "    </tr>\n",
       "    <tr>\n",
       "      <th>145</th>\n",
       "      <td>6.7</td>\n",
       "      <td>3.0</td>\n",
       "      <td>5.2</td>\n",
       "      <td>2.3</td>\n",
       "      <td>Iris-virginica</td>\n",
       "    </tr>\n",
       "    <tr>\n",
       "      <th>146</th>\n",
       "      <td>6.3</td>\n",
       "      <td>2.5</td>\n",
       "      <td>5.0</td>\n",
       "      <td>1.9</td>\n",
       "      <td>Iris-virginica</td>\n",
       "    </tr>\n",
       "    <tr>\n",
       "      <th>147</th>\n",
       "      <td>6.5</td>\n",
       "      <td>3.0</td>\n",
       "      <td>5.2</td>\n",
       "      <td>2.0</td>\n",
       "      <td>Iris-virginica</td>\n",
       "    </tr>\n",
       "    <tr>\n",
       "      <th>148</th>\n",
       "      <td>6.2</td>\n",
       "      <td>3.4</td>\n",
       "      <td>5.4</td>\n",
       "      <td>2.3</td>\n",
       "      <td>Iris-virginica</td>\n",
       "    </tr>\n",
       "    <tr>\n",
       "      <th>149</th>\n",
       "      <td>5.9</td>\n",
       "      <td>3.0</td>\n",
       "      <td>5.1</td>\n",
       "      <td>1.8</td>\n",
       "      <td>Iris-virginica</td>\n",
       "    </tr>\n",
       "  </tbody>\n",
       "</table>\n",
       "<p>150 rows × 5 columns</p>\n",
       "</div>"
      ],
      "text/plain": [
       "     Sepal_Length  Sepal_Width  Petal_Length  Petal_ Width         Species\n",
       "0             5.1          3.5           1.4           0.2     Iris-setosa\n",
       "1             4.9          3.0           1.4           0.2     Iris-setosa\n",
       "2             4.7          3.2           1.3           0.2     Iris-setosa\n",
       "3             4.6          3.1           1.5           0.2     Iris-setosa\n",
       "4             5.0          3.6           1.4           0.2     Iris-setosa\n",
       "..            ...          ...           ...           ...             ...\n",
       "145           6.7          3.0           5.2           2.3  Iris-virginica\n",
       "146           6.3          2.5           5.0           1.9  Iris-virginica\n",
       "147           6.5          3.0           5.2           2.0  Iris-virginica\n",
       "148           6.2          3.4           5.4           2.3  Iris-virginica\n",
       "149           5.9          3.0           5.1           1.8  Iris-virginica\n",
       "\n",
       "[150 rows x 5 columns]"
      ]
     },
     "execution_count": 27,
     "metadata": {},
     "output_type": "execute_result"
    }
   ],
   "source": [
    "url2=\"C:/Users/ali_l/OneDrive/Escritorio/Semestre 4/SemanaTec/TC1002S/NotebooksStudents/A00838860/iris/iris.data\"\n",
    "colnames=[\"Sepal_Length\",\"Sepal_Width\", \"Petal_Length\",\"Petal_ Width\", \"Species\"]\n",
    "iris=pd.read_csv(url2, header=None, names=colnames)\n",
    "iris"
   ]
  },
  {
   "cell_type": "code",
   "execution_count": 24,
   "metadata": {},
   "outputs": [
    {
     "name": "stdout",
     "output_type": "stream",
     "text": [
      "numero de observacines: 150\n",
      "numero de variables: 12\n"
     ]
    }
   ],
   "source": [
    "print(\"numero de observacines:\", iris.shape[0])\n",
    "print(\"numero de variables:\",dataset.shape[1]) "
   ]
  },
  {
   "cell_type": "code",
   "execution_count": 25,
   "metadata": {},
   "outputs": [
    {
     "name": "stdout",
     "output_type": "stream",
     "text": [
      "Species\n",
      "Iris-setosa        50\n",
      "Iris-versicolor    50\n",
      "Iris-virginica     50\n",
      "Name: count, dtype: int64\n"
     ]
    }
   ],
   "source": [
    "print(iris[\"Species\"].value_counts())"
   ]
  },
  {
   "cell_type": "code",
   "execution_count": 28,
   "metadata": {},
   "outputs": [
    {
     "name": "stdout",
     "output_type": "stream",
     "text": [
      "Sepal_Length    float64\n",
      "Sepal_Width     float64\n",
      "Petal_Length    float64\n",
      "Petal_ Width    float64\n",
      "Species          object\n",
      "dtype: object\n",
      "Todas las medidas están en centímetros\n"
     ]
    }
   ],
   "source": [
    "print(iris.dtypes)\n",
    "print(\"Todas las medidas están en centímetros\")"
   ]
  }
 ],
 "metadata": {
  "colab": {
   "provenance": []
  },
  "kernelspec": {
   "display_name": "Python 3",
   "language": "python",
   "name": "python3"
  },
  "language_info": {
   "codemirror_mode": {
    "name": "ipython",
    "version": 3
   },
   "file_extension": ".py",
   "mimetype": "text/x-python",
   "name": "python",
   "nbconvert_exporter": "python",
   "pygments_lexer": "ipython3",
   "version": "3.11.9"
  }
 },
 "nbformat": 4,
 "nbformat_minor": 0
}
