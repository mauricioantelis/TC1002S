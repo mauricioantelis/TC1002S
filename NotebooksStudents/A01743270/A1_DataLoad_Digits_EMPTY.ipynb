{
 "cells": [
  {
   "cell_type": "markdown",
   "metadata": {
    "id": "OJNAZAQy3iM0"
   },
   "source": [
    "# Dataset Digits"
   ]
  },
  {
   "cell_type": "markdown",
   "metadata": {
    "id": "1ZlCv7Oc06-u"
   },
   "source": [
    "# Import packages"
   ]
  },
  {
   "cell_type": "code",
   "execution_count": 1,
   "metadata": {
    "executionInfo": {
     "elapsed": 681,
     "status": "ok",
     "timestamp": 1729695569959,
     "user": {
      "displayName": "Mauricio Antelis",
      "userId": "11526682341763354036"
     },
     "user_tz": 360
    },
    "id": "eM5bnHjW05Wt"
   },
   "outputs": [],
   "source": [
    "# Import the packages that we will be using\n",
    "import numpy as np                  # For arrays, matrices, and functions to operate on them\n",
    "import matplotlib.pyplot as plt     # For showing plots\n",
    "import pandas as pd                 # For data handling\n"
   ]
  },
  {
   "cell_type": "markdown",
   "metadata": {
    "id": "HZ9sUIYba7Kb"
   },
   "source": [
    "# Digits data set v1\n",
    "\n",
    "- Data from scikit-learn https://scikit-learn.org/stable/auto_examples/datasets/plot_digits_last_image.html\n",
    "\n",
    "- More details in https://archive.ics.uci.edu/ml/datasets/Pen-Based+Recognition+of+Handwritten+Digits\n"
   ]
  },
  {
   "cell_type": "code",
   "execution_count": null,
   "metadata": {
    "executionInfo": {
     "elapsed": 7288,
     "status": "ok",
     "timestamp": 1729695577885,
     "user": {
      "displayName": "Mauricio Antelis",
      "userId": "11526682341763354036"
     },
     "user_tz": 360
    },
    "id": "05EXkOdfa7Kk"
   },
   "outputs": [
    {
     "ename": "ModuleNotFoundError",
     "evalue": "No module named 'sklearn'",
     "output_type": "error",
     "traceback": [
      "\u001b[1;31m---------------------------------------------------------------------------\u001b[0m",
      "\u001b[1;31mModuleNotFoundError\u001b[0m                       Traceback (most recent call last)",
      "Cell \u001b[1;32mIn[2], line 2\u001b[0m\n\u001b[0;32m      1\u001b[0m \u001b[38;5;66;03m# Import the dataset\u001b[39;00m\n\u001b[1;32m----> 2\u001b[0m \u001b[38;5;28;01mfrom\u001b[39;00m \u001b[38;5;21;01msklearn\u001b[39;00m\u001b[38;5;21;01m.\u001b[39;00m\u001b[38;5;21;01mdatasets\u001b[39;00m \u001b[38;5;28;01mimport\u001b[39;00m load_digits\n\u001b[0;32m      4\u001b[0m \u001b[38;5;66;03m# Load the dataset\u001b[39;00m\n\u001b[0;32m      5\u001b[0m DS \u001b[38;5;241m=\u001b[39m load_digits()\n",
      "\u001b[1;31mModuleNotFoundError\u001b[0m: No module named 'sklearn'"
     ]
    }
   ],
   "source": [
    "# Import the dataset\n",
    "from sklearn.datasets import load_digits\n",
    "\n",
    "# Load the dataset\n",
    "DS = load_digits()\n"
   ]
  },
  {
   "cell_type": "code",
   "execution_count": null,
   "metadata": {
    "executionInfo": {
     "elapsed": 5,
     "status": "ok",
     "timestamp": 1729695577885,
     "user": {
      "displayName": "Mauricio Antelis",
      "userId": "11526682341763354036"
     },
     "user_tz": 360
    },
    "id": "Xfwrkefo4jyN"
   },
   "outputs": [],
   "source": [
    "# Print keys\n",
    "print(\"Keys: \", DS.keys())"
   ]
  },
  {
   "cell_type": "code",
   "execution_count": null,
   "metadata": {
    "executionInfo": {
     "elapsed": 4,
     "status": "ok",
     "timestamp": 1729695577885,
     "user": {
      "displayName": "Mauricio Antelis",
      "userId": "11526682341763354036"
     },
     "user_tz": 360
    },
    "id": "lTxHD0AFN6zZ"
   },
   "outputs": [],
   "source": [
    "# Explore the dataset\n",
    "print(\"Descripcion: \", DS['DESCR'])\n",
    "\n",
    "# Data as vector\n",
    "print(\"Data as vector (first 5 samples): \", DS.data[:5])\n",
    "\n",
    "# Target/Class/Group\n",
    "print(\"Target/Class/Group (first 5 samples): \", DS.target[:5])\n",
    "\n",
    "# Data as matrix\n",
    "print(\"Data as matrix (first sample):\", DS.images[0])\n",
    "\n",
    "# Name of the variables\n",
    "print(\"Name of the variables (features):\", DS.feature_names)\n",
    "\n",
    "# Name of the classes/groups\n",
    "print(\"Name of the classes/groups:\", DS.target_names)\n",
    "\n"
   ]
  },
  {
   "cell_type": "code",
   "execution_count": null,
   "metadata": {
    "executionInfo": {
     "elapsed": 4,
     "status": "ok",
     "timestamp": 1729695577885,
     "user": {
      "displayName": "Mauricio Antelis",
      "userId": "11526682341763354036"
     },
     "user_tz": 360
    },
    "id": "x6BvPQA_6Op0"
   },
   "outputs": [],
   "source": [
    "# Select one of the observations\n",
    "i = 345\n"
   ]
  },
  {
   "cell_type": "code",
   "execution_count": null,
   "metadata": {
    "executionInfo": {
     "elapsed": 3,
     "status": "ok",
     "timestamp": 1729695577885,
     "user": {
      "displayName": "Mauricio Antelis",
      "userId": "11526682341763354036"
     },
     "user_tz": 360
    },
    "id": "em_dBXrWH4ZU"
   },
   "outputs": [],
   "source": [
    "# Show the data vector of the selected observation\n",
    "print(\"Data vector of the selected observation: \", DS.data[i])\n"
   ]
  },
  {
   "cell_type": "code",
   "execution_count": null,
   "metadata": {
    "executionInfo": {
     "elapsed": 4,
     "status": "ok",
     "timestamp": 1729695577886,
     "user": {
      "displayName": "Mauricio Antelis",
      "userId": "11526682341763354036"
     },
     "user_tz": 360
    },
    "id": "ZtkCd0tYa7LK"
   },
   "outputs": [],
   "source": [
    "# Show the data matrix of the selected observation\n",
    "print(\"Data matrix of the selected observation: \", DS.images[i])\n"
   ]
  },
  {
   "cell_type": "code",
   "execution_count": null,
   "metadata": {
    "executionInfo": {
     "elapsed": 9,
     "status": "ok",
     "timestamp": 1729695578094,
     "user": {
      "displayName": "Mauricio Antelis",
      "userId": "11526682341763354036"
     },
     "user_tz": 360
    },
    "id": "9Uk-CQgXa7LM"
   },
   "outputs": [],
   "source": [
    "# Show the number of the selected observation\n",
    "print(\"Number of the selected observation: \", DS.target[i])\n"
   ]
  },
  {
   "cell_type": "code",
   "execution_count": null,
   "metadata": {
    "executionInfo": {
     "elapsed": 9,
     "status": "ok",
     "timestamp": 1729695578095,
     "user": {
      "displayName": "Mauricio Antelis",
      "userId": "11526682341763354036"
     },
     "user_tz": 360
    },
    "id": "J4X-jTjwa7LN"
   },
   "outputs": [],
   "source": [
    "# Display one of the observations (zeros as white)\n",
    "plt.figure(figsize=(1, 1))\n",
    "plt.imshow(DS.images[i], cmap='gray', interpolation='nearest')\n",
    "plt.title(f\"Observation {i} (Zeros as White)\")\n",
    "plt.axis('off')\n",
    "plt.show()\n"
   ]
  },
  {
   "cell_type": "code",
   "execution_count": null,
   "metadata": {
    "executionInfo": {
     "elapsed": 8,
     "status": "ok",
     "timestamp": 1729695578095,
     "user": {
      "displayName": "Mauricio Antelis",
      "userId": "11526682341763354036"
     },
     "user_tz": 360
    },
    "id": "NNLNt2qJ4cQP"
   },
   "outputs": [],
   "source": [
    "# Display one of the observations (zeros as black)\n",
    "plt.figure(figsize=(1, 1))\n",
    "plt.imshow(DS.images[i], cmap='gray_r', interpolation='nearest')\n",
    "plt.title(f\"Observation {i} (Zeros as Black)\")\n",
    "plt.axis('off')\n",
    "plt.show()\n"
   ]
  },
  {
   "cell_type": "code",
   "execution_count": null,
   "metadata": {
    "executionInfo": {
     "elapsed": 8,
     "status": "ok",
     "timestamp": 1729695578095,
     "user": {
      "displayName": "Mauricio Antelis",
      "userId": "11526682341763354036"
     },
     "user_tz": 360
    },
    "id": "zb0hPszO0xWd"
   },
   "outputs": [],
   "source": [
    "# Display 4 observations in a row (zeros as white)\n",
    "fig, axes = plt.subplots(1, 4, figsize=(4, 1))\n",
    "for ax, image in zip(axes, DS.images[i:i+4]):\n",
    "    ax.set_axis_off()\n",
    "    ax.imshow(image, cmap='gray', interpolation='nearest')\n",
    "plt.show()"
   ]
  },
  {
   "cell_type": "code",
   "execution_count": null,
   "metadata": {
    "executionInfo": {
     "elapsed": 7,
     "status": "ok",
     "timestamp": 1729695578095,
     "user": {
      "displayName": "Mauricio Antelis",
      "userId": "11526682341763354036"
     },
     "user_tz": 360
    },
    "id": "bsGb3Ily3Qx_"
   },
   "outputs": [],
   "source": [
    "# Display 4 observations in a row (zeros as blak)\n",
    "fig, axes = plt.subplots(1, 4, figsize=(4, 1))\n",
    "for ax, image in zip(axes, DS.images[i:i+4]):\n",
    "    ax.set_axis_off()\n",
    "    ax.imshow(image, cmap='gray_r', interpolation='nearest')\n",
    "plt.show()\n"
   ]
  },
  {
   "cell_type": "code",
   "execution_count": null,
   "metadata": {
    "executionInfo": {
     "elapsed": 6,
     "status": "ok",
     "timestamp": 1729695578095,
     "user": {
      "displayName": "Mauricio Antelis",
      "userId": "11526682341763354036"
     },
     "user_tz": 360
    },
    "id": "KHfPTYXNa7LU"
   },
   "outputs": [],
   "source": [
    "# Convert to a pandas dataframe\n",
    "df = pd.DataFrame(data=DS.data, columns=DS.feature_names)\n",
    "df['target'] = DS.target\n",
    "\n",
    "# Print the dataset\n",
    "print(\"Data set: \", df.head)\n"
   ]
  },
  {
   "cell_type": "code",
   "execution_count": null,
   "metadata": {
    "executionInfo": {
     "elapsed": 6,
     "status": "ok",
     "timestamp": 1729695578095,
     "user": {
      "displayName": "Mauricio Antelis",
      "userId": "11526682341763354036"
     },
     "user_tz": 360
    },
    "id": "cRCJ8vOaa7LY"
   },
   "outputs": [],
   "source": [
    "# Print the number of rows\n",
    "print(\"Number of rows: \", df.shape[0])"
   ]
  },
  {
   "cell_type": "code",
   "execution_count": null,
   "metadata": {
    "executionInfo": {
     "elapsed": 6,
     "status": "ok",
     "timestamp": 1729695578095,
     "user": {
      "displayName": "Mauricio Antelis",
      "userId": "11526682341763354036"
     },
     "user_tz": 360
    },
    "id": "HdYbZso_a7LY"
   },
   "outputs": [],
   "source": [
    "# Print the number of columns\n",
    "print(\"Number of columns:\", df.shape[1])"
   ]
  },
  {
   "cell_type": "markdown",
   "metadata": {
    "id": "UrfeqNQ6hggm"
   },
   "source": [
    "# Digits data set v2\n",
    "\n",
    "- Data from scikit-learn https://scikit-learn.org/stable/auto_examples/datasets/plot_digits_last_image.html\n",
    "\n",
    "- More details in https://archive.ics.uci.edu/ml/datasets/Pen-Based+Recognition+of+Handwritten+Digits"
   ]
  },
  {
   "cell_type": "code",
   "execution_count": 16,
   "metadata": {
    "executionInfo": {
     "elapsed": 308,
     "status": "ok",
     "timestamp": 1729695581493,
     "user": {
      "displayName": "Mauricio Antelis",
      "userId": "11526682341763354036"
     },
     "user_tz": 360
    },
    "id": "A7IpVlSmhhnP"
   },
   "outputs": [],
   "source": [
    "# Import the dataset\n",
    "from sklearn.datasets import load_digits\n",
    "\n",
    "# Load the dataset\n",
    "X, y = load_digits(return_X_y=True)\n"
   ]
  },
  {
   "cell_type": "code",
   "execution_count": 17,
   "metadata": {
    "executionInfo": {
     "elapsed": 209,
     "status": "ok",
     "timestamp": 1729695582975,
     "user": {
      "displayName": "Mauricio Antelis",
      "userId": "11526682341763354036"
     },
     "user_tz": 360
    },
    "id": "iifvlgDMhvMK"
   },
   "outputs": [],
   "source": [
    "# Undertand X (type and shape)\n",
    "\n"
   ]
  },
  {
   "cell_type": "code",
   "execution_count": 18,
   "metadata": {
    "executionInfo": {
     "elapsed": 209,
     "status": "ok",
     "timestamp": 1729695583600,
     "user": {
      "displayName": "Mauricio Antelis",
      "userId": "11526682341763354036"
     },
     "user_tz": 360
    },
    "id": "SzJz8MHq1NFJ"
   },
   "outputs": [],
   "source": [
    "# Undertand y (type and shape)\n",
    "\n"
   ]
  },
  {
   "cell_type": "code",
   "execution_count": null,
   "metadata": {
    "id": "tptgMG6V2F2_"
   },
   "outputs": [],
   "source": [
    "# -------------------------------\n",
    "# Select some of the images\n",
    "iimag = [  0,   11,   28,  42,    56,  70,    84,\n",
    "          91,  115,  280, 420,   560, 700,   906,\n",
    "         929,  970,  999, 1003, 1077, 1104, 1205,\n",
    "        1206, 1153, 1205, 1257, 1378, 1407, 1509]\n",
    "\n",
    "# -------------------------------\n",
    "# Plot selected images (zeros as black)\n",
    "plt.figure(figsize=(12,8))\n",
    "for i, i2p in enumerate(iimag):\n",
    "\n",
    "    Xi = X[i2p,:]\n",
    "    yi = y[i2p]\n",
    "\n",
    "    plt.subplot(4,7,i+1)\n",
    "    plt.xticks([])\n",
    "    plt.yticks([])\n",
    "    plt.grid(False)\n",
    "    plt.imshow(Xi.reshape(8,8), cmap=plt.cm.gray)\n",
    "    plt.title(\"Label: {0:.0f}\".format(yi))\n",
    "\n",
    "    # Verify data\n",
    "    #minX = np.min(Xi)\n",
    "    #maxX = np.max(Xi)\n",
    "    #print(\"min max\")\n",
    "    #print(minX, maxX)\n",
    "    #print(\" \")\n",
    "\n",
    "plt.show()\n"
   ]
  },
  {
   "cell_type": "code",
   "execution_count": null,
   "metadata": {
    "id": "T-Q70mTR3ElK"
   },
   "outputs": [],
   "source": []
  }
 ],
 "metadata": {
  "colab": {
   "provenance": [],
   "toc_visible": true
  },
  "kernelspec": {
   "display_name": "Python 3",
   "language": "python",
   "name": "python3"
  },
  "language_info": {
   "codemirror_mode": {
    "name": "ipython",
    "version": 3
   },
   "file_extension": ".py",
   "mimetype": "text/x-python",
   "name": "python",
   "nbconvert_exporter": "python",
   "pygments_lexer": "ipython3",
   "version": "3.13.0"
  }
 },
 "nbformat": 4,
 "nbformat_minor": 0
}
