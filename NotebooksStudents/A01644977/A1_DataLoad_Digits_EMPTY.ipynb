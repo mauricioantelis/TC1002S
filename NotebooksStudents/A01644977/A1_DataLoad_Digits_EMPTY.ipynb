{
 "cells": [
  {
   "cell_type": "markdown",
   "metadata": {
    "id": "OJNAZAQy3iM0"
   },
   "source": [
    "# Dataset Digits"
   ]
  },
  {
   "cell_type": "markdown",
   "metadata": {
    "id": "1ZlCv7Oc06-u"
   },
   "source": [
    "# Import packages"
   ]
  },
  {
   "cell_type": "code",
   "execution_count": 1,
   "metadata": {
    "executionInfo": {
     "elapsed": 681,
     "status": "ok",
     "timestamp": 1729695569959,
     "user": {
      "displayName": "Mauricio Antelis",
      "userId": "11526682341763354036"
     },
     "user_tz": 360
    },
    "id": "eM5bnHjW05Wt"
   },
   "outputs": [],
   "source": [
    "# Import the packages that we will be using\n",
    "import numpy as np                  # For arrays, matrices, and functions to operate on them\n",
    "import matplotlib.pyplot as plt     # For showing plots\n",
    "import pandas as pd                 # For data handling\n"
   ]
  },
  {
   "cell_type": "markdown",
   "metadata": {
    "id": "HZ9sUIYba7Kb"
   },
   "source": [
    "# Digits data set v1\n",
    "\n",
    "- Data from scikit-learn https://scikit-learn.org/stable/auto_examples/datasets/plot_digits_last_image.html\n",
    "\n",
    "- More details in https://archive.ics.uci.edu/ml/datasets/Pen-Based+Recognition+of+Handwritten+Digits\n"
   ]
  },
  {
   "cell_type": "code",
   "execution_count": 4,
   "metadata": {
    "executionInfo": {
     "elapsed": 7288,
     "status": "ok",
     "timestamp": 1729695577885,
     "user": {
      "displayName": "Mauricio Antelis",
      "userId": "11526682341763354036"
     },
     "user_tz": 360
    },
    "id": "05EXkOdfa7Kk"
   },
   "outputs": [],
   "source": [
    "# Import the dataset\n",
    "from sklearn.datasets import load_digits\n",
    "\n",
    "# Load the dataset\n",
    "DS = load_digits()\n"
   ]
  },
  {
   "cell_type": "code",
   "execution_count": 5,
   "metadata": {
    "executionInfo": {
     "elapsed": 5,
     "status": "ok",
     "timestamp": 1729695577885,
     "user": {
      "displayName": "Mauricio Antelis",
      "userId": "11526682341763354036"
     },
     "user_tz": 360
    },
    "id": "Xfwrkefo4jyN"
   },
   "outputs": [
    {
     "data": {
      "text/plain": [
       "dict_keys(['data', 'target', 'frame', 'feature_names', 'target_names', 'images', 'DESCR'])"
      ]
     },
     "execution_count": 5,
     "metadata": {},
     "output_type": "execute_result"
    }
   ],
   "source": [
    "# Print keys\n",
    "DS.keys()"
   ]
  },
  {
   "cell_type": "code",
   "execution_count": 12,
   "metadata": {
    "executionInfo": {
     "elapsed": 4,
     "status": "ok",
     "timestamp": 1729695577885,
     "user": {
      "displayName": "Mauricio Antelis",
      "userId": "11526682341763354036"
     },
     "user_tz": 360
    },
    "id": "lTxHD0AFN6zZ"
   },
   "outputs": [
    {
     "name": "stdout",
     "output_type": "stream",
     "text": [
      "Vector:\n",
      " [ 0.  0.  5. 13.  9.  1.  0.  0.  0.  0. 13. 15. 10. 15.  5.  0.  0.  3.\n",
      " 15.  2.  0. 11.  8.  0.  0.  4. 12.  0.  0.  8.  8.  0.  0.  5.  8.  0.\n",
      "  0.  9.  8.  0.  0.  4. 11.  0.  1. 12.  7.  0.  0.  2. 14.  5. 10. 12.\n",
      "  0.  0.  0.  0.  6. 13. 10.  0.  0.  0.]\n",
      "First target value: 0\n",
      "Shape of data matrix (total observations and features): (1797, 64)\n",
      "Names of the features: ['pixel_0_0', 'pixel_0_1', 'pixel_0_2', 'pixel_0_3', 'pixel_0_4', 'pixel_0_5', 'pixel_0_6', 'pixel_0_7', 'pixel_1_0', 'pixel_1_1', 'pixel_1_2', 'pixel_1_3', 'pixel_1_4', 'pixel_1_5', 'pixel_1_6', 'pixel_1_7', 'pixel_2_0', 'pixel_2_1', 'pixel_2_2', 'pixel_2_3', 'pixel_2_4', 'pixel_2_5', 'pixel_2_6', 'pixel_2_7', 'pixel_3_0', 'pixel_3_1', 'pixel_3_2', 'pixel_3_3', 'pixel_3_4', 'pixel_3_5', 'pixel_3_6', 'pixel_3_7', 'pixel_4_0', 'pixel_4_1', 'pixel_4_2', 'pixel_4_3', 'pixel_4_4', 'pixel_4_5', 'pixel_4_6', 'pixel_4_7', 'pixel_5_0', 'pixel_5_1', 'pixel_5_2', 'pixel_5_3', 'pixel_5_4', 'pixel_5_5', 'pixel_5_6', 'pixel_5_7', 'pixel_6_0', 'pixel_6_1', 'pixel_6_2', 'pixel_6_3', 'pixel_6_4', 'pixel_6_5', 'pixel_6_6', 'pixel_6_7', 'pixel_7_0', 'pixel_7_1', 'pixel_7_2', 'pixel_7_3', 'pixel_7_4', 'pixel_7_5', 'pixel_7_6', 'pixel_7_7']\n",
      "Names of the classes: [0 1 2 3 4 5 6 7 8 9]\n"
     ]
    }
   ],
   "source": [
    "# observation, vector\n",
    "data_vector = DS.data[0]\n",
    "print(\"Vector:\\n\", data_vector)\n",
    "\n",
    "# Target/Class/Group\n",
    "target_value = DS.target[0]\n",
    "print(\"First target value:\", target_value)\n",
    "\n",
    "# Data as matrix\n",
    "data_matrix = DS.data\n",
    "print(\"Shape of data matrix (total observations and features):\", data_matrix.shape)\n",
    "\n",
    "# Name of the variables (features)\n",
    "print(\"Names of the features:\", DS.feature_names)\n",
    "\n",
    "# Name of the classes/groups (targets)\n",
    "print(\"Names of the classes:\", DS.target_names)\n"
   ]
  },
  {
   "cell_type": "code",
   "execution_count": 14,
   "metadata": {
    "executionInfo": {
     "elapsed": 4,
     "status": "ok",
     "timestamp": 1729695577885,
     "user": {
      "displayName": "Mauricio Antelis",
      "userId": "11526682341763354036"
     },
     "user_tz": 360
    },
    "id": "x6BvPQA_6Op0"
   },
   "outputs": [],
   "source": [
    "# Select one of the observations\n",
    "i = 345"
   ]
  },
  {
   "cell_type": "code",
   "execution_count": 15,
   "metadata": {
    "executionInfo": {
     "elapsed": 3,
     "status": "ok",
     "timestamp": 1729695577885,
     "user": {
      "displayName": "Mauricio Antelis",
      "userId": "11526682341763354036"
     },
     "user_tz": 360
    },
    "id": "em_dBXrWH4ZU"
   },
   "outputs": [
    {
     "name": "stdout",
     "output_type": "stream",
     "text": [
      "Data vector of the selected observation (index 345): [ 0.  0. 12. 16. 16. 13.  1.  0.  0.  4. 15.  9. 12. 16.  2.  0.  0.  0.\n",
      "  2.  0. 11. 15.  0.  0.  0.  0.  0. 12. 16.  4.  0.  0.  0.  0.  0.  8.\n",
      " 16. 13.  1.  0.  0.  0.  0.  0.  6. 16.  6.  0.  0.  0.  4.  6.  6. 16.\n",
      "  6.  0.  0.  0. 12. 16. 16.  9.  0.  0.]\n"
     ]
    }
   ],
   "source": [
    "# Show the data vector of the selected observation\n",
    "selected_data_vector = DS.data[i]\n",
    "print(\"Data vector of the selected observation (index 345):\", selected_data_vector)\n"
   ]
  },
  {
   "cell_type": "code",
   "execution_count": 16,
   "metadata": {
    "executionInfo": {
     "elapsed": 4,
     "status": "ok",
     "timestamp": 1729695577886,
     "user": {
      "displayName": "Mauricio Antelis",
      "userId": "11526682341763354036"
     },
     "user_tz": 360
    },
    "id": "ZtkCd0tYa7LK"
   },
   "outputs": [
    {
     "name": "stdout",
     "output_type": "stream",
     "text": [
      "Data matrix (8x8) of the selected observation:\n",
      " [[ 0.  0. 12. 16. 16. 13.  1.  0.]\n",
      " [ 0.  4. 15.  9. 12. 16.  2.  0.]\n",
      " [ 0.  0.  2.  0. 11. 15.  0.  0.]\n",
      " [ 0.  0.  0. 12. 16.  4.  0.  0.]\n",
      " [ 0.  0.  0.  8. 16. 13.  1.  0.]\n",
      " [ 0.  0.  0.  0.  6. 16.  6.  0.]\n",
      " [ 0.  0.  4.  6.  6. 16.  6.  0.]\n",
      " [ 0.  0. 12. 16. 16.  9.  0.  0.]]\n"
     ]
    }
   ],
   "source": [
    "# Show the data matrix of the selected observation\n",
    "selected_data_matrix = DS.data[i].reshape(8, 8)  # Reshaping for visualization\n",
    "print(\"Data matrix (8x8) of the selected observation:\\n\", selected_data_matrix)\n"
   ]
  },
  {
   "cell_type": "code",
   "execution_count": 17,
   "metadata": {
    "executionInfo": {
     "elapsed": 9,
     "status": "ok",
     "timestamp": 1729695578094,
     "user": {
      "displayName": "Mauricio Antelis",
      "userId": "11526682341763354036"
     },
     "user_tz": 360
    },
    "id": "9Uk-CQgXa7LM"
   },
   "outputs": [
    {
     "name": "stdout",
     "output_type": "stream",
     "text": [
      "Selected observation number: 345\n"
     ]
    }
   ],
   "source": [
    "# Show the number of the selected observation\n",
    "selected_observation_number = i\n",
    "print(\"Selected observation number:\", selected_observation_number)"
   ]
  },
  {
   "cell_type": "code",
   "execution_count": 18,
   "metadata": {
    "executionInfo": {
     "elapsed": 9,
     "status": "ok",
     "timestamp": 1729695578095,
     "user": {
      "displayName": "Mauricio Antelis",
      "userId": "11526682341763354036"
     },
     "user_tz": 360
    },
    "id": "J4X-jTjwa7LN"
   },
   "outputs": [
    {
     "data": {
      "image/png": "[encoded data removed]",
      "text/plain": [
       "<Figure size 640x480 with 1 Axes>"
      ]
     },
     "metadata": {},
     "output_type": "display_data"
    }
   ],
   "source": [
    "# Display one of the observations (zeros as white)\n",
    "plt.imshow(selected_data_matrix, cmap='binary', interpolation='nearest')\n",
    "plt.title(f\"Observation {i} (Zeros as White)\")\n",
    "plt.show()\n"
   ]
  },
  {
   "cell_type": "code",
   "execution_count": 19,
   "metadata": {
    "executionInfo": {
     "elapsed": 8,
     "status": "ok",
     "timestamp": 1729695578095,
     "user": {
      "displayName": "Mauricio Antelis",
      "userId": "11526682341763354036"
     },
     "user_tz": 360
    },
    "id": "NNLNt2qJ4cQP"
   },
   "outputs": [
    {
     "data": {
      "image/png": "[encoded data removed]",
      "text/plain": [
       "<Figure size 640x480 with 1 Axes>"
      ]
     },
     "metadata": {},
     "output_type": "display_data"
    }
   ],
   "source": [
    "# Display one of the observations (zeros as black)\n",
    "plt.imshow(selected_data_matrix, cmap='gray', interpolation='nearest')\n",
    "plt.title(f\"Observation {i} (Zeros as Black)\")\n",
    "plt.show()\n"
   ]
  },
  {
   "cell_type": "code",
   "execution_count": null,
   "metadata": {
    "executionInfo": {
     "elapsed": 8,
     "status": "ok",
     "timestamp": 1729695578095,
     "user": {
      "displayName": "Mauricio Antelis",
      "userId": "11526682341763354036"
     },
     "user_tz": 360
    },
    "id": "zb0hPszO0xWd"
   },
   "outputs": [
    {
     "data": {
      "image/png": "[encoded data removed]",
      "text/plain": [
       "<Figure size 1200x400 with 4 Axes>"
      ]
     },
     "metadata": {},
     "output_type": "display_data"
    }
   ],
   "source": [
    "\n",
    "# Display 4 observations in a row (zeros as white)\n",
    "fig, axes = plt.subplots(1, 4, figsize=(12, 4))\n",
    "for j, ax in enumerate(axes):\n",
    "    ax.imshow(DS.data[j].reshape(8, 8), cmap='binary', interpolation='nearest')\n",
    "    ax.set_title(f\"Obs {j}\")\n",
    "plt.show()"
   ]
  },
  {
   "cell_type": "code",
   "execution_count": 21,
   "metadata": {
    "executionInfo": {
     "elapsed": 7,
     "status": "ok",
     "timestamp": 1729695578095,
     "user": {
      "displayName": "Mauricio Antelis",
      "userId": "11526682341763354036"
     },
     "user_tz": 360
    },
    "id": "bsGb3Ily3Qx_"
   },
   "outputs": [
    {
     "data": {
      "image/png": "[encoded data removed]",
      "text/plain": [
       "<Figure size 1200x400 with 4 Axes>"
      ]
     },
     "metadata": {},
     "output_type": "display_data"
    }
   ],
   "source": [
    "# Display 4 observations in a row (zeros as blak)\n",
    "fig, axes = plt.subplots(1, 4, figsize=(12, 4))\n",
    "for j, ax in enumerate(axes):\n",
    "    ax.imshow(DS.data[j].reshape(8, 8), cmap='gray', interpolation='nearest')\n",
    "    ax.set_title(f\"Obs {j}\")\n",
    "plt.show()"
   ]
  },
  {
   "cell_type": "code",
   "execution_count": 22,
   "metadata": {
    "executionInfo": {
     "elapsed": 6,
     "status": "ok",
     "timestamp": 1729695578095,
     "user": {
      "displayName": "Mauricio Antelis",
      "userId": "11526682341763354036"
     },
     "user_tz": 360
    },
    "id": "KHfPTYXNa7LU"
   },
   "outputs": [],
   "source": [
    "# Convert to a pandas dataframe\n",
    "\n",
    "# Print the dataset\n",
    "df = pd.DataFrame(data=DS.data, columns=DS.feature_names)"
   ]
  },
  {
   "cell_type": "code",
   "execution_count": 23,
   "metadata": {
    "executionInfo": {
     "elapsed": 6,
     "status": "ok",
     "timestamp": 1729695578095,
     "user": {
      "displayName": "Mauricio Antelis",
      "userId": "11526682341763354036"
     },
     "user_tz": 360
    },
    "id": "cRCJ8vOaa7LY"
   },
   "outputs": [
    {
     "name": "stdout",
     "output_type": "stream",
     "text": [
      "Dataset (first 5 rows):\n",
      "   pixel_0_0  pixel_0_1  pixel_0_2  pixel_0_3  pixel_0_4  pixel_0_5  \\\n",
      "0        0.0        0.0        5.0       13.0        9.0        1.0   \n",
      "1        0.0        0.0        0.0       12.0       13.0        5.0   \n",
      "2        0.0        0.0        0.0        4.0       15.0       12.0   \n",
      "3        0.0        0.0        7.0       15.0       13.0        1.0   \n",
      "4        0.0        0.0        0.0        1.0       11.0        0.0   \n",
      "\n",
      "   pixel_0_6  pixel_0_7  pixel_1_0  pixel_1_1  ...  pixel_6_6  pixel_6_7  \\\n",
      "0        0.0        0.0        0.0        0.0  ...        0.0        0.0   \n",
      "1        0.0        0.0        0.0        0.0  ...        0.0        0.0   \n",
      "2        0.0        0.0        0.0        0.0  ...        5.0        0.0   \n",
      "3        0.0        0.0        0.0        8.0  ...        9.0        0.0   \n",
      "4        0.0        0.0        0.0        0.0  ...        0.0        0.0   \n",
      "\n",
      "   pixel_7_0  pixel_7_1  pixel_7_2  pixel_7_3  pixel_7_4  pixel_7_5  \\\n",
      "0        0.0        0.0        6.0       13.0       10.0        0.0   \n",
      "1        0.0        0.0        0.0       11.0       16.0       10.0   \n",
      "2        0.0        0.0        0.0        3.0       11.0       16.0   \n",
      "3        0.0        0.0        7.0       13.0       13.0        9.0   \n",
      "4        0.0        0.0        0.0        2.0       16.0        4.0   \n",
      "\n",
      "   pixel_7_6  pixel_7_7  \n",
      "0        0.0        0.0  \n",
      "1        0.0        0.0  \n",
      "2        9.0        0.0  \n",
      "3        0.0        0.0  \n",
      "4        0.0        0.0  \n",
      "\n",
      "[5 rows x 64 columns]\n"
     ]
    }
   ],
   "source": [
    "# Print the number of rows\n",
    "print(\"Dataset (first 5 rows):\")\n",
    "print(df.head())"
   ]
  },
  {
   "cell_type": "code",
   "execution_count": 24,
   "metadata": {
    "executionInfo": {
     "elapsed": 6,
     "status": "ok",
     "timestamp": 1729695578095,
     "user": {
      "displayName": "Mauricio Antelis",
      "userId": "11526682341763354036"
     },
     "user_tz": 360
    },
    "id": "HdYbZso_a7LY"
   },
   "outputs": [
    {
     "name": "stdout",
     "output_type": "stream",
     "text": [
      "Number of columns: 64\n"
     ]
    }
   ],
   "source": [
    "# Print the number of columns\n",
    "num_columns = df.shape[1]\n",
    "print(\"Number of columns:\", num_columns)"
   ]
  },
  {
   "cell_type": "code",
   "execution_count": null,
   "metadata": {},
   "outputs": [],
   "source": [
    "#References\n",
    "\n",
    "# https://stackoverflow.com/questions/20288842/matplotlib-iterate-subplot-axis-array-through-single-list\n",
    "# https://es.matplotlib.net/stable/gallery/images_contours_and_fields/interpolation_methods.html#google_vignette\n",
    "# https://matplotlib.org/stable/tutorials/colors/colormaps.html"
   ]
  }
 ],
 "metadata": {
  "colab": {
   "provenance": [],
   "toc_visible": true
  },
  "kernelspec": {
   "display_name": "Python 3",
   "language": "python",
   "name": "python3"
  },
  "language_info": {
   "codemirror_mode": {
    "name": "ipython",
    "version": 3
   },
   "file_extension": ".py",
   "mimetype": "text/x-python",
   "name": "python",
   "nbconvert_exporter": "python",
   "pygments_lexer": "ipython3",
   "version": "3.13.0"
  }
 },
 "nbformat": 4,
 "nbformat_minor": 0
}
